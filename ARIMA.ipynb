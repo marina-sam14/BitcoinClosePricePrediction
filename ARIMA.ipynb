{
 "cells": [
  {
   "cell_type": "markdown",
   "id": "ae572e0c",
   "metadata": {},
   "source": [
    "##### This notebook contains ΑΡΙΜΑ.\n",
    "ARIMA, short for 'Auto Regressive Integrated Moving Average' is actually a class of models that 'explains' a given time series based on its own past values, that is, its own lags and the lagged forecast errors, so that equation can be used to forecast future values. "
   ]
  },
  {
   "cell_type": "markdown",
   "id": "12e103d0",
   "metadata": {},
   "source": [
    "##### Importing Libraries"
   ]
  },
  {
   "cell_type": "code",
   "execution_count": 1,
   "id": "6515d889",
   "metadata": {},
   "outputs": [],
   "source": [
    "import pandas as pd\n",
    "import numpy as np\n",
    "import matplotlib.pyplot  as plt\n",
    "import seaborn as sns\n",
    "import math\n",
    "from statsmodels.tsa.arima.model import ARIMA\n",
    "from sklearn.metrics import mean_squared_error, mean_absolute_error\n",
    "\n",
    "import warnings\n",
    "warnings.filterwarnings(\"ignore\")\n",
    "\n",
    "from statsmodels.tsa.stattools import adfuller"
   ]
  },
  {
   "cell_type": "markdown",
   "id": "08b54461",
   "metadata": {},
   "source": [
    "##### Dataset Loading"
   ]
  },
  {
   "cell_type": "code",
   "execution_count": 2,
   "id": "aa134df9",
   "metadata": {},
   "outputs": [
    {
     "name": "stdout",
     "output_type": "stream",
     "text": [
      "(1827, 7)\n"
     ]
    },
    {
     "data": {
      "text/html": [
       "<div>\n",
       "<style scoped>\n",
       "    .dataframe tbody tr th:only-of-type {\n",
       "        vertical-align: middle;\n",
       "    }\n",
       "\n",
       "    .dataframe tbody tr th {\n",
       "        vertical-align: top;\n",
       "    }\n",
       "\n",
       "    .dataframe thead th {\n",
       "        text-align: right;\n",
       "    }\n",
       "</style>\n",
       "<table border=\"1\" class=\"dataframe\">\n",
       "  <thead>\n",
       "    <tr style=\"text-align: right;\">\n",
       "      <th></th>\n",
       "      <th>Date</th>\n",
       "      <th>Open</th>\n",
       "      <th>High</th>\n",
       "      <th>Low</th>\n",
       "      <th>Close</th>\n",
       "      <th>Adj Close</th>\n",
       "      <th>Volume</th>\n",
       "    </tr>\n",
       "  </thead>\n",
       "  <tbody>\n",
       "    <tr>\n",
       "      <th>0</th>\n",
       "      <td>2016-12-21</td>\n",
       "      <td>800.643982</td>\n",
       "      <td>834.281006</td>\n",
       "      <td>799.405029</td>\n",
       "      <td>834.281006</td>\n",
       "      <td>834.281006</td>\n",
       "      <td>155576000</td>\n",
       "    </tr>\n",
       "    <tr>\n",
       "      <th>1</th>\n",
       "      <td>2016-12-22</td>\n",
       "      <td>834.179993</td>\n",
       "      <td>875.781982</td>\n",
       "      <td>834.148987</td>\n",
       "      <td>864.539978</td>\n",
       "      <td>864.539978</td>\n",
       "      <td>200027008</td>\n",
       "    </tr>\n",
       "    <tr>\n",
       "      <th>2</th>\n",
       "      <td>2016-12-23</td>\n",
       "      <td>864.888000</td>\n",
       "      <td>925.117004</td>\n",
       "      <td>864.677002</td>\n",
       "      <td>921.984009</td>\n",
       "      <td>921.984009</td>\n",
       "      <td>275564000</td>\n",
       "    </tr>\n",
       "    <tr>\n",
       "      <th>3</th>\n",
       "      <td>2016-12-24</td>\n",
       "      <td>922.179993</td>\n",
       "      <td>923.479004</td>\n",
       "      <td>886.335022</td>\n",
       "      <td>898.822021</td>\n",
       "      <td>898.822021</td>\n",
       "      <td>137727008</td>\n",
       "    </tr>\n",
       "    <tr>\n",
       "      <th>4</th>\n",
       "      <td>2016-12-25</td>\n",
       "      <td>899.651978</td>\n",
       "      <td>899.651978</td>\n",
       "      <td>862.424011</td>\n",
       "      <td>896.182983</td>\n",
       "      <td>896.182983</td>\n",
       "      <td>143664992</td>\n",
       "    </tr>\n",
       "  </tbody>\n",
       "</table>\n",
       "</div>"
      ],
      "text/plain": [
       "         Date        Open        High         Low       Close   Adj Close  \\\n",
       "0  2016-12-21  800.643982  834.281006  799.405029  834.281006  834.281006   \n",
       "1  2016-12-22  834.179993  875.781982  834.148987  864.539978  864.539978   \n",
       "2  2016-12-23  864.888000  925.117004  864.677002  921.984009  921.984009   \n",
       "3  2016-12-24  922.179993  923.479004  886.335022  898.822021  898.822021   \n",
       "4  2016-12-25  899.651978  899.651978  862.424011  896.182983  896.182983   \n",
       "\n",
       "      Volume  \n",
       "0  155576000  \n",
       "1  200027008  \n",
       "2  275564000  \n",
       "3  137727008  \n",
       "4  143664992  "
      ]
     },
     "execution_count": 2,
     "metadata": {},
     "output_type": "execute_result"
    }
   ],
   "source": [
    "dataset = pd.read_csv(\"Data/BTC-USD.csv\")\n",
    "print(dataset.shape)\n",
    "dataset.head()"
   ]
  },
  {
   "cell_type": "code",
   "execution_count": 3,
   "id": "f3f198e6",
   "metadata": {},
   "outputs": [
    {
     "data": {
      "text/html": [
       "<div>\n",
       "<style scoped>\n",
       "    .dataframe tbody tr th:only-of-type {\n",
       "        vertical-align: middle;\n",
       "    }\n",
       "\n",
       "    .dataframe tbody tr th {\n",
       "        vertical-align: top;\n",
       "    }\n",
       "\n",
       "    .dataframe thead th {\n",
       "        text-align: right;\n",
       "    }\n",
       "</style>\n",
       "<table border=\"1\" class=\"dataframe\">\n",
       "  <thead>\n",
       "    <tr style=\"text-align: right;\">\n",
       "      <th></th>\n",
       "      <th>Date</th>\n",
       "      <th>Open</th>\n",
       "      <th>High</th>\n",
       "      <th>Low</th>\n",
       "      <th>Close</th>\n",
       "      <th>Adj Close</th>\n",
       "      <th>Volume</th>\n",
       "      <th>Year</th>\n",
       "    </tr>\n",
       "  </thead>\n",
       "  <tbody>\n",
       "    <tr>\n",
       "      <th>0</th>\n",
       "      <td>2016-12-21</td>\n",
       "      <td>800.643982</td>\n",
       "      <td>834.281006</td>\n",
       "      <td>799.405029</td>\n",
       "      <td>834.281006</td>\n",
       "      <td>834.281006</td>\n",
       "      <td>155576000</td>\n",
       "      <td>2016</td>\n",
       "    </tr>\n",
       "    <tr>\n",
       "      <th>1</th>\n",
       "      <td>2016-12-22</td>\n",
       "      <td>834.179993</td>\n",
       "      <td>875.781982</td>\n",
       "      <td>834.148987</td>\n",
       "      <td>864.539978</td>\n",
       "      <td>864.539978</td>\n",
       "      <td>200027008</td>\n",
       "      <td>2016</td>\n",
       "    </tr>\n",
       "    <tr>\n",
       "      <th>2</th>\n",
       "      <td>2016-12-23</td>\n",
       "      <td>864.888000</td>\n",
       "      <td>925.117004</td>\n",
       "      <td>864.677002</td>\n",
       "      <td>921.984009</td>\n",
       "      <td>921.984009</td>\n",
       "      <td>275564000</td>\n",
       "      <td>2016</td>\n",
       "    </tr>\n",
       "    <tr>\n",
       "      <th>3</th>\n",
       "      <td>2016-12-24</td>\n",
       "      <td>922.179993</td>\n",
       "      <td>923.479004</td>\n",
       "      <td>886.335022</td>\n",
       "      <td>898.822021</td>\n",
       "      <td>898.822021</td>\n",
       "      <td>137727008</td>\n",
       "      <td>2016</td>\n",
       "    </tr>\n",
       "    <tr>\n",
       "      <th>4</th>\n",
       "      <td>2016-12-25</td>\n",
       "      <td>899.651978</td>\n",
       "      <td>899.651978</td>\n",
       "      <td>862.424011</td>\n",
       "      <td>896.182983</td>\n",
       "      <td>896.182983</td>\n",
       "      <td>143664992</td>\n",
       "      <td>2016</td>\n",
       "    </tr>\n",
       "    <tr>\n",
       "      <th>...</th>\n",
       "      <td>...</td>\n",
       "      <td>...</td>\n",
       "      <td>...</td>\n",
       "      <td>...</td>\n",
       "      <td>...</td>\n",
       "      <td>...</td>\n",
       "      <td>...</td>\n",
       "      <td>...</td>\n",
       "    </tr>\n",
       "    <tr>\n",
       "      <th>1822</th>\n",
       "      <td>2021-12-17</td>\n",
       "      <td>47653.730469</td>\n",
       "      <td>48004.894531</td>\n",
       "      <td>45618.214844</td>\n",
       "      <td>46202.144531</td>\n",
       "      <td>46202.144531</td>\n",
       "      <td>32902725329</td>\n",
       "      <td>2021</td>\n",
       "    </tr>\n",
       "    <tr>\n",
       "      <th>1823</th>\n",
       "      <td>2021-12-18</td>\n",
       "      <td>46219.253906</td>\n",
       "      <td>47313.828125</td>\n",
       "      <td>45598.441406</td>\n",
       "      <td>46848.777344</td>\n",
       "      <td>46848.777344</td>\n",
       "      <td>26098292690</td>\n",
       "      <td>2021</td>\n",
       "    </tr>\n",
       "    <tr>\n",
       "      <th>1824</th>\n",
       "      <td>2021-12-19</td>\n",
       "      <td>46853.867188</td>\n",
       "      <td>48089.664063</td>\n",
       "      <td>46502.953125</td>\n",
       "      <td>46707.015625</td>\n",
       "      <td>46707.015625</td>\n",
       "      <td>25154053861</td>\n",
       "      <td>2021</td>\n",
       "    </tr>\n",
       "    <tr>\n",
       "      <th>1825</th>\n",
       "      <td>2021-12-20</td>\n",
       "      <td>46707.062500</td>\n",
       "      <td>47401.718750</td>\n",
       "      <td>45579.808594</td>\n",
       "      <td>46880.277344</td>\n",
       "      <td>46880.277344</td>\n",
       "      <td>30961902129</td>\n",
       "      <td>2021</td>\n",
       "    </tr>\n",
       "    <tr>\n",
       "      <th>1826</th>\n",
       "      <td>2021-12-21</td>\n",
       "      <td>46985.242188</td>\n",
       "      <td>48912.152344</td>\n",
       "      <td>46739.777344</td>\n",
       "      <td>48565.843750</td>\n",
       "      <td>48565.843750</td>\n",
       "      <td>30736644096</td>\n",
       "      <td>2021</td>\n",
       "    </tr>\n",
       "  </tbody>\n",
       "</table>\n",
       "<p>1827 rows × 8 columns</p>\n",
       "</div>"
      ],
      "text/plain": [
       "           Date          Open          High           Low         Close  \\\n",
       "0    2016-12-21    800.643982    834.281006    799.405029    834.281006   \n",
       "1    2016-12-22    834.179993    875.781982    834.148987    864.539978   \n",
       "2    2016-12-23    864.888000    925.117004    864.677002    921.984009   \n",
       "3    2016-12-24    922.179993    923.479004    886.335022    898.822021   \n",
       "4    2016-12-25    899.651978    899.651978    862.424011    896.182983   \n",
       "...         ...           ...           ...           ...           ...   \n",
       "1822 2021-12-17  47653.730469  48004.894531  45618.214844  46202.144531   \n",
       "1823 2021-12-18  46219.253906  47313.828125  45598.441406  46848.777344   \n",
       "1824 2021-12-19  46853.867188  48089.664063  46502.953125  46707.015625   \n",
       "1825 2021-12-20  46707.062500  47401.718750  45579.808594  46880.277344   \n",
       "1826 2021-12-21  46985.242188  48912.152344  46739.777344  48565.843750   \n",
       "\n",
       "         Adj Close       Volume  Year  \n",
       "0       834.281006    155576000  2016  \n",
       "1       864.539978    200027008  2016  \n",
       "2       921.984009    275564000  2016  \n",
       "3       898.822021    137727008  2016  \n",
       "4       896.182983    143664992  2016  \n",
       "...            ...          ...   ...  \n",
       "1822  46202.144531  32902725329  2021  \n",
       "1823  46848.777344  26098292690  2021  \n",
       "1824  46707.015625  25154053861  2021  \n",
       "1825  46880.277344  30961902129  2021  \n",
       "1826  48565.843750  30736644096  2021  \n",
       "\n",
       "[1827 rows x 8 columns]"
      ]
     },
     "execution_count": 3,
     "metadata": {},
     "output_type": "execute_result"
    }
   ],
   "source": [
    "dataset[\"Date\"]=pd.to_datetime(dataset['Date'])\n",
    "dataset['Year'] = dataset['Date'].dt.year\n",
    "dataset"
   ]
  },
  {
   "cell_type": "markdown",
   "id": "d1aef02a",
   "metadata": {},
   "source": [
    "We only need the Closing values."
   ]
  },
  {
   "cell_type": "code",
   "execution_count": 4,
   "id": "65a43ca4",
   "metadata": {},
   "outputs": [],
   "source": [
    "ts = dataset['Close'].copy()"
   ]
  },
  {
   "cell_type": "code",
   "execution_count": 5,
   "id": "a454b1cd",
   "metadata": {},
   "outputs": [
    {
     "data": {
      "text/plain": [
       "<AxesSubplot:>"
      ]
     },
     "execution_count": 5,
     "metadata": {},
     "output_type": "execute_result"
    },
    {
     "data": {
      "image/png": "[encoded data removed]",
      "text/plain": [
       "<Figure size 432x288 with 1 Axes>"
      ]
     },
     "metadata": {
      "needs_background": "light"
     },
     "output_type": "display_data"
    }
   ],
   "source": [
    "ts.plot()"
   ]
  },
  {
   "cell_type": "markdown",
   "id": "c2045b35",
   "metadata": {},
   "source": [
    "In order to create ARIMA, our dataset should be stationary. According to the previous plot, our dataset is non stationary so we are going to use some techniqs to make it stationary. We are going to use the Null Hypothesis. </br>\n",
    "According to it,only if p value > 0.05: Null Hypothesis is accepted. </br>\n",
    "H0: the data is not stationary."
   ]
  },
  {
   "cell_type": "code",
   "execution_count": 6,
   "id": "d9a8c3ea",
   "metadata": {},
   "outputs": [
    {
     "data": {
      "image/png": "[encoded data removed]",
      "text/plain": [
       "<Figure size 432x288 with 1 Axes>"
      ]
     },
     "metadata": {
      "needs_background": "light"
     },
     "output_type": "display_data"
    },
    {
     "name": "stdout",
     "output_type": "stream",
     "text": [
      "Results of Dickey-Fuller Test:\n",
      "Test Statistic                   -0.602678\n",
      "p-value                           0.870376\n",
      "#Lags Used                       24.000000\n",
      "Number of Observations Used    1802.000000\n",
      "Critical Value (1%)              -3.433984\n",
      "Critical Value (5%)              -2.863145\n",
      "Critical Value (10%)             -2.567625\n",
      "dtype: float64\n"
     ]
    }
   ],
   "source": [
    "def test_for_stationary(input_data):\n",
    "    r_mean = input_data.rolling(window = 7,center=False).mean()\n",
    "    r_std = input_data.rolling(window = 7,center=False).std()\n",
    "    \n",
    "    # plotting the data\n",
    "    given = plt.plot(input_data, color = 'blue', label = 'given_series')\n",
    "    rolling_mean = plt.plot(r_mean, color = 'red', label = 'rolling_mean')\n",
    "    rolling_std = plt.plot(r_std, color ='green', label = 'rolling_std')\n",
    "    plt.legend(loc = 'best')\n",
    "    plt.title('Rolling Mean & Standard Deviation')\n",
    "    plt.show(block=False)\n",
    "    \n",
    "     #Perform Dickey-Fuller test:\n",
    "    print('Results of Dickey-Fuller Test:')\n",
    "    dftest = adfuller(input_data)\n",
    "    dfoutput = pd.Series(dftest[0:4], index=['Test Statistic','p-value','#Lags Used','Number of Observations Used'])\n",
    "    for key,value in dftest[4].items():\n",
    "        dfoutput['Critical Value (%s)'%key] = value\n",
    "    print(dfoutput)\n",
    "      \n",
    "test_for_stationary(ts)\n",
    "\n",
    "#Source: https://machinelearningmastery.com/time-series-data-stationary-python/"
   ]
  },
  {
   "cell_type": "markdown",
   "id": "6ed4ff28",
   "metadata": {},
   "source": [
    "According to the results, p-value > 0.05, so H0 is accepted and our dataset is not stationary. </br>\n",
    "The next step is to use log."
   ]
  },
  {
   "cell_type": "code",
   "execution_count": 7,
   "id": "64cbc430",
   "metadata": {},
   "outputs": [
    {
     "data": {
      "text/plain": [
       "[<matplotlib.lines.Line2D at 0x1cbeefcf070>]"
      ]
     },
     "execution_count": 7,
     "metadata": {},
     "output_type": "execute_result"
    },
    {
     "data": {
      "image/png": "[encoded data removed]",
      "text/plain": [
       "<Figure size 432x288 with 1 Axes>"
      ]
     },
     "metadata": {
      "needs_background": "light"
     },
     "output_type": "display_data"
    }
   ],
   "source": [
    "ts_log = np.log(ts)\n",
    "plt.plot(ts_log)"
   ]
  },
  {
   "cell_type": "code",
   "execution_count": 8,
   "id": "af938a32",
   "metadata": {},
   "outputs": [
    {
     "data": {
      "image/png": "[encoded data removed]",
      "text/plain": [
       "<Figure size 432x288 with 1 Axes>"
      ]
     },
     "metadata": {
      "needs_background": "light"
     },
     "output_type": "display_data"
    },
    {
     "name": "stdout",
     "output_type": "stream",
     "text": [
      "Results of Dickey-Fuller Test:\n",
      "Test Statistic                   -1.489247\n",
      "p-value                           0.538824\n",
      "#Lags Used                        2.000000\n",
      "Number of Observations Used    1824.000000\n",
      "Critical Value (1%)              -3.433940\n",
      "Critical Value (5%)              -2.863126\n",
      "Critical Value (10%)             -2.567614\n",
      "dtype: float64\n"
     ]
    }
   ],
   "source": [
    "test_for_stationary(ts_log)"
   ]
  },
  {
   "cell_type": "markdown",
   "id": "ef29bfaa",
   "metadata": {},
   "source": [
    "According to the results, still p-value > 0.05, so H0 is accepted and our dataset is not stationary. </br>\n",
    "So we have to remove trend and seasonality with differencing."
   ]
  },
  {
   "cell_type": "code",
   "execution_count": 9,
   "id": "fd780b10",
   "metadata": {},
   "outputs": [
    {
     "data": {
      "text/plain": [
       "[<matplotlib.lines.Line2D at 0x1cbef0a8760>]"
      ]
     },
     "execution_count": 9,
     "metadata": {},
     "output_type": "execute_result"
    },
    {
     "data": {
      "image/png": "[encoded data removed]",
      "text/plain": [
       "<Figure size 432x288 with 1 Axes>"
      ]
     },
     "metadata": {
      "needs_background": "light"
     },
     "output_type": "display_data"
    }
   ],
   "source": [
    "ts_log_diff = ts_log -ts_log.shift()\n",
    "plt.plot(ts_log_diff)"
   ]
  },
  {
   "cell_type": "code",
   "execution_count": 10,
   "id": "037322fa",
   "metadata": {},
   "outputs": [
    {
     "data": {
      "image/png": "[encoded data removed]",
      "text/plain": [
       "<Figure size 432x288 with 1 Axes>"
      ]
     },
     "metadata": {
      "needs_background": "light"
     },
     "output_type": "display_data"
    },
    {
     "name": "stdout",
     "output_type": "stream",
     "text": [
      "Results of Dickey-Fuller Test:\n",
      "Test Statistic                  -29.709082\n",
      "p-value                           0.000000\n",
      "#Lags Used                        1.000000\n",
      "Number of Observations Used    1824.000000\n",
      "Critical Value (1%)              -3.433940\n",
      "Critical Value (5%)              -2.863126\n",
      "Critical Value (10%)             -2.567614\n",
      "dtype: float64\n"
     ]
    }
   ],
   "source": [
    "ts_log_diff.dropna(inplace=True)\n",
    "test_for_stationary(ts_log_diff)"
   ]
  },
  {
   "cell_type": "markdown",
   "id": "bf4e7481",
   "metadata": {},
   "source": [
    "As our time series is now stationary asour p value is less than 0.05 therefore we can apply time series forecasting models."
   ]
  },
  {
   "cell_type": "code",
   "execution_count": 11,
   "id": "d37e00e2",
   "metadata": {},
   "outputs": [
    {
     "data": {
      "text/plain": [
       "count    1826.000000\n",
       "mean        0.002226\n",
       "std         0.042281\n",
       "min        -0.464730\n",
       "25%        -0.015421\n",
       "50%         0.002415\n",
       "75%         0.021709\n",
       "max         0.225119\n",
       "Name: Close, dtype: float64"
      ]
     },
     "execution_count": 11,
     "metadata": {},
     "output_type": "execute_result"
    }
   ],
   "source": [
    "ts_log_diff.describe()"
   ]
  },
  {
   "cell_type": "markdown",
   "id": "dd2936a1",
   "metadata": {},
   "source": [
    "### Split Data"
   ]
  },
  {
   "cell_type": "code",
   "execution_count": 12,
   "id": "29563a97",
   "metadata": {},
   "outputs": [],
   "source": [
    "to_row = int(len(ts_log_diff)*0.9)\n",
    "training_data = list(ts_log_diff[0:to_row])\n",
    "testing_data = list(ts_log_diff[to_row:])"
   ]
  },
  {
   "cell_type": "code",
   "execution_count": 13,
   "id": "b7c164d8",
   "metadata": {},
   "outputs": [
    {
     "data": {
      "text/plain": [
       "<matplotlib.legend.Legend at 0x1cbef16d850>"
      ]
     },
     "execution_count": 13,
     "metadata": {},
     "output_type": "execute_result"
    },
    {
     "data": {
      "image/png": "[encoded data removed]",
      "text/plain": [
       "<Figure size 720x432 with 1 Axes>"
      ]
     },
     "metadata": {
      "needs_background": "light"
     },
     "output_type": "display_data"
    }
   ],
   "source": [
    "plt.figure(figsize=(10,6))\n",
    "plt.grid(True)\n",
    "plt.xlabel(\"Date\")\n",
    "plt.ylabel(\"Closing Prices\")\n",
    "plt.plot(ts_log_diff[0:to_row],'green',label=\"Training data\")\n",
    "plt.plot(ts_log_diff[to_row:],'blue',label=\"Testing data\")\n",
    "plt.legend()"
   ]
  },
  {
   "cell_type": "markdown",
   "id": "9d7dc908",
   "metadata": {},
   "source": [
    "### ARIMA"
   ]
  },
  {
   "cell_type": "code",
   "execution_count": 14,
   "id": "35e8308b",
   "metadata": {},
   "outputs": [
    {
     "data": {
      "text/plain": [
       "1643"
      ]
     },
     "execution_count": 14,
     "metadata": {},
     "output_type": "execute_result"
    }
   ],
   "source": [
    "len(training_data)"
   ]
  },
  {
   "cell_type": "code",
   "execution_count": 15,
   "id": "c7412aab",
   "metadata": {},
   "outputs": [
    {
     "data": {
      "text/plain": [
       "183"
      ]
     },
     "execution_count": 15,
     "metadata": {},
     "output_type": "execute_result"
    }
   ],
   "source": [
    "len(testing_data)"
   ]
  },
  {
   "cell_type": "code",
   "execution_count": 16,
   "id": "d6c5a0ec",
   "metadata": {},
   "outputs": [],
   "source": [
    "model_predictions=[]\n",
    "error_list=[]\n",
    "n_test_observ = len(testing_data)"
   ]
  },
  {
   "cell_type": "code",
   "execution_count": null,
   "id": "d468182e",
   "metadata": {},
   "outputs": [
    {
     "name": "stdout",
     "output_type": "stream",
     "text": [
      "predicted = 0.005454,   expected = 0.025833,   error = 78.886660  %\n",
      "predicted = -0.004972,   expected = 0.036767,   error = 113.523022  %\n",
      "predicted = 0.001276,   expected = 0.027476,   error = 95.356541  %\n",
      "predicted = 0.001793,   expected = -0.091305,   error = -101.963982  %\n",
      "predicted = 0.005794,   expected = 0.017188,   error = 66.288108  %\n",
      "predicted = -0.002935,   expected = 0.073747,   error = 103.980364  %\n"
     ]
    }
   ],
   "source": [
    "for i in range (n_test_observ):\n",
    "    model = ARIMA(training_data, order = (4, 1, 1))\n",
    "    model_fit = model.fit()\n",
    "    output = model_fit.forecast()\n",
    "    yhat = output[0]\n",
    "    model_predictions.append(yhat)\n",
    "    actual_test_value = testing_data[i]\n",
    "    training_data.append(actual_test_value)\n",
    "    \n",
    "    # Calculating the error\n",
    "    error = ((abs(yhat - actual_test_value)) / actual_test_value) * 100\n",
    "    \n",
    "    error_list.append(error)\n",
    "    print('predicted = %f,   expected = %f,   error = %f ' % (yhat, actual_test_value, error), '%')\n",
    "    \n",
    "    \n",
    "    \n",
    "# After iterating over whole test set the overall mean error is calculated.   \n",
    "print('\\n Mean Error in Predicting Test Case Articles : %f ' % (sum(error_list)/float(len(error_list))), '%')"
   ]
  },
  {
   "cell_type": "code",
   "execution_count": null,
   "id": "6a66c7ab",
   "metadata": {},
   "outputs": [],
   "source": [
    "yhat"
   ]
  },
  {
   "cell_type": "code",
   "execution_count": null,
   "id": "89a51b9b",
   "metadata": {},
   "outputs": [],
   "source": [
    "print(model_fit.summary())"
   ]
  },
  {
   "cell_type": "code",
   "execution_count": null,
   "id": "a0a851af",
   "metadata": {},
   "outputs": [],
   "source": [
    "len(model_predictions)"
   ]
  },
  {
   "cell_type": "code",
   "execution_count": null,
   "id": "f6483d2d",
   "metadata": {},
   "outputs": [],
   "source": [
    "len(testing_data)"
   ]
  },
  {
   "cell_type": "code",
   "execution_count": null,
   "id": "b681be78",
   "metadata": {},
   "outputs": [],
   "source": [
    "len(ts_log_diff)"
   ]
  },
  {
   "cell_type": "code",
   "execution_count": null,
   "id": "658de8e8",
   "metadata": {},
   "outputs": [],
   "source": [
    "plt.figure(figsize=(15,9))\n",
    "plt.grid(True)\n",
    "\n",
    "data_range = ts_log_diff[to_row:].index\n",
    "\n",
    "#plt.plot(ts_log_diff)\n",
    "plt.plot(data_range,model_predictions,color = 'red', linestyle = 'dashed',label='Predicted Close')\n",
    "plt.plot(data_range,testing_data,color = 'blue',label='Close')\n",
    "\n",
    "'''plt.plot(data_range,model_predictions,color = 'red', linestyle = 'dashed',label='Predicted Close')\n",
    "plt.plot(data_range,testing_data,color = 'blue',label='Close')\n",
    "\n",
    "plt.xlabel('Date')\n",
    "plt.ylabel('Close')\n",
    "plt.legend()\n",
    "plt.show()'''"
   ]
  },
  {
   "cell_type": "code",
   "execution_count": null,
   "id": "9d8e10c0",
   "metadata": {},
   "outputs": [],
   "source": [
    "plt.figure(figsize=(15,9))\n",
    "to_row = int(len(ts_log)*0.9)\n",
    "plt.grid(True)\n",
    "\n",
    "data_range = ts_log[to_row:].index\n",
    "\n",
    "plt.plot(data_range,model_predictions,color = 'red', linestyle = 'dashed',label='Predicted')\n",
    "plt.plot(data_range,testing_data,color = 'blue',label='Expected')\n",
    "\n",
    "plt.xlabel('Date')\n",
    "plt.ylabel('Close')\n",
    "plt.legend()\n",
    "plt.show()"
   ]
  },
  {
   "cell_type": "code",
   "execution_count": null,
   "id": "5ed2fc3b",
   "metadata": {},
   "outputs": [],
   "source": [
    "model_predictions=[]\n",
    "len(model_predictions)"
   ]
  },
  {
   "cell_type": "code",
   "execution_count": null,
   "id": "7fcad6b7",
   "metadata": {},
   "outputs": [],
   "source": [
    "for i in range (n_test_observ):\n",
    "    model2 = ARIMA(training_data,order=(4,1,2))\n",
    "    model_fit = model2.fit()\n",
    "    output = model_fit.forecast()\n",
    "    yhat2 = output[0]\n",
    "    model_predictions.append(yhat2)\n",
    "    actual_test_value2 = testing_data[i]\n",
    "    training_data.append(actual_test_value2)\n",
    "    \n",
    "    # Calculating the error\n",
    "    error2 = ((abs(yhat2 - actual_test_value2)) / actual_test_value2) * 100\n",
    "    \n",
    "    error_list.append(error2)\n",
    "    print('predicted = %f,   expected = %f,   error = %f ' % (yhat2, actual_test_value2, error2), '%')\n",
    "    \n",
    "    \n",
    "    \n",
    "# After iterating over whole test set the overall mean error is calculated.   \n",
    "print('\\n Mean Error in Predicting Test Case Articles : %f ' % (sum(error_list)/float(len(error_list))), '%')"
   ]
  },
  {
   "cell_type": "code",
   "execution_count": null,
   "id": "6562cc31",
   "metadata": {},
   "outputs": [],
   "source": [
    "yhat2"
   ]
  },
  {
   "cell_type": "code",
   "execution_count": null,
   "id": "103bf2dd",
   "metadata": {},
   "outputs": [],
   "source": [
    "print(model_fit.summary())"
   ]
  },
  {
   "cell_type": "code",
   "execution_count": null,
   "id": "c80a0544",
   "metadata": {},
   "outputs": [],
   "source": [
    "len(model_predictions)"
   ]
  },
  {
   "cell_type": "code",
   "execution_count": null,
   "id": "8f9cc81c",
   "metadata": {},
   "outputs": [],
   "source": [
    "len(testing_data)"
   ]
  },
  {
   "cell_type": "code",
   "execution_count": null,
   "id": "74a3b626",
   "metadata": {},
   "outputs": [],
   "source": [
    "len(training_data)"
   ]
  },
  {
   "cell_type": "code",
   "execution_count": null,
   "id": "81638f33",
   "metadata": {},
   "outputs": [],
   "source": [
    "plt.figure(figsize=(15,9))\n",
    "plt.grid(True)\n",
    "\n",
    "data_range = ts_log_diff[to_row:].index\n",
    "\n",
    "plt.plot(data_range,model_predictions,color = 'red', linestyle = 'dashed',label='Predicted Close')\n",
    "plt.plot(data_range,testing_data,color = 'blue',label='Close')\n",
    "\n",
    "\n",
    "plt.legend()\n",
    "plt.show()"
   ]
  },
  {
   "cell_type": "code",
   "execution_count": null,
   "id": "f7dde0d6",
   "metadata": {},
   "outputs": [],
   "source": [
    "plt.figure(figsize=(15,9))\n",
    "plt.grid(True)\n",
    "\n",
    "data_range = ts_log[to_row:].index\n",
    "\n",
    "plt.plot(data_range,model_predictions,color = 'red', linestyle = 'dashed',label='Predicted Close')\n",
    "plt.plot(data_range,testing_data,color = 'blue',label='Close')\n",
    "\n",
    "plt.xlabel('Date')\n",
    "plt.ylabel('Close')\n",
    "plt.legend()\n",
    "plt.show()"
   ]
  },
  {
   "cell_type": "code",
   "execution_count": null,
   "id": "02dd0a8a",
   "metadata": {},
   "outputs": [],
   "source": []
  }
 ],
 "metadata": {
  "kernelspec": {
   "display_name": "Python 3 (ipykernel)",
   "language": "python",
   "name": "python3"
  },
  "language_info": {
   "codemirror_mode": {
    "name": "ipython",
    "version": 3
   },
   "file_extension": ".py",
   "mimetype": "text/x-python",
   "name": "python",
   "nbconvert_exporter": "python",
   "pygments_lexer": "ipython3",
   "version": "3.9.7"
  }
 },
 "nbformat": 4,
 "nbformat_minor": 5
}
