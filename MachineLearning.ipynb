{
 "cells": [
  {
   "cell_type": "code",
   "execution_count": 1,
   "id": "01b3f777",
   "metadata": {},
   "outputs": [
    {
     "data": {
      "text/plain": [
       "<torch._C.Generator at 0x1b864689b70>"
      ]
     },
     "execution_count": 1,
     "metadata": {},
     "output_type": "execute_result"
    }
   ],
   "source": [
    "import pandas as pd\n",
    "import numpy as np\n",
    "import matplotlib.pyplot  as plt\n",
    "import seaborn as sns\n",
    "\n",
    "from sklearn.linear_model import LinearRegression, LogisticRegression\n",
    "from sklearn.model_selection import train_test_split\n",
    "from sklearn.preprocessing import MinMaxScaler\n",
    "from sklearn.preprocessing import StandardScaler\n",
    "from sklearn.pipeline import Pipeline\n",
    "from sklearn.metrics import roc_curve, roc_auc_score, classification_report, accuracy_score, confusion_matrix \n",
    "from sklearn.metrics import mean_squared_error, mean_absolute_error, classification_report\n",
    "from sklearn import metrics\n",
    "\n",
    "import statsmodels.api as sm\n",
    "from scipy import stats\n",
    "\n",
    "import torch\n",
    "import torch.nn as nn\n",
    "import torch.nn.functional as F\n",
    "import torch.utils.data as Data\n",
    "\n",
    "torch.manual_seed(42)"
   ]
  },
  {
   "cell_type": "code",
   "execution_count": 2,
   "id": "d8610fc4",
   "metadata": {},
   "outputs": [
    {
     "name": "stdout",
     "output_type": "stream",
     "text": [
      "(1827, 7)\n"
     ]
    },
    {
     "data": {
      "text/html": [
       "<div>\n",
       "<style scoped>\n",
       "    .dataframe tbody tr th:only-of-type {\n",
       "        vertical-align: middle;\n",
       "    }\n",
       "\n",
       "    .dataframe tbody tr th {\n",
       "        vertical-align: top;\n",
       "    }\n",
       "\n",
       "    .dataframe thead th {\n",
       "        text-align: right;\n",
       "    }\n",
       "</style>\n",
       "<table border=\"1\" class=\"dataframe\">\n",
       "  <thead>\n",
       "    <tr style=\"text-align: right;\">\n",
       "      <th></th>\n",
       "      <th>Date</th>\n",
       "      <th>Open</th>\n",
       "      <th>High</th>\n",
       "      <th>Low</th>\n",
       "      <th>Close</th>\n",
       "      <th>Adj Close</th>\n",
       "      <th>Volume</th>\n",
       "    </tr>\n",
       "  </thead>\n",
       "  <tbody>\n",
       "    <tr>\n",
       "      <th>0</th>\n",
       "      <td>2016-12-21</td>\n",
       "      <td>800.643982</td>\n",
       "      <td>834.281006</td>\n",
       "      <td>799.405029</td>\n",
       "      <td>834.281006</td>\n",
       "      <td>834.281006</td>\n",
       "      <td>155576000</td>\n",
       "    </tr>\n",
       "    <tr>\n",
       "      <th>1</th>\n",
       "      <td>2016-12-22</td>\n",
       "      <td>834.179993</td>\n",
       "      <td>875.781982</td>\n",
       "      <td>834.148987</td>\n",
       "      <td>864.539978</td>\n",
       "      <td>864.539978</td>\n",
       "      <td>200027008</td>\n",
       "    </tr>\n",
       "    <tr>\n",
       "      <th>2</th>\n",
       "      <td>2016-12-23</td>\n",
       "      <td>864.888000</td>\n",
       "      <td>925.117004</td>\n",
       "      <td>864.677002</td>\n",
       "      <td>921.984009</td>\n",
       "      <td>921.984009</td>\n",
       "      <td>275564000</td>\n",
       "    </tr>\n",
       "    <tr>\n",
       "      <th>3</th>\n",
       "      <td>2016-12-24</td>\n",
       "      <td>922.179993</td>\n",
       "      <td>923.479004</td>\n",
       "      <td>886.335022</td>\n",
       "      <td>898.822021</td>\n",
       "      <td>898.822021</td>\n",
       "      <td>137727008</td>\n",
       "    </tr>\n",
       "    <tr>\n",
       "      <th>4</th>\n",
       "      <td>2016-12-25</td>\n",
       "      <td>899.651978</td>\n",
       "      <td>899.651978</td>\n",
       "      <td>862.424011</td>\n",
       "      <td>896.182983</td>\n",
       "      <td>896.182983</td>\n",
       "      <td>143664992</td>\n",
       "    </tr>\n",
       "  </tbody>\n",
       "</table>\n",
       "</div>"
      ],
      "text/plain": [
       "         Date        Open        High         Low       Close   Adj Close  \\\n",
       "0  2016-12-21  800.643982  834.281006  799.405029  834.281006  834.281006   \n",
       "1  2016-12-22  834.179993  875.781982  834.148987  864.539978  864.539978   \n",
       "2  2016-12-23  864.888000  925.117004  864.677002  921.984009  921.984009   \n",
       "3  2016-12-24  922.179993  923.479004  886.335022  898.822021  898.822021   \n",
       "4  2016-12-25  899.651978  899.651978  862.424011  896.182983  896.182983   \n",
       "\n",
       "      Volume  \n",
       "0  155576000  \n",
       "1  200027008  \n",
       "2  275564000  \n",
       "3  137727008  \n",
       "4  143664992  "
      ]
     },
     "execution_count": 2,
     "metadata": {},
     "output_type": "execute_result"
    }
   ],
   "source": [
    "dataset = pd.read_csv(\"Data/BTC-USD.csv\")\n",
    "print(dataset.shape)\n",
    "dataset.head()"
   ]
  },
  {
   "cell_type": "markdown",
   "id": "cfd431a2",
   "metadata": {},
   "source": [
    "Open The price of the coin at the beginning of the trading day. </br>\n",
    "\n",
    "High: The highest price of the coin on a trading day. </br>\n",
    "\n",
    "Low: The lowest price of the coin on a trading day. </br>\n",
    "\n",
    "Close: The last price of the coin before the trading day ends. </br>\n",
    "\n",
    "Volume is the amount of a token traded in a specific time interval. </br>"
   ]
  },
  {
   "cell_type": "code",
   "execution_count": 3,
   "id": "e7f588f9",
   "metadata": {},
   "outputs": [
    {
     "data": {
      "text/html": [
       "<div>\n",
       "<style scoped>\n",
       "    .dataframe tbody tr th:only-of-type {\n",
       "        vertical-align: middle;\n",
       "    }\n",
       "\n",
       "    .dataframe tbody tr th {\n",
       "        vertical-align: top;\n",
       "    }\n",
       "\n",
       "    .dataframe thead th {\n",
       "        text-align: right;\n",
       "    }\n",
       "</style>\n",
       "<table border=\"1\" class=\"dataframe\">\n",
       "  <thead>\n",
       "    <tr style=\"text-align: right;\">\n",
       "      <th></th>\n",
       "      <th>Open</th>\n",
       "      <th>High</th>\n",
       "      <th>Low</th>\n",
       "      <th>Close</th>\n",
       "      <th>Adj Close</th>\n",
       "      <th>Volume</th>\n",
       "    </tr>\n",
       "  </thead>\n",
       "  <tbody>\n",
       "    <tr>\n",
       "      <th>count</th>\n",
       "      <td>1827.000000</td>\n",
       "      <td>1827.000000</td>\n",
       "      <td>1827.000000</td>\n",
       "      <td>1827.000000</td>\n",
       "      <td>1827.000000</td>\n",
       "      <td>1.827000e+03</td>\n",
       "    </tr>\n",
       "    <tr>\n",
       "      <th>mean</th>\n",
       "      <td>15208.247358</td>\n",
       "      <td>15629.267253</td>\n",
       "      <td>14746.920288</td>\n",
       "      <td>15231.832471</td>\n",
       "      <td>15231.832471</td>\n",
       "      <td>2.092230e+10</td>\n",
       "    </tr>\n",
       "    <tr>\n",
       "      <th>std</th>\n",
       "      <td>16829.476707</td>\n",
       "      <td>17296.796539</td>\n",
       "      <td>16289.465757</td>\n",
       "      <td>16838.811505</td>\n",
       "      <td>16838.811505</td>\n",
       "      <td>2.122934e+10</td>\n",
       "    </tr>\n",
       "    <tr>\n",
       "      <th>min</th>\n",
       "      <td>775.177979</td>\n",
       "      <td>823.307007</td>\n",
       "      <td>755.755981</td>\n",
       "      <td>777.757019</td>\n",
       "      <td>777.757019</td>\n",
       "      <td>6.085170e+07</td>\n",
       "    </tr>\n",
       "    <tr>\n",
       "      <th>25%</th>\n",
       "      <td>5308.327637</td>\n",
       "      <td>5422.169434</td>\n",
       "      <td>5221.697753</td>\n",
       "      <td>5319.541504</td>\n",
       "      <td>5319.541504</td>\n",
       "      <td>4.474525e+09</td>\n",
       "    </tr>\n",
       "    <tr>\n",
       "      <th>50%</th>\n",
       "      <td>8585.262695</td>\n",
       "      <td>8744.828125</td>\n",
       "      <td>8313.340820</td>\n",
       "      <td>8595.740234</td>\n",
       "      <td>8595.740234</td>\n",
       "      <td>1.607165e+10</td>\n",
       "    </tr>\n",
       "    <tr>\n",
       "      <th>75%</th>\n",
       "      <td>13500.216309</td>\n",
       "      <td>13852.566406</td>\n",
       "      <td>12921.156250</td>\n",
       "      <td>13548.505860</td>\n",
       "      <td>13548.505860</td>\n",
       "      <td>3.260844e+10</td>\n",
       "    </tr>\n",
       "    <tr>\n",
       "      <th>max</th>\n",
       "      <td>67549.734375</td>\n",
       "      <td>68789.625000</td>\n",
       "      <td>66382.062500</td>\n",
       "      <td>67566.828125</td>\n",
       "      <td>67566.828125</td>\n",
       "      <td>3.509679e+11</td>\n",
       "    </tr>\n",
       "  </tbody>\n",
       "</table>\n",
       "</div>"
      ],
      "text/plain": [
       "               Open          High           Low         Close     Adj Close  \\\n",
       "count   1827.000000   1827.000000   1827.000000   1827.000000   1827.000000   \n",
       "mean   15208.247358  15629.267253  14746.920288  15231.832471  15231.832471   \n",
       "std    16829.476707  17296.796539  16289.465757  16838.811505  16838.811505   \n",
       "min      775.177979    823.307007    755.755981    777.757019    777.757019   \n",
       "25%     5308.327637   5422.169434   5221.697753   5319.541504   5319.541504   \n",
       "50%     8585.262695   8744.828125   8313.340820   8595.740234   8595.740234   \n",
       "75%    13500.216309  13852.566406  12921.156250  13548.505860  13548.505860   \n",
       "max    67549.734375  68789.625000  66382.062500  67566.828125  67566.828125   \n",
       "\n",
       "             Volume  \n",
       "count  1.827000e+03  \n",
       "mean   2.092230e+10  \n",
       "std    2.122934e+10  \n",
       "min    6.085170e+07  \n",
       "25%    4.474525e+09  \n",
       "50%    1.607165e+10  \n",
       "75%    3.260844e+10  \n",
       "max    3.509679e+11  "
      ]
     },
     "execution_count": 3,
     "metadata": {},
     "output_type": "execute_result"
    }
   ],
   "source": [
    "dataset.describe()"
   ]
  },
  {
   "cell_type": "markdown",
   "id": "ac5b9ad0",
   "metadata": {},
   "source": [
    "#### Preprocessing"
   ]
  },
  {
   "cell_type": "code",
   "execution_count": 4,
   "id": "7477ec51",
   "metadata": {},
   "outputs": [
    {
     "data": {
      "text/plain": [
       "(1827,)"
      ]
     },
     "execution_count": 4,
     "metadata": {},
     "output_type": "execute_result"
    }
   ],
   "source": [
    "dataset[\"Close\"].shape"
   ]
  },
  {
   "cell_type": "code",
   "execution_count": 5,
   "id": "ab9fc0b9",
   "metadata": {},
   "outputs": [],
   "source": [
    "dataset['pos_neg']= dataset['Open']-dataset['Close']\n",
    "dataset.head()\n",
    "#create a binary column - 0 = gain, 1 = loss to have something to predict\n",
    "dataset['Up/Down'] = np.where(dataset['pos_neg']>0, '0', '1')"
   ]
  },
  {
   "cell_type": "markdown",
   "id": "ea4bab26",
   "metadata": {},
   "source": [
    "We checked if columns Close and Adj Close have the same records in order for Adj Close to be dropped."
   ]
  },
  {
   "cell_type": "code",
   "execution_count": 6,
   "id": "761afda6",
   "metadata": {
    "scrolled": false
   },
   "outputs": [
    {
     "data": {
      "text/plain": [
       "1827"
      ]
     },
     "execution_count": 6,
     "metadata": {},
     "output_type": "execute_result"
    }
   ],
   "source": [
    "(dataset[\"Close\"] == dataset[\"Adj Close\"]).sum()"
   ]
  },
  {
   "cell_type": "code",
   "execution_count": 7,
   "id": "d2ce3181",
   "metadata": {},
   "outputs": [
    {
     "data": {
      "text/plain": [
       "0      2016-12-21\n",
       "1      2016-12-22\n",
       "2      2016-12-23\n",
       "3      2016-12-24\n",
       "4      2016-12-25\n",
       "          ...    \n",
       "1822   2021-12-17\n",
       "1823   2021-12-18\n",
       "1824   2021-12-19\n",
       "1825   2021-12-20\n",
       "1826   2021-12-21\n",
       "Name: Date, Length: 1827, dtype: datetime64[ns]"
      ]
     },
     "execution_count": 7,
     "metadata": {},
     "output_type": "execute_result"
    }
   ],
   "source": [
    "dataset[\"Date\"]=pd.to_datetime(dataset['Date'])\n",
    "dataset['Date']"
   ]
  },
  {
   "cell_type": "code",
   "execution_count": 8,
   "id": "72575404",
   "metadata": {},
   "outputs": [
    {
     "data": {
      "text/html": [
       "<div>\n",
       "<style scoped>\n",
       "    .dataframe tbody tr th:only-of-type {\n",
       "        vertical-align: middle;\n",
       "    }\n",
       "\n",
       "    .dataframe tbody tr th {\n",
       "        vertical-align: top;\n",
       "    }\n",
       "\n",
       "    .dataframe thead th {\n",
       "        text-align: right;\n",
       "    }\n",
       "</style>\n",
       "<table border=\"1\" class=\"dataframe\">\n",
       "  <thead>\n",
       "    <tr style=\"text-align: right;\">\n",
       "      <th></th>\n",
       "      <th>Date</th>\n",
       "      <th>Open</th>\n",
       "      <th>High</th>\n",
       "      <th>Low</th>\n",
       "      <th>Close</th>\n",
       "      <th>Adj Close</th>\n",
       "      <th>Volume</th>\n",
       "      <th>pos_neg</th>\n",
       "      <th>Up/Down</th>\n",
       "      <th>Year</th>\n",
       "    </tr>\n",
       "  </thead>\n",
       "  <tbody>\n",
       "    <tr>\n",
       "      <th>0</th>\n",
       "      <td>2016-12-21</td>\n",
       "      <td>800.643982</td>\n",
       "      <td>834.281006</td>\n",
       "      <td>799.405029</td>\n",
       "      <td>834.281006</td>\n",
       "      <td>834.281006</td>\n",
       "      <td>155576000</td>\n",
       "      <td>-33.637024</td>\n",
       "      <td>1</td>\n",
       "      <td>2016</td>\n",
       "    </tr>\n",
       "    <tr>\n",
       "      <th>1</th>\n",
       "      <td>2016-12-22</td>\n",
       "      <td>834.179993</td>\n",
       "      <td>875.781982</td>\n",
       "      <td>834.148987</td>\n",
       "      <td>864.539978</td>\n",
       "      <td>864.539978</td>\n",
       "      <td>200027008</td>\n",
       "      <td>-30.359985</td>\n",
       "      <td>1</td>\n",
       "      <td>2016</td>\n",
       "    </tr>\n",
       "    <tr>\n",
       "      <th>2</th>\n",
       "      <td>2016-12-23</td>\n",
       "      <td>864.888000</td>\n",
       "      <td>925.117004</td>\n",
       "      <td>864.677002</td>\n",
       "      <td>921.984009</td>\n",
       "      <td>921.984009</td>\n",
       "      <td>275564000</td>\n",
       "      <td>-57.096009</td>\n",
       "      <td>1</td>\n",
       "      <td>2016</td>\n",
       "    </tr>\n",
       "    <tr>\n",
       "      <th>3</th>\n",
       "      <td>2016-12-24</td>\n",
       "      <td>922.179993</td>\n",
       "      <td>923.479004</td>\n",
       "      <td>886.335022</td>\n",
       "      <td>898.822021</td>\n",
       "      <td>898.822021</td>\n",
       "      <td>137727008</td>\n",
       "      <td>23.357972</td>\n",
       "      <td>0</td>\n",
       "      <td>2016</td>\n",
       "    </tr>\n",
       "    <tr>\n",
       "      <th>4</th>\n",
       "      <td>2016-12-25</td>\n",
       "      <td>899.651978</td>\n",
       "      <td>899.651978</td>\n",
       "      <td>862.424011</td>\n",
       "      <td>896.182983</td>\n",
       "      <td>896.182983</td>\n",
       "      <td>143664992</td>\n",
       "      <td>3.468995</td>\n",
       "      <td>0</td>\n",
       "      <td>2016</td>\n",
       "    </tr>\n",
       "    <tr>\n",
       "      <th>...</th>\n",
       "      <td>...</td>\n",
       "      <td>...</td>\n",
       "      <td>...</td>\n",
       "      <td>...</td>\n",
       "      <td>...</td>\n",
       "      <td>...</td>\n",
       "      <td>...</td>\n",
       "      <td>...</td>\n",
       "      <td>...</td>\n",
       "      <td>...</td>\n",
       "    </tr>\n",
       "    <tr>\n",
       "      <th>1822</th>\n",
       "      <td>2021-12-17</td>\n",
       "      <td>47653.730469</td>\n",
       "      <td>48004.894531</td>\n",
       "      <td>45618.214844</td>\n",
       "      <td>46202.144531</td>\n",
       "      <td>46202.144531</td>\n",
       "      <td>32902725329</td>\n",
       "      <td>1451.585938</td>\n",
       "      <td>0</td>\n",
       "      <td>2021</td>\n",
       "    </tr>\n",
       "    <tr>\n",
       "      <th>1823</th>\n",
       "      <td>2021-12-18</td>\n",
       "      <td>46219.253906</td>\n",
       "      <td>47313.828125</td>\n",
       "      <td>45598.441406</td>\n",
       "      <td>46848.777344</td>\n",
       "      <td>46848.777344</td>\n",
       "      <td>26098292690</td>\n",
       "      <td>-629.523438</td>\n",
       "      <td>1</td>\n",
       "      <td>2021</td>\n",
       "    </tr>\n",
       "    <tr>\n",
       "      <th>1824</th>\n",
       "      <td>2021-12-19</td>\n",
       "      <td>46853.867188</td>\n",
       "      <td>48089.664063</td>\n",
       "      <td>46502.953125</td>\n",
       "      <td>46707.015625</td>\n",
       "      <td>46707.015625</td>\n",
       "      <td>25154053861</td>\n",
       "      <td>146.851563</td>\n",
       "      <td>0</td>\n",
       "      <td>2021</td>\n",
       "    </tr>\n",
       "    <tr>\n",
       "      <th>1825</th>\n",
       "      <td>2021-12-20</td>\n",
       "      <td>46707.062500</td>\n",
       "      <td>47401.718750</td>\n",
       "      <td>45579.808594</td>\n",
       "      <td>46880.277344</td>\n",
       "      <td>46880.277344</td>\n",
       "      <td>30961902129</td>\n",
       "      <td>-173.214844</td>\n",
       "      <td>1</td>\n",
       "      <td>2021</td>\n",
       "    </tr>\n",
       "    <tr>\n",
       "      <th>1826</th>\n",
       "      <td>2021-12-21</td>\n",
       "      <td>46985.242188</td>\n",
       "      <td>48912.152344</td>\n",
       "      <td>46739.777344</td>\n",
       "      <td>48565.843750</td>\n",
       "      <td>48565.843750</td>\n",
       "      <td>30736644096</td>\n",
       "      <td>-1580.601562</td>\n",
       "      <td>1</td>\n",
       "      <td>2021</td>\n",
       "    </tr>\n",
       "  </tbody>\n",
       "</table>\n",
       "<p>1827 rows × 10 columns</p>\n",
       "</div>"
      ],
      "text/plain": [
       "           Date          Open          High           Low         Close  \\\n",
       "0    2016-12-21    800.643982    834.281006    799.405029    834.281006   \n",
       "1    2016-12-22    834.179993    875.781982    834.148987    864.539978   \n",
       "2    2016-12-23    864.888000    925.117004    864.677002    921.984009   \n",
       "3    2016-12-24    922.179993    923.479004    886.335022    898.822021   \n",
       "4    2016-12-25    899.651978    899.651978    862.424011    896.182983   \n",
       "...         ...           ...           ...           ...           ...   \n",
       "1822 2021-12-17  47653.730469  48004.894531  45618.214844  46202.144531   \n",
       "1823 2021-12-18  46219.253906  47313.828125  45598.441406  46848.777344   \n",
       "1824 2021-12-19  46853.867188  48089.664063  46502.953125  46707.015625   \n",
       "1825 2021-12-20  46707.062500  47401.718750  45579.808594  46880.277344   \n",
       "1826 2021-12-21  46985.242188  48912.152344  46739.777344  48565.843750   \n",
       "\n",
       "         Adj Close       Volume      pos_neg Up/Down  Year  \n",
       "0       834.281006    155576000   -33.637024       1  2016  \n",
       "1       864.539978    200027008   -30.359985       1  2016  \n",
       "2       921.984009    275564000   -57.096009       1  2016  \n",
       "3       898.822021    137727008    23.357972       0  2016  \n",
       "4       896.182983    143664992     3.468995       0  2016  \n",
       "...            ...          ...          ...     ...   ...  \n",
       "1822  46202.144531  32902725329  1451.585938       0  2021  \n",
       "1823  46848.777344  26098292690  -629.523438       1  2021  \n",
       "1824  46707.015625  25154053861   146.851563       0  2021  \n",
       "1825  46880.277344  30961902129  -173.214844       1  2021  \n",
       "1826  48565.843750  30736644096 -1580.601562       1  2021  \n",
       "\n",
       "[1827 rows x 10 columns]"
      ]
     },
     "execution_count": 8,
     "metadata": {},
     "output_type": "execute_result"
    }
   ],
   "source": [
    "dataset['Year'] = dataset['Date'].dt.year\n",
    "dataset"
   ]
  },
  {
   "cell_type": "markdown",
   "id": "2c2bb1fd",
   "metadata": {},
   "source": [
    "#### Visualization"
   ]
  },
  {
   "cell_type": "code",
   "execution_count": 9,
   "id": "0a12a486",
   "metadata": {},
   "outputs": [
    {
     "name": "stdout",
     "output_type": "stream",
     "text": [
      "                            OLS Regression Results                            \n",
      "==============================================================================\n",
      "Dep. Variable:                  Close   R-squared:                       0.999\n",
      "Model:                            OLS   Adj. R-squared:                  0.999\n",
      "Method:                 Least Squares   F-statistic:                 1.198e+06\n",
      "Date:                Mon, 27 Dec 2021   Prob (F-statistic):               0.00\n",
      "Time:                        02:38:44   Log-Likelihood:                -13441.\n",
      "No. Observations:                1827   AIC:                         2.689e+04\n",
      "Df Residuals:                    1823   BIC:                         2.691e+04\n",
      "Df Model:                           3                                         \n",
      "Covariance Type:            nonrobust                                         \n",
      "==============================================================================\n",
      "                 coef    std err          t      P>|t|      [0.025      0.975]\n",
      "------------------------------------------------------------------------------\n",
      "Intercept      3.6687     11.979      0.306      0.759     -19.825      27.162\n",
      "High           0.9131      0.016     57.784      0.000       0.882       0.944\n",
      "Low            0.6104      0.012     50.970      0.000       0.587       0.634\n",
      "Open          -0.5290      0.017    -31.882      0.000      -0.562      -0.496\n",
      "==============================================================================\n",
      "Omnibus:                      727.677   Durbin-Watson:                   2.079\n",
      "Prob(Omnibus):                  0.000   Jarque-Bera (JB):            20063.898\n",
      "Skew:                          -1.270   Prob(JB):                         0.00\n",
      "Kurtosis:                      19.035   Cond. No.                     5.29e+04\n",
      "==============================================================================\n",
      "\n",
      "Notes:\n",
      "[1] Standard Errors assume that the covariance matrix of the errors is correctly specified.\n",
      "[2] The condition number is large, 5.29e+04. This might indicate that there are\n",
      "strong multicollinearity or other numerical problems.\n"
     ]
    }
   ],
   "source": [
    "model = sm.formula.ols(formula= \"Close ~ High + Low + Open\", data= dataset)\n",
    "multi_reg = model.fit()\n",
    "print(multi_reg.summary())"
   ]
  },
  {
   "cell_type": "markdown",
   "id": "e1b7d0ec",
   "metadata": {},
   "source": [
    "Based on the results of this model, we have a strong suspision of multicollinearity. "
   ]
  },
  {
   "cell_type": "code",
   "execution_count": 10,
   "id": "e41f8203",
   "metadata": {},
   "outputs": [
    {
     "data": {
      "text/plain": [
       "Text(0.5, 1.0, 'Closing price trend')"
      ]
     },
     "execution_count": 10,
     "metadata": {},
     "output_type": "execute_result"
    },
    {
     "data": {
      "image/png": "[encoded data removed]",
      "text/plain": [
       "<Figure size 432x288 with 1 Axes>"
      ]
     },
     "metadata": {
      "needs_background": "light"
     },
     "output_type": "display_data"
    }
   ],
   "source": [
    "plt.plot('Date', 'Close', data=dataset)\n",
    "plt.xlabel('Year')\n",
    "plt.ylabel('Closing Price')\n",
    "plt.title('Closing price trend')"
   ]
  },
  {
   "cell_type": "code",
   "execution_count": 11,
   "id": "4c458535",
   "metadata": {},
   "outputs": [
    {
     "data": {
      "text/plain": [
       "Text(0.5, 1.0, 'Volume trend')"
      ]
     },
     "execution_count": 11,
     "metadata": {},
     "output_type": "execute_result"
    },
    {
     "data": {
      "image/png": "[encoded data removed]",
      "text/plain": [
       "<Figure size 432x288 with 1 Axes>"
      ]
     },
     "metadata": {
      "needs_background": "light"
     },
     "output_type": "display_data"
    }
   ],
   "source": [
    "plt.plot('Date', 'Volume', data=dataset)\n",
    "plt.xlabel('Year')\n",
    "plt.ylabel('Volume')\n",
    "plt.title('Volume trend')"
   ]
  },
  {
   "cell_type": "code",
   "execution_count": 12,
   "id": "5e33a7b0",
   "metadata": {},
   "outputs": [
    {
     "data": {
      "image/png": "[encoded data removed]",
      "text/plain": [
       "<Figure size 432x288 with 1 Axes>"
      ]
     },
     "metadata": {
      "needs_background": "light"
     },
     "output_type": "display_data"
    }
   ],
   "source": [
    "ax1 = dataset.plot.scatter(x='Year',\n",
    "                      y='Close',\n",
    "                      c='DarkBlue')"
   ]
  },
  {
   "cell_type": "code",
   "execution_count": 13,
   "id": "79011416",
   "metadata": {},
   "outputs": [
    {
     "data": {
      "image/png": "[encoded data removed]",
      "text/plain": [
       "<Figure size 432x288 with 1 Axes>"
      ]
     },
     "metadata": {
      "needs_background": "light"
     },
     "output_type": "display_data"
    }
   ],
   "source": [
    "ax1 = dataset.plot.scatter(x='Close',\n",
    "                      y='Volume',\n",
    "                      c='DarkBlue')"
   ]
  },
  {
   "cell_type": "code",
   "execution_count": 14,
   "id": "bc350ce5",
   "metadata": {},
   "outputs": [
    {
     "data": {
      "image/png": "[encoded data removed]",
      "text/plain": [
       "<Figure size 432x288 with 1 Axes>"
      ]
     },
     "metadata": {
      "needs_background": "light"
     },
     "output_type": "display_data"
    }
   ],
   "source": [
    "ax1 = dataset.plot.scatter(x='Year',\n",
    "                      y='Volume',\n",
    "                      c='DarkBlue')"
   ]
  },
  {
   "cell_type": "markdown",
   "id": "17de2922",
   "metadata": {},
   "source": [
    "#### Dataset scaling"
   ]
  },
  {
   "cell_type": "code",
   "execution_count": 15,
   "id": "44b86921-5664-4b2a-966d-830e20ad2e51",
   "metadata": {
    "tags": []
   },
   "outputs": [
    {
     "name": "stderr",
     "output_type": "stream",
     "text": [
      "C:\\Users\\Μαρίνα Σαμ\\AppData\\Local\\Programs\\Python\\Python39\\lib\\site-packages\\pandas\\core\\frame.py:3678: SettingWithCopyWarning: \n",
      "A value is trying to be set on a copy of a slice from a DataFrame.\n",
      "Try using .loc[row_indexer,col_indexer] = value instead\n",
      "\n",
      "See the caveats in the documentation: https://pandas.pydata.org/pandas-docs/stable/user_guide/indexing.html#returning-a-view-versus-a-copy\n",
      "  self[col] = igetitem(value, i)\n"
     ]
    },
    {
     "data": {
      "text/html": [
       "<div>\n",
       "<style scoped>\n",
       "    .dataframe tbody tr th:only-of-type {\n",
       "        vertical-align: middle;\n",
       "    }\n",
       "\n",
       "    .dataframe tbody tr th {\n",
       "        vertical-align: top;\n",
       "    }\n",
       "\n",
       "    .dataframe thead th {\n",
       "        text-align: right;\n",
       "    }\n",
       "</style>\n",
       "<table border=\"1\" class=\"dataframe\">\n",
       "  <thead>\n",
       "    <tr style=\"text-align: right;\">\n",
       "      <th></th>\n",
       "      <th>Open</th>\n",
       "      <th>High</th>\n",
       "      <th>Low</th>\n",
       "      <th>Close</th>\n",
       "      <th>Volume</th>\n",
       "    </tr>\n",
       "  </thead>\n",
       "  <tbody>\n",
       "    <tr>\n",
       "      <th>0</th>\n",
       "      <td>0.000381</td>\n",
       "      <td>0.000161</td>\n",
       "      <td>0.000665</td>\n",
       "      <td>0.000846</td>\n",
       "      <td>0.000270</td>\n",
       "    </tr>\n",
       "    <tr>\n",
       "      <th>1</th>\n",
       "      <td>0.000884</td>\n",
       "      <td>0.000772</td>\n",
       "      <td>0.001195</td>\n",
       "      <td>0.001299</td>\n",
       "      <td>0.000397</td>\n",
       "    </tr>\n",
       "    <tr>\n",
       "      <th>2</th>\n",
       "      <td>0.001343</td>\n",
       "      <td>0.001498</td>\n",
       "      <td>0.001660</td>\n",
       "      <td>0.002159</td>\n",
       "      <td>0.000612</td>\n",
       "    </tr>\n",
       "    <tr>\n",
       "      <th>3</th>\n",
       "      <td>0.002201</td>\n",
       "      <td>0.001474</td>\n",
       "      <td>0.001990</td>\n",
       "      <td>0.001813</td>\n",
       "      <td>0.000219</td>\n",
       "    </tr>\n",
       "    <tr>\n",
       "      <th>4</th>\n",
       "      <td>0.001864</td>\n",
       "      <td>0.001123</td>\n",
       "      <td>0.001625</td>\n",
       "      <td>0.001773</td>\n",
       "      <td>0.000236</td>\n",
       "    </tr>\n",
       "    <tr>\n",
       "      <th>...</th>\n",
       "      <td>...</td>\n",
       "      <td>...</td>\n",
       "      <td>...</td>\n",
       "      <td>...</td>\n",
       "      <td>...</td>\n",
       "    </tr>\n",
       "    <tr>\n",
       "      <th>1822</th>\n",
       "      <td>0.702042</td>\n",
       "      <td>0.694191</td>\n",
       "      <td>0.683605</td>\n",
       "      <td>0.680117</td>\n",
       "      <td>0.093591</td>\n",
       "    </tr>\n",
       "    <tr>\n",
       "      <th>1823</th>\n",
       "      <td>0.680560</td>\n",
       "      <td>0.684023</td>\n",
       "      <td>0.683304</td>\n",
       "      <td>0.689799</td>\n",
       "      <td>0.074200</td>\n",
       "    </tr>\n",
       "    <tr>\n",
       "      <th>1824</th>\n",
       "      <td>0.690064</td>\n",
       "      <td>0.695438</td>\n",
       "      <td>0.697086</td>\n",
       "      <td>0.687676</td>\n",
       "      <td>0.071510</td>\n",
       "    </tr>\n",
       "    <tr>\n",
       "      <th>1825</th>\n",
       "      <td>0.687865</td>\n",
       "      <td>0.685316</td>\n",
       "      <td>0.683020</td>\n",
       "      <td>0.690270</td>\n",
       "      <td>0.088060</td>\n",
       "    </tr>\n",
       "    <tr>\n",
       "      <th>1826</th>\n",
       "      <td>0.692031</td>\n",
       "      <td>0.707539</td>\n",
       "      <td>0.700695</td>\n",
       "      <td>0.715508</td>\n",
       "      <td>0.087419</td>\n",
       "    </tr>\n",
       "  </tbody>\n",
       "</table>\n",
       "<p>1827 rows × 5 columns</p>\n",
       "</div>"
      ],
      "text/plain": [
       "          Open      High       Low     Close    Volume\n",
       "0     0.000381  0.000161  0.000665  0.000846  0.000270\n",
       "1     0.000884  0.000772  0.001195  0.001299  0.000397\n",
       "2     0.001343  0.001498  0.001660  0.002159  0.000612\n",
       "3     0.002201  0.001474  0.001990  0.001813  0.000219\n",
       "4     0.001864  0.001123  0.001625  0.001773  0.000236\n",
       "...        ...       ...       ...       ...       ...\n",
       "1822  0.702042  0.694191  0.683605  0.680117  0.093591\n",
       "1823  0.680560  0.684023  0.683304  0.689799  0.074200\n",
       "1824  0.690064  0.695438  0.697086  0.687676  0.071510\n",
       "1825  0.687865  0.685316  0.683020  0.690270  0.088060\n",
       "1826  0.692031  0.707539  0.700695  0.715508  0.087419\n",
       "\n",
       "[1827 rows x 5 columns]"
      ]
     },
     "execution_count": 15,
     "metadata": {},
     "output_type": "execute_result"
    }
   ],
   "source": [
    "scaled_data = dataset[['Open', 'High', 'Low', 'Close', 'Volume']]\n",
    "scaler = MinMaxScaler(copy=False)\n",
    "scaled_data[['Open', 'High', 'Low', 'Close', 'Volume']] = scaler.fit_transform(scaled_data[['Open', 'High', 'Low', 'Close', 'Volume']])\n",
    "scaled_data"
   ]
  },
  {
   "cell_type": "code",
   "execution_count": 16,
   "id": "05b66448",
   "metadata": {},
   "outputs": [
    {
     "name": "stderr",
     "output_type": "stream",
     "text": [
      "C:\\Users\\DD7D~1\\AppData\\Local\\Temp/ipykernel_15676/2909746662.py:1: SettingWithCopyWarning: \n",
      "A value is trying to be set on a copy of a slice from a DataFrame.\n",
      "Try using .loc[row_indexer,col_indexer] = value instead\n",
      "\n",
      "See the caveats in the documentation: https://pandas.pydata.org/pandas-docs/stable/user_guide/indexing.html#returning-a-view-versus-a-copy\n",
      "  scaled_data[\"Up/Down\"] = dataset[\"Up/Down\"].copy()\n"
     ]
    }
   ],
   "source": [
    "scaled_data[\"Up/Down\"] = dataset[\"Up/Down\"].copy()"
   ]
  },
  {
   "cell_type": "markdown",
   "id": "6a44a7a9",
   "metadata": {},
   "source": [
    "#### Linear Regression "
   ]
  },
  {
   "cell_type": "markdown",
   "id": "205f619e",
   "metadata": {},
   "source": [
    "##### Training"
   ]
  },
  {
   "cell_type": "code",
   "execution_count": 17,
   "id": "b6cc0e4e",
   "metadata": {},
   "outputs": [
    {
     "name": "stdout",
     "output_type": "stream",
     "text": [
      "(1278, 4)\n",
      "(1278,)\n",
      "(549, 4)\n",
      "(549,)\n"
     ]
    }
   ],
   "source": [
    "X = scaled_data[['Open', 'High', 'Low', 'Volume']]\n",
    "y = scaled_data['Close']\n",
    "X_train, X_test, y_train, y_test = train_test_split(X, y, test_size=0.3, random_state=42, shuffle=False)\n",
    "print(X_train.shape)\n",
    "print(y_train.shape)\n",
    "print(X_test.shape)\n",
    "print(y_test.shape)"
   ]
  },
  {
   "cell_type": "code",
   "execution_count": 18,
   "id": "1814380f",
   "metadata": {},
   "outputs": [
    {
     "name": "stdout",
     "output_type": "stream",
     "text": [
      "Coefficients: \n",
      " [-0.54594623  0.89860336  0.64917203 -0.00229671]\n",
      "Intercept: \n",
      " 0.00032983741724930404\n"
     ]
    }
   ],
   "source": [
    "linReg = LinearRegression()\n",
    "linReg.fit(X_train, y_train)\n",
    "print(\"Coefficients: \\n\", linReg.coef_)\n",
    "print(\"Intercept: \\n\", linReg.intercept_)"
   ]
  },
  {
   "cell_type": "markdown",
   "id": "0293f3bb",
   "metadata": {},
   "source": [
    "##### Testing"
   ]
  },
  {
   "cell_type": "code",
   "execution_count": 19,
   "id": "4179625c-5777-4547-9b97-f9fb8d7b9c8a",
   "metadata": {},
   "outputs": [
    {
     "data": {
      "text/html": [
       "<div>\n",
       "<style scoped>\n",
       "    .dataframe tbody tr th:only-of-type {\n",
       "        vertical-align: middle;\n",
       "    }\n",
       "\n",
       "    .dataframe tbody tr th {\n",
       "        vertical-align: top;\n",
       "    }\n",
       "\n",
       "    .dataframe thead th {\n",
       "        text-align: right;\n",
       "    }\n",
       "</style>\n",
       "<table border=\"1\" class=\"dataframe\">\n",
       "  <thead>\n",
       "    <tr style=\"text-align: right;\">\n",
       "      <th></th>\n",
       "      <th>Actual_Price</th>\n",
       "      <th>Predicted_Price</th>\n",
       "    </tr>\n",
       "  </thead>\n",
       "  <tbody>\n",
       "    <tr>\n",
       "      <th>1278</th>\n",
       "      <td>0.127654</td>\n",
       "      <td>0.128212</td>\n",
       "    </tr>\n",
       "    <tr>\n",
       "      <th>1279</th>\n",
       "      <td>0.132821</td>\n",
       "      <td>0.131742</td>\n",
       "    </tr>\n",
       "    <tr>\n",
       "      <th>1280</th>\n",
       "      <td>0.132535</td>\n",
       "      <td>0.131644</td>\n",
       "    </tr>\n",
       "    <tr>\n",
       "      <th>1281</th>\n",
       "      <td>0.127803</td>\n",
       "      <td>0.129198</td>\n",
       "    </tr>\n",
       "    <tr>\n",
       "      <th>1282</th>\n",
       "      <td>0.127073</td>\n",
       "      <td>0.125493</td>\n",
       "    </tr>\n",
       "  </tbody>\n",
       "</table>\n",
       "</div>"
      ],
      "text/plain": [
       "      Actual_Price  Predicted_Price\n",
       "1278      0.127654         0.128212\n",
       "1279      0.132821         0.131742\n",
       "1280      0.132535         0.131644\n",
       "1281      0.127803         0.129198\n",
       "1282      0.127073         0.125493"
      ]
     },
     "execution_count": 19,
     "metadata": {},
     "output_type": "execute_result"
    }
   ],
   "source": [
    "y_pred_lin = linReg.predict(X_test)\n",
    "dfp = pd.DataFrame({'Actual_Price': y_test, 'Predicted_Price': y_pred_lin})\n",
    "dfp.head()"
   ]
  },
  {
   "cell_type": "markdown",
   "id": "da4078a7",
   "metadata": {},
   "source": [
    "##### Metrics"
   ]
  },
  {
   "cell_type": "code",
   "execution_count": 20,
   "id": "e807ea0f",
   "metadata": {},
   "outputs": [
    {
     "name": "stdout",
     "output_type": "stream",
     "text": [
      "Linear Regression Score:  0.9986702114127007\n",
      "Absolute Squared Error:  0.006548516106754449\n",
      "Mean Squared Error:  9.93455497730582e-05\n"
     ]
    }
   ],
   "source": [
    "reg_score = linReg.score(X_test, y_test)\n",
    "print(\"Linear Regression Score: \", reg_score)\n",
    "print(\"Absolute Squared Error: \", mean_absolute_error(y_test, y_pred_lin))\n",
    "print(\"Mean Squared Error: \", mean_squared_error(y_test, y_pred_lin))"
   ]
  },
  {
   "cell_type": "code",
   "execution_count": 21,
   "id": "974bb78e",
   "metadata": {},
   "outputs": [
    {
     "data": {
      "text/html": [
       "<div>\n",
       "<style scoped>\n",
       "    .dataframe tbody tr th:only-of-type {\n",
       "        vertical-align: middle;\n",
       "    }\n",
       "\n",
       "    .dataframe tbody tr th {\n",
       "        vertical-align: top;\n",
       "    }\n",
       "\n",
       "    .dataframe thead th {\n",
       "        text-align: right;\n",
       "    }\n",
       "</style>\n",
       "<table border=\"1\" class=\"dataframe\">\n",
       "  <thead>\n",
       "    <tr style=\"text-align: right;\">\n",
       "      <th></th>\n",
       "      <th>Actual_Price</th>\n",
       "      <th>Predicted_Price</th>\n",
       "    </tr>\n",
       "  </thead>\n",
       "  <tbody>\n",
       "    <tr>\n",
       "      <th>count</th>\n",
       "      <td>549.000000</td>\n",
       "      <td>549.000000</td>\n",
       "    </tr>\n",
       "    <tr>\n",
       "      <th>mean</th>\n",
       "      <td>0.518665</td>\n",
       "      <td>0.518430</td>\n",
       "    </tr>\n",
       "    <tr>\n",
       "      <th>std</th>\n",
       "      <td>0.273577</td>\n",
       "      <td>0.273885</td>\n",
       "    </tr>\n",
       "    <tr>\n",
       "      <th>min</th>\n",
       "      <td>0.123787</td>\n",
       "      <td>0.123544</td>\n",
       "    </tr>\n",
       "    <tr>\n",
       "      <th>25%</th>\n",
       "      <td>0.210454</td>\n",
       "      <td>0.211550</td>\n",
       "    </tr>\n",
       "    <tr>\n",
       "      <th>50%</th>\n",
       "      <td>0.547075</td>\n",
       "      <td>0.543719</td>\n",
       "    </tr>\n",
       "    <tr>\n",
       "      <th>75%</th>\n",
       "      <td>0.737742</td>\n",
       "      <td>0.737600</td>\n",
       "    </tr>\n",
       "    <tr>\n",
       "      <th>max</th>\n",
       "      <td>1.000000</td>\n",
       "      <td>0.998454</td>\n",
       "    </tr>\n",
       "  </tbody>\n",
       "</table>\n",
       "</div>"
      ],
      "text/plain": [
       "       Actual_Price  Predicted_Price\n",
       "count    549.000000       549.000000\n",
       "mean       0.518665         0.518430\n",
       "std        0.273577         0.273885\n",
       "min        0.123787         0.123544\n",
       "25%        0.210454         0.211550\n",
       "50%        0.547075         0.543719\n",
       "75%        0.737742         0.737600\n",
       "max        1.000000         0.998454"
      ]
     },
     "execution_count": 21,
     "metadata": {},
     "output_type": "execute_result"
    }
   ],
   "source": [
    "dfp.describe()"
   ]
  },
  {
   "cell_type": "code",
   "execution_count": 22,
   "id": "801c83ce-ccc9-4d0a-926d-d81e15c76247",
   "metadata": {},
   "outputs": [
    {
     "data": {
      "text/plain": [
       "1278    0.128212\n",
       "1279    0.131742\n",
       "1280    0.131644\n",
       "1281    0.129198\n",
       "1282    0.125493\n",
       "          ...   \n",
       "1822    0.684417\n",
       "1823    0.686857\n",
       "1824    0.700880\n",
       "1825    0.683815\n",
       "1826    0.712986\n",
       "Length: 549, dtype: float64"
      ]
     },
     "execution_count": 22,
     "metadata": {},
     "output_type": "execute_result"
    }
   ],
   "source": [
    "y = linReg.coef_[0] * X_test['Open'] + linReg.coef_[1] * X_test['High'] + linReg.coef_[2] * X_test['Low'] + linReg.coef_[3] * X_test['Volume'] + linReg.intercept_\n",
    "y"
   ]
  },
  {
   "cell_type": "markdown",
   "id": "450da51a",
   "metadata": {},
   "source": [
    "##### Plotting"
   ]
  },
  {
   "cell_type": "code",
   "execution_count": 23,
   "id": "684da402-b075-4004-a001-00284fb28ea3",
   "metadata": {},
   "outputs": [
    {
     "data": {
      "text/plain": [
       "<matplotlib.legend.Legend at 0x1b8665f3df0>"
      ]
     },
     "execution_count": 23,
     "metadata": {},
     "output_type": "execute_result"
    },
    {
     "data": {
      "image/png": "[encoded data removed]",
      "text/plain": [
       "<Figure size 1080x1080 with 1 Axes>"
      ]
     },
     "metadata": {
      "needs_background": "light"
     },
     "output_type": "display_data"
    }
   ],
   "source": [
    "plt.subplots(1, figsize=(15, 15))\n",
    "plt.plot(np.linspace(0, y_test.size, y_test.size), y_test, color='orange', label='Actual Data')\n",
    "plt.plot(np.linspace(0, y_test.size, y_test.size), y, label='Best fit line')\n",
    "plt.grid(color='#000000', linestyle='-', linewidth=0.5)\n",
    "plt.legend(loc=\"upper left\")"
   ]
  },
  {
   "cell_type": "markdown",
   "id": "45a4bfbd",
   "metadata": {},
   "source": [
    "##### Scatter plot"
   ]
  },
  {
   "cell_type": "code",
   "execution_count": 24,
   "id": "d43ecd8c-02e6-4028-b71f-92aced67ac23",
   "metadata": {
    "scrolled": true
   },
   "outputs": [
    {
     "data": {
      "text/plain": [
       "<matplotlib.collections.PathCollection at 0x1b866678790>"
      ]
     },
     "execution_count": 24,
     "metadata": {},
     "output_type": "execute_result"
    },
    {
     "data": {
      "image/png": "[encoded data removed]",
      "text/plain": [
       "<Figure size 432x288 with 1 Axes>"
      ]
     },
     "metadata": {
      "needs_background": "light"
     },
     "output_type": "display_data"
    }
   ],
   "source": [
    "plt.scatter(dfp['Actual_Price'], dfp['Predicted_Price'])"
   ]
  },
  {
   "cell_type": "markdown",
   "id": "caf7b586",
   "metadata": {},
   "source": [
    "#### Logistic Regression "
   ]
  },
  {
   "cell_type": "code",
   "execution_count": 25,
   "id": "7c2b15b2",
   "metadata": {},
   "outputs": [],
   "source": [
    "X = scaled_data[['Open', 'High', 'Low', 'Close','Volume']]\n",
    "y = dataset[\"Up/Down\"].values\n",
    "\n"
   ]
  },
  {
   "cell_type": "markdown",
   "id": "cf8c6c4c",
   "metadata": {},
   "source": [
    "##### Training"
   ]
  },
  {
   "cell_type": "code",
   "execution_count": 26,
   "id": "83a5dcc2",
   "metadata": {},
   "outputs": [],
   "source": [
    "np.random.seed(42)\n",
    "X_train, X_test, y_train, y_test = train_test_split(X, y)"
   ]
  },
  {
   "cell_type": "code",
   "execution_count": 27,
   "id": "448aa2b9",
   "metadata": {},
   "outputs": [],
   "source": [
    "scaler = StandardScaler()\n",
    "lr = LogisticRegression()\n",
    "model1 = Pipeline([('standardize', scaler),\n",
    "                    ('log_reg', lr)])"
   ]
  },
  {
   "cell_type": "code",
   "execution_count": 28,
   "id": "e2a94d1b",
   "metadata": {},
   "outputs": [
    {
     "data": {
      "text/plain": [
       "Pipeline(steps=[('standardize', StandardScaler()),\n",
       "                ('log_reg', LogisticRegression())])"
      ]
     },
     "execution_count": 28,
     "metadata": {},
     "output_type": "execute_result"
    }
   ],
   "source": [
    "model1.fit(X_train, y_train)"
   ]
  },
  {
   "cell_type": "markdown",
   "id": "f6ee9162",
   "metadata": {},
   "source": [
    "##### Metrics"
   ]
  },
  {
   "cell_type": "code",
   "execution_count": 29,
   "id": "6cec8814",
   "metadata": {},
   "outputs": [
    {
     "name": "stdout",
     "output_type": "stream",
     "text": [
      "Confusion matrix:\n",
      " [[195 432]\n",
      " [ 10 733]]\n",
      "Training AUC:  0.8661725278570218\n",
      "Training accuracy:  0.6773722627737226\n"
     ]
    }
   ],
   "source": [
    "y_train_hat = model1.predict(X_train)\n",
    "y_train_hat_probs = model1.predict_proba(X_train)[:,1]\n",
    "\n",
    "train_accuracy = accuracy_score(y_train, y_train_hat)\n",
    "train_auc_roc = roc_auc_score(y_train, y_train_hat_probs)\n",
    "\n",
    "print('Confusion matrix:\\n', confusion_matrix(y_train, y_train_hat))\n",
    "\n",
    "print('Training AUC: ' , train_auc_roc)\n",
    "\n",
    "print('Training accuracy: ' , train_accuracy)"
   ]
  },
  {
   "cell_type": "code",
   "execution_count": 30,
   "id": "7a3a08b8",
   "metadata": {},
   "outputs": [
    {
     "name": "stdout",
     "output_type": "stream",
     "text": [
      "Confusion matrix:\n",
      " [[ 65 136]\n",
      " [  4 252]]\n",
      "Testing AUC:  0.8605799129353233\n",
      "Testing accuracy:  0.6936542669584245\n"
     ]
    }
   ],
   "source": [
    "y_pred_log = model1.predict(X_test)\n",
    "y_pred_log_probs = model1.predict_proba(X_test)[:,1]\n",
    "\n",
    "test_accuracy = accuracy_score(y_test, y_pred_log)\n",
    "test_auc_roc = roc_auc_score(y_test, y_pred_log_probs)\n",
    "\n",
    "print('Confusion matrix:\\n', confusion_matrix(y_test, y_pred_log))\n",
    "\n",
    "print('Testing AUC: ', test_auc_roc)\n",
    "\n",
    "print('Testing accuracy: ' , test_accuracy) "
   ]
  },
  {
   "cell_type": "code",
   "execution_count": 31,
   "id": "12f8c9a3",
   "metadata": {},
   "outputs": [
    {
     "name": "stdout",
     "output_type": "stream",
     "text": [
      "              precision    recall  f1-score   support\n",
      "\n",
      "           0       0.94      0.32      0.48       201\n",
      "           1       0.65      0.98      0.78       256\n",
      "\n",
      "    accuracy                           0.69       457\n",
      "   macro avg       0.80      0.65      0.63       457\n",
      "weighted avg       0.78      0.69      0.65       457\n",
      "\n"
     ]
    }
   ],
   "source": [
    "print(classification_report(y_test, y_pred_log, digits=2))"
   ]
  },
  {
   "cell_type": "markdown",
   "id": "85267497",
   "metadata": {},
   "source": [
    "## Model Creation"
   ]
  },
  {
   "cell_type": "code",
   "execution_count": 32,
   "id": "222ebd73",
   "metadata": {},
   "outputs": [
    {
     "name": "stdout",
     "output_type": "stream",
     "text": [
      "cpu device available!\n",
      "NeuralNetwork(\n",
      "  (hidden1): Linear(in_features=4, out_features=50, bias=True)\n",
      "  (hidden2): Linear(in_features=50, out_features=4, bias=True)\n",
      "  (out): Linear(in_features=4, out_features=1, bias=True)\n",
      ")\n"
     ]
    }
   ],
   "source": [
    "\n",
    "\n",
    "# Get cpu or gpu device for training (If capable GPU present).\n",
    "device = \"cuda\" if torch.cuda.is_available() else \"cpu\"\n",
    "print(f\"{device} device available!\")\n",
    "\n",
    "class NeuralNetwork(nn.Module):\n",
    "\n",
    "    def __init__(self):\n",
    "        super(NeuralNetwork, self).__init__()\n",
    "        self.hidden1 = torch.nn.Linear(4, 50) # hidden layer\n",
    "        self.hidden2 = torch.nn.Linear(50, 4) # hidden layer\n",
    "        self.out = torch.nn.Linear(4, 1)     # output layer\n",
    "\n",
    "    def forward(self, x):\n",
    "        z = F.relu(self.hidden1(x)) # activation function for first hidden layer\n",
    "        z = F.relu(self.hidden2(z)) # activation function for second hidden layer\n",
    "        z = self.out(z)        # linear output\n",
    "        return z\n",
    "\n",
    "model = NeuralNetwork().to('cpu')\n",
    "print(model)"
   ]
  },
  {
   "cell_type": "code",
   "execution_count": 33,
   "id": "a7f72263",
   "metadata": {},
   "outputs": [
    {
     "name": "stdout",
     "output_type": "stream",
     "text": [
      "torch.Size([1461, 4])\n",
      "torch.Size([1461])\n",
      "torch.Size([366, 4])\n",
      "torch.Size([366])\n"
     ]
    }
   ],
   "source": [
    "X = torch.Tensor(scaled_data[['Open', 'High', 'Low', 'Volume']].values)\n",
    "y = torch.Tensor(scaled_data['Close'])\n",
    "X_train, X_test, y_train, y_test = train_test_split(X, y, test_size=0.2, random_state=42, shuffle=False)\n",
    "\n",
    "print(X_train.shape)\n",
    "print(y_train.shape)\n",
    "print(X_test.shape)\n",
    "print(y_test.shape)"
   ]
  },
  {
   "cell_type": "markdown",
   "id": "a2228d2e",
   "metadata": {},
   "source": [
    "##### Data Preperation"
   ]
  },
  {
   "cell_type": "code",
   "execution_count": 34,
   "id": "2f52538b",
   "metadata": {},
   "outputs": [],
   "source": [
    "BATCH_SIZE = 50\n",
    "\n",
    "train_dataset = Data.TensorDataset(X_train, y_train)\n",
    "test_dataset = Data.TensorDataset(X_test, y_test)\n",
    "\n",
    "train_loader = Data.DataLoader(\n",
    "    dataset=train_dataset, \n",
    "    batch_size=BATCH_SIZE, \n",
    "    shuffle=False)\n",
    "\n",
    "test_loader = Data.DataLoader(\n",
    "    dataset=test_dataset, \n",
    "    batch_size=BATCH_SIZE, \n",
    "    shuffle=False)\n",
    "\n",
    "optimizer = torch.optim.Adam(model.parameters(), lr=0.01)\n",
    "loss_func = torch.nn.MSELoss() "
   ]
  },
  {
   "cell_type": "markdown",
   "id": "58fba8fa",
   "metadata": {},
   "source": [
    "##### Training"
   ]
  },
  {
   "cell_type": "code",
   "execution_count": 35,
   "id": "aee7506f",
   "metadata": {},
   "outputs": [
    {
     "name": "stdout",
     "output_type": "stream",
     "text": [
      "[1,    20] loss: 0.000\n",
      "[2,    20] loss: 0.000\n"
     ]
    },
    {
     "name": "stderr",
     "output_type": "stream",
     "text": [
      "C:\\Users\\Μαρίνα Σαμ\\AppData\\Local\\Programs\\Python\\Python39\\lib\\site-packages\\torch\\nn\\modules\\loss.py:520: UserWarning: Using a target size (torch.Size([50])) that is different to the input size (torch.Size([50, 1])). This will likely lead to incorrect results due to broadcasting. Please ensure they have the same size.\n",
      "  return F.mse_loss(input, target, reduction=self.reduction)\n",
      "C:\\Users\\Μαρίνα Σαμ\\AppData\\Local\\Programs\\Python\\Python39\\lib\\site-packages\\torch\\nn\\modules\\loss.py:520: UserWarning: Using a target size (torch.Size([11])) that is different to the input size (torch.Size([11, 1])). This will likely lead to incorrect results due to broadcasting. Please ensure they have the same size.\n",
      "  return F.mse_loss(input, target, reduction=self.reduction)\n"
     ]
    },
    {
     "name": "stdout",
     "output_type": "stream",
     "text": [
      "[3,    20] loss: 0.000\n",
      "[4,    20] loss: 0.000\n",
      "[5,    20] loss: 0.000\n",
      "[6,    20] loss: 0.000\n",
      "[7,    20] loss: 0.000\n",
      "[8,    20] loss: 0.000\n",
      "[9,    20] loss: 0.000\n",
      "[10,    20] loss: 0.000\n",
      "[11,    20] loss: 0.000\n",
      "[12,    20] loss: 0.000\n",
      "[13,    20] loss: 0.000\n",
      "[14,    20] loss: 0.000\n",
      "[15,    20] loss: 0.000\n",
      "[16,    20] loss: 0.000\n",
      "[17,    20] loss: 0.000\n",
      "[18,    20] loss: 0.000\n",
      "[19,    20] loss: 0.000\n",
      "[20,    20] loss: 0.000\n",
      "[21,    20] loss: 0.000\n",
      "[22,    20] loss: 0.000\n",
      "[23,    20] loss: 0.000\n",
      "[24,    20] loss: 0.000\n",
      "[25,    20] loss: 0.000\n",
      "[26,    20] loss: 0.000\n",
      "[27,    20] loss: 0.000\n",
      "[28,    20] loss: 0.000\n",
      "[29,    20] loss: 0.000\n",
      "[30,    20] loss: 0.000\n",
      "[31,    20] loss: 0.000\n",
      "[32,    20] loss: 0.000\n",
      "[33,    20] loss: 0.000\n",
      "[34,    20] loss: 0.000\n",
      "[35,    20] loss: 0.000\n",
      "[36,    20] loss: 0.000\n",
      "[37,    20] loss: 0.000\n",
      "[38,    20] loss: 0.000\n",
      "[39,    20] loss: 0.000\n",
      "[40,    20] loss: 0.000\n",
      "[41,    20] loss: 0.000\n",
      "[42,    20] loss: 0.000\n",
      "[43,    20] loss: 0.000\n",
      "[44,    20] loss: 0.000\n",
      "[45,    20] loss: 0.000\n",
      "[46,    20] loss: 0.000\n",
      "[47,    20] loss: 0.000\n",
      "[48,    20] loss: 0.000\n",
      "[49,    20] loss: 0.000\n",
      "[50,    20] loss: 0.000\n",
      "[51,    20] loss: 0.000\n",
      "[52,    20] loss: 0.000\n",
      "[53,    20] loss: 0.000\n",
      "[54,    20] loss: 0.000\n",
      "[55,    20] loss: 0.000\n",
      "[56,    20] loss: 0.000\n",
      "[57,    20] loss: 0.000\n",
      "[58,    20] loss: 0.000\n",
      "[59,    20] loss: 0.000\n",
      "[60,    20] loss: 0.000\n",
      "[61,    20] loss: 0.000\n",
      "[62,    20] loss: 0.000\n",
      "[63,    20] loss: 0.000\n",
      "[64,    20] loss: 0.000\n",
      "[65,    20] loss: 0.000\n",
      "[66,    20] loss: 0.000\n",
      "[67,    20] loss: 0.000\n",
      "[68,    20] loss: 0.000\n",
      "[69,    20] loss: 0.000\n",
      "[70,    20] loss: 0.000\n",
      "[71,    20] loss: 0.000\n",
      "[72,    20] loss: 0.000\n",
      "[73,    20] loss: 0.000\n",
      "[74,    20] loss: 0.000\n",
      "[75,    20] loss: 0.000\n",
      "[76,    20] loss: 0.000\n",
      "[77,    20] loss: 0.000\n",
      "[78,    20] loss: 0.000\n",
      "[79,    20] loss: 0.000\n",
      "[80,    20] loss: 0.000\n",
      "[81,    20] loss: 0.000\n",
      "[82,    20] loss: 0.000\n",
      "[83,    20] loss: 0.000\n",
      "[84,    20] loss: 0.000\n",
      "[85,    20] loss: 0.000\n",
      "[86,    20] loss: 0.000\n",
      "[87,    20] loss: 0.000\n",
      "[88,    20] loss: 0.000\n",
      "[89,    20] loss: 0.000\n",
      "[90,    20] loss: 0.000\n",
      "[91,    20] loss: 0.000\n",
      "[92,    20] loss: 0.000\n",
      "[93,    20] loss: 0.000\n",
      "[94,    20] loss: 0.000\n",
      "[95,    20] loss: 0.000\n",
      "[96,    20] loss: 0.000\n",
      "[97,    20] loss: 0.000\n",
      "[98,    20] loss: 0.000\n",
      "[99,    20] loss: 0.000\n",
      "[100,    20] loss: 0.000\n",
      "[101,    20] loss: 0.000\n",
      "[102,    20] loss: 0.000\n",
      "[103,    20] loss: 0.000\n",
      "[104,    20] loss: 0.000\n",
      "[105,    20] loss: 0.000\n",
      "[106,    20] loss: 0.000\n",
      "[107,    20] loss: 0.000\n",
      "[108,    20] loss: 0.000\n",
      "[109,    20] loss: 0.000\n",
      "[110,    20] loss: 0.000\n",
      "[111,    20] loss: 0.000\n",
      "[112,    20] loss: 0.000\n",
      "[113,    20] loss: 0.000\n",
      "[114,    20] loss: 0.000\n",
      "[115,    20] loss: 0.000\n",
      "[116,    20] loss: 0.000\n",
      "[117,    20] loss: 0.000\n",
      "[118,    20] loss: 0.000\n",
      "[119,    20] loss: 0.000\n",
      "[120,    20] loss: 0.000\n",
      "[121,    20] loss: 0.000\n",
      "[122,    20] loss: 0.000\n",
      "[123,    20] loss: 0.000\n",
      "[124,    20] loss: 0.000\n",
      "[125,    20] loss: 0.000\n",
      "[126,    20] loss: 0.000\n",
      "[127,    20] loss: 0.000\n",
      "[128,    20] loss: 0.000\n",
      "[129,    20] loss: 0.000\n",
      "[130,    20] loss: 0.000\n",
      "[131,    20] loss: 0.000\n",
      "[132,    20] loss: 0.000\n",
      "[133,    20] loss: 0.000\n",
      "[134,    20] loss: 0.000\n",
      "[135,    20] loss: 0.000\n",
      "[136,    20] loss: 0.000\n",
      "[137,    20] loss: 0.000\n",
      "[138,    20] loss: 0.000\n",
      "[139,    20] loss: 0.000\n",
      "[140,    20] loss: 0.000\n",
      "[141,    20] loss: 0.000\n",
      "[142,    20] loss: 0.000\n",
      "[143,    20] loss: 0.000\n",
      "[144,    20] loss: 0.000\n",
      "[145,    20] loss: 0.000\n",
      "[146,    20] loss: 0.000\n",
      "[147,    20] loss: 0.000\n",
      "[148,    20] loss: 0.000\n",
      "[149,    20] loss: 0.000\n",
      "[150,    20] loss: 0.000\n",
      "[151,    20] loss: 0.000\n",
      "[152,    20] loss: 0.000\n",
      "[153,    20] loss: 0.000\n",
      "[154,    20] loss: 0.000\n",
      "[155,    20] loss: 0.000\n",
      "[156,    20] loss: 0.000\n",
      "[157,    20] loss: 0.000\n",
      "[158,    20] loss: 0.000\n",
      "[159,    20] loss: 0.000\n",
      "[160,    20] loss: 0.000\n",
      "[161,    20] loss: 0.000\n",
      "[162,    20] loss: 0.000\n",
      "[163,    20] loss: 0.000\n",
      "[164,    20] loss: 0.000\n",
      "[165,    20] loss: 0.000\n",
      "[166,    20] loss: 0.000\n",
      "[167,    20] loss: 0.000\n",
      "[168,    20] loss: 0.000\n",
      "[169,    20] loss: 0.000\n",
      "[170,    20] loss: 0.000\n",
      "[171,    20] loss: 0.000\n",
      "[172,    20] loss: 0.000\n",
      "[173,    20] loss: 0.000\n",
      "[174,    20] loss: 0.000\n",
      "[175,    20] loss: 0.000\n",
      "[176,    20] loss: 0.000\n",
      "[177,    20] loss: 0.000\n",
      "[178,    20] loss: 0.000\n",
      "[179,    20] loss: 0.000\n",
      "[180,    20] loss: 0.000\n",
      "[181,    20] loss: 0.000\n",
      "[182,    20] loss: 0.000\n",
      "[183,    20] loss: 0.000\n",
      "[184,    20] loss: 0.000\n",
      "[185,    20] loss: 0.000\n",
      "[186,    20] loss: 0.000\n",
      "[187,    20] loss: 0.000\n",
      "[188,    20] loss: 0.000\n",
      "[189,    20] loss: 0.000\n",
      "[190,    20] loss: 0.000\n",
      "[191,    20] loss: 0.000\n",
      "[192,    20] loss: 0.000\n",
      "[193,    20] loss: 0.000\n",
      "[194,    20] loss: 0.000\n",
      "[195,    20] loss: 0.000\n",
      "[196,    20] loss: 0.000\n",
      "[197,    20] loss: 0.000\n",
      "[198,    20] loss: 0.000\n",
      "[199,    20] loss: 0.000\n",
      "[200,    20] loss: 0.000\n"
     ]
    }
   ],
   "source": [
    "\n",
    "\n",
    "EPOCH = 200\n",
    "running_loss = 0.0\n",
    "\n",
    "for epoch in range(EPOCH):\n",
    "    for step, (batch_x, batch_y) in enumerate(train_loader): # for each training step\n",
    "        \n",
    "        optimizer.zero_grad()   # clear gradients for next train\n",
    "\n",
    "        predictions = model(batch_x)           # input x and predict based on x\n",
    "        loss = loss_func(predictions, batch_y)  # calculate MSE based on x and y\n",
    "        loss.backward()                        # backpropagation, compute gradients\n",
    "        optimizer.step()                       # apply gradients to weights\n",
    "\n",
    "        # print statistics\n",
    "        running_loss += loss.item()\n",
    "        if step % 20 == 19:    # print every 2000 mini-batches\n",
    "            print('[%d, %5d] loss: %.3f' %\n",
    "                  (epoch + 1, step + 1, running_loss / 2000))\n",
    "            running_loss = 0.0"
   ]
  },
  {
   "cell_type": "markdown",
   "id": "1ba9731a",
   "metadata": {},
   "source": [
    "##### Testing"
   ]
  },
  {
   "cell_type": "code",
   "execution_count": null,
   "id": "4e073e3b",
   "metadata": {},
   "outputs": [],
   "source": []
  }
 ],
 "metadata": {
  "kernelspec": {
   "display_name": "Python 3 (ipykernel)",
   "language": "python",
   "name": "python3"
  },
  "language_info": {
   "codemirror_mode": {
    "name": "ipython",
    "version": 3
   },
   "file_extension": ".py",
   "mimetype": "text/x-python",
   "name": "python",
   "nbconvert_exporter": "python",
   "pygments_lexer": "ipython3",
   "version": "3.9.9"
  }
 },
 "nbformat": 4,
 "nbformat_minor": 5
}
