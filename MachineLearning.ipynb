{
 "cells": [
  {
   "cell_type": "markdown",
   "id": "4dd4e6c5",
   "metadata": {},
   "source": [
    "### This notebook contains the first questions of our Assignment about Data Visualization, Cross Validation, Linear Regression and Logistic Regression"
   ]
  },
  {
   "cell_type": "markdown",
   "id": "a6413669",
   "metadata": {},
   "source": [
    "##### Importing Libraries"
   ]
  },
  {
   "cell_type": "code",
   "execution_count": 1,
   "id": "01b3f777",
   "metadata": {},
   "outputs": [],
   "source": [
    "import pandas as pd\n",
    "import numpy as np\n",
    "import matplotlib.pyplot  as plt\n",
    "import seaborn as sns\n",
    "\n",
    "from sklearn.linear_model import LinearRegression, LogisticRegression\n",
    "from sklearn.model_selection import train_test_split\n",
    "from sklearn.preprocessing import MinMaxScaler\n",
    "from sklearn.preprocessing import StandardScaler\n",
    "from sklearn.pipeline import Pipeline\n",
    "from sklearn.metrics import roc_curve, roc_auc_score, classification_report, accuracy_score, confusion_matrix \n",
    "from sklearn.metrics import mean_squared_error, mean_absolute_error, classification_report\n",
    "from sklearn import metrics\n",
    "\n",
    "import statsmodels.api as sm\n",
    "from scipy import stats\n",
    "\n",
    "from sklearn.model_selection import cross_val_score\n",
    "from sklearn.model_selection import cross_val_predict\n",
    "from sklearn.model_selection import KFold"
   ]
  },
  {
   "cell_type": "markdown",
   "id": "03d7f801",
   "metadata": {},
   "source": [
    "##### Importing Dataset"
   ]
  },
  {
   "cell_type": "code",
   "execution_count": 2,
   "id": "d8610fc4",
   "metadata": {},
   "outputs": [
    {
     "name": "stdout",
     "output_type": "stream",
     "text": [
      "(1827, 7)\n"
     ]
    },
    {
     "data": {
      "text/html": [
       "<div>\n",
       "<style scoped>\n",
       "    .dataframe tbody tr th:only-of-type {\n",
       "        vertical-align: middle;\n",
       "    }\n",
       "\n",
       "    .dataframe tbody tr th {\n",
       "        vertical-align: top;\n",
       "    }\n",
       "\n",
       "    .dataframe thead th {\n",
       "        text-align: right;\n",
       "    }\n",
       "</style>\n",
       "<table border=\"1\" class=\"dataframe\">\n",
       "  <thead>\n",
       "    <tr style=\"text-align: right;\">\n",
       "      <th></th>\n",
       "      <th>Date</th>\n",
       "      <th>Open</th>\n",
       "      <th>High</th>\n",
       "      <th>Low</th>\n",
       "      <th>Close</th>\n",
       "      <th>Adj Close</th>\n",
       "      <th>Volume</th>\n",
       "    </tr>\n",
       "  </thead>\n",
       "  <tbody>\n",
       "    <tr>\n",
       "      <th>0</th>\n",
       "      <td>2016-12-21</td>\n",
       "      <td>800.643982</td>\n",
       "      <td>834.281006</td>\n",
       "      <td>799.405029</td>\n",
       "      <td>834.281006</td>\n",
       "      <td>834.281006</td>\n",
       "      <td>155576000</td>\n",
       "    </tr>\n",
       "    <tr>\n",
       "      <th>1</th>\n",
       "      <td>2016-12-22</td>\n",
       "      <td>834.179993</td>\n",
       "      <td>875.781982</td>\n",
       "      <td>834.148987</td>\n",
       "      <td>864.539978</td>\n",
       "      <td>864.539978</td>\n",
       "      <td>200027008</td>\n",
       "    </tr>\n",
       "    <tr>\n",
       "      <th>2</th>\n",
       "      <td>2016-12-23</td>\n",
       "      <td>864.888000</td>\n",
       "      <td>925.117004</td>\n",
       "      <td>864.677002</td>\n",
       "      <td>921.984009</td>\n",
       "      <td>921.984009</td>\n",
       "      <td>275564000</td>\n",
       "    </tr>\n",
       "    <tr>\n",
       "      <th>3</th>\n",
       "      <td>2016-12-24</td>\n",
       "      <td>922.179993</td>\n",
       "      <td>923.479004</td>\n",
       "      <td>886.335022</td>\n",
       "      <td>898.822021</td>\n",
       "      <td>898.822021</td>\n",
       "      <td>137727008</td>\n",
       "    </tr>\n",
       "    <tr>\n",
       "      <th>4</th>\n",
       "      <td>2016-12-25</td>\n",
       "      <td>899.651978</td>\n",
       "      <td>899.651978</td>\n",
       "      <td>862.424011</td>\n",
       "      <td>896.182983</td>\n",
       "      <td>896.182983</td>\n",
       "      <td>143664992</td>\n",
       "    </tr>\n",
       "  </tbody>\n",
       "</table>\n",
       "</div>"
      ],
      "text/plain": [
       "         Date        Open        High         Low       Close   Adj Close  \\\n",
       "0  2016-12-21  800.643982  834.281006  799.405029  834.281006  834.281006   \n",
       "1  2016-12-22  834.179993  875.781982  834.148987  864.539978  864.539978   \n",
       "2  2016-12-23  864.888000  925.117004  864.677002  921.984009  921.984009   \n",
       "3  2016-12-24  922.179993  923.479004  886.335022  898.822021  898.822021   \n",
       "4  2016-12-25  899.651978  899.651978  862.424011  896.182983  896.182983   \n",
       "\n",
       "      Volume  \n",
       "0  155576000  \n",
       "1  200027008  \n",
       "2  275564000  \n",
       "3  137727008  \n",
       "4  143664992  "
      ]
     },
     "execution_count": 2,
     "metadata": {},
     "output_type": "execute_result"
    }
   ],
   "source": [
    "dataset = pd.read_csv(\"Data/BTC-USD.csv\")\n",
    "print(dataset.shape)\n",
    "dataset.head()"
   ]
  },
  {
   "cell_type": "code",
   "execution_count": 3,
   "id": "625cf7f2",
   "metadata": {},
   "outputs": [
    {
     "data": {
      "text/html": [
       "<div>\n",
       "<style scoped>\n",
       "    .dataframe tbody tr th:only-of-type {\n",
       "        vertical-align: middle;\n",
       "    }\n",
       "\n",
       "    .dataframe tbody tr th {\n",
       "        vertical-align: top;\n",
       "    }\n",
       "\n",
       "    .dataframe thead th {\n",
       "        text-align: right;\n",
       "    }\n",
       "</style>\n",
       "<table border=\"1\" class=\"dataframe\">\n",
       "  <thead>\n",
       "    <tr style=\"text-align: right;\">\n",
       "      <th></th>\n",
       "      <th>Date</th>\n",
       "      <th>Open</th>\n",
       "      <th>High</th>\n",
       "      <th>Low</th>\n",
       "      <th>Close</th>\n",
       "      <th>Adj Close</th>\n",
       "      <th>Volume</th>\n",
       "    </tr>\n",
       "  </thead>\n",
       "  <tbody>\n",
       "    <tr>\n",
       "      <th>0</th>\n",
       "      <td>2016-12-21</td>\n",
       "      <td>800.643982</td>\n",
       "      <td>834.281006</td>\n",
       "      <td>799.405029</td>\n",
       "      <td>834.281006</td>\n",
       "      <td>834.281006</td>\n",
       "      <td>155576000</td>\n",
       "    </tr>\n",
       "    <tr>\n",
       "      <th>1</th>\n",
       "      <td>2016-12-22</td>\n",
       "      <td>834.179993</td>\n",
       "      <td>875.781982</td>\n",
       "      <td>834.148987</td>\n",
       "      <td>864.539978</td>\n",
       "      <td>864.539978</td>\n",
       "      <td>200027008</td>\n",
       "    </tr>\n",
       "    <tr>\n",
       "      <th>2</th>\n",
       "      <td>2016-12-23</td>\n",
       "      <td>864.888000</td>\n",
       "      <td>925.117004</td>\n",
       "      <td>864.677002</td>\n",
       "      <td>921.984009</td>\n",
       "      <td>921.984009</td>\n",
       "      <td>275564000</td>\n",
       "    </tr>\n",
       "    <tr>\n",
       "      <th>3</th>\n",
       "      <td>2016-12-24</td>\n",
       "      <td>922.179993</td>\n",
       "      <td>923.479004</td>\n",
       "      <td>886.335022</td>\n",
       "      <td>898.822021</td>\n",
       "      <td>898.822021</td>\n",
       "      <td>137727008</td>\n",
       "    </tr>\n",
       "    <tr>\n",
       "      <th>4</th>\n",
       "      <td>2016-12-25</td>\n",
       "      <td>899.651978</td>\n",
       "      <td>899.651978</td>\n",
       "      <td>862.424011</td>\n",
       "      <td>896.182983</td>\n",
       "      <td>896.182983</td>\n",
       "      <td>143664992</td>\n",
       "    </tr>\n",
       "  </tbody>\n",
       "</table>\n",
       "</div>"
      ],
      "text/plain": [
       "         Date        Open        High         Low       Close   Adj Close  \\\n",
       "0  2016-12-21  800.643982  834.281006  799.405029  834.281006  834.281006   \n",
       "1  2016-12-22  834.179993  875.781982  834.148987  864.539978  864.539978   \n",
       "2  2016-12-23  864.888000  925.117004  864.677002  921.984009  921.984009   \n",
       "3  2016-12-24  922.179993  923.479004  886.335022  898.822021  898.822021   \n",
       "4  2016-12-25  899.651978  899.651978  862.424011  896.182983  896.182983   \n",
       "\n",
       "      Volume  \n",
       "0  155576000  \n",
       "1  200027008  \n",
       "2  275564000  \n",
       "3  137727008  \n",
       "4  143664992  "
      ]
     },
     "execution_count": 3,
     "metadata": {},
     "output_type": "execute_result"
    }
   ],
   "source": [
    "dataset = dataset.sort_index()\n",
    "dataset.head()"
   ]
  },
  {
   "cell_type": "code",
   "execution_count": 4,
   "id": "1d041367",
   "metadata": {},
   "outputs": [
    {
     "data": {
      "text/plain": [
       "(1827, 7)"
      ]
     },
     "execution_count": 4,
     "metadata": {},
     "output_type": "execute_result"
    }
   ],
   "source": [
    "dataset.shape"
   ]
  },
  {
   "cell_type": "markdown",
   "id": "477e2944",
   "metadata": {},
   "source": [
    "We noticed that Close and Adj CLose columns are exactly the same."
   ]
  },
  {
   "cell_type": "code",
   "execution_count": 5,
   "id": "761afda6",
   "metadata": {},
   "outputs": [
    {
     "data": {
      "text/plain": [
       "0.0"
      ]
     },
     "execution_count": 5,
     "metadata": {},
     "output_type": "execute_result"
    }
   ],
   "source": [
    "(dataset['Close']-dataset['Adj Close']).sum()"
   ]
  },
  {
   "cell_type": "markdown",
   "id": "cfd431a2",
   "metadata": {},
   "source": [
    "Open The price of the coin at the beginning of the trading day. </br>\n",
    "\n",
    "High: The highest price of the coin on a trading day. </br>\n",
    "\n",
    "Low: The lowest price of the coin on a trading day. </br>\n",
    "\n",
    "Close: The last price of the coin before the trading day ends. </br>\n",
    "\n",
    "Volume is the amount of a token traded in a specific time interval. </br>"
   ]
  },
  {
   "cell_type": "markdown",
   "id": "91a8ea3a",
   "metadata": {},
   "source": [
    "We converted Data column in datetime type to use it more efficiently"
   ]
  },
  {
   "cell_type": "code",
   "execution_count": 6,
   "id": "d2ce3181",
   "metadata": {},
   "outputs": [
    {
     "data": {
      "text/plain": [
       "0      2016-12-21\n",
       "1      2016-12-22\n",
       "2      2016-12-23\n",
       "3      2016-12-24\n",
       "4      2016-12-25\n",
       "          ...    \n",
       "1822   2021-12-17\n",
       "1823   2021-12-18\n",
       "1824   2021-12-19\n",
       "1825   2021-12-20\n",
       "1826   2021-12-21\n",
       "Name: Date, Length: 1827, dtype: datetime64[ns]"
      ]
     },
     "execution_count": 6,
     "metadata": {},
     "output_type": "execute_result"
    }
   ],
   "source": [
    "dataset[\"Date\"]=pd.to_datetime(dataset['Date'])\n",
    "dataset['Date']"
   ]
  },
  {
   "cell_type": "code",
   "execution_count": 7,
   "id": "b161425f",
   "metadata": {},
   "outputs": [
    {
     "data": {
      "text/html": [
       "<div>\n",
       "<style scoped>\n",
       "    .dataframe tbody tr th:only-of-type {\n",
       "        vertical-align: middle;\n",
       "    }\n",
       "\n",
       "    .dataframe tbody tr th {\n",
       "        vertical-align: top;\n",
       "    }\n",
       "\n",
       "    .dataframe thead th {\n",
       "        text-align: right;\n",
       "    }\n",
       "</style>\n",
       "<table border=\"1\" class=\"dataframe\">\n",
       "  <thead>\n",
       "    <tr style=\"text-align: right;\">\n",
       "      <th></th>\n",
       "      <th>Date</th>\n",
       "      <th>Open</th>\n",
       "      <th>High</th>\n",
       "      <th>Low</th>\n",
       "      <th>Close</th>\n",
       "      <th>Adj Close</th>\n",
       "      <th>Volume</th>\n",
       "      <th>Year</th>\n",
       "    </tr>\n",
       "  </thead>\n",
       "  <tbody>\n",
       "    <tr>\n",
       "      <th>0</th>\n",
       "      <td>2016-12-21</td>\n",
       "      <td>800.643982</td>\n",
       "      <td>834.281006</td>\n",
       "      <td>799.405029</td>\n",
       "      <td>834.281006</td>\n",
       "      <td>834.281006</td>\n",
       "      <td>155576000</td>\n",
       "      <td>2016</td>\n",
       "    </tr>\n",
       "    <tr>\n",
       "      <th>1</th>\n",
       "      <td>2016-12-22</td>\n",
       "      <td>834.179993</td>\n",
       "      <td>875.781982</td>\n",
       "      <td>834.148987</td>\n",
       "      <td>864.539978</td>\n",
       "      <td>864.539978</td>\n",
       "      <td>200027008</td>\n",
       "      <td>2016</td>\n",
       "    </tr>\n",
       "    <tr>\n",
       "      <th>2</th>\n",
       "      <td>2016-12-23</td>\n",
       "      <td>864.888000</td>\n",
       "      <td>925.117004</td>\n",
       "      <td>864.677002</td>\n",
       "      <td>921.984009</td>\n",
       "      <td>921.984009</td>\n",
       "      <td>275564000</td>\n",
       "      <td>2016</td>\n",
       "    </tr>\n",
       "    <tr>\n",
       "      <th>3</th>\n",
       "      <td>2016-12-24</td>\n",
       "      <td>922.179993</td>\n",
       "      <td>923.479004</td>\n",
       "      <td>886.335022</td>\n",
       "      <td>898.822021</td>\n",
       "      <td>898.822021</td>\n",
       "      <td>137727008</td>\n",
       "      <td>2016</td>\n",
       "    </tr>\n",
       "    <tr>\n",
       "      <th>4</th>\n",
       "      <td>2016-12-25</td>\n",
       "      <td>899.651978</td>\n",
       "      <td>899.651978</td>\n",
       "      <td>862.424011</td>\n",
       "      <td>896.182983</td>\n",
       "      <td>896.182983</td>\n",
       "      <td>143664992</td>\n",
       "      <td>2016</td>\n",
       "    </tr>\n",
       "    <tr>\n",
       "      <th>...</th>\n",
       "      <td>...</td>\n",
       "      <td>...</td>\n",
       "      <td>...</td>\n",
       "      <td>...</td>\n",
       "      <td>...</td>\n",
       "      <td>...</td>\n",
       "      <td>...</td>\n",
       "      <td>...</td>\n",
       "    </tr>\n",
       "    <tr>\n",
       "      <th>1822</th>\n",
       "      <td>2021-12-17</td>\n",
       "      <td>47653.730469</td>\n",
       "      <td>48004.894531</td>\n",
       "      <td>45618.214844</td>\n",
       "      <td>46202.144531</td>\n",
       "      <td>46202.144531</td>\n",
       "      <td>32902725329</td>\n",
       "      <td>2021</td>\n",
       "    </tr>\n",
       "    <tr>\n",
       "      <th>1823</th>\n",
       "      <td>2021-12-18</td>\n",
       "      <td>46219.253906</td>\n",
       "      <td>47313.828125</td>\n",
       "      <td>45598.441406</td>\n",
       "      <td>46848.777344</td>\n",
       "      <td>46848.777344</td>\n",
       "      <td>26098292690</td>\n",
       "      <td>2021</td>\n",
       "    </tr>\n",
       "    <tr>\n",
       "      <th>1824</th>\n",
       "      <td>2021-12-19</td>\n",
       "      <td>46853.867188</td>\n",
       "      <td>48089.664063</td>\n",
       "      <td>46502.953125</td>\n",
       "      <td>46707.015625</td>\n",
       "      <td>46707.015625</td>\n",
       "      <td>25154053861</td>\n",
       "      <td>2021</td>\n",
       "    </tr>\n",
       "    <tr>\n",
       "      <th>1825</th>\n",
       "      <td>2021-12-20</td>\n",
       "      <td>46707.062500</td>\n",
       "      <td>47401.718750</td>\n",
       "      <td>45579.808594</td>\n",
       "      <td>46880.277344</td>\n",
       "      <td>46880.277344</td>\n",
       "      <td>30961902129</td>\n",
       "      <td>2021</td>\n",
       "    </tr>\n",
       "    <tr>\n",
       "      <th>1826</th>\n",
       "      <td>2021-12-21</td>\n",
       "      <td>46985.242188</td>\n",
       "      <td>48912.152344</td>\n",
       "      <td>46739.777344</td>\n",
       "      <td>48565.843750</td>\n",
       "      <td>48565.843750</td>\n",
       "      <td>30736644096</td>\n",
       "      <td>2021</td>\n",
       "    </tr>\n",
       "  </tbody>\n",
       "</table>\n",
       "<p>1827 rows × 8 columns</p>\n",
       "</div>"
      ],
      "text/plain": [
       "           Date          Open          High           Low         Close  \\\n",
       "0    2016-12-21    800.643982    834.281006    799.405029    834.281006   \n",
       "1    2016-12-22    834.179993    875.781982    834.148987    864.539978   \n",
       "2    2016-12-23    864.888000    925.117004    864.677002    921.984009   \n",
       "3    2016-12-24    922.179993    923.479004    886.335022    898.822021   \n",
       "4    2016-12-25    899.651978    899.651978    862.424011    896.182983   \n",
       "...         ...           ...           ...           ...           ...   \n",
       "1822 2021-12-17  47653.730469  48004.894531  45618.214844  46202.144531   \n",
       "1823 2021-12-18  46219.253906  47313.828125  45598.441406  46848.777344   \n",
       "1824 2021-12-19  46853.867188  48089.664063  46502.953125  46707.015625   \n",
       "1825 2021-12-20  46707.062500  47401.718750  45579.808594  46880.277344   \n",
       "1826 2021-12-21  46985.242188  48912.152344  46739.777344  48565.843750   \n",
       "\n",
       "         Adj Close       Volume  Year  \n",
       "0       834.281006    155576000  2016  \n",
       "1       864.539978    200027008  2016  \n",
       "2       921.984009    275564000  2016  \n",
       "3       898.822021    137727008  2016  \n",
       "4       896.182983    143664992  2016  \n",
       "...            ...          ...   ...  \n",
       "1822  46202.144531  32902725329  2021  \n",
       "1823  46848.777344  26098292690  2021  \n",
       "1824  46707.015625  25154053861  2021  \n",
       "1825  46880.277344  30961902129  2021  \n",
       "1826  48565.843750  30736644096  2021  \n",
       "\n",
       "[1827 rows x 8 columns]"
      ]
     },
     "execution_count": 7,
     "metadata": {},
     "output_type": "execute_result"
    }
   ],
   "source": [
    "dataset['Year'] = dataset['Date'].dt.year\n",
    "dataset"
   ]
  },
  {
   "cell_type": "code",
   "execution_count": 8,
   "id": "e7f588f9",
   "metadata": {},
   "outputs": [
    {
     "data": {
      "text/html": [
       "<div>\n",
       "<style scoped>\n",
       "    .dataframe tbody tr th:only-of-type {\n",
       "        vertical-align: middle;\n",
       "    }\n",
       "\n",
       "    .dataframe tbody tr th {\n",
       "        vertical-align: top;\n",
       "    }\n",
       "\n",
       "    .dataframe thead th {\n",
       "        text-align: right;\n",
       "    }\n",
       "</style>\n",
       "<table border=\"1\" class=\"dataframe\">\n",
       "  <thead>\n",
       "    <tr style=\"text-align: right;\">\n",
       "      <th></th>\n",
       "      <th>Open</th>\n",
       "      <th>High</th>\n",
       "      <th>Low</th>\n",
       "      <th>Close</th>\n",
       "      <th>Adj Close</th>\n",
       "      <th>Volume</th>\n",
       "      <th>Year</th>\n",
       "    </tr>\n",
       "  </thead>\n",
       "  <tbody>\n",
       "    <tr>\n",
       "      <th>count</th>\n",
       "      <td>1827.000000</td>\n",
       "      <td>1827.000000</td>\n",
       "      <td>1827.000000</td>\n",
       "      <td>1827.000000</td>\n",
       "      <td>1827.000000</td>\n",
       "      <td>1.827000e+03</td>\n",
       "      <td>1827.000000</td>\n",
       "    </tr>\n",
       "    <tr>\n",
       "      <th>mean</th>\n",
       "      <td>15208.247358</td>\n",
       "      <td>15629.267253</td>\n",
       "      <td>14746.920288</td>\n",
       "      <td>15231.832471</td>\n",
       "      <td>15231.832471</td>\n",
       "      <td>2.092230e+10</td>\n",
       "      <td>2018.971538</td>\n",
       "    </tr>\n",
       "    <tr>\n",
       "      <th>std</th>\n",
       "      <td>16829.476707</td>\n",
       "      <td>17296.796539</td>\n",
       "      <td>16289.465757</td>\n",
       "      <td>16838.811505</td>\n",
       "      <td>16838.811505</td>\n",
       "      <td>2.122934e+10</td>\n",
       "      <td>1.425115</td>\n",
       "    </tr>\n",
       "    <tr>\n",
       "      <th>min</th>\n",
       "      <td>775.177979</td>\n",
       "      <td>823.307007</td>\n",
       "      <td>755.755981</td>\n",
       "      <td>777.757019</td>\n",
       "      <td>777.757019</td>\n",
       "      <td>6.085170e+07</td>\n",
       "      <td>2016.000000</td>\n",
       "    </tr>\n",
       "    <tr>\n",
       "      <th>25%</th>\n",
       "      <td>5308.327637</td>\n",
       "      <td>5422.169434</td>\n",
       "      <td>5221.697753</td>\n",
       "      <td>5319.541504</td>\n",
       "      <td>5319.541504</td>\n",
       "      <td>4.474525e+09</td>\n",
       "      <td>2018.000000</td>\n",
       "    </tr>\n",
       "    <tr>\n",
       "      <th>50%</th>\n",
       "      <td>8585.262695</td>\n",
       "      <td>8744.828125</td>\n",
       "      <td>8313.340820</td>\n",
       "      <td>8595.740234</td>\n",
       "      <td>8595.740234</td>\n",
       "      <td>1.607165e+10</td>\n",
       "      <td>2019.000000</td>\n",
       "    </tr>\n",
       "    <tr>\n",
       "      <th>75%</th>\n",
       "      <td>13500.216309</td>\n",
       "      <td>13852.566406</td>\n",
       "      <td>12921.156250</td>\n",
       "      <td>13548.505860</td>\n",
       "      <td>13548.505860</td>\n",
       "      <td>3.260844e+10</td>\n",
       "      <td>2020.000000</td>\n",
       "    </tr>\n",
       "    <tr>\n",
       "      <th>max</th>\n",
       "      <td>67549.734375</td>\n",
       "      <td>68789.625000</td>\n",
       "      <td>66382.062500</td>\n",
       "      <td>67566.828125</td>\n",
       "      <td>67566.828125</td>\n",
       "      <td>3.509679e+11</td>\n",
       "      <td>2021.000000</td>\n",
       "    </tr>\n",
       "  </tbody>\n",
       "</table>\n",
       "</div>"
      ],
      "text/plain": [
       "               Open          High           Low         Close     Adj Close  \\\n",
       "count   1827.000000   1827.000000   1827.000000   1827.000000   1827.000000   \n",
       "mean   15208.247358  15629.267253  14746.920288  15231.832471  15231.832471   \n",
       "std    16829.476707  17296.796539  16289.465757  16838.811505  16838.811505   \n",
       "min      775.177979    823.307007    755.755981    777.757019    777.757019   \n",
       "25%     5308.327637   5422.169434   5221.697753   5319.541504   5319.541504   \n",
       "50%     8585.262695   8744.828125   8313.340820   8595.740234   8595.740234   \n",
       "75%    13500.216309  13852.566406  12921.156250  13548.505860  13548.505860   \n",
       "max    67549.734375  68789.625000  66382.062500  67566.828125  67566.828125   \n",
       "\n",
       "             Volume         Year  \n",
       "count  1.827000e+03  1827.000000  \n",
       "mean   2.092230e+10  2018.971538  \n",
       "std    2.122934e+10     1.425115  \n",
       "min    6.085170e+07  2016.000000  \n",
       "25%    4.474525e+09  2018.000000  \n",
       "50%    1.607165e+10  2019.000000  \n",
       "75%    3.260844e+10  2020.000000  \n",
       "max    3.509679e+11  2021.000000  "
      ]
     },
     "execution_count": 8,
     "metadata": {},
     "output_type": "execute_result"
    }
   ],
   "source": [
    "dataset.describe()"
   ]
  },
  {
   "cell_type": "markdown",
   "id": "ac5b9ad0",
   "metadata": {},
   "source": [
    "#### Preprocessing"
   ]
  },
  {
   "cell_type": "code",
   "execution_count": 9,
   "id": "7477ec51",
   "metadata": {},
   "outputs": [
    {
     "data": {
      "text/plain": [
       "(1827,)"
      ]
     },
     "execution_count": 9,
     "metadata": {},
     "output_type": "execute_result"
    }
   ],
   "source": [
    "dataset[\"Close\"].shape"
   ]
  },
  {
   "cell_type": "code",
   "execution_count": 10,
   "id": "ab9fc0b9",
   "metadata": {},
   "outputs": [],
   "source": [
    "dataset['pos_neg']= dataset['Open']-dataset['Close']\n",
    "dataset.head()\n",
    "#if Open > Close then 0,else 1\n",
    "dataset['Up/Down'] = np.where(dataset['pos_neg']>0, '0', '1')"
   ]
  },
  {
   "cell_type": "code",
   "execution_count": 11,
   "id": "985a9206",
   "metadata": {},
   "outputs": [
    {
     "data": {
      "text/plain": [
       "array(['1', '0'], dtype=object)"
      ]
     },
     "execution_count": 11,
     "metadata": {},
     "output_type": "execute_result"
    }
   ],
   "source": [
    "dataset['Up/Down'].unique()"
   ]
  },
  {
   "cell_type": "markdown",
   "id": "c8437ce2",
   "metadata": {},
   "source": [
    "That column contains only 0 and 1."
   ]
  },
  {
   "cell_type": "markdown",
   "id": "2103b784",
   "metadata": {},
   "source": [
    "We have to check for NaN values in our dataset"
   ]
  },
  {
   "cell_type": "code",
   "execution_count": 12,
   "id": "f73e777a",
   "metadata": {},
   "outputs": [
    {
     "data": {
      "text/plain": [
       "Date         0\n",
       "Open         0\n",
       "High         0\n",
       "Low          0\n",
       "Close        0\n",
       "Adj Close    0\n",
       "Volume       0\n",
       "Year         0\n",
       "pos_neg      0\n",
       "Up/Down      0\n",
       "dtype: int64"
      ]
     },
     "execution_count": 12,
     "metadata": {},
     "output_type": "execute_result"
    }
   ],
   "source": [
    "dataset.isna().sum()"
   ]
  },
  {
   "cell_type": "markdown",
   "id": "e4b54498",
   "metadata": {},
   "source": [
    "In order to use MinMaxScaler, we have to check for zero values in our dataset because MinMaxScaler scales all the data features in the range [0, 1] or else in the range [-1, 1] if there are negative values in the dataset"
   ]
  },
  {
   "cell_type": "code",
   "execution_count": 13,
   "id": "e8a13e2f",
   "metadata": {},
   "outputs": [
    {
     "data": {
      "text/plain": [
       "0"
      ]
     },
     "execution_count": 13,
     "metadata": {},
     "output_type": "execute_result"
    }
   ],
   "source": [
    "(dataset['Open']< 0).sum()"
   ]
  },
  {
   "cell_type": "code",
   "execution_count": 14,
   "id": "3bc9f959",
   "metadata": {},
   "outputs": [
    {
     "data": {
      "text/plain": [
       "0"
      ]
     },
     "execution_count": 14,
     "metadata": {},
     "output_type": "execute_result"
    }
   ],
   "source": [
    "(dataset['Close']< 0).sum()"
   ]
  },
  {
   "cell_type": "code",
   "execution_count": 15,
   "id": "973e1089",
   "metadata": {},
   "outputs": [
    {
     "data": {
      "text/plain": [
       "0"
      ]
     },
     "execution_count": 15,
     "metadata": {},
     "output_type": "execute_result"
    }
   ],
   "source": [
    "(dataset['High']< 0).sum()"
   ]
  },
  {
   "cell_type": "code",
   "execution_count": 16,
   "id": "a8464777",
   "metadata": {},
   "outputs": [
    {
     "data": {
      "text/plain": [
       "0"
      ]
     },
     "execution_count": 16,
     "metadata": {},
     "output_type": "execute_result"
    }
   ],
   "source": [
    "(dataset['Low']< 0).sum()"
   ]
  },
  {
   "cell_type": "code",
   "execution_count": 17,
   "id": "d3da2c7e",
   "metadata": {},
   "outputs": [
    {
     "data": {
      "text/plain": [
       "0"
      ]
     },
     "execution_count": 17,
     "metadata": {},
     "output_type": "execute_result"
    }
   ],
   "source": [
    "(dataset['Volume']< 0).sum()"
   ]
  },
  {
   "cell_type": "markdown",
   "id": "2c2bb1fd",
   "metadata": {},
   "source": [
    "#### Visualization"
   ]
  },
  {
   "cell_type": "markdown",
   "id": "8e600e36",
   "metadata": {},
   "source": [
    "We used the next formula to check the relationship between the variables and we ended to the conclusion that there is a strong relationship between them."
   ]
  },
  {
   "cell_type": "code",
   "execution_count": 18,
   "id": "0a12a486",
   "metadata": {},
   "outputs": [
    {
     "name": "stdout",
     "output_type": "stream",
     "text": [
      "                            OLS Regression Results                            \n",
      "==============================================================================\n",
      "Dep. Variable:                  Close   R-squared:                       0.999\n",
      "Model:                            OLS   Adj. R-squared:                  0.999\n",
      "Method:                 Least Squares   F-statistic:                 1.198e+06\n",
      "Date:                Sat, 08 Jan 2022   Prob (F-statistic):               0.00\n",
      "Time:                        18:29:00   Log-Likelihood:                -13441.\n",
      "No. Observations:                1827   AIC:                         2.689e+04\n",
      "Df Residuals:                    1823   BIC:                         2.691e+04\n",
      "Df Model:                           3                                         \n",
      "Covariance Type:            nonrobust                                         \n",
      "==============================================================================\n",
      "                 coef    std err          t      P>|t|      [0.025      0.975]\n",
      "------------------------------------------------------------------------------\n",
      "Intercept      3.6687     11.979      0.306      0.759     -19.825      27.162\n",
      "High           0.9131      0.016     57.784      0.000       0.882       0.944\n",
      "Low            0.6104      0.012     50.970      0.000       0.587       0.634\n",
      "Open          -0.5290      0.017    -31.882      0.000      -0.562      -0.496\n",
      "==============================================================================\n",
      "Omnibus:                      727.677   Durbin-Watson:                   2.079\n",
      "Prob(Omnibus):                  0.000   Jarque-Bera (JB):            20063.898\n",
      "Skew:                          -1.270   Prob(JB):                         0.00\n",
      "Kurtosis:                      19.035   Cond. No.                     5.29e+04\n",
      "==============================================================================\n",
      "\n",
      "Notes:\n",
      "[1] Standard Errors assume that the covariance matrix of the errors is correctly specified.\n",
      "[2] The condition number is large, 5.29e+04. This might indicate that there are\n",
      "strong multicollinearity or other numerical problems.\n"
     ]
    }
   ],
   "source": [
    "model = sm.formula.ols(formula= \"Close ~ High + Low + Open\", data= dataset)\n",
    "multi_reg = model.fit()\n",
    "print(multi_reg.summary())"
   ]
  },
  {
   "cell_type": "markdown",
   "id": "9d395686",
   "metadata": {},
   "source": [
    "##### Diagrams"
   ]
  },
  {
   "cell_type": "code",
   "execution_count": 19,
   "id": "e41f8203",
   "metadata": {},
   "outputs": [
    {
     "data": {
      "text/plain": [
       "Text(0, 0.5, 'Daily Bitcoin price')"
      ]
     },
     "execution_count": 19,
     "metadata": {},
     "output_type": "execute_result"
    },
    {
     "data": {
      "image/png": "[encoded data removed]",
      "text/plain": [
       "<Figure size 432x288 with 1 Axes>"
      ]
     },
     "metadata": {
      "needs_background": "light"
     },
     "output_type": "display_data"
    }
   ],
   "source": [
    "dataset['Close'].plot()\n",
    "plt.ylabel(\"Daily Bitcoin price\")"
   ]
  },
  {
   "cell_type": "code",
   "execution_count": 20,
   "id": "68acb665",
   "metadata": {},
   "outputs": [
    {
     "data": {
      "text/plain": [
       "<AxesSubplot:xlabel='Year'>"
      ]
     },
     "execution_count": 20,
     "metadata": {},
     "output_type": "execute_result"
    },
    {
     "data": {
      "image/png": "[encoded data removed]",
      "text/plain": [
       "<Figure size 432x288 with 1 Axes>"
      ]
     },
     "metadata": {
      "needs_background": "light"
     },
     "output_type": "display_data"
    }
   ],
   "source": [
    "by_year = dataset['Close'].groupby(dataset['Year']).mean()\n",
    "by_year.plot()"
   ]
  },
  {
   "cell_type": "code",
   "execution_count": 21,
   "id": "4c458535",
   "metadata": {},
   "outputs": [
    {
     "data": {
      "text/plain": [
       "Text(0.5, 1.0, 'Volume trend')"
      ]
     },
     "execution_count": 21,
     "metadata": {},
     "output_type": "execute_result"
    },
    {
     "data": {
      "image/png": "[encoded data removed]",
      "text/plain": [
       "<Figure size 432x288 with 1 Axes>"
      ]
     },
     "metadata": {
      "needs_background": "light"
     },
     "output_type": "display_data"
    }
   ],
   "source": [
    "plt.plot('Date', 'Volume', data=dataset)\n",
    "plt.xlabel('Date')\n",
    "plt.ylabel('Volume')\n",
    "plt.title('Volume trend')"
   ]
  },
  {
   "cell_type": "code",
   "execution_count": 22,
   "id": "5e33a7b0",
   "metadata": {},
   "outputs": [
    {
     "data": {
      "image/png": "[encoded data removed]",
      "text/plain": [
       "<Figure size 432x288 with 1 Axes>"
      ]
     },
     "metadata": {
      "needs_background": "light"
     },
     "output_type": "display_data"
    }
   ],
   "source": [
    "ax1 = dataset.plot.scatter(x='Date', y='Close', c='DarkBlue')"
   ]
  },
  {
   "cell_type": "code",
   "execution_count": 23,
   "id": "bc350ce5",
   "metadata": {},
   "outputs": [
    {
     "data": {
      "image/png": "[encoded data removed]",
      "text/plain": [
       "<Figure size 432x288 with 1 Axes>"
      ]
     },
     "metadata": {
      "needs_background": "light"
     },
     "output_type": "display_data"
    }
   ],
   "source": [
    "ax1 = dataset.plot.scatter(x='Date',\n",
    "                      y='Volume',\n",
    "                      c='DarkBlue')"
   ]
  },
  {
   "cell_type": "markdown",
   "id": "17de2922",
   "metadata": {},
   "source": [
    "#### Dataset scaling\n",
    "We scaled our dataset using MinMaxScaler"
   ]
  },
  {
   "cell_type": "code",
   "execution_count": 24,
   "id": "44b86921-5664-4b2a-966d-830e20ad2e51",
   "metadata": {
    "tags": []
   },
   "outputs": [
    {
     "name": "stderr",
     "output_type": "stream",
     "text": [
      "C:\\Users\\Μαρίνα Σαμ\\AppData\\Local\\Programs\\Python\\Python39\\lib\\site-packages\\pandas\\core\\frame.py:3678: SettingWithCopyWarning: \n",
      "A value is trying to be set on a copy of a slice from a DataFrame.\n",
      "Try using .loc[row_indexer,col_indexer] = value instead\n",
      "\n",
      "See the caveats in the documentation: https://pandas.pydata.org/pandas-docs/stable/user_guide/indexing.html#returning-a-view-versus-a-copy\n",
      "  self[col] = igetitem(value, i)\n"
     ]
    },
    {
     "data": {
      "text/html": [
       "<div>\n",
       "<style scoped>\n",
       "    .dataframe tbody tr th:only-of-type {\n",
       "        vertical-align: middle;\n",
       "    }\n",
       "\n",
       "    .dataframe tbody tr th {\n",
       "        vertical-align: top;\n",
       "    }\n",
       "\n",
       "    .dataframe thead th {\n",
       "        text-align: right;\n",
       "    }\n",
       "</style>\n",
       "<table border=\"1\" class=\"dataframe\">\n",
       "  <thead>\n",
       "    <tr style=\"text-align: right;\">\n",
       "      <th></th>\n",
       "      <th>Open</th>\n",
       "      <th>High</th>\n",
       "      <th>Low</th>\n",
       "      <th>Close</th>\n",
       "      <th>Volume</th>\n",
       "    </tr>\n",
       "  </thead>\n",
       "  <tbody>\n",
       "    <tr>\n",
       "      <th>0</th>\n",
       "      <td>0.000381</td>\n",
       "      <td>0.000161</td>\n",
       "      <td>0.000665</td>\n",
       "      <td>0.000846</td>\n",
       "      <td>0.000270</td>\n",
       "    </tr>\n",
       "    <tr>\n",
       "      <th>1</th>\n",
       "      <td>0.000884</td>\n",
       "      <td>0.000772</td>\n",
       "      <td>0.001195</td>\n",
       "      <td>0.001299</td>\n",
       "      <td>0.000397</td>\n",
       "    </tr>\n",
       "    <tr>\n",
       "      <th>2</th>\n",
       "      <td>0.001343</td>\n",
       "      <td>0.001498</td>\n",
       "      <td>0.001660</td>\n",
       "      <td>0.002159</td>\n",
       "      <td>0.000612</td>\n",
       "    </tr>\n",
       "    <tr>\n",
       "      <th>3</th>\n",
       "      <td>0.002201</td>\n",
       "      <td>0.001474</td>\n",
       "      <td>0.001990</td>\n",
       "      <td>0.001813</td>\n",
       "      <td>0.000219</td>\n",
       "    </tr>\n",
       "    <tr>\n",
       "      <th>4</th>\n",
       "      <td>0.001864</td>\n",
       "      <td>0.001123</td>\n",
       "      <td>0.001625</td>\n",
       "      <td>0.001773</td>\n",
       "      <td>0.000236</td>\n",
       "    </tr>\n",
       "    <tr>\n",
       "      <th>...</th>\n",
       "      <td>...</td>\n",
       "      <td>...</td>\n",
       "      <td>...</td>\n",
       "      <td>...</td>\n",
       "      <td>...</td>\n",
       "    </tr>\n",
       "    <tr>\n",
       "      <th>1822</th>\n",
       "      <td>0.702042</td>\n",
       "      <td>0.694191</td>\n",
       "      <td>0.683605</td>\n",
       "      <td>0.680117</td>\n",
       "      <td>0.093591</td>\n",
       "    </tr>\n",
       "    <tr>\n",
       "      <th>1823</th>\n",
       "      <td>0.680560</td>\n",
       "      <td>0.684023</td>\n",
       "      <td>0.683304</td>\n",
       "      <td>0.689799</td>\n",
       "      <td>0.074200</td>\n",
       "    </tr>\n",
       "    <tr>\n",
       "      <th>1824</th>\n",
       "      <td>0.690064</td>\n",
       "      <td>0.695438</td>\n",
       "      <td>0.697086</td>\n",
       "      <td>0.687676</td>\n",
       "      <td>0.071510</td>\n",
       "    </tr>\n",
       "    <tr>\n",
       "      <th>1825</th>\n",
       "      <td>0.687865</td>\n",
       "      <td>0.685316</td>\n",
       "      <td>0.683020</td>\n",
       "      <td>0.690270</td>\n",
       "      <td>0.088060</td>\n",
       "    </tr>\n",
       "    <tr>\n",
       "      <th>1826</th>\n",
       "      <td>0.692031</td>\n",
       "      <td>0.707539</td>\n",
       "      <td>0.700695</td>\n",
       "      <td>0.715508</td>\n",
       "      <td>0.087419</td>\n",
       "    </tr>\n",
       "  </tbody>\n",
       "</table>\n",
       "<p>1827 rows × 5 columns</p>\n",
       "</div>"
      ],
      "text/plain": [
       "          Open      High       Low     Close    Volume\n",
       "0     0.000381  0.000161  0.000665  0.000846  0.000270\n",
       "1     0.000884  0.000772  0.001195  0.001299  0.000397\n",
       "2     0.001343  0.001498  0.001660  0.002159  0.000612\n",
       "3     0.002201  0.001474  0.001990  0.001813  0.000219\n",
       "4     0.001864  0.001123  0.001625  0.001773  0.000236\n",
       "...        ...       ...       ...       ...       ...\n",
       "1822  0.702042  0.694191  0.683605  0.680117  0.093591\n",
       "1823  0.680560  0.684023  0.683304  0.689799  0.074200\n",
       "1824  0.690064  0.695438  0.697086  0.687676  0.071510\n",
       "1825  0.687865  0.685316  0.683020  0.690270  0.088060\n",
       "1826  0.692031  0.707539  0.700695  0.715508  0.087419\n",
       "\n",
       "[1827 rows x 5 columns]"
      ]
     },
     "execution_count": 24,
     "metadata": {},
     "output_type": "execute_result"
    }
   ],
   "source": [
    "scaled_data = dataset[['Open', 'High', 'Low', 'Close', 'Volume']]\n",
    "scaler = MinMaxScaler(copy=False)\n",
    "scaled_data[['Open', 'High', 'Low', 'Close', 'Volume']] = scaler.fit_transform(scaled_data[['Open', 'High', 'Low', 'Close', 'Volume']])\n",
    "scaled_data"
   ]
  },
  {
   "cell_type": "code",
   "execution_count": 25,
   "id": "05b66448",
   "metadata": {},
   "outputs": [
    {
     "name": "stderr",
     "output_type": "stream",
     "text": [
      "C:\\Users\\DD7D~1\\AppData\\Local\\Temp/ipykernel_29012/2909746662.py:1: SettingWithCopyWarning: \n",
      "A value is trying to be set on a copy of a slice from a DataFrame.\n",
      "Try using .loc[row_indexer,col_indexer] = value instead\n",
      "\n",
      "See the caveats in the documentation: https://pandas.pydata.org/pandas-docs/stable/user_guide/indexing.html#returning-a-view-versus-a-copy\n",
      "  scaled_data[\"Up/Down\"] = dataset[\"Up/Down\"].copy()\n"
     ]
    }
   ],
   "source": [
    "scaled_data[\"Up/Down\"] = dataset[\"Up/Down\"].copy()"
   ]
  },
  {
   "cell_type": "code",
   "execution_count": 26,
   "id": "4fc3ce86",
   "metadata": {},
   "outputs": [
    {
     "data": {
      "image/png": "[encoded data removed]",
      "text/plain": [
       "<Figure size 432x288 with 2 Axes>"
      ]
     },
     "metadata": {
      "needs_background": "light"
     },
     "output_type": "display_data"
    }
   ],
   "source": [
    "fig, axes = plt.subplots(1,2)\n",
    "axes[0].scatter(dataset.Close, dataset.Close)\n",
    "axes[0].set_title(\"Original data\")\n",
    "axes[1].scatter(scaled_data.Close, scaled_data.Close)\n",
    "axes[1].set_title(\"MinMax scaled data\")\n",
    "plt.show()"
   ]
  },
  {
   "cell_type": "markdown",
   "id": "6bdafbb0",
   "metadata": {},
   "source": [
    "Now we are ready to create our models!"
   ]
  },
  {
   "cell_type": "markdown",
   "id": "6a44a7a9",
   "metadata": {},
   "source": [
    "## Linear Regression "
   ]
  },
  {
   "cell_type": "markdown",
   "id": "aef488ef",
   "metadata": {},
   "source": [
    "###### Creating X and y variables"
   ]
  },
  {
   "cell_type": "code",
   "execution_count": 27,
   "id": "aeef0d69",
   "metadata": {},
   "outputs": [],
   "source": [
    "X = scaled_data[['Open', 'High', 'Low', 'Volume']]\n",
    "y = scaled_data['Close']"
   ]
  },
  {
   "cell_type": "markdown",
   "id": "be35e96b",
   "metadata": {},
   "source": [
    "##### Splitting the Data"
   ]
  },
  {
   "cell_type": "code",
   "execution_count": 28,
   "id": "9d81797a",
   "metadata": {},
   "outputs": [
    {
     "name": "stdout",
     "output_type": "stream",
     "text": [
      "(1278, 4)\n",
      "(1278,)\n",
      "(549, 4)\n",
      "(549,)\n"
     ]
    }
   ],
   "source": [
    "X_train, X_test, y_train, y_test = train_test_split(X, y, test_size=0.3, random_state=42, shuffle=False)\n",
    "print(X_train.shape)\n",
    "print(y_train.shape)\n",
    "print(X_test.shape)\n",
    "print(y_test.shape)"
   ]
  },
  {
   "cell_type": "markdown",
   "id": "1e82afec",
   "metadata": {},
   "source": [
    "##### Cross Validation Score and Predict Score"
   ]
  },
  {
   "cell_type": "code",
   "execution_count": 29,
   "id": "c1a0cbc3",
   "metadata": {},
   "outputs": [
    {
     "data": {
      "text/plain": [
       "array([0.99935064, 0.99958251, 0.99944464, 0.9995516 , 0.99946571])"
      ]
     },
     "execution_count": 29,
     "metadata": {},
     "output_type": "execute_result"
    }
   ],
   "source": [
    "cv = KFold(n_splits=5, random_state=1, shuffle=True)\n",
    "linReg = LinearRegression()\n",
    "scores = cross_val_score(linReg, X, y, scoring='r2', cv=cv, n_jobs=1)\n",
    "scores"
   ]
  },
  {
   "cell_type": "code",
   "execution_count": 30,
   "id": "253beb2e",
   "metadata": {},
   "outputs": [
    {
     "data": {
      "text/plain": [
       "array([0.95772199, 0.97009387, 0.99448602, 0.83516577, 0.99579914,\n",
       "       0.98693561, 0.99374616, 0.98506312, 0.95143225, 0.98819799,\n",
       "       0.98931556, 0.981374  , 0.96375516, 0.99472029, 0.93720653,\n",
       "       0.97769643, 0.99100604, 0.98954583, 0.92638594, 0.98751599,\n",
       "       0.96805509, 0.97104131, 0.98278395, 0.93450817, 0.9239199 ,\n",
       "       0.9903205 , 0.97091738, 0.99741826, 0.99115817, 0.98716627,\n",
       "       0.95650016, 0.98858075, 0.93492802, 0.968624  , 0.99184334,\n",
       "       0.98126483])"
      ]
     },
     "execution_count": 30,
     "metadata": {},
     "output_type": "execute_result"
    }
   ],
   "source": [
    "predicted = cross_val_predict(linReg,X,y,cv=6)\n",
    "scores = cross_val_score(linReg,X,y,scoring='r2', cv=36, n_jobs=1)\n",
    "scores"
   ]
  },
  {
   "cell_type": "markdown",
   "id": "5800c493",
   "metadata": {},
   "source": [
    "##### Plots"
   ]
  },
  {
   "cell_type": "code",
   "execution_count": 31,
   "id": "4eefbe71",
   "metadata": {},
   "outputs": [
    {
     "data": {
      "image/png": "[encoded data removed]",
      "text/plain": [
       "<Figure size 432x288 with 1 Axes>"
      ]
     },
     "metadata": {
      "needs_background": "light"
     },
     "output_type": "display_data"
    }
   ],
   "source": [
    "fig,ax = plt.subplots()\n",
    "ax.scatter(y, predicted, edgecolors=(1, 1, 1))\n",
    "ax.plot([y.min(), y.max()], [y.min(), y.max()], color='red')\n",
    "ax.set_xlabel('Expected ')\n",
    "ax.set_ylabel('Predicted ')\n",
    "plt.show()"
   ]
  },
  {
   "cell_type": "code",
   "execution_count": 32,
   "id": "4d51ab97",
   "metadata": {},
   "outputs": [
    {
     "data": {
      "image/png": "[encoded data removed]",
      "text/plain": [
       "<Figure size 432x288 with 1 Axes>"
      ]
     },
     "metadata": {
      "needs_background": "light"
     },
     "output_type": "display_data"
    }
   ],
   "source": [
    "fig,ax = plt.subplots()\n",
    "plt.plot(scores)\n",
    "ax.set_xlabel('Folds')\n",
    "ax.set_ylabel('R2 score')\n",
    "plt.show()"
   ]
  },
  {
   "cell_type": "markdown",
   "id": "205f619e",
   "metadata": {},
   "source": [
    "##### Training the Model using KFold split"
   ]
  },
  {
   "cell_type": "code",
   "execution_count": 33,
   "id": "8a6b4cd1",
   "metadata": {},
   "outputs": [
    {
     "name": "stdout",
     "output_type": "stream",
     "text": [
      "1/10 Folds 10\n",
      "--------------------------\n",
      "R2 Score:  0.9990959988452436\n",
      "MSE:  6.102927678310387e-05\n",
      "\n",
      "\n",
      "2/10 Folds 10\n",
      "--------------------------\n",
      "R2 Score:  0.9995841399166515\n",
      "MSE:  2.8893877389104955e-05\n",
      "\n",
      "\n",
      "3/10 Folds 10\n",
      "--------------------------\n",
      "R2 Score:  0.9995703270343643\n",
      "MSE:  3.100189878657963e-05\n",
      "\n",
      "\n",
      "4/10 Folds 10\n",
      "--------------------------\n",
      "R2 Score:  0.9996637948149103\n",
      "MSE:  2.4029055215709094e-05\n",
      "\n",
      "\n",
      "5/10 Folds 10\n",
      "--------------------------\n",
      "R2 Score:  0.9993583076197858\n",
      "MSE:  4.023453152945058e-05\n",
      "\n",
      "\n",
      "6/10 Folds 10\n",
      "--------------------------\n",
      "R2 Score:  0.9994334667749954\n",
      "MSE:  3.695604270238319e-05\n",
      "\n",
      "\n",
      "7/10 Folds 10\n",
      "--------------------------\n",
      "R2 Score:  0.9995841247703147\n",
      "MSE:  2.6560304692938062e-05\n",
      "\n",
      "\n",
      "8/10 Folds 10\n",
      "--------------------------\n",
      "R2 Score:  0.9996503080395723\n",
      "MSE:  1.9362743618005607e-05\n",
      "\n",
      "\n",
      "9/10 Folds 10\n",
      "--------------------------\n",
      "R2 Score:  0.9993679860154506\n",
      "MSE:  3.7047908280452355e-05\n",
      "\n",
      "\n",
      "10/10 Folds 10\n",
      "--------------------------\n",
      "R2 Score:  0.9992946959003016\n",
      "MSE:  3.166395248169389e-05\n",
      "\n",
      "\n"
     ]
    }
   ],
   "source": [
    "kf = KFold(n_splits=10, shuffle=True)\n",
    "scores = []\n",
    "errors = []\n",
    "i=1\n",
    "\n",
    "for training,testing in kf.split(X,y):\n",
    "    X_train,X_test = X.loc[training], X.loc[testing]\n",
    "    y_train,y_test = y.loc[training], y.loc[testing]\n",
    "    print ('{}/10 Folds {}'.format(i, kf.n_splits))\n",
    "    print('--------------------------')\n",
    "    \n",
    "    linReg = LinearRegression()\n",
    "    linReg.fit(X_train,y_train)\n",
    "    score = metrics.r2_score(y_test,linReg.predict(X_test))\n",
    "    error = metrics.mean_squared_error(y_test, linReg.predict(X_test))\n",
    "    print('R2 Score: ', score)\n",
    "    print('MSE: ', error)\n",
    "    scores.append(score)\n",
    "    errors.append(error)\n",
    "    print('\\n')\n",
    "    i += 1"
   ]
  },
  {
   "cell_type": "code",
   "execution_count": 34,
   "id": "38e5d9a7",
   "metadata": {},
   "outputs": [
    {
     "data": {
      "image/png": "[encoded data removed]",
      "text/plain": [
       "<Figure size 432x288 with 1 Axes>"
      ]
     },
     "metadata": {
      "needs_background": "light"
     },
     "output_type": "display_data"
    }
   ],
   "source": [
    "fig, ax = plt.subplots()\n",
    "plt.plot(errors)\n",
    "ax.set_xlabel('Folds')\n",
    "ax.set_ylabel('Errors')\n",
    "plt.show()"
   ]
  },
  {
   "cell_type": "code",
   "execution_count": 35,
   "id": "1814380f",
   "metadata": {},
   "outputs": [
    {
     "name": "stdout",
     "output_type": "stream",
     "text": [
      "Coefficients: \n",
      " [-5.20977437e-01  9.14917430e-01  6.06215271e-01  6.60524364e-04]\n",
      "Intercept: \n",
      " 0.0004290361669836984\n"
     ]
    }
   ],
   "source": [
    "print(\"Coefficients: \\n\", linReg.coef_)\n",
    "print(\"Intercept: \\n\", linReg.intercept_)"
   ]
  },
  {
   "cell_type": "markdown",
   "id": "0293f3bb",
   "metadata": {},
   "source": [
    "##### Testing the Model"
   ]
  },
  {
   "cell_type": "code",
   "execution_count": 36,
   "id": "4179625c-5777-4547-9b97-f9fb8d7b9c8a",
   "metadata": {},
   "outputs": [
    {
     "data": {
      "text/html": [
       "<div>\n",
       "<style scoped>\n",
       "    .dataframe tbody tr th:only-of-type {\n",
       "        vertical-align: middle;\n",
       "    }\n",
       "\n",
       "    .dataframe tbody tr th {\n",
       "        vertical-align: top;\n",
       "    }\n",
       "\n",
       "    .dataframe thead th {\n",
       "        text-align: right;\n",
       "    }\n",
       "</style>\n",
       "<table border=\"1\" class=\"dataframe\">\n",
       "  <thead>\n",
       "    <tr style=\"text-align: right;\">\n",
       "      <th></th>\n",
       "      <th>Actual_Price</th>\n",
       "      <th>Predicted_Price</th>\n",
       "    </tr>\n",
       "  </thead>\n",
       "  <tbody>\n",
       "    <tr>\n",
       "      <th>5</th>\n",
       "      <td>0.001944</td>\n",
       "      <td>0.001993</td>\n",
       "    </tr>\n",
       "    <tr>\n",
       "      <th>6</th>\n",
       "      <td>0.002327</td>\n",
       "      <td>0.002333</td>\n",
       "    </tr>\n",
       "    <tr>\n",
       "      <th>15</th>\n",
       "      <td>0.003528</td>\n",
       "      <td>0.003833</td>\n",
       "    </tr>\n",
       "    <tr>\n",
       "      <th>36</th>\n",
       "      <td>0.002094</td>\n",
       "      <td>0.002082</td>\n",
       "    </tr>\n",
       "    <tr>\n",
       "      <th>48</th>\n",
       "      <td>0.004246</td>\n",
       "      <td>0.004201</td>\n",
       "    </tr>\n",
       "  </tbody>\n",
       "</table>\n",
       "</div>"
      ],
      "text/plain": [
       "    Actual_Price  Predicted_Price\n",
       "5       0.001944         0.001993\n",
       "6       0.002327         0.002333\n",
       "15      0.003528         0.003833\n",
       "36      0.002094         0.002082\n",
       "48      0.004246         0.004201"
      ]
     },
     "execution_count": 36,
     "metadata": {},
     "output_type": "execute_result"
    }
   ],
   "source": [
    "y_pred_lin = linReg.predict(X_test)\n",
    "dfp = pd.DataFrame({'Actual_Price': y_test, 'Predicted_Price': y_pred_lin})\n",
    "dfp.head()"
   ]
  },
  {
   "cell_type": "markdown",
   "id": "3bc10c48",
   "metadata": {},
   "source": [
    "##### Polynomial Equation"
   ]
  },
  {
   "cell_type": "code",
   "execution_count": 37,
   "id": "801c83ce-ccc9-4d0a-926d-d81e15c76247",
   "metadata": {},
   "outputs": [],
   "source": [
    "y = linReg.coef_[0] * X_test['Open'] + linReg.coef_[1] * X_test['High'] + linReg.coef_[2] * X_test['Low'] + linReg.coef_[3] * X_test['Volume'] + linReg.intercept_"
   ]
  },
  {
   "cell_type": "markdown",
   "id": "450da51a",
   "metadata": {},
   "source": [
    "##### Plotting"
   ]
  },
  {
   "cell_type": "code",
   "execution_count": 38,
   "id": "684da402-b075-4004-a001-00284fb28ea3",
   "metadata": {},
   "outputs": [
    {
     "data": {
      "text/plain": [
       "<matplotlib.legend.Legend at 0x1ecba7d1220>"
      ]
     },
     "execution_count": 38,
     "metadata": {},
     "output_type": "execute_result"
    },
    {
     "data": {
      "image/png": "[encoded data removed]",
      "text/plain": [
       "<Figure size 864x864 with 1 Axes>"
      ]
     },
     "metadata": {
      "needs_background": "light"
     },
     "output_type": "display_data"
    }
   ],
   "source": [
    "plt.subplots(1, figsize=(12,12))\n",
    "plt.plot(np.linspace(0, y_test.size, y_test.size), y_test, color='red', label='Actual Data')\n",
    "plt.plot(np.linspace(0, y_test.size, y_test.size), y, label='Predicted Data')\n",
    "#plt.xlabel('Expected')\n",
    "#plt.ylabel('Predicted')\n",
    "plt.grid(color='#000000', linestyle='-', linewidth=0.5)\n",
    "plt.legend(loc=\"upper left\")"
   ]
  },
  {
   "cell_type": "markdown",
   "id": "45a4bfbd",
   "metadata": {},
   "source": [
    "##### Scatter plot"
   ]
  },
  {
   "cell_type": "code",
   "execution_count": 39,
   "id": "d43ecd8c-02e6-4028-b71f-92aced67ac23",
   "metadata": {
    "scrolled": true
   },
   "outputs": [
    {
     "data": {
      "text/plain": [
       "<matplotlib.collections.PathCollection at 0x1ecbab645e0>"
      ]
     },
     "execution_count": 39,
     "metadata": {},
     "output_type": "execute_result"
    },
    {
     "data": {
      "image/png": "[encoded data removed]",
      "text/plain": [
       "<Figure size 432x288 with 1 Axes>"
      ]
     },
     "metadata": {
      "needs_background": "light"
     },
     "output_type": "display_data"
    }
   ],
   "source": [
    "plt.scatter(dfp['Actual_Price'], dfp['Predicted_Price'])"
   ]
  },
  {
   "cell_type": "code",
   "execution_count": 40,
   "id": "c8a185db",
   "metadata": {},
   "outputs": [
    {
     "name": "stdout",
     "output_type": "stream",
     "text": [
      "Linear Regression Score:  0.9992946959003016\n",
      "Absolute Squared Error:  0.002757694779547183\n",
      "Mean Squared Error:  3.166395248169389e-05\n"
     ]
    }
   ],
   "source": [
    "reg_score = linReg.score(X_test, y_test)\n",
    "print(\"Linear Regression Score: \", reg_score)\n",
    "print(\"Absolute Squared Error: \", mean_absolute_error(y_test, y_pred_lin))\n",
    "mse_lin = mean_squared_error(y_test, y_pred_lin)\n",
    "print(\"Mean Squared Error: \", mse_lin)"
   ]
  },
  {
   "cell_type": "markdown",
   "id": "d37af9c7",
   "metadata": {},
   "source": [
    "As we can see, the score is extremely high and our model's predicitons are so different from the expected values."
   ]
  },
  {
   "cell_type": "markdown",
   "id": "caf7b586",
   "metadata": {},
   "source": [
    "## Logistic Regression "
   ]
  },
  {
   "cell_type": "markdown",
   "id": "7d3bd9fb",
   "metadata": {},
   "source": [
    "##### Creating X and y variables"
   ]
  },
  {
   "cell_type": "code",
   "execution_count": 41,
   "id": "7c2b15b2",
   "metadata": {},
   "outputs": [],
   "source": [
    "X = scaled_data[['Open', 'High', 'Low', 'Close','Volume']]\n",
    "y = dataset[\"Up/Down\"].values"
   ]
  },
  {
   "cell_type": "markdown",
   "id": "40d5bab5",
   "metadata": {},
   "source": [
    "##### Splitting the data"
   ]
  },
  {
   "cell_type": "code",
   "execution_count": 42,
   "id": "83a5dcc2",
   "metadata": {},
   "outputs": [],
   "source": [
    "np.random.seed(42)\n",
    "X_train, X_test, y_train, y_test = train_test_split(X, y)"
   ]
  },
  {
   "cell_type": "code",
   "execution_count": 43,
   "id": "c04fd892",
   "metadata": {},
   "outputs": [
    {
     "name": "stdout",
     "output_type": "stream",
     "text": [
      "(1370, 5)\n",
      "(1370,)\n",
      "(457, 5)\n",
      "(457,)\n"
     ]
    }
   ],
   "source": [
    "print(X_train.shape)\n",
    "print(y_train.shape)\n",
    "print(X_test.shape)\n",
    "print(y_test.shape)"
   ]
  },
  {
   "cell_type": "markdown",
   "id": "cf8c6c4c",
   "metadata": {},
   "source": [
    "##### Training "
   ]
  },
  {
   "cell_type": "code",
   "execution_count": 44,
   "id": "d66d2965",
   "metadata": {},
   "outputs": [
    {
     "data": {
      "text/plain": [
       "array([0.58345674, 0.68588457, 0.58925665, 0.58278146, 0.62585219])"
      ]
     },
     "execution_count": 44,
     "metadata": {},
     "output_type": "execute_result"
    }
   ],
   "source": [
    "cv = KFold(n_splits=5, random_state=1, shuffle=True)\n",
    "lr = LogisticRegression()\n",
    "scores = cross_val_score(lr, X, y, scoring='roc_auc', cv=cv, n_jobs=1)\n",
    "scores"
   ]
  },
  {
   "cell_type": "code",
   "execution_count": 45,
   "id": "1e2a094d",
   "metadata": {},
   "outputs": [
    {
     "data": {
      "text/plain": [
       "array([0.97515528, 0.98757764, 1.        , 1.        , 1.        ,\n",
       "       1.        , 1.        , 0.95186335, 0.55279503, 0.76397516,\n",
       "       0.73291925, 0.87267081, 0.77329193, 0.58229814, 0.6863354 ,\n",
       "       0.99068323, 0.98913043, 0.97360248, 0.71273292, 0.69875776,\n",
       "       0.81987578, 0.93167702, 0.88198758, 0.74068323, 0.58695652,\n",
       "       0.72515528, 0.8431677 , 0.78743961, 0.98872786, 0.99516908,\n",
       "       0.96940419, 0.64090177, 0.94041868, 0.98550725, 0.96618357,\n",
       "       0.92431562])"
      ]
     },
     "execution_count": 45,
     "metadata": {},
     "output_type": "execute_result"
    }
   ],
   "source": [
    "predicted = cross_val_predict(lr, X, y, cv=6)\n",
    "scores = cross_val_score(lr, X, y, scoring='roc_auc', cv=36, n_jobs=1)\n",
    "scores"
   ]
  },
  {
   "cell_type": "code",
   "execution_count": 46,
   "id": "200cee54",
   "metadata": {},
   "outputs": [
    {
     "data": {
      "image/png": "[encoded data removed]",
      "text/plain": [
       "<Figure size 432x288 with 1 Axes>"
      ]
     },
     "metadata": {
      "needs_background": "light"
     },
     "output_type": "display_data"
    }
   ],
   "source": [
    "fig,ax = plt.subplots()\n",
    "plt.plot(scores)\n",
    "ax.set_xlabel('Folds')\n",
    "ax.set_ylabel('AUC Score')\n",
    "plt.show()"
   ]
  },
  {
   "cell_type": "markdown",
   "id": "94e89105",
   "metadata": {},
   "source": [
    "##### Creating the model"
   ]
  },
  {
   "cell_type": "code",
   "execution_count": 47,
   "id": "8e96a39b",
   "metadata": {},
   "outputs": [
    {
     "data": {
      "text/plain": [
       "LogisticRegression()"
      ]
     },
     "execution_count": 47,
     "metadata": {},
     "output_type": "execute_result"
    }
   ],
   "source": [
    "lr = LogisticRegression()\n",
    "lr.fit(X_train, y_train)"
   ]
  },
  {
   "cell_type": "code",
   "execution_count": 48,
   "id": "7ba1f578",
   "metadata": {},
   "outputs": [
    {
     "data": {
      "text/html": [
       "<div>\n",
       "<style scoped>\n",
       "    .dataframe tbody tr th:only-of-type {\n",
       "        vertical-align: middle;\n",
       "    }\n",
       "\n",
       "    .dataframe tbody tr th {\n",
       "        vertical-align: top;\n",
       "    }\n",
       "\n",
       "    .dataframe thead th {\n",
       "        text-align: right;\n",
       "    }\n",
       "</style>\n",
       "<table border=\"1\" class=\"dataframe\">\n",
       "  <thead>\n",
       "    <tr style=\"text-align: right;\">\n",
       "      <th></th>\n",
       "      <th>Actual_Price</th>\n",
       "      <th>Predicted_Price</th>\n",
       "    </tr>\n",
       "  </thead>\n",
       "  <tbody>\n",
       "    <tr>\n",
       "      <th>0</th>\n",
       "      <td>1</td>\n",
       "      <td>1</td>\n",
       "    </tr>\n",
       "    <tr>\n",
       "      <th>1</th>\n",
       "      <td>1</td>\n",
       "      <td>1</td>\n",
       "    </tr>\n",
       "    <tr>\n",
       "      <th>2</th>\n",
       "      <td>1</td>\n",
       "      <td>0</td>\n",
       "    </tr>\n",
       "    <tr>\n",
       "      <th>3</th>\n",
       "      <td>1</td>\n",
       "      <td>1</td>\n",
       "    </tr>\n",
       "    <tr>\n",
       "      <th>4</th>\n",
       "      <td>0</td>\n",
       "      <td>1</td>\n",
       "    </tr>\n",
       "  </tbody>\n",
       "</table>\n",
       "</div>"
      ],
      "text/plain": [
       "  Actual_Price Predicted_Price\n",
       "0            1               1\n",
       "1            1               1\n",
       "2            1               0\n",
       "3            1               1\n",
       "4            0               1"
      ]
     },
     "execution_count": 48,
     "metadata": {},
     "output_type": "execute_result"
    }
   ],
   "source": [
    "y_pred_log = lr.predict(X_test)\n",
    "dfp = pd.DataFrame({'Actual_Price': y_test, 'Predicted_Price': y_pred_log})\n",
    "dfp.head()"
   ]
  },
  {
   "cell_type": "code",
   "execution_count": 49,
   "id": "34ed2875",
   "metadata": {},
   "outputs": [
    {
     "name": "stdout",
     "output_type": "stream",
     "text": [
      "Confusion matrix:\n",
      " [[ 34 167]\n",
      " [ 37 219]]\n",
      "Testing AUC:  0.5431242226368159\n",
      "Testing accuracy:  0.5536105032822757\n"
     ]
    }
   ],
   "source": [
    "y_pred_log = lr.predict(X_test)\n",
    "y_pred_log_probs = lr.predict_proba(X_test)[:, 1]\n",
    "\n",
    "test_accuracy = accuracy_score(y_test, y_pred_log)\n",
    "test_auc_roc = roc_auc_score(y_test, y_pred_log_probs)\n",
    "\n",
    "print('Confusion matrix:\\n', confusion_matrix(y_test, y_pred_log))\n",
    "\n",
    "print('Testing AUC: ', test_auc_roc)\n",
    "\n",
    "print('Testing accuracy: ', test_accuracy)"
   ]
  },
  {
   "cell_type": "markdown",
   "id": "f6ee9162",
   "metadata": {},
   "source": [
    "##### Metrics"
   ]
  },
  {
   "cell_type": "code",
   "execution_count": 50,
   "id": "364c944a",
   "metadata": {},
   "outputs": [
    {
     "name": "stdout",
     "output_type": "stream",
     "text": [
      "ROC AUC Score:  0.5123114894278606\n",
      "Loss:  15.418039206417115\n"
     ]
    }
   ],
   "source": [
    "score = metrics.roc_auc_score(y_test, lr.predict(X_test))\n",
    "error = metrics.log_loss(y_test, lr.predict(X_test))\n",
    "print('ROC AUC Score: ', score)\n",
    "print('Loss: ', error)"
   ]
  },
  {
   "cell_type": "code",
   "execution_count": 51,
   "id": "12f8c9a3",
   "metadata": {
    "scrolled": true
   },
   "outputs": [
    {
     "name": "stdout",
     "output_type": "stream",
     "text": [
      "              precision    recall  f1-score   support\n",
      "\n",
      "           0       0.48      0.17      0.25       201\n",
      "           1       0.57      0.86      0.68       256\n",
      "\n",
      "    accuracy                           0.55       457\n",
      "   macro avg       0.52      0.51      0.47       457\n",
      "weighted avg       0.53      0.55      0.49       457\n",
      "\n"
     ]
    }
   ],
   "source": [
    "print(classification_report(y_test, y_pred_log, digits=2))"
   ]
  },
  {
   "cell_type": "markdown",
   "id": "e8bcdb6c",
   "metadata": {},
   "source": [
    "As we can see, we are not satisfied from the score that Logistic Regression returns. </br>\n",
    "Next Step, Neural Network"
   ]
  },
  {
   "cell_type": "markdown",
   "id": "c41b0c59-3499-497f-974c-666506ec3ce7",
   "metadata": {},
   "source": [
    "# **Neural Network**"
   ]
  },
  {
   "cell_type": "markdown",
   "id": "72482d1e-7cc9-4010-b18a-158dda89b620",
   "metadata": {},
   "source": [
    "##### Importing Libraries"
   ]
  },
  {
   "cell_type": "code",
   "execution_count": 52,
   "id": "24e3a902-b66f-43c3-91eb-d8c755b99097",
   "metadata": {},
   "outputs": [],
   "source": [
    "import pandas as pd\n",
    "import numpy as np\n",
    "import math\n",
    "from math import floor\n",
    "import matplotlib.pyplot as plt\n",
    "\n",
    "from sklearn.preprocessing import MinMaxScaler\n",
    "\n",
    "import torch\n",
    "import torch.nn as nn\n",
    "import torch.nn.functional as F\n",
    "import torch.utils.data as Data\n",
    "\n",
    "torch.manual_seed(42)\n",
    "\n",
    "# Visualize training history\n",
    "#from keras.models import Sequential\n",
    "#from keras.layers import Dense\n",
    "\n",
    "pd.options.mode.chained_assignment = None "
   ]
  },
  {
   "cell_type": "markdown",
   "id": "be69da8a-4c1f-4cb9-b45e-4e1df194cbea",
   "metadata": {},
   "source": [
    "### Model Creation"
   ]
  },
  {
   "cell_type": "code",
   "execution_count": 53,
   "id": "bbdb8584-e662-4022-a78e-76c4cbd7824e",
   "metadata": {},
   "outputs": [
    {
     "name": "stdout",
     "output_type": "stream",
     "text": [
      "NeuralNetwork(\n",
      "  (hidden1): Linear(in_features=50, out_features=25, bias=True)\n",
      "  (hidden2): Linear(in_features=25, out_features=25, bias=True)\n",
      "  (out): Linear(in_features=25, out_features=1, bias=True)\n",
      ")\n"
     ]
    }
   ],
   "source": [
    "# Choose CPU or Cuda device (If capable GPU present).\n",
    "device = 'cpu'\n",
    "\n",
    "class NeuralNetwork(nn.Module):\n",
    "\n",
    "    def __init__(self):\n",
    "        super(NeuralNetwork, self).__init__()\n",
    "        self.hidden1 = torch.nn.Linear(50, 25) # hidden layer\n",
    "        self.hidden2 = torch.nn.Linear(25, 25) # hidden layer\n",
    "        self.out = torch.nn.Linear(25, 1)      # output layer\n",
    "\n",
    "    def forward(self, x):\n",
    "        z = F.relu(self.hidden1(x)) # activation function for first hidden layer\n",
    "        z = F.relu(self.hidden2(z)) # activation function for second hidden layer\n",
    "        z = self.out(z)        # linear output\n",
    "        return z\n",
    "\n",
    "model = NeuralNetwork().to(device)\n",
    "print(model)"
   ]
  },
  {
   "cell_type": "markdown",
   "id": "41d1b80a-512b-445a-84db-aae54eabe36a",
   "metadata": {},
   "source": [
    "### Dataset Loading"
   ]
  },
  {
   "cell_type": "code",
   "execution_count": 54,
   "id": "fb2aebfe-038a-400d-839c-fad65a8897d7",
   "metadata": {},
   "outputs": [
    {
     "name": "stdout",
     "output_type": "stream",
     "text": [
      "(1827, 7)\n"
     ]
    },
    {
     "data": {
      "text/html": [
       "<div>\n",
       "<style scoped>\n",
       "    .dataframe tbody tr th:only-of-type {\n",
       "        vertical-align: middle;\n",
       "    }\n",
       "\n",
       "    .dataframe tbody tr th {\n",
       "        vertical-align: top;\n",
       "    }\n",
       "\n",
       "    .dataframe thead th {\n",
       "        text-align: right;\n",
       "    }\n",
       "</style>\n",
       "<table border=\"1\" class=\"dataframe\">\n",
       "  <thead>\n",
       "    <tr style=\"text-align: right;\">\n",
       "      <th></th>\n",
       "      <th>Date</th>\n",
       "      <th>Open</th>\n",
       "      <th>High</th>\n",
       "      <th>Low</th>\n",
       "      <th>Close</th>\n",
       "      <th>Adj Close</th>\n",
       "      <th>Volume</th>\n",
       "    </tr>\n",
       "  </thead>\n",
       "  <tbody>\n",
       "    <tr>\n",
       "      <th>0</th>\n",
       "      <td>2016-12-21</td>\n",
       "      <td>800.643982</td>\n",
       "      <td>834.281006</td>\n",
       "      <td>799.405029</td>\n",
       "      <td>834.281006</td>\n",
       "      <td>834.281006</td>\n",
       "      <td>155576000</td>\n",
       "    </tr>\n",
       "    <tr>\n",
       "      <th>1</th>\n",
       "      <td>2016-12-22</td>\n",
       "      <td>834.179993</td>\n",
       "      <td>875.781982</td>\n",
       "      <td>834.148987</td>\n",
       "      <td>864.539978</td>\n",
       "      <td>864.539978</td>\n",
       "      <td>200027008</td>\n",
       "    </tr>\n",
       "    <tr>\n",
       "      <th>2</th>\n",
       "      <td>2016-12-23</td>\n",
       "      <td>864.888000</td>\n",
       "      <td>925.117004</td>\n",
       "      <td>864.677002</td>\n",
       "      <td>921.984009</td>\n",
       "      <td>921.984009</td>\n",
       "      <td>275564000</td>\n",
       "    </tr>\n",
       "    <tr>\n",
       "      <th>3</th>\n",
       "      <td>2016-12-24</td>\n",
       "      <td>922.179993</td>\n",
       "      <td>923.479004</td>\n",
       "      <td>886.335022</td>\n",
       "      <td>898.822021</td>\n",
       "      <td>898.822021</td>\n",
       "      <td>137727008</td>\n",
       "    </tr>\n",
       "    <tr>\n",
       "      <th>4</th>\n",
       "      <td>2016-12-25</td>\n",
       "      <td>899.651978</td>\n",
       "      <td>899.651978</td>\n",
       "      <td>862.424011</td>\n",
       "      <td>896.182983</td>\n",
       "      <td>896.182983</td>\n",
       "      <td>143664992</td>\n",
       "    </tr>\n",
       "  </tbody>\n",
       "</table>\n",
       "</div>"
      ],
      "text/plain": [
       "         Date        Open        High         Low       Close   Adj Close  \\\n",
       "0  2016-12-21  800.643982  834.281006  799.405029  834.281006  834.281006   \n",
       "1  2016-12-22  834.179993  875.781982  834.148987  864.539978  864.539978   \n",
       "2  2016-12-23  864.888000  925.117004  864.677002  921.984009  921.984009   \n",
       "3  2016-12-24  922.179993  923.479004  886.335022  898.822021  898.822021   \n",
       "4  2016-12-25  899.651978  899.651978  862.424011  896.182983  896.182983   \n",
       "\n",
       "      Volume  \n",
       "0  155576000  \n",
       "1  200027008  \n",
       "2  275564000  \n",
       "3  137727008  \n",
       "4  143664992  "
      ]
     },
     "execution_count": 54,
     "metadata": {},
     "output_type": "execute_result"
    }
   ],
   "source": [
    "dataset = pd.read_csv(\"Data/BTC-USD.csv\")\n",
    "print(dataset.shape)\n",
    "dataset.head()"
   ]
  },
  {
   "cell_type": "markdown",
   "id": "d20ec6da-1b3e-4f5d-83bb-fe8a554614c4",
   "metadata": {},
   "source": [
    "#### Scaling Dataset \n",
    "We scaled our dataset using MinMaxScaler"
   ]
  },
  {
   "cell_type": "code",
   "execution_count": 55,
   "id": "af79877b-9e46-4964-a965-349db84b52fe",
   "metadata": {},
   "outputs": [
    {
     "data": {
      "text/plain": [
       "0       0.000846\n",
       "1       0.001299\n",
       "2       0.002159\n",
       "3       0.001813\n",
       "4       0.001773\n",
       "          ...   \n",
       "1822    0.680117\n",
       "1823    0.689799\n",
       "1824    0.687676\n",
       "1825    0.690270\n",
       "1826    0.715508\n",
       "Name: Close, Length: 1827, dtype: float64"
      ]
     },
     "execution_count": 55,
     "metadata": {},
     "output_type": "execute_result"
    }
   ],
   "source": [
    "scaled_data = dataset[['Open', 'High', 'Low', 'Close', 'Volume']]\n",
    "scaler = MinMaxScaler(copy=False)\n",
    "scaled_data[['Open', 'High', 'Low', 'Close', 'Volume']] = scaler.fit_transform(scaled_data[['Open', 'High', 'Low', 'Close', 'Volume']])\n",
    "X = scaled_data['Close']\n",
    "X"
   ]
  },
  {
   "cell_type": "markdown",
   "id": "05153995-3edd-4a52-bcdc-ab6df23d7037",
   "metadata": {},
   "source": [
    "In this moment, we had to create a TimeSeries function in order to create a scaling window. This windows helped us to create the batches for our neural network"
   ]
  },
  {
   "cell_type": "code",
   "execution_count": 56,
   "id": "088b24a0-6741-42d5-a691-4841b9d8f4a7",
   "metadata": {
    "tags": []
   },
   "outputs": [],
   "source": [
    "class TimeSeriesDataset(Data.Dataset):   \n",
    "    def __init__(self, data, window):\n",
    "        self.data = torch.Tensor(data.values)\n",
    "        self.window = window\n",
    "    \n",
    "    def __getitem__(self, index):\n",
    "        return (self.data[index:index+self.window], self.data[index+self.window])\n",
    "    \n",
    "    def __len__(self):\n",
    "        return self.data.__len__() - (self.window)"
   ]
  },
  {
   "cell_type": "markdown",
   "id": "0fc3dcbd-0cdd-4dea-818b-1bcb31d20510",
   "metadata": {},
   "source": [
    "#### Data Preperation"
   ]
  },
  {
   "cell_type": "code",
   "execution_count": 57,
   "id": "592583b4-aa77-4552-80ec-56ae31e821bc",
   "metadata": {
    "tags": []
   },
   "outputs": [],
   "source": [
    "split_ratio = 0.8\n",
    "train_size = floor(X.size*split_ratio)\n",
    "test_size = floor(X.size*(1-split_ratio))\n",
    "\n",
    "train_dataset = TimeSeriesDataset(X[:train_size], 50)\n",
    "test_dataset = TimeSeriesDataset(X[train_size:], 50)\n",
    "    \n",
    "optimizer = torch.optim.SGD(model.parameters(), lr=0.01)\n",
    "loss_fn = torch.nn.MSELoss() "
   ]
  },
  {
   "cell_type": "markdown",
   "id": "f9203912-fce8-4694-8d89-94696af51b07",
   "metadata": {},
   "source": [
    "#### Training Function"
   ]
  },
  {
   "cell_type": "code",
   "execution_count": 58,
   "id": "bb6785da-8f31-4e93-8809-d6af4028735e",
   "metadata": {},
   "outputs": [],
   "source": [
    "def train(dataset, model, loss_fn, optimizer):\n",
    "    size = len(dataset)\n",
    "    tlosses = []\n",
    "    model.train()\n",
    "    for batch, (X, y) in enumerate(dataset):\n",
    "        X, y = X.to(device), y.to(device)\n",
    "\n",
    "        # Compute prediction error\n",
    "        pred = model(X).squeeze(-1)\n",
    "        loss = loss_fn(pred, y)\n",
    "        \n",
    "        tlosses.append(loss.item())\n",
    "        \n",
    "        # Backpropagation\n",
    "        optimizer.zero_grad()\n",
    "        loss.backward()\n",
    "        optimizer.step()\n",
    "\n",
    "        if batch % 100 == 0:\n",
    "            loss, current = loss.item(), batch\n",
    "            print(f\"loss: {loss:>7f}  Batch: [{current:>5d}/{size:>5d}]\")\n",
    "    return tlosses"
   ]
  },
  {
   "cell_type": "markdown",
   "id": "7aabc898-04c0-4750-93f2-0d634bd83630",
   "metadata": {},
   "source": [
    "#### Testing Function"
   ]
  },
  {
   "cell_type": "code",
   "execution_count": 59,
   "id": "e4f01956-fa47-49d0-ac6e-5b86ac986e40",
   "metadata": {},
   "outputs": [],
   "source": [
    "def test(dataset, model, loss_fn):\n",
    "    size = len(dataset)\n",
    "    vlosses = []\n",
    "    num_batches = len(dataset) - 50\n",
    "    model.eval()\n",
    "    test_loss, correct = 0, 0\n",
    "    with torch.no_grad():\n",
    "        for X, y in dataset:\n",
    "            X, y = X.to(device), y.to(device)\n",
    "            pred = model(X).squeeze(-1)\n",
    "            test_loss += loss_fn(pred, y).item()\n",
    "            vlosses.append(test_loss)\n",
    "    test_loss /= num_batches\n",
    "    print(f\"Test Error: \\n Avg loss: {test_loss:>8f} \\n\")\n",
    "    #print(f\"Avg Accuracy:  {1-test_loss:>8f} \\n\")\n",
    "    return vlosses"
   ]
  },
  {
   "cell_type": "markdown",
   "id": "ebbc27e2-0c73-4129-bc41-d1c35d5d0045",
   "metadata": {},
   "source": [
    "#### Training the model for 20 epochs"
   ]
  },
  {
   "cell_type": "code",
   "execution_count": 60,
   "id": "53d91499-364f-4e26-8632-46b5344ef3b4",
   "metadata": {
    "jupyter": {
     "outputs_hidden": true
    },
    "scrolled": false,
    "tags": []
   },
   "outputs": [
    {
     "name": "stdout",
     "output_type": "stream",
     "text": [
      "Epoch 1\n",
      "-------------------------------\n",
      "loss: 0.033330  Batch: [    0/ 1411]\n",
      "loss: 0.000547  Batch: [  100/ 1411]\n",
      "loss: 0.000395  Batch: [  200/ 1411]\n",
      "loss: 0.011511  Batch: [  300/ 1411]\n",
      "loss: 0.001070  Batch: [  400/ 1411]\n",
      "loss: 0.000552  Batch: [  500/ 1411]\n",
      "loss: 0.000015  Batch: [  600/ 1411]\n",
      "loss: 0.000136  Batch: [  700/ 1411]\n",
      "loss: 0.000198  Batch: [  800/ 1411]\n",
      "loss: 0.000001  Batch: [  900/ 1411]\n",
      "loss: 0.000024  Batch: [ 1000/ 1411]\n",
      "loss: 0.000548  Batch: [ 1100/ 1411]\n",
      "loss: 0.000053  Batch: [ 1200/ 1411]\n",
      "loss: 0.000292  Batch: [ 1300/ 1411]\n",
      "loss: 0.001326  Batch: [ 1400/ 1411]\n",
      "Test Error: \n",
      " Avg loss: 0.273505 \n",
      "\n",
      "Epoch 2\n",
      "-------------------------------\n",
      "loss: 0.055735  Batch: [    0/ 1411]\n",
      "loss: 0.000039  Batch: [  100/ 1411]\n",
      "loss: 0.000305  Batch: [  200/ 1411]\n",
      "loss: 0.011182  Batch: [  300/ 1411]\n",
      "loss: 0.001021  Batch: [  400/ 1411]\n",
      "loss: 0.000535  Batch: [  500/ 1411]\n",
      "loss: 0.000014  Batch: [  600/ 1411]\n",
      "loss: 0.000128  Batch: [  700/ 1411]\n",
      "loss: 0.000191  Batch: [  800/ 1411]\n",
      "loss: 0.000003  Batch: [  900/ 1411]\n",
      "loss: 0.000027  Batch: [ 1000/ 1411]\n",
      "loss: 0.000530  Batch: [ 1100/ 1411]\n",
      "loss: 0.000048  Batch: [ 1200/ 1411]\n",
      "loss: 0.000277  Batch: [ 1300/ 1411]\n",
      "loss: 0.001215  Batch: [ 1400/ 1411]\n",
      "Test Error: \n",
      " Avg loss: 0.258645 \n",
      "\n",
      "Epoch 3\n",
      "-------------------------------\n",
      "loss: 0.050923  Batch: [    0/ 1411]\n",
      "loss: 0.000029  Batch: [  100/ 1411]\n",
      "loss: 0.000279  Batch: [  200/ 1411]\n",
      "loss: 0.010883  Batch: [  300/ 1411]\n",
      "loss: 0.000984  Batch: [  400/ 1411]\n",
      "loss: 0.000532  Batch: [  500/ 1411]\n",
      "loss: 0.000010  Batch: [  600/ 1411]\n",
      "loss: 0.000098  Batch: [  700/ 1411]\n",
      "loss: 0.000176  Batch: [  800/ 1411]\n",
      "loss: 0.000008  Batch: [  900/ 1411]\n",
      "loss: 0.000029  Batch: [ 1000/ 1411]\n",
      "loss: 0.000520  Batch: [ 1100/ 1411]\n",
      "loss: 0.000042  Batch: [ 1200/ 1411]\n",
      "loss: 0.000262  Batch: [ 1300/ 1411]\n",
      "loss: 0.001104  Batch: [ 1400/ 1411]\n",
      "Test Error: \n",
      " Avg loss: 0.244172 \n",
      "\n",
      "Epoch 4\n",
      "-------------------------------\n",
      "loss: 0.047598  Batch: [    0/ 1411]\n",
      "loss: 0.000024  Batch: [  100/ 1411]\n",
      "loss: 0.000267  Batch: [  200/ 1411]\n",
      "loss: 0.010525  Batch: [  300/ 1411]\n",
      "loss: 0.000936  Batch: [  400/ 1411]\n",
      "loss: 0.000519  Batch: [  500/ 1411]\n",
      "loss: 0.000008  Batch: [  600/ 1411]\n",
      "loss: 0.000082  Batch: [  700/ 1411]\n",
      "loss: 0.000168  Batch: [  800/ 1411]\n",
      "loss: 0.000015  Batch: [  900/ 1411]\n",
      "loss: 0.000032  Batch: [ 1000/ 1411]\n",
      "loss: 0.000510  Batch: [ 1100/ 1411]\n",
      "loss: 0.000038  Batch: [ 1200/ 1411]\n",
      "loss: 0.000236  Batch: [ 1300/ 1411]\n",
      "loss: 0.001003  Batch: [ 1400/ 1411]\n",
      "Test Error: \n",
      " Avg loss: 0.229470 \n",
      "\n",
      "Epoch 5\n",
      "-------------------------------\n",
      "loss: 0.044405  Batch: [    0/ 1411]\n",
      "loss: 0.000020  Batch: [  100/ 1411]\n",
      "loss: 0.000255  Batch: [  200/ 1411]\n",
      "loss: 0.010146  Batch: [  300/ 1411]\n",
      "loss: 0.000892  Batch: [  400/ 1411]\n",
      "loss: 0.000493  Batch: [  500/ 1411]\n",
      "loss: 0.000008  Batch: [  600/ 1411]\n",
      "loss: 0.000069  Batch: [  700/ 1411]\n",
      "loss: 0.000161  Batch: [  800/ 1411]\n",
      "loss: 0.000024  Batch: [  900/ 1411]\n",
      "loss: 0.000037  Batch: [ 1000/ 1411]\n",
      "loss: 0.000491  Batch: [ 1100/ 1411]\n",
      "loss: 0.000034  Batch: [ 1200/ 1411]\n",
      "loss: 0.000228  Batch: [ 1300/ 1411]\n",
      "loss: 0.000901  Batch: [ 1400/ 1411]\n",
      "Test Error: \n",
      " Avg loss: 0.214461 \n",
      "\n",
      "Epoch 6\n",
      "-------------------------------\n",
      "loss: 0.041523  Batch: [    0/ 1411]\n",
      "loss: 0.000015  Batch: [  100/ 1411]\n",
      "loss: 0.000242  Batch: [  200/ 1411]\n",
      "loss: 0.009740  Batch: [  300/ 1411]\n",
      "loss: 0.000839  Batch: [  400/ 1411]\n",
      "loss: 0.000467  Batch: [  500/ 1411]\n",
      "loss: 0.000006  Batch: [  600/ 1411]\n",
      "loss: 0.000059  Batch: [  700/ 1411]\n",
      "loss: 0.000154  Batch: [  800/ 1411]\n",
      "loss: 0.000036  Batch: [  900/ 1411]\n",
      "loss: 0.000042  Batch: [ 1000/ 1411]\n",
      "loss: 0.000470  Batch: [ 1100/ 1411]\n",
      "loss: 0.000028  Batch: [ 1200/ 1411]\n",
      "loss: 0.000206  Batch: [ 1300/ 1411]\n",
      "loss: 0.000743  Batch: [ 1400/ 1411]\n",
      "Test Error: \n",
      " Avg loss: 0.198900 \n",
      "\n",
      "Epoch 7\n",
      "-------------------------------\n",
      "loss: 0.038582  Batch: [    0/ 1411]\n",
      "loss: 0.000011  Batch: [  100/ 1411]\n",
      "loss: 0.000229  Batch: [  200/ 1411]\n",
      "loss: 0.009333  Batch: [  300/ 1411]\n",
      "loss: 0.000794  Batch: [  400/ 1411]\n",
      "loss: 0.000441  Batch: [  500/ 1411]\n",
      "loss: 0.000005  Batch: [  600/ 1411]\n",
      "loss: 0.000049  Batch: [  700/ 1411]\n",
      "loss: 0.000147  Batch: [  800/ 1411]\n",
      "loss: 0.000052  Batch: [  900/ 1411]\n",
      "loss: 0.000047  Batch: [ 1000/ 1411]\n",
      "loss: 0.000445  Batch: [ 1100/ 1411]\n",
      "loss: 0.000021  Batch: [ 1200/ 1411]\n",
      "loss: 0.000185  Batch: [ 1300/ 1411]\n",
      "loss: 0.000540  Batch: [ 1400/ 1411]\n",
      "Test Error: \n",
      " Avg loss: 0.183556 \n",
      "\n",
      "Epoch 8\n",
      "-------------------------------\n",
      "loss: 0.035244  Batch: [    0/ 1411]\n",
      "loss: 0.000007  Batch: [  100/ 1411]\n",
      "loss: 0.000215  Batch: [  200/ 1411]\n",
      "loss: 0.008973  Batch: [  300/ 1411]\n",
      "loss: 0.000721  Batch: [  400/ 1411]\n",
      "loss: 0.000409  Batch: [  500/ 1411]\n",
      "loss: 0.000004  Batch: [  600/ 1411]\n",
      "loss: 0.000039  Batch: [  700/ 1411]\n",
      "loss: 0.000139  Batch: [  800/ 1411]\n",
      "loss: 0.000070  Batch: [  900/ 1411]\n",
      "loss: 0.000052  Batch: [ 1000/ 1411]\n",
      "loss: 0.000417  Batch: [ 1100/ 1411]\n",
      "loss: 0.000015  Batch: [ 1200/ 1411]\n",
      "loss: 0.000166  Batch: [ 1300/ 1411]\n",
      "loss: 0.000391  Batch: [ 1400/ 1411]\n",
      "Test Error: \n",
      " Avg loss: 0.168654 \n",
      "\n",
      "Epoch 9\n",
      "-------------------------------\n",
      "loss: 0.031712  Batch: [    0/ 1411]\n",
      "loss: 0.000004  Batch: [  100/ 1411]\n",
      "loss: 0.000201  Batch: [  200/ 1411]\n",
      "loss: 0.008600  Batch: [  300/ 1411]\n",
      "loss: 0.000559  Batch: [  400/ 1411]\n",
      "loss: 0.000377  Batch: [  500/ 1411]\n",
      "loss: 0.000004  Batch: [  600/ 1411]\n",
      "loss: 0.000031  Batch: [  700/ 1411]\n",
      "loss: 0.000131  Batch: [  800/ 1411]\n",
      "loss: 0.000104  Batch: [  900/ 1411]\n",
      "loss: 0.000068  Batch: [ 1000/ 1411]\n",
      "loss: 0.000389  Batch: [ 1100/ 1411]\n",
      "loss: 0.000010  Batch: [ 1200/ 1411]\n",
      "loss: 0.000118  Batch: [ 1300/ 1411]\n",
      "loss: 0.000295  Batch: [ 1400/ 1411]\n",
      "Test Error: \n",
      " Avg loss: 0.154425 \n",
      "\n",
      "Epoch 10\n",
      "-------------------------------\n",
      "loss: 0.027750  Batch: [    0/ 1411]\n",
      "loss: 0.000001  Batch: [  100/ 1411]\n",
      "loss: 0.000187  Batch: [  200/ 1411]\n",
      "loss: 0.007674  Batch: [  300/ 1411]\n",
      "loss: 0.000491  Batch: [  400/ 1411]\n",
      "loss: 0.000299  Batch: [  500/ 1411]\n",
      "loss: 0.000003  Batch: [  600/ 1411]\n",
      "loss: 0.000023  Batch: [  700/ 1411]\n",
      "loss: 0.000123  Batch: [  800/ 1411]\n",
      "loss: 0.000158  Batch: [  900/ 1411]\n",
      "loss: 0.000088  Batch: [ 1000/ 1411]\n",
      "loss: 0.000304  Batch: [ 1100/ 1411]\n",
      "loss: 0.000006  Batch: [ 1200/ 1411]\n",
      "loss: 0.000100  Batch: [ 1300/ 1411]\n",
      "loss: 0.000219  Batch: [ 1400/ 1411]\n",
      "Test Error: \n",
      " Avg loss: 0.140962 \n",
      "\n",
      "Epoch 11\n",
      "-------------------------------\n",
      "loss: 0.023893  Batch: [    0/ 1411]\n",
      "loss: 0.000000  Batch: [  100/ 1411]\n",
      "loss: 0.000174  Batch: [  200/ 1411]\n",
      "loss: 0.006941  Batch: [  300/ 1411]\n",
      "loss: 0.000464  Batch: [  400/ 1411]\n",
      "loss: 0.000275  Batch: [  500/ 1411]\n",
      "loss: 0.000002  Batch: [  600/ 1411]\n",
      "loss: 0.000005  Batch: [  700/ 1411]\n",
      "loss: 0.000105  Batch: [  800/ 1411]\n",
      "loss: 0.000190  Batch: [  900/ 1411]\n",
      "loss: 0.000096  Batch: [ 1000/ 1411]\n",
      "loss: 0.000278  Batch: [ 1100/ 1411]\n",
      "loss: 0.000002  Batch: [ 1200/ 1411]\n",
      "loss: 0.000090  Batch: [ 1300/ 1411]\n",
      "loss: 0.000148  Batch: [ 1400/ 1411]\n",
      "Test Error: \n",
      " Avg loss: 0.127961 \n",
      "\n",
      "Epoch 12\n",
      "-------------------------------\n",
      "loss: 0.020732  Batch: [    0/ 1411]\n",
      "loss: 0.000000  Batch: [  100/ 1411]\n",
      "loss: 0.000140  Batch: [  200/ 1411]\n",
      "loss: 0.006517  Batch: [  300/ 1411]\n",
      "loss: 0.000428  Batch: [  400/ 1411]\n",
      "loss: 0.000251  Batch: [  500/ 1411]\n",
      "loss: 0.000002  Batch: [  600/ 1411]\n",
      "loss: 0.000001  Batch: [  700/ 1411]\n",
      "loss: 0.000096  Batch: [  800/ 1411]\n",
      "loss: 0.000217  Batch: [  900/ 1411]\n",
      "loss: 0.000105  Batch: [ 1000/ 1411]\n",
      "loss: 0.000253  Batch: [ 1100/ 1411]\n",
      "loss: 0.000001  Batch: [ 1200/ 1411]\n",
      "loss: 0.000078  Batch: [ 1300/ 1411]\n",
      "loss: 0.000094  Batch: [ 1400/ 1411]\n",
      "Test Error: \n",
      " Avg loss: 0.115684 \n",
      "\n",
      "Epoch 13\n",
      "-------------------------------\n",
      "loss: 0.018206  Batch: [    0/ 1411]\n",
      "loss: 0.000002  Batch: [  100/ 1411]\n",
      "loss: 0.000126  Batch: [  200/ 1411]\n",
      "loss: 0.006112  Batch: [  300/ 1411]\n",
      "loss: 0.000389  Batch: [  400/ 1411]\n",
      "loss: 0.000230  Batch: [  500/ 1411]\n",
      "loss: 0.000002  Batch: [  600/ 1411]\n",
      "loss: 0.000000  Batch: [  700/ 1411]\n",
      "loss: 0.000088  Batch: [  800/ 1411]\n",
      "loss: 0.000248  Batch: [  900/ 1411]\n",
      "loss: 0.000110  Batch: [ 1000/ 1411]\n",
      "loss: 0.000229  Batch: [ 1100/ 1411]\n",
      "loss: 0.000000  Batch: [ 1200/ 1411]\n",
      "loss: 0.000068  Batch: [ 1300/ 1411]\n",
      "loss: 0.000054  Batch: [ 1400/ 1411]\n",
      "Test Error: \n",
      " Avg loss: 0.104393 \n",
      "\n",
      "Epoch 14\n",
      "-------------------------------\n",
      "loss: 0.015853  Batch: [    0/ 1411]\n",
      "loss: 0.000003  Batch: [  100/ 1411]\n",
      "loss: 0.000113  Batch: [  200/ 1411]\n"
     ]
    },
    {
     "name": "stdout",
     "output_type": "stream",
     "text": [
      "loss: 0.005742  Batch: [  300/ 1411]\n",
      "loss: 0.000354  Batch: [  400/ 1411]\n",
      "loss: 0.000210  Batch: [  500/ 1411]\n",
      "loss: 0.000001  Batch: [  600/ 1411]\n",
      "loss: 0.000001  Batch: [  700/ 1411]\n",
      "loss: 0.000080  Batch: [  800/ 1411]\n",
      "loss: 0.000276  Batch: [  900/ 1411]\n",
      "loss: 0.000118  Batch: [ 1000/ 1411]\n",
      "loss: 0.000207  Batch: [ 1100/ 1411]\n",
      "loss: 0.000000  Batch: [ 1200/ 1411]\n",
      "loss: 0.000059  Batch: [ 1300/ 1411]\n",
      "loss: 0.000026  Batch: [ 1400/ 1411]\n",
      "Test Error: \n",
      " Avg loss: 0.094045 \n",
      "\n",
      "Epoch 15\n",
      "-------------------------------\n",
      "loss: 0.013770  Batch: [    0/ 1411]\n",
      "loss: 0.000005  Batch: [  100/ 1411]\n",
      "loss: 0.000101  Batch: [  200/ 1411]\n",
      "loss: 0.005400  Batch: [  300/ 1411]\n",
      "loss: 0.000326  Batch: [  400/ 1411]\n",
      "loss: 0.000192  Batch: [  500/ 1411]\n",
      "loss: 0.000001  Batch: [  600/ 1411]\n",
      "loss: 0.000003  Batch: [  700/ 1411]\n",
      "loss: 0.000070  Batch: [  800/ 1411]\n",
      "loss: 0.000299  Batch: [  900/ 1411]\n",
      "loss: 0.000124  Batch: [ 1000/ 1411]\n",
      "loss: 0.000186  Batch: [ 1100/ 1411]\n",
      "loss: 0.000002  Batch: [ 1200/ 1411]\n",
      "loss: 0.000053  Batch: [ 1300/ 1411]\n",
      "loss: 0.000012  Batch: [ 1400/ 1411]\n",
      "Test Error: \n",
      " Avg loss: 0.084707 \n",
      "\n",
      "Epoch 16\n",
      "-------------------------------\n",
      "loss: 0.011950  Batch: [    0/ 1411]\n",
      "loss: 0.000006  Batch: [  100/ 1411]\n",
      "loss: 0.000090  Batch: [  200/ 1411]\n",
      "loss: 0.005085  Batch: [  300/ 1411]\n",
      "loss: 0.000304  Batch: [  400/ 1411]\n",
      "loss: 0.000176  Batch: [  500/ 1411]\n",
      "loss: 0.000001  Batch: [  600/ 1411]\n",
      "loss: 0.000008  Batch: [  700/ 1411]\n",
      "loss: 0.000060  Batch: [  800/ 1411]\n",
      "loss: 0.000316  Batch: [  900/ 1411]\n",
      "loss: 0.000128  Batch: [ 1000/ 1411]\n",
      "loss: 0.000168  Batch: [ 1100/ 1411]\n",
      "loss: 0.000004  Batch: [ 1200/ 1411]\n",
      "loss: 0.000047  Batch: [ 1300/ 1411]\n",
      "loss: 0.000004  Batch: [ 1400/ 1411]\n",
      "Test Error: \n",
      " Avg loss: 0.076465 \n",
      "\n",
      "Epoch 17\n",
      "-------------------------------\n",
      "loss: 0.010369  Batch: [    0/ 1411]\n",
      "loss: 0.000008  Batch: [  100/ 1411]\n",
      "loss: 0.000080  Batch: [  200/ 1411]\n",
      "loss: 0.004797  Batch: [  300/ 1411]\n",
      "loss: 0.000285  Batch: [  400/ 1411]\n",
      "loss: 0.000162  Batch: [  500/ 1411]\n",
      "loss: 0.000000  Batch: [  600/ 1411]\n",
      "loss: 0.000014  Batch: [  700/ 1411]\n",
      "loss: 0.000052  Batch: [  800/ 1411]\n",
      "loss: 0.000318  Batch: [  900/ 1411]\n",
      "loss: 0.000131  Batch: [ 1000/ 1411]\n",
      "loss: 0.000150  Batch: [ 1100/ 1411]\n",
      "loss: 0.000007  Batch: [ 1200/ 1411]\n",
      "loss: 0.000042  Batch: [ 1300/ 1411]\n",
      "loss: 0.000000  Batch: [ 1400/ 1411]\n",
      "Test Error: \n",
      " Avg loss: 0.069178 \n",
      "\n",
      "Epoch 18\n",
      "-------------------------------\n",
      "loss: 0.009090  Batch: [    0/ 1411]\n",
      "loss: 0.000009  Batch: [  100/ 1411]\n",
      "loss: 0.000071  Batch: [  200/ 1411]\n",
      "loss: 0.004535  Batch: [  300/ 1411]\n",
      "loss: 0.000266  Batch: [  400/ 1411]\n",
      "loss: 0.000150  Batch: [  500/ 1411]\n",
      "loss: 0.000000  Batch: [  600/ 1411]\n",
      "loss: 0.000019  Batch: [  700/ 1411]\n",
      "loss: 0.000045  Batch: [  800/ 1411]\n",
      "loss: 0.000313  Batch: [  900/ 1411]\n",
      "loss: 0.000132  Batch: [ 1000/ 1411]\n",
      "loss: 0.000130  Batch: [ 1100/ 1411]\n",
      "loss: 0.000011  Batch: [ 1200/ 1411]\n",
      "loss: 0.000038  Batch: [ 1300/ 1411]\n",
      "loss: 0.000001  Batch: [ 1400/ 1411]\n",
      "Test Error: \n",
      " Avg loss: 0.062717 \n",
      "\n",
      "Epoch 19\n",
      "-------------------------------\n",
      "loss: 0.007975  Batch: [    0/ 1411]\n",
      "loss: 0.000010  Batch: [  100/ 1411]\n",
      "loss: 0.000059  Batch: [  200/ 1411]\n",
      "loss: 0.004293  Batch: [  300/ 1411]\n",
      "loss: 0.000252  Batch: [  400/ 1411]\n",
      "loss: 0.000132  Batch: [  500/ 1411]\n",
      "loss: 0.000000  Batch: [  600/ 1411]\n",
      "loss: 0.000024  Batch: [  700/ 1411]\n",
      "loss: 0.000040  Batch: [  800/ 1411]\n",
      "loss: 0.000312  Batch: [  900/ 1411]\n",
      "loss: 0.000131  Batch: [ 1000/ 1411]\n",
      "loss: 0.000116  Batch: [ 1100/ 1411]\n",
      "loss: 0.000015  Batch: [ 1200/ 1411]\n",
      "loss: 0.000034  Batch: [ 1300/ 1411]\n",
      "loss: 0.000004  Batch: [ 1400/ 1411]\n",
      "Test Error: \n",
      " Avg loss: 0.057037 \n",
      "\n",
      "Epoch 20\n",
      "-------------------------------\n",
      "loss: 0.006968  Batch: [    0/ 1411]\n",
      "loss: 0.000011  Batch: [  100/ 1411]\n",
      "loss: 0.000049  Batch: [  200/ 1411]\n",
      "loss: 0.004071  Batch: [  300/ 1411]\n",
      "loss: 0.000248  Batch: [  400/ 1411]\n",
      "loss: 0.000122  Batch: [  500/ 1411]\n",
      "loss: 0.000000  Batch: [  600/ 1411]\n",
      "loss: 0.000029  Batch: [  700/ 1411]\n",
      "loss: 0.000035  Batch: [  800/ 1411]\n",
      "loss: 0.000309  Batch: [  900/ 1411]\n",
      "loss: 0.000124  Batch: [ 1000/ 1411]\n",
      "loss: 0.000114  Batch: [ 1100/ 1411]\n",
      "loss: 0.000019  Batch: [ 1200/ 1411]\n",
      "loss: 0.000032  Batch: [ 1300/ 1411]\n",
      "loss: 0.000010  Batch: [ 1400/ 1411]\n",
      "Test Error: \n",
      " Avg loss: 0.052072 \n",
      "\n",
      "Done!\n"
     ]
    }
   ],
   "source": [
    "EPOCHS = 20\n",
    "tlosses = []\n",
    "vlosses = []\n",
    "\n",
    "for t in range(EPOCHS):\n",
    "    print(f\"Epoch {t + 1}\\n-------------------------------\")\n",
    "    etlosses = train(train_dataset, model, loss_fn, optimizer)\n",
    "    tlosses.append(sum(etlosses)/len(etlosses))\n",
    "    evlosses = test(test_dataset, model, loss_fn)\n",
    "    vlosses.append(sum(evlosses)/len(evlosses))\n",
    "print(\"Done!\")"
   ]
  },
  {
   "cell_type": "markdown",
   "id": "3840cbf9-6fab-4db0-a7d4-9409d40cc30f",
   "metadata": {},
   "source": [
    "## Final Prediction"
   ]
  },
  {
   "cell_type": "code",
   "execution_count": 61,
   "id": "0032b895-8061-4bf4-bf33-7dad617a3a81",
   "metadata": {},
   "outputs": [
    {
     "name": "stdout",
     "output_type": "stream",
     "text": [
      "Predicted next-day price based on 50 previous ones: 28399.970703125\n"
     ]
    }
   ],
   "source": [
    "model.eval()\n",
    "data = dataset['Close']\n",
    "data = torch.Tensor(data[-50:].values)\n",
    "output = model(data)\n",
    "print(f'Predicted next-day price based on 50 previous ones: {output.item()}')"
   ]
  },
  {
   "cell_type": "markdown",
   "id": "3063c049-e6f1-4c35-86ff-de8a31d36225",
   "metadata": {
    "tags": []
   },
   "source": [
    "## Plotting Losses (Training and Testing)"
   ]
  },
  {
   "cell_type": "code",
   "execution_count": 62,
   "id": "85ac2bbb-bb6c-446f-a6d7-0daf4d51595e",
   "metadata": {},
   "outputs": [
    {
     "data": {
      "text/plain": [
       "<matplotlib.legend.Legend at 0x1ecb772ac10>"
      ]
     },
     "execution_count": 62,
     "metadata": {},
     "output_type": "execute_result"
    },
    {
     "data": {
      "image/png": "[encoded data removed]",
      "text/plain": [
       "<Figure size 432x288 with 1 Axes>"
      ]
     },
     "metadata": {
      "needs_background": "light"
     },
     "output_type": "display_data"
    }
   ],
   "source": [
    "plt.plot(np.linspace(1, EPOCHS, EPOCHS), tlosses)\n",
    "plt.plot(np.linspace(1, EPOCHS, EPOCHS), vlosses) \n",
    "plt.legend(['Training Loss', 'Testing Loss'])"
   ]
  },
  {
   "cell_type": "markdown",
   "id": "76e57231-72b2-4d65-b699-6edfb10154a8",
   "metadata": {},
   "source": [
    "# **Comparing Models**"
   ]
  },
  {
   "cell_type": "code",
   "execution_count": 63,
   "id": "e9367924-f77d-4dde-a32e-a155febdf2dc",
   "metadata": {},
   "outputs": [
    {
     "data": {
      "text/html": [
       "<div>\n",
       "<style scoped>\n",
       "    .dataframe tbody tr th:only-of-type {\n",
       "        vertical-align: middle;\n",
       "    }\n",
       "\n",
       "    .dataframe tbody tr th {\n",
       "        vertical-align: top;\n",
       "    }\n",
       "\n",
       "    .dataframe thead th {\n",
       "        text-align: right;\n",
       "    }\n",
       "</style>\n",
       "<table border=\"1\" class=\"dataframe\">\n",
       "  <thead>\n",
       "    <tr style=\"text-align: right;\">\n",
       "      <th></th>\n",
       "      <th>Linear Regression</th>\n",
       "      <th>Logistic Regression</th>\n",
       "      <th>Neural Network</th>\n",
       "    </tr>\n",
       "  </thead>\n",
       "  <tbody>\n",
       "    <tr>\n",
       "      <th>0</th>\n",
       "      <td>0.000032</td>\n",
       "      <td>15.418039</td>\n",
       "      <td>7.027857</td>\n",
       "    </tr>\n",
       "  </tbody>\n",
       "</table>\n",
       "</div>"
      ],
      "text/plain": [
       "   Linear Regression  Logistic Regression  Neural Network\n",
       "0           0.000032            15.418039        7.027857"
      ]
     },
     "execution_count": 63,
     "metadata": {},
     "output_type": "execute_result"
    }
   ],
   "source": [
    "compDf = pd.DataFrame({'Linear Regression': mse_lin, 'Logistic Regression': error, 'Neural Network': vlosses[-1]},index=[0])\n",
    "compDf"
   ]
  },
  {
   "cell_type": "markdown",
   "id": "636451ba",
   "metadata": {},
   "source": [
    "As we can see, Linear Regression has the best metrics. "
   ]
  }
 ],
 "metadata": {
  "kernelspec": {
   "display_name": "Python 3 (ipykernel)",
   "language": "python",
   "name": "python3"
  },
  "language_info": {
   "codemirror_mode": {
    "name": "ipython",
    "version": 3
   },
   "file_extension": ".py",
   "mimetype": "text/x-python",
   "name": "python",
   "nbconvert_exporter": "python",
   "pygments_lexer": "ipython3",
   "version": "3.9.9"
  }
 },
 "nbformat": 4,
 "nbformat_minor": 5
}
