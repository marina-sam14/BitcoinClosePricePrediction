{
 "cells": [
  {
   "cell_type": "code",
<<<<<<< HEAD
   "execution_count": null,
=======
   "execution_count": 31,
>>>>>>> 2318af0db84308d2cacfc1b6ff51ed155bf393b9
   "id": "01b3f777",
   "metadata": {},
   "outputs": [],
   "source": [
    "import pandas as pd\n",
    "import numpy as np\n",
    "import matplotlib.pyplot  as plt\n",
    "\n",
    "from sklearn.linear_model import LinearRegression, LogisticRegression\n",
    "from sklearn.model_selection import train_test_split\n",
    "from sklearn.preprocessing import MinMaxScaler\n",
    "from sklearn.metrics import mean_squared_error, mean_absolute_error, classification_report\n",
    "from sklearn import metrics"
   ]
  },
  {
   "cell_type": "code",
<<<<<<< HEAD
   "execution_count": null,
   "id": "d8610fc4",
   "metadata": {},
   "outputs": [],
=======
   "execution_count": 32,
   "id": "d8610fc4",
   "metadata": {},
   "outputs": [
    {
     "name": "stdout",
     "output_type": "stream",
     "text": [
      "(1827, 7)\n"
     ]
    },
    {
     "data": {
      "text/html": [
       "<div>\n",
       "<style scoped>\n",
       "    .dataframe tbody tr th:only-of-type {\n",
       "        vertical-align: middle;\n",
       "    }\n",
       "\n",
       "    .dataframe tbody tr th {\n",
       "        vertical-align: top;\n",
       "    }\n",
       "\n",
       "    .dataframe thead th {\n",
       "        text-align: right;\n",
       "    }\n",
       "</style>\n",
       "<table border=\"1\" class=\"dataframe\">\n",
       "  <thead>\n",
       "    <tr style=\"text-align: right;\">\n",
       "      <th></th>\n",
       "      <th>Date</th>\n",
       "      <th>Open</th>\n",
       "      <th>High</th>\n",
       "      <th>Low</th>\n",
       "      <th>Close</th>\n",
       "      <th>Adj Close</th>\n",
       "      <th>Volume</th>\n",
       "    </tr>\n",
       "  </thead>\n",
       "  <tbody>\n",
       "    <tr>\n",
       "      <th>0</th>\n",
       "      <td>2016-12-21</td>\n",
       "      <td>800.643982</td>\n",
       "      <td>834.281006</td>\n",
       "      <td>799.405029</td>\n",
       "      <td>834.281006</td>\n",
       "      <td>834.281006</td>\n",
       "      <td>155576000</td>\n",
       "    </tr>\n",
       "    <tr>\n",
       "      <th>1</th>\n",
       "      <td>2016-12-22</td>\n",
       "      <td>834.179993</td>\n",
       "      <td>875.781982</td>\n",
       "      <td>834.148987</td>\n",
       "      <td>864.539978</td>\n",
       "      <td>864.539978</td>\n",
       "      <td>200027008</td>\n",
       "    </tr>\n",
       "    <tr>\n",
       "      <th>2</th>\n",
       "      <td>2016-12-23</td>\n",
       "      <td>864.888000</td>\n",
       "      <td>925.117004</td>\n",
       "      <td>864.677002</td>\n",
       "      <td>921.984009</td>\n",
       "      <td>921.984009</td>\n",
       "      <td>275564000</td>\n",
       "    </tr>\n",
       "    <tr>\n",
       "      <th>3</th>\n",
       "      <td>2016-12-24</td>\n",
       "      <td>922.179993</td>\n",
       "      <td>923.479004</td>\n",
       "      <td>886.335022</td>\n",
       "      <td>898.822021</td>\n",
       "      <td>898.822021</td>\n",
       "      <td>137727008</td>\n",
       "    </tr>\n",
       "    <tr>\n",
       "      <th>4</th>\n",
       "      <td>2016-12-25</td>\n",
       "      <td>899.651978</td>\n",
       "      <td>899.651978</td>\n",
       "      <td>862.424011</td>\n",
       "      <td>896.182983</td>\n",
       "      <td>896.182983</td>\n",
       "      <td>143664992</td>\n",
       "    </tr>\n",
       "  </tbody>\n",
       "</table>\n",
       "</div>"
      ],
      "text/plain": [
       "         Date        Open        High         Low       Close   Adj Close  \\\n",
       "0  2016-12-21  800.643982  834.281006  799.405029  834.281006  834.281006   \n",
       "1  2016-12-22  834.179993  875.781982  834.148987  864.539978  864.539978   \n",
       "2  2016-12-23  864.888000  925.117004  864.677002  921.984009  921.984009   \n",
       "3  2016-12-24  922.179993  923.479004  886.335022  898.822021  898.822021   \n",
       "4  2016-12-25  899.651978  899.651978  862.424011  896.182983  896.182983   \n",
       "\n",
       "      Volume  \n",
       "0  155576000  \n",
       "1  200027008  \n",
       "2  275564000  \n",
       "3  137727008  \n",
       "4  143664992  "
      ]
     },
     "execution_count": 32,
     "metadata": {},
     "output_type": "execute_result"
    }
   ],
>>>>>>> 2318af0db84308d2cacfc1b6ff51ed155bf393b9
   "source": [
    "dataset = pd.read_csv(\"Data/BTC-USD.csv\")\n",
    "print(dataset.shape)\n",
    "dataset.head()"
   ]
  },
  {
   "cell_type": "code",
<<<<<<< HEAD
   "execution_count": null,
   "id": "e7f588f9",
   "metadata": {},
   "outputs": [],
=======
   "execution_count": 33,
   "id": "e7f588f9",
   "metadata": {},
   "outputs": [
    {
     "data": {
      "text/html": [
       "<div>\n",
       "<style scoped>\n",
       "    .dataframe tbody tr th:only-of-type {\n",
       "        vertical-align: middle;\n",
       "    }\n",
       "\n",
       "    .dataframe tbody tr th {\n",
       "        vertical-align: top;\n",
       "    }\n",
       "\n",
       "    .dataframe thead th {\n",
       "        text-align: right;\n",
       "    }\n",
       "</style>\n",
       "<table border=\"1\" class=\"dataframe\">\n",
       "  <thead>\n",
       "    <tr style=\"text-align: right;\">\n",
       "      <th></th>\n",
       "      <th>Open</th>\n",
       "      <th>High</th>\n",
       "      <th>Low</th>\n",
       "      <th>Close</th>\n",
       "      <th>Adj Close</th>\n",
       "      <th>Volume</th>\n",
       "    </tr>\n",
       "  </thead>\n",
       "  <tbody>\n",
       "    <tr>\n",
       "      <th>count</th>\n",
       "      <td>1827.000000</td>\n",
       "      <td>1827.000000</td>\n",
       "      <td>1827.000000</td>\n",
       "      <td>1827.000000</td>\n",
       "      <td>1827.000000</td>\n",
       "      <td>1.827000e+03</td>\n",
       "    </tr>\n",
       "    <tr>\n",
       "      <th>mean</th>\n",
       "      <td>15208.247358</td>\n",
       "      <td>15629.267253</td>\n",
       "      <td>14746.920288</td>\n",
       "      <td>15231.832471</td>\n",
       "      <td>15231.832471</td>\n",
       "      <td>2.092230e+10</td>\n",
       "    </tr>\n",
       "    <tr>\n",
       "      <th>std</th>\n",
       "      <td>16829.476707</td>\n",
       "      <td>17296.796539</td>\n",
       "      <td>16289.465757</td>\n",
       "      <td>16838.811505</td>\n",
       "      <td>16838.811505</td>\n",
       "      <td>2.122934e+10</td>\n",
       "    </tr>\n",
       "    <tr>\n",
       "      <th>min</th>\n",
       "      <td>775.177979</td>\n",
       "      <td>823.307007</td>\n",
       "      <td>755.755981</td>\n",
       "      <td>777.757019</td>\n",
       "      <td>777.757019</td>\n",
       "      <td>6.085170e+07</td>\n",
       "    </tr>\n",
       "    <tr>\n",
       "      <th>25%</th>\n",
       "      <td>5308.327637</td>\n",
       "      <td>5422.169434</td>\n",
       "      <td>5221.697753</td>\n",
       "      <td>5319.541504</td>\n",
       "      <td>5319.541504</td>\n",
       "      <td>4.474525e+09</td>\n",
       "    </tr>\n",
       "    <tr>\n",
       "      <th>50%</th>\n",
       "      <td>8585.262695</td>\n",
       "      <td>8744.828125</td>\n",
       "      <td>8313.340820</td>\n",
       "      <td>8595.740234</td>\n",
       "      <td>8595.740234</td>\n",
       "      <td>1.607165e+10</td>\n",
       "    </tr>\n",
       "    <tr>\n",
       "      <th>75%</th>\n",
       "      <td>13500.216309</td>\n",
       "      <td>13852.566406</td>\n",
       "      <td>12921.156250</td>\n",
       "      <td>13548.505860</td>\n",
       "      <td>13548.505860</td>\n",
       "      <td>3.260844e+10</td>\n",
       "    </tr>\n",
       "    <tr>\n",
       "      <th>max</th>\n",
       "      <td>67549.734375</td>\n",
       "      <td>68789.625000</td>\n",
       "      <td>66382.062500</td>\n",
       "      <td>67566.828125</td>\n",
       "      <td>67566.828125</td>\n",
       "      <td>3.509679e+11</td>\n",
       "    </tr>\n",
       "  </tbody>\n",
       "</table>\n",
       "</div>"
      ],
      "text/plain": [
       "               Open          High           Low         Close     Adj Close  \\\n",
       "count   1827.000000   1827.000000   1827.000000   1827.000000   1827.000000   \n",
       "mean   15208.247358  15629.267253  14746.920288  15231.832471  15231.832471   \n",
       "std    16829.476707  17296.796539  16289.465757  16838.811505  16838.811505   \n",
       "min      775.177979    823.307007    755.755981    777.757019    777.757019   \n",
       "25%     5308.327637   5422.169434   5221.697753   5319.541504   5319.541504   \n",
       "50%     8585.262695   8744.828125   8313.340820   8595.740234   8595.740234   \n",
       "75%    13500.216309  13852.566406  12921.156250  13548.505860  13548.505860   \n",
       "max    67549.734375  68789.625000  66382.062500  67566.828125  67566.828125   \n",
       "\n",
       "             Volume  \n",
       "count  1.827000e+03  \n",
       "mean   2.092230e+10  \n",
       "std    2.122934e+10  \n",
       "min    6.085170e+07  \n",
       "25%    4.474525e+09  \n",
       "50%    1.607165e+10  \n",
       "75%    3.260844e+10  \n",
       "max    3.509679e+11  "
      ]
     },
     "execution_count": 33,
     "metadata": {},
     "output_type": "execute_result"
    }
   ],
>>>>>>> 2318af0db84308d2cacfc1b6ff51ed155bf393b9
   "source": [
    "dataset.describe()"
   ]
  },
  {
   "cell_type": "code",
<<<<<<< HEAD
   "execution_count": null,
=======
   "execution_count": 34,
   "id": "ab9fc0b9",
   "metadata": {},
   "outputs": [],
   "source": [
    "dataset['pos_neg']= dataset['Open']-dataset['Close']\n",
    "dataset.head()\n",
    "#create a binary column - 0 = gain, 1 = loss to have something to predict\n",
    "dataset['Up/Down'] = np.where(dataset['pos_neg']>0, '0', '1')"
   ]
  },
  {
   "cell_type": "code",
   "execution_count": 35,
>>>>>>> 2318af0db84308d2cacfc1b6ff51ed155bf393b9
   "id": "66357e5f-05a7-4580-bfa8-e03362686b9a",
   "metadata": {},
   "outputs": [],
   "source": [
    "####### Preprocessing #######"
   ]
  },
  {
   "cell_type": "code",
<<<<<<< HEAD
   "execution_count": null,
=======
   "execution_count": 36,
>>>>>>> 2318af0db84308d2cacfc1b6ff51ed155bf393b9
   "id": "44b86921-5664-4b2a-966d-830e20ad2e51",
   "metadata": {
    "tags": []
   },
<<<<<<< HEAD
   "outputs": [],
=======
   "outputs": [
    {
     "name": "stderr",
     "output_type": "stream",
     "text": [
      "C:\\Users\\Μαρίνα Σαμ\\AppData\\Local\\Programs\\Python\\Python39\\lib\\site-packages\\pandas\\core\\frame.py:3678: SettingWithCopyWarning: \n",
      "A value is trying to be set on a copy of a slice from a DataFrame.\n",
      "Try using .loc[row_indexer,col_indexer] = value instead\n",
      "\n",
      "See the caveats in the documentation: https://pandas.pydata.org/pandas-docs/stable/user_guide/indexing.html#returning-a-view-versus-a-copy\n",
      "  self[col] = igetitem(value, i)\n"
     ]
    },
    {
     "data": {
      "text/html": [
       "<div>\n",
       "<style scoped>\n",
       "    .dataframe tbody tr th:only-of-type {\n",
       "        vertical-align: middle;\n",
       "    }\n",
       "\n",
       "    .dataframe tbody tr th {\n",
       "        vertical-align: top;\n",
       "    }\n",
       "\n",
       "    .dataframe thead th {\n",
       "        text-align: right;\n",
       "    }\n",
       "</style>\n",
       "<table border=\"1\" class=\"dataframe\">\n",
       "  <thead>\n",
       "    <tr style=\"text-align: right;\">\n",
       "      <th></th>\n",
       "      <th>Open</th>\n",
       "      <th>High</th>\n",
       "      <th>Low</th>\n",
       "      <th>Close</th>\n",
       "      <th>Volume</th>\n",
       "      <th>Up/Down</th>\n",
       "    </tr>\n",
       "  </thead>\n",
       "  <tbody>\n",
       "    <tr>\n",
       "      <th>0</th>\n",
       "      <td>0.000381</td>\n",
       "      <td>0.000161</td>\n",
       "      <td>0.000665</td>\n",
       "      <td>0.000846</td>\n",
       "      <td>0.000270</td>\n",
       "      <td>1.0</td>\n",
       "    </tr>\n",
       "    <tr>\n",
       "      <th>1</th>\n",
       "      <td>0.000884</td>\n",
       "      <td>0.000772</td>\n",
       "      <td>0.001195</td>\n",
       "      <td>0.001299</td>\n",
       "      <td>0.000397</td>\n",
       "      <td>1.0</td>\n",
       "    </tr>\n",
       "    <tr>\n",
       "      <th>2</th>\n",
       "      <td>0.001343</td>\n",
       "      <td>0.001498</td>\n",
       "      <td>0.001660</td>\n",
       "      <td>0.002159</td>\n",
       "      <td>0.000612</td>\n",
       "      <td>1.0</td>\n",
       "    </tr>\n",
       "    <tr>\n",
       "      <th>3</th>\n",
       "      <td>0.002201</td>\n",
       "      <td>0.001474</td>\n",
       "      <td>0.001990</td>\n",
       "      <td>0.001813</td>\n",
       "      <td>0.000219</td>\n",
       "      <td>0.0</td>\n",
       "    </tr>\n",
       "    <tr>\n",
       "      <th>4</th>\n",
       "      <td>0.001864</td>\n",
       "      <td>0.001123</td>\n",
       "      <td>0.001625</td>\n",
       "      <td>0.001773</td>\n",
       "      <td>0.000236</td>\n",
       "      <td>0.0</td>\n",
       "    </tr>\n",
       "    <tr>\n",
       "      <th>...</th>\n",
       "      <td>...</td>\n",
       "      <td>...</td>\n",
       "      <td>...</td>\n",
       "      <td>...</td>\n",
       "      <td>...</td>\n",
       "      <td>...</td>\n",
       "    </tr>\n",
       "    <tr>\n",
       "      <th>1822</th>\n",
       "      <td>0.702042</td>\n",
       "      <td>0.694191</td>\n",
       "      <td>0.683605</td>\n",
       "      <td>0.680117</td>\n",
       "      <td>0.093591</td>\n",
       "      <td>0.0</td>\n",
       "    </tr>\n",
       "    <tr>\n",
       "      <th>1823</th>\n",
       "      <td>0.680560</td>\n",
       "      <td>0.684023</td>\n",
       "      <td>0.683304</td>\n",
       "      <td>0.689799</td>\n",
       "      <td>0.074200</td>\n",
       "      <td>1.0</td>\n",
       "    </tr>\n",
       "    <tr>\n",
       "      <th>1824</th>\n",
       "      <td>0.690064</td>\n",
       "      <td>0.695438</td>\n",
       "      <td>0.697086</td>\n",
       "      <td>0.687676</td>\n",
       "      <td>0.071510</td>\n",
       "      <td>0.0</td>\n",
       "    </tr>\n",
       "    <tr>\n",
       "      <th>1825</th>\n",
       "      <td>0.687865</td>\n",
       "      <td>0.685316</td>\n",
       "      <td>0.683020</td>\n",
       "      <td>0.690270</td>\n",
       "      <td>0.088060</td>\n",
       "      <td>1.0</td>\n",
       "    </tr>\n",
       "    <tr>\n",
       "      <th>1826</th>\n",
       "      <td>0.692031</td>\n",
       "      <td>0.707539</td>\n",
       "      <td>0.700695</td>\n",
       "      <td>0.715508</td>\n",
       "      <td>0.087419</td>\n",
       "      <td>1.0</td>\n",
       "    </tr>\n",
       "  </tbody>\n",
       "</table>\n",
       "<p>1827 rows × 6 columns</p>\n",
       "</div>"
      ],
      "text/plain": [
       "          Open      High       Low     Close    Volume  Up/Down\n",
       "0     0.000381  0.000161  0.000665  0.000846  0.000270      1.0\n",
       "1     0.000884  0.000772  0.001195  0.001299  0.000397      1.0\n",
       "2     0.001343  0.001498  0.001660  0.002159  0.000612      1.0\n",
       "3     0.002201  0.001474  0.001990  0.001813  0.000219      0.0\n",
       "4     0.001864  0.001123  0.001625  0.001773  0.000236      0.0\n",
       "...        ...       ...       ...       ...       ...      ...\n",
       "1822  0.702042  0.694191  0.683605  0.680117  0.093591      0.0\n",
       "1823  0.680560  0.684023  0.683304  0.689799  0.074200      1.0\n",
       "1824  0.690064  0.695438  0.697086  0.687676  0.071510      0.0\n",
       "1825  0.687865  0.685316  0.683020  0.690270  0.088060      1.0\n",
       "1826  0.692031  0.707539  0.700695  0.715508  0.087419      1.0\n",
       "\n",
       "[1827 rows x 6 columns]"
      ]
     },
     "execution_count": 36,
     "metadata": {},
     "output_type": "execute_result"
    }
   ],
>>>>>>> 2318af0db84308d2cacfc1b6ff51ed155bf393b9
   "source": [
    "#### Scaling ####\n",
    "scaled_data = dataset[['Open', 'High', 'Low', 'Close', 'Volume','Up/Down']]\n",
    "scaler = MinMaxScaler(copy=False)\n",
    "scaled_data[['Open', 'High', 'Low', 'Close', 'Volume','Up/Down']] = scaler.fit_transform(scaled_data[['Open', 'High', 'Low', 'Close', 'Volume','Up/Down']])\n",
    "scaled_data"
   ]
  },
  {
   "cell_type": "code",
   "execution_count": 37,
   "id": "b6cc0e4e",
   "metadata": {},
   "outputs": [
    {
     "name": "stdout",
     "output_type": "stream",
     "text": [
      "(1278, 4)\n",
      "(1278,)\n",
      "(549, 4)\n",
      "(549,)\n"
     ]
    }
   ],
   "source": [
    "X = scaled_data[['Open', 'High', 'Low', 'Volume']]\n",
    "y = scaled_data['Close']\n",
    "X_train, X_test, y_train, y_test = train_test_split(X, y, test_size=0.3, random_state=42, shuffle=False)\n",
    "print(X_train.shape)\n",
    "print(y_train.shape)\n",
    "print(X_test.shape)\n",
    "print(y_test.shape)"
   ]
  },
  {
   "cell_type": "code",
   "execution_count": 38,
   "id": "5ece53bd-6a5d-4f58-9227-9c094569dc6e",
   "metadata": {},
   "outputs": [],
   "source": [
    "####### Linear Regression #######"
   ]
  },
  {
   "cell_type": "code",
   "execution_count": 39,
   "id": "1814380f",
   "metadata": {},
   "outputs": [
    {
     "name": "stdout",
     "output_type": "stream",
     "text": [
      "Coefficients: \n",
      " [-0.54594623  0.89860336  0.64917203 -0.00229671]\n",
      "Intercept: \n",
      " 0.00032983741724930404\n"
     ]
    }
   ],
   "source": [
    "#### Training ####\n",
    "linReg = LinearRegression()\n",
    "linReg.fit(X_train, y_train)\n",
    "print(\"Coefficients: \\n\", linReg.coef_)\n",
    "print(\"Intercept: \\n\", linReg.intercept_)"
   ]
  },
  {
   "cell_type": "code",
   "execution_count": 40,
   "id": "4179625c-5777-4547-9b97-f9fb8d7b9c8a",
   "metadata": {},
   "outputs": [
    {
     "data": {
      "text/html": [
       "<div>\n",
       "<style scoped>\n",
       "    .dataframe tbody tr th:only-of-type {\n",
       "        vertical-align: middle;\n",
       "    }\n",
       "\n",
       "    .dataframe tbody tr th {\n",
       "        vertical-align: top;\n",
       "    }\n",
       "\n",
       "    .dataframe thead th {\n",
       "        text-align: right;\n",
       "    }\n",
       "</style>\n",
       "<table border=\"1\" class=\"dataframe\">\n",
       "  <thead>\n",
       "    <tr style=\"text-align: right;\">\n",
       "      <th></th>\n",
       "      <th>Actual_Price</th>\n",
       "      <th>Predicted_Price</th>\n",
       "    </tr>\n",
       "  </thead>\n",
       "  <tbody>\n",
       "    <tr>\n",
       "      <th>1278</th>\n",
       "      <td>0.127654</td>\n",
       "      <td>0.128212</td>\n",
       "    </tr>\n",
       "    <tr>\n",
       "      <th>1279</th>\n",
       "      <td>0.132821</td>\n",
       "      <td>0.131742</td>\n",
       "    </tr>\n",
       "    <tr>\n",
       "      <th>1280</th>\n",
       "      <td>0.132535</td>\n",
       "      <td>0.131644</td>\n",
       "    </tr>\n",
       "    <tr>\n",
       "      <th>1281</th>\n",
       "      <td>0.127803</td>\n",
       "      <td>0.129198</td>\n",
       "    </tr>\n",
       "    <tr>\n",
       "      <th>1282</th>\n",
       "      <td>0.127073</td>\n",
       "      <td>0.125493</td>\n",
       "    </tr>\n",
       "  </tbody>\n",
       "</table>\n",
       "</div>"
      ],
      "text/plain": [
       "      Actual_Price  Predicted_Price\n",
       "1278      0.127654         0.128212\n",
       "1279      0.132821         0.131742\n",
       "1280      0.132535         0.131644\n",
       "1281      0.127803         0.129198\n",
       "1282      0.127073         0.125493"
      ]
     },
     "execution_count": 40,
     "metadata": {},
     "output_type": "execute_result"
    }
   ],
   "source": [
    "#### Testing ####\n",
    "y_pred_lin = linReg.predict(X_test)\n",
    "dfp = pd.DataFrame({'Actual_Price': y_test, 'Predicted_Price': y_pred_lin})\n",
    "dfp.head()"
   ]
  },
  {
   "cell_type": "code",
   "execution_count": 41,
   "id": "e807ea0f",
   "metadata": {},
   "outputs": [
    {
     "name": "stdout",
     "output_type": "stream",
     "text": [
      "Linear Regression Score:  0.9986702114127007\n",
      "Absolute Squared Error:  0.006548516106754449\n",
      "Mean Squared Error:  9.93455497730582e-05\n"
     ]
    }
   ],
   "source": [
    "reg_score = linReg.score(X_test, y_test)\n",
    "print(\"Linear Regression Score: \", reg_score)\n",
    "print(\"Absolute Squared Error: \", mean_absolute_error(y_test, y_pred_lin))\n",
    "print(\"Mean Squared Error: \", mean_squared_error(y_test, y_pred_lin))"
   ]
  },
  {
   "cell_type": "code",
   "execution_count": 42,
   "id": "974bb78e",
   "metadata": {},
   "outputs": [
    {
     "data": {
      "text/html": [
       "<div>\n",
       "<style scoped>\n",
       "    .dataframe tbody tr th:only-of-type {\n",
       "        vertical-align: middle;\n",
       "    }\n",
       "\n",
       "    .dataframe tbody tr th {\n",
       "        vertical-align: top;\n",
       "    }\n",
       "\n",
       "    .dataframe thead th {\n",
       "        text-align: right;\n",
       "    }\n",
       "</style>\n",
       "<table border=\"1\" class=\"dataframe\">\n",
       "  <thead>\n",
       "    <tr style=\"text-align: right;\">\n",
       "      <th></th>\n",
       "      <th>Actual_Price</th>\n",
       "      <th>Predicted_Price</th>\n",
       "    </tr>\n",
       "  </thead>\n",
       "  <tbody>\n",
       "    <tr>\n",
       "      <th>count</th>\n",
       "      <td>549.000000</td>\n",
       "      <td>549.000000</td>\n",
       "    </tr>\n",
       "    <tr>\n",
       "      <th>mean</th>\n",
       "      <td>0.518665</td>\n",
       "      <td>0.518430</td>\n",
       "    </tr>\n",
       "    <tr>\n",
       "      <th>std</th>\n",
       "      <td>0.273577</td>\n",
       "      <td>0.273885</td>\n",
       "    </tr>\n",
       "    <tr>\n",
       "      <th>min</th>\n",
       "      <td>0.123787</td>\n",
       "      <td>0.123544</td>\n",
       "    </tr>\n",
       "    <tr>\n",
       "      <th>25%</th>\n",
       "      <td>0.210454</td>\n",
       "      <td>0.211550</td>\n",
       "    </tr>\n",
       "    <tr>\n",
       "      <th>50%</th>\n",
       "      <td>0.547075</td>\n",
       "      <td>0.543719</td>\n",
       "    </tr>\n",
       "    <tr>\n",
       "      <th>75%</th>\n",
       "      <td>0.737742</td>\n",
       "      <td>0.737600</td>\n",
       "    </tr>\n",
       "    <tr>\n",
       "      <th>max</th>\n",
       "      <td>1.000000</td>\n",
       "      <td>0.998454</td>\n",
       "    </tr>\n",
       "  </tbody>\n",
       "</table>\n",
       "</div>"
      ],
      "text/plain": [
       "       Actual_Price  Predicted_Price\n",
       "count    549.000000       549.000000\n",
       "mean       0.518665         0.518430\n",
       "std        0.273577         0.273885\n",
       "min        0.123787         0.123544\n",
       "25%        0.210454         0.211550\n",
       "50%        0.547075         0.543719\n",
       "75%        0.737742         0.737600\n",
       "max        1.000000         0.998454"
      ]
     },
     "execution_count": 42,
     "metadata": {},
     "output_type": "execute_result"
    }
   ],
   "source": [
    "dfp.describe()"
   ]
  },
  {
   "cell_type": "code",
   "execution_count": 43,
   "id": "801c83ce-ccc9-4d0a-926d-d81e15c76247",
   "metadata": {},
   "outputs": [
    {
     "data": {
      "text/plain": [
       "1278    0.128212\n",
       "1279    0.131742\n",
       "1280    0.131644\n",
       "1281    0.129198\n",
       "1282    0.125493\n",
       "          ...   \n",
       "1822    0.684417\n",
       "1823    0.686857\n",
       "1824    0.700880\n",
       "1825    0.683815\n",
       "1826    0.712986\n",
       "Length: 549, dtype: float64"
      ]
     },
     "execution_count": 43,
     "metadata": {},
     "output_type": "execute_result"
    }
   ],
   "source": [
    "y = linReg.coef_[0] * X_test['Open'] + linReg.coef_[1] * X_test['High'] + linReg.coef_[2] * X_test['Low'] + linReg.coef_[3] * X_test['Volume'] + linReg.intercept_\n",
    "y"
   ]
  },
  {
   "cell_type": "code",
   "execution_count": 44,
   "id": "684da402-b075-4004-a001-00284fb28ea3",
   "metadata": {},
   "outputs": [
    {
     "data": {
      "text/plain": [
       "<matplotlib.legend.Legend at 0x1374b56b130>"
      ]
     },
     "execution_count": 44,
     "metadata": {},
     "output_type": "execute_result"
    },
    {
     "data": {
      "image/png": "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\n",
      "text/plain": [
       "<Figure size 1080x1080 with 1 Axes>"
      ]
     },
     "metadata": {
      "needs_background": "light"
     },
     "output_type": "display_data"
    }
   ],
   "source": [
    "#### Plotting ####\n",
    "plt.subplots(1, figsize=(15, 15))\n",
    "plt.plot(np.linspace(0, y_test.size, y_test.size), y_test, color='orange', label='Actual Data')\n",
    "plt.plot(np.linspace(0, y_test.size, y_test.size), y, label='Best fit line')\n",
    "plt.grid(color='#000000', linestyle='-', linewidth=0.5)\n",
    "plt.legend(loc=\"upper left\")"
   ]
  },
  {
   "cell_type": "code",
   "execution_count": 45,
   "id": "d43ecd8c-02e6-4028-b71f-92aced67ac23",
   "metadata": {},
   "outputs": [
    {
     "data": {
      "text/plain": [
       "<matplotlib.collections.PathCollection at 0x13749351550>"
      ]
     },
     "execution_count": 45,
     "metadata": {},
     "output_type": "execute_result"
    },
    {
     "data": {
      "image/png": "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\n",
      "text/plain": [
       "<Figure size 432x288 with 1 Axes>"
      ]
     },
     "metadata": {
      "needs_background": "light"
     },
     "output_type": "display_data"
    }
   ],
   "source": [
    "plt.scatter(dfp['Actual_Price'], dfp['Predicted_Price'])"
   ]
  },
  {
   "cell_type": "code",
   "execution_count": 46,
   "id": "187cfb2f-55db-467d-964b-bfd905ae94eb",
   "metadata": {},
   "outputs": [],
   "source": [
    "####### Logistic Regression #######"
   ]
  },
  {
   "cell_type": "code",
<<<<<<< HEAD
   "execution_count": null,
   "id": "9244df89-8b9c-4554-8948-968cf545af54",
   "metadata": {},
   "outputs": [],
=======
   "execution_count": 47,
   "id": "ffc89dbf",
   "metadata": {},
   "outputs": [
    {
     "data": {
      "text/plain": [
       "1827"
      ]
     },
     "execution_count": 47,
     "metadata": {},
     "output_type": "execute_result"
    }
   ],
   "source": [
    "len(dataset.index)"
   ]
  },
  {
   "cell_type": "code",
   "execution_count": 51,
   "id": "cb80e39e",
   "metadata": {},
   "outputs": [],
   "source": [
    "X_log = scaled_data[['Open', 'High', 'Low', 'Close','Volume']]\n",
    "y_log = scaled_data['Up/Down']\n"
   ]
  },
  {
   "cell_type": "code",
   "execution_count": 53,
   "id": "f340bcba",
   "metadata": {},
   "outputs": [
    {
     "name": "stdout",
     "output_type": "stream",
     "text": [
      "(1278, 5)\n",
      "(1278,)\n",
      "(549, 5)\n",
      "(549,)\n"
     ]
    }
   ],
   "source": [
    "X_train_log, X_test_log, y_train_log, y_test_log = train_test_split(X_log, y_log, test_size=0.3, random_state=0)\n",
    "print(X_train_log.shape)\n",
    "print(y_train_log.shape)\n",
    "print(X_test_log.shape)\n",
    "print(y_test_log.shape)"
   ]
  },
  {
   "cell_type": "code",
   "execution_count": 54,
   "id": "3edbda3e",
   "metadata": {},
   "outputs": [
    {
     "data": {
      "text/plain": [
       "array(['1', '1', '1', '1', '1', '1', '1', '1', '1', '1', '1', '1', '1',\n",
       "       '1', '1', '1', '1', '1', '1', '1', '1', '0', '1', '1', '1', '1',\n",
       "       '1', '1', '1', '1', '1', '1', '1', '1', '1', '1', '0', '1', '1',\n",
       "       '1', '1', '1', '1', '1', '1', '1', '1', '1', '1', '0', '1', '1',\n",
       "       '1', '1', '1', '1', '1', '1', '1', '1', '1', '1', '1', '1', '1',\n",
       "       '1', '1', '0', '1', '1', '1', '1', '0', '1', '1', '1', '1', '1',\n",
       "       '1', '0', '1', '1', '1', '1', '1', '1', '1', '0', '1', '0', '1',\n",
       "       '1', '1', '1', '1', '1', '1', '1', '1', '1', '1', '1', '1', '1',\n",
       "       '1', '1', '1', '1', '1', '1', '1', '1', '0', '0', '1', '1', '1',\n",
       "       '1', '1', '1', '1', '1', '1', '1', '1', '1', '1', '1', '1', '1',\n",
       "       '1', '1', '1', '1', '1', '1', '1', '1', '1', '1', '1', '1', '1',\n",
       "       '1', '1', '0', '1', '1', '1', '1', '1', '1', '1', '1', '1', '1',\n",
       "       '1', '1', '1', '0', '1', '1', '1', '1', '1', '1', '1', '1', '1',\n",
       "       '1', '1', '0', '1', '1', '0', '1', '1', '1', '1', '1', '1', '1',\n",
       "       '1', '1', '1', '1', '1', '1', '1', '1', '1', '1', '1', '1', '1',\n",
       "       '1', '1', '1', '1', '1', '1', '0', '0', '1', '1', '1', '1', '1',\n",
       "       '1', '1', '1', '1', '1', '1', '1', '1', '1', '1', '1', '1', '1',\n",
       "       '0', '1', '1', '1', '1', '0', '1', '1', '1', '1', '1', '1', '1',\n",
       "       '0', '1', '1', '1', '1', '1', '1', '0', '1', '1', '1', '1', '1',\n",
       "       '1', '1', '1', '1', '1', '1', '1', '1', '1', '1', '1', '1', '1',\n",
       "       '1', '1', '1', '1', '1', '1', '1', '1', '1', '1', '1', '1', '1',\n",
       "       '1', '1', '1', '1', '0', '1', '0', '1', '0', '1', '1', '1', '1',\n",
       "       '0', '1', '1', '1', '1', '1', '1', '1', '1', '1', '0', '1', '1',\n",
       "       '1', '1', '1', '1', '1', '1', '1', '1', '1', '1', '1', '1', '1',\n",
       "       '1', '1', '1', '1', '1', '1', '1', '1', '1', '1', '0', '1', '0',\n",
       "       '1', '1', '1', '1', '1', '1', '0', '1', '0', '1', '1', '1', '1',\n",
       "       '1', '1', '0', '1', '1', '1', '0', '1', '1', '1', '1', '1', '1',\n",
       "       '1', '1', '1', '1', '1', '1', '1', '0', '1', '1', '1', '1', '1',\n",
       "       '1', '1', '1', '1', '1', '1', '1', '1', '1', '0', '1', '1', '1',\n",
       "       '1', '1', '1', '1', '1', '1', '1', '1', '1', '1', '1', '0', '1',\n",
       "       '1', '1', '0', '1', '1', '1', '1', '0', '1', '1', '1', '1', '1',\n",
       "       '1', '1', '1', '1', '1', '1', '1', '1', '1', '1', '1', '1', '1',\n",
       "       '1', '1', '1', '1', '1', '1', '0', '1', '0', '1', '0', '1', '1',\n",
       "       '1', '1', '1', '1', '1', '1', '1', '1', '0', '1', '1', '1', '1',\n",
       "       '1', '0', '1', '1', '1', '1', '1', '1', '1', '1', '1', '1', '1',\n",
       "       '1', '1', '1', '1', '0', '0', '1', '1', '1', '0', '1', '1', '1',\n",
       "       '1', '1', '1', '1', '1', '0', '1', '1', '1', '1', '1', '1', '1',\n",
       "       '1', '1', '1', '1', '1', '0', '1', '1', '1', '1', '1', '1', '1',\n",
       "       '1', '1', '1', '1', '1', '1', '1', '1', '1', '1', '1', '1', '1',\n",
       "       '0', '1', '0', '1', '1', '1', '1', '1', '1', '1', '1', '1', '1',\n",
       "       '1', '1', '1', '1', '1', '1', '1', '1', '1', '1', '1', '1', '1',\n",
       "       '1', '1', '0', '1', '1', '1', '1', '1', '1', '1', '0', '0', '1',\n",
       "       '1', '1', '1'], dtype=object)"
      ]
     },
     "execution_count": 54,
     "metadata": {},
     "output_type": "execute_result"
    }
   ],
   "source": [
    "logReg = LogisticRegression()\n",
    "logReg.fit(X_train_log, y_train_log)\n",
    "y_pred_log = logReg.predict(X_test_log)\n",
    "y_pred_log"
   ]
  },
  {
   "cell_type": "code",
   "execution_count": 56,
   "id": "da6091fd",
   "metadata": {},
   "outputs": [
    {
     "name": "stdout",
     "output_type": "stream",
     "text": [
      "Accuracy: 0.6284153005464481\n"
     ]
    }
   ],
   "source": [
    "print(\"Accuracy:\",metrics.accuracy_score(y_test_log, y_pred_log))\n",
    "#print(\"Score: \",logReg.score(X_test, y_test_log))\n",
    "#print(\"Precision:\",metrics.precision_score(y_test_log, y_pred_log))\n",
    "#print(\"Recall:\",metrics.recall_score(y_test_log, y_pred_log))"
   ]
  },
  {
   "cell_type": "code",
   "execution_count": 57,
   "id": "9244df89-8b9c-4554-8948-968cf545af54",
   "metadata": {},
   "outputs": [
    {
     "data": {
      "text/plain": [
       "array([0, 1, 1, ..., 0, 1, 1])"
      ]
     },
     "execution_count": 57,
     "metadata": {},
     "output_type": "execute_result"
    }
   ],
>>>>>>> 2318af0db84308d2cacfc1b6ff51ed155bf393b9
   "source": [
    "X_log = scaled_data[['Open', 'High', 'Low', 'Volume']]\n",
    "tmp =  scaled_data.Close.gt(scaled_data.Close.shift())\n",
    "tmp = np.where(tmp == False, 0, 1)\n",
    "y_log = tmp\n",
    "y_log"
   ]
  },
  {
   "cell_type": "code",
<<<<<<< HEAD
   "execution_count": null,
=======
   "execution_count": 58,
   "id": "55745d39",
   "metadata": {},
   "outputs": [
    {
     "data": {
      "text/html": [
       "<div>\n",
       "<style scoped>\n",
       "    .dataframe tbody tr th:only-of-type {\n",
       "        vertical-align: middle;\n",
       "    }\n",
       "\n",
       "    .dataframe tbody tr th {\n",
       "        vertical-align: top;\n",
       "    }\n",
       "\n",
       "    .dataframe thead th {\n",
       "        text-align: right;\n",
       "    }\n",
       "</style>\n",
       "<table border=\"1\" class=\"dataframe\">\n",
       "  <thead>\n",
       "    <tr style=\"text-align: right;\">\n",
       "      <th></th>\n",
       "      <th>Open</th>\n",
       "      <th>High</th>\n",
       "      <th>Low</th>\n",
       "      <th>Volume</th>\n",
       "    </tr>\n",
       "  </thead>\n",
       "  <tbody>\n",
       "    <tr>\n",
       "      <th>0</th>\n",
       "      <td>0.000381</td>\n",
       "      <td>0.000161</td>\n",
       "      <td>0.000665</td>\n",
       "      <td>0.000270</td>\n",
       "    </tr>\n",
       "    <tr>\n",
       "      <th>1</th>\n",
       "      <td>0.000884</td>\n",
       "      <td>0.000772</td>\n",
       "      <td>0.001195</td>\n",
       "      <td>0.000397</td>\n",
       "    </tr>\n",
       "    <tr>\n",
       "      <th>2</th>\n",
       "      <td>0.001343</td>\n",
       "      <td>0.001498</td>\n",
       "      <td>0.001660</td>\n",
       "      <td>0.000612</td>\n",
       "    </tr>\n",
       "    <tr>\n",
       "      <th>3</th>\n",
       "      <td>0.002201</td>\n",
       "      <td>0.001474</td>\n",
       "      <td>0.001990</td>\n",
       "      <td>0.000219</td>\n",
       "    </tr>\n",
       "    <tr>\n",
       "      <th>4</th>\n",
       "      <td>0.001864</td>\n",
       "      <td>0.001123</td>\n",
       "      <td>0.001625</td>\n",
       "      <td>0.000236</td>\n",
       "    </tr>\n",
       "    <tr>\n",
       "      <th>...</th>\n",
       "      <td>...</td>\n",
       "      <td>...</td>\n",
       "      <td>...</td>\n",
       "      <td>...</td>\n",
       "    </tr>\n",
       "    <tr>\n",
       "      <th>1822</th>\n",
       "      <td>0.702042</td>\n",
       "      <td>0.694191</td>\n",
       "      <td>0.683605</td>\n",
       "      <td>0.093591</td>\n",
       "    </tr>\n",
       "    <tr>\n",
       "      <th>1823</th>\n",
       "      <td>0.680560</td>\n",
       "      <td>0.684023</td>\n",
       "      <td>0.683304</td>\n",
       "      <td>0.074200</td>\n",
       "    </tr>\n",
       "    <tr>\n",
       "      <th>1824</th>\n",
       "      <td>0.690064</td>\n",
       "      <td>0.695438</td>\n",
       "      <td>0.697086</td>\n",
       "      <td>0.071510</td>\n",
       "    </tr>\n",
       "    <tr>\n",
       "      <th>1825</th>\n",
       "      <td>0.687865</td>\n",
       "      <td>0.685316</td>\n",
       "      <td>0.683020</td>\n",
       "      <td>0.088060</td>\n",
       "    </tr>\n",
       "    <tr>\n",
       "      <th>1826</th>\n",
       "      <td>0.692031</td>\n",
       "      <td>0.707539</td>\n",
       "      <td>0.700695</td>\n",
       "      <td>0.087419</td>\n",
       "    </tr>\n",
       "  </tbody>\n",
       "</table>\n",
       "<p>1827 rows × 4 columns</p>\n",
       "</div>"
      ],
      "text/plain": [
       "          Open      High       Low    Volume\n",
       "0     0.000381  0.000161  0.000665  0.000270\n",
       "1     0.000884  0.000772  0.001195  0.000397\n",
       "2     0.001343  0.001498  0.001660  0.000612\n",
       "3     0.002201  0.001474  0.001990  0.000219\n",
       "4     0.001864  0.001123  0.001625  0.000236\n",
       "...        ...       ...       ...       ...\n",
       "1822  0.702042  0.694191  0.683605  0.093591\n",
       "1823  0.680560  0.684023  0.683304  0.074200\n",
       "1824  0.690064  0.695438  0.697086  0.071510\n",
       "1825  0.687865  0.685316  0.683020  0.088060\n",
       "1826  0.692031  0.707539  0.700695  0.087419\n",
       "\n",
       "[1827 rows x 4 columns]"
      ]
     },
     "execution_count": 58,
     "metadata": {},
     "output_type": "execute_result"
    }
   ],
   "source": [
    "X_log"
   ]
  },
  {
   "cell_type": "code",
   "execution_count": 59,
>>>>>>> 2318af0db84308d2cacfc1b6ff51ed155bf393b9
   "id": "3d32b017-0c4c-4d02-8f9f-27050ac67de3",
   "metadata": {},
   "outputs": [],
   "source": [
    "X_train_log, X_test_log, y_train_log, y_test_log = train_test_split(X_log, y_log, test_size=0.3, random_state=0)\n",
    "print(X_train_log.shape)\n",
    "print(y_train_log.shape)\n",
    "print(X_test_log.shape)\n",
    "print(y_test_log.shape)"
   ]
  },
  {
   "cell_type": "code",
<<<<<<< HEAD
   "execution_count": null,
   "id": "d6ed84d8-72d0-47da-918f-fbdd1fbb27a7",
   "metadata": {},
   "outputs": [],
=======
   "execution_count": 60,
   "id": "d6ed84d8-72d0-47da-918f-fbdd1fbb27a7",
   "metadata": {},
   "outputs": [
    {
     "data": {
      "text/plain": [
       "array([1, 1, 1, 1, 1, 1, 1, 1, 1, 1, 0, 1, 1, 1, 1, 1, 1, 1, 1, 1, 1, 1,\n",
       "       1, 1, 1, 1, 1, 1, 1, 1, 1, 1, 1, 1, 0, 1, 0, 1, 1, 1, 1, 1, 1, 0,\n",
       "       1, 1, 1, 1, 1, 1, 1, 1, 1, 1, 1, 1, 0, 1, 1, 1, 1, 1, 1, 1, 1, 1,\n",
       "       1, 0, 1, 1, 1, 1, 0, 1, 1, 1, 1, 1, 1, 0, 1, 1, 1, 1, 1, 1, 1, 0,\n",
       "       1, 0, 1, 1, 1, 1, 1, 1, 1, 1, 1, 1, 1, 1, 1, 1, 1, 1, 1, 1, 1, 1,\n",
       "       1, 1, 0, 0, 1, 1, 1, 1, 1, 1, 1, 1, 1, 1, 1, 1, 1, 1, 1, 1, 1, 1,\n",
       "       1, 1, 1, 1, 1, 1, 1, 1, 1, 1, 1, 1, 1, 0, 1, 1, 1, 1, 1, 1, 1, 1,\n",
       "       1, 1, 1, 1, 1, 0, 1, 1, 1, 1, 1, 1, 1, 1, 1, 1, 1, 0, 1, 0, 1, 1,\n",
       "       1, 1, 1, 1, 1, 1, 1, 1, 1, 1, 1, 1, 1, 1, 1, 1, 1, 1, 1, 1, 1, 1,\n",
       "       1, 1, 1, 0, 0, 1, 1, 1, 1, 1, 1, 1, 1, 1, 1, 1, 1, 1, 1, 1, 1, 1,\n",
       "       1, 0, 1, 1, 1, 1, 0, 1, 1, 1, 1, 1, 1, 1, 0, 1, 1, 1, 1, 1, 1, 0,\n",
       "       1, 1, 1, 1, 1, 1, 1, 1, 1, 1, 1, 1, 1, 1, 1, 1, 1, 1, 1, 1, 1, 1,\n",
       "       1, 1, 1, 1, 1, 1, 1, 1, 1, 1, 1, 1, 1, 1, 1, 0, 1, 0, 1, 1, 1, 1,\n",
       "       1, 1, 1, 1, 1, 1, 1, 1, 1, 1, 0, 1, 1, 1, 1, 1, 1, 1, 1, 1, 1, 1,\n",
       "       1, 1, 1, 1, 1, 1, 1, 1, 1, 1, 1, 1, 1, 1, 0, 1, 0, 1, 1, 1, 1, 1,\n",
       "       1, 0, 1, 0, 1, 1, 1, 1, 1, 1, 0, 1, 1, 1, 1, 1, 1, 1, 1, 1, 1, 1,\n",
       "       1, 1, 1, 1, 1, 0, 0, 1, 1, 1, 1, 1, 1, 1, 1, 1, 1, 1, 1, 1, 1, 0,\n",
       "       1, 1, 1, 1, 1, 1, 1, 1, 1, 1, 1, 1, 1, 1, 1, 1, 1, 1, 0, 1, 1, 1,\n",
       "       1, 0, 1, 1, 1, 1, 1, 1, 1, 1, 1, 1, 1, 1, 1, 1, 1, 1, 1, 1, 1, 1,\n",
       "       1, 1, 1, 1, 0, 1, 0, 1, 0, 0, 1, 1, 1, 1, 1, 1, 1, 1, 1, 0, 1, 1,\n",
       "       1, 1, 1, 0, 1, 1, 1, 1, 1, 0, 1, 0, 1, 1, 1, 1, 1, 1, 1, 0, 1, 1,\n",
       "       1, 1, 0, 1, 1, 1, 1, 1, 1, 1, 1, 0, 1, 1, 1, 1, 1, 1, 1, 1, 1, 1,\n",
       "       1, 1, 0, 1, 1, 1, 1, 1, 1, 1, 1, 1, 1, 1, 1, 1, 1, 1, 1, 1, 1, 1,\n",
       "       1, 0, 1, 0, 1, 1, 1, 1, 1, 1, 1, 1, 1, 1, 1, 1, 1, 1, 1, 1, 1, 1,\n",
       "       1, 1, 1, 1, 1, 1, 1, 0, 1, 1, 1, 1, 1, 1, 1, 0, 0, 1, 1, 1, 1])"
      ]
     },
     "execution_count": 60,
     "metadata": {},
     "output_type": "execute_result"
    }
   ],
>>>>>>> 2318af0db84308d2cacfc1b6ff51ed155bf393b9
   "source": [
    "#### Training ####\n",
    "logReg = LogisticRegression()\n",
    "logReg.fit(X_train_log, y_train_log)\n",
    "y_pred_log = logReg.predict(X_test_log)\n",
    "y_pred_log"
   ]
  },
  {
   "cell_type": "code",
<<<<<<< HEAD
   "execution_count": null,
   "id": "5f47c90d-e6e2-4b9a-8557-c66db645c1eb",
   "metadata": {},
   "outputs": [],
=======
   "execution_count": 61,
   "id": "5f47c90d-e6e2-4b9a-8557-c66db645c1eb",
   "metadata": {},
   "outputs": [
    {
     "data": {
      "text/html": [
       "<div>\n",
       "<style scoped>\n",
       "    .dataframe tbody tr th:only-of-type {\n",
       "        vertical-align: middle;\n",
       "    }\n",
       "\n",
       "    .dataframe tbody tr th {\n",
       "        vertical-align: top;\n",
       "    }\n",
       "\n",
       "    .dataframe thead th {\n",
       "        text-align: right;\n",
       "    }\n",
       "</style>\n",
       "<table border=\"1\" class=\"dataframe\">\n",
       "  <thead>\n",
       "    <tr style=\"text-align: right;\">\n",
       "      <th></th>\n",
       "      <th>Actual_Price</th>\n",
       "      <th>Predicted_Price</th>\n",
       "    </tr>\n",
       "  </thead>\n",
       "  <tbody>\n",
       "    <tr>\n",
       "      <th>1278</th>\n",
       "      <td>0.127654</td>\n",
       "      <td>0.128212</td>\n",
       "    </tr>\n",
       "    <tr>\n",
       "      <th>1279</th>\n",
       "      <td>0.132821</td>\n",
       "      <td>0.131742</td>\n",
       "    </tr>\n",
       "    <tr>\n",
       "      <th>1280</th>\n",
       "      <td>0.132535</td>\n",
       "      <td>0.131644</td>\n",
       "    </tr>\n",
       "    <tr>\n",
       "      <th>1281</th>\n",
       "      <td>0.127803</td>\n",
       "      <td>0.129198</td>\n",
       "    </tr>\n",
       "    <tr>\n",
       "      <th>1282</th>\n",
       "      <td>0.127073</td>\n",
       "      <td>0.125493</td>\n",
       "    </tr>\n",
       "    <tr>\n",
       "      <th>...</th>\n",
       "      <td>...</td>\n",
       "      <td>...</td>\n",
       "    </tr>\n",
       "    <tr>\n",
       "      <th>1822</th>\n",
       "      <td>0.680117</td>\n",
       "      <td>0.684417</td>\n",
       "    </tr>\n",
       "    <tr>\n",
       "      <th>1823</th>\n",
       "      <td>0.689799</td>\n",
       "      <td>0.686857</td>\n",
       "    </tr>\n",
       "    <tr>\n",
       "      <th>1824</th>\n",
       "      <td>0.687676</td>\n",
       "      <td>0.700880</td>\n",
       "    </tr>\n",
       "    <tr>\n",
       "      <th>1825</th>\n",
       "      <td>0.690270</td>\n",
       "      <td>0.683815</td>\n",
       "    </tr>\n",
       "    <tr>\n",
       "      <th>1826</th>\n",
       "      <td>0.715508</td>\n",
       "      <td>0.712986</td>\n",
       "    </tr>\n",
       "  </tbody>\n",
       "</table>\n",
       "<p>549 rows × 2 columns</p>\n",
       "</div>"
      ],
      "text/plain": [
       "      Actual_Price  Predicted_Price\n",
       "1278      0.127654         0.128212\n",
       "1279      0.132821         0.131742\n",
       "1280      0.132535         0.131644\n",
       "1281      0.127803         0.129198\n",
       "1282      0.127073         0.125493\n",
       "...            ...              ...\n",
       "1822      0.680117         0.684417\n",
       "1823      0.689799         0.686857\n",
       "1824      0.687676         0.700880\n",
       "1825      0.690270         0.683815\n",
       "1826      0.715508         0.712986\n",
       "\n",
       "[549 rows x 2 columns]"
      ]
     },
     "execution_count": 61,
     "metadata": {},
     "output_type": "execute_result"
    }
   ],
>>>>>>> 2318af0db84308d2cacfc1b6ff51ed155bf393b9
   "source": [
    "dfp = pd.DataFrame({'Actual_Price': y_test, 'Predicted_Price': y_pred_lin})\n",
    "dfp"
   ]
  },
  {
   "cell_type": "markdown",
   "id": "50b202e1",
   "metadata": {},
   "source": [
    "Recall ( ) is defined as the number of true positives ( ) over the number of true positives plus the number of false negatives ( )"
   ]
  },
  {
   "cell_type": "code",
<<<<<<< HEAD
   "execution_count": null,
   "id": "a72c9b1f-992a-4e91-bd47-ccfe0eabf665",
   "metadata": {},
   "outputs": [],
=======
   "execution_count": 62,
   "id": "bf862b50",
   "metadata": {},
   "outputs": [
    {
     "name": "stdout",
     "output_type": "stream",
     "text": [
      "Accuracy: 0.5883424408014571\n",
      "Score:  0.5154826958105647\n",
      "Precision: 0.5835010060362174\n",
      "Recall: 0.9385113268608414\n"
     ]
    }
   ],
   "source": [
    "print(\"Accuracy:\",metrics.accuracy_score(y_test_log, y_pred_log))\n",
    "print(\"Score: \",logReg.score(X_test, y_test_log))\n",
    "print(\"Precision:\",metrics.precision_score(y_test_log, y_pred_log))\n",
    "print(\"Recall:\",metrics.recall_score(y_test_log, y_pred_log))"
   ]
  },
  {
   "cell_type": "code",
   "execution_count": 63,
   "id": "a72c9b1f-992a-4e91-bd47-ccfe0eabf665",
   "metadata": {},
   "outputs": [
    {
     "name": "stdout",
     "output_type": "stream",
     "text": [
      "Coefficients: \n",
      " [[-1.64536346  0.47843561  0.89308617 -0.32517739]]\n",
      "Mean squared error:  0.4116575591985428\n",
      "Classification report:                precision    recall  f1-score   support\n",
      "\n",
      "           0       0.63      0.14      0.23       240\n",
      "           1       0.58      0.94      0.72       309\n",
      "\n",
      "    accuracy                           0.59       549\n",
      "   macro avg       0.61      0.54      0.47       549\n",
      "weighted avg       0.61      0.59      0.50       549\n",
      "\n"
     ]
    }
   ],
>>>>>>> 2318af0db84308d2cacfc1b6ff51ed155bf393b9
   "source": [
    "#### Testing ####\n",
    "print(\"Coefficients: \\n\", logReg.coef_)\n",
    "print(\"Mean squared error: \", mean_squared_error(y_test_log, y_pred_log))\n",
    "print(\"Classification report: \", classification_report(y_test_log, y_pred_log))"
   ]
  },
  {
   "cell_type": "code",
<<<<<<< HEAD
   "execution_count": null,
   "id": "6fb1fe7d-3775-4f96-b391-90898c58822e",
   "metadata": {},
   "outputs": [],
=======
   "execution_count": 64,
   "id": "6fb1fe7d-3775-4f96-b391-90898c58822e",
   "metadata": {},
   "outputs": [
    {
     "data": {
      "text/plain": [
       "0       0.000846\n",
       "1       0.001299\n",
       "2       0.002159\n",
       "3       0.001813\n",
       "4       0.001773\n",
       "          ...   \n",
       "1822    0.680117\n",
       "1823    0.689799\n",
       "1824    0.687676\n",
       "1825    0.690270\n",
       "1826    0.715508\n",
       "Name: Close, Length: 1827, dtype: float64"
      ]
     },
     "execution_count": 64,
     "metadata": {},
     "output_type": "execute_result"
    }
   ],
>>>>>>> 2318af0db84308d2cacfc1b6ff51ed155bf393b9
   "source": [
    "scaled_data['Close']"
   ]
  },
  {
   "cell_type": "code",
<<<<<<< HEAD
   "execution_count": null,
   "id": "1f8a6815-42cb-459e-b06a-cbac0c947c35",
   "metadata": {},
   "outputs": [],
=======
   "execution_count": 65,
   "id": "1f8a6815-42cb-459e-b06a-cbac0c947c35",
   "metadata": {},
   "outputs": [
    {
     "data": {
      "text/plain": [
       "549"
      ]
     },
     "execution_count": 65,
     "metadata": {},
     "output_type": "execute_result"
    }
   ],
>>>>>>> 2318af0db84308d2cacfc1b6ff51ed155bf393b9
   "source": [
    "y_test_log.size"
   ]
  },
  {
   "cell_type": "code",
<<<<<<< HEAD
   "execution_count": null,
   "id": "69d6041b-bdfa-496d-ae3a-8f739f5a1516",
   "metadata": {},
   "outputs": [],
=======
   "execution_count": 66,
   "id": "69d6041b-bdfa-496d-ae3a-8f739f5a1516",
   "metadata": {},
   "outputs": [
    {
     "data": {
      "text/plain": [
       "<matplotlib.legend.Legend at 0x1374b573d60>"
      ]
     },
     "execution_count": 66,
     "metadata": {},
     "output_type": "execute_result"
    },
    {
     "data": {
      "image/png": "iVBORw0KGgoAAAANSUhEUgAAA2oAAANOCAYAAABgFv8rAAAAOXRFWHRTb2Z0d2FyZQBNYXRwbG90bGliIHZlcnNpb24zLjUuMCwgaHR0cHM6Ly9tYXRwbG90bGliLm9yZy8/fFQqAAAACXBIWXMAAAsTAAALEwEAmpwYAABADElEQVR4nO3de5ydVX0v/s9KCIRwJ2iPgJD8zgFrCsglKBVqwRtgLU3FC5bTaiumtidtf+0xp1h96WAP4mn6O22VVqXe8BRRjtWUWhRtBaNYWoJQQBBFC0iwcg23EAjJ+v2x90z2zOyZ2UkGZgXe79cLMns/a69n7ef5PuvZn9l7P1NqrQEAAKAds2Z6AAAAAIwmqAEAADRGUAMAAGiMoAYAANAYQQ0AAKAxO8zUivfZZ5+6YMGCmVr9hO69997Mnz9/pofBdkCtMAh1wqDUCoNSKwxCnWwfrr766ntqrc/qt2zGgtqCBQuyevXqmVr9hIaGhjI0NDTTw2A7oFYYhDphUGqFQakVBqFOtg+llNsmWuajjwAAAI0R1AAAABojqAEAADRmxr6j1s+GDRtyxx13ZP369TM2hhNPPDE33XTTjK1/ezN37tzsv//+mTNnzkwPBQAAnjaaCmp33HFHdttttyxYsCCllBkZw5133pl99913Rta9vam15t57780dd9yRhQsXzvRwAADgaaOpjz6uX78+8+fPn7GQxpYppWT+/Pkz+g4oAAA8HTUV1JIIadsZ+wsAAKZfc0ENAADgmU5Q62PlypUppeS73/3ulG3//M//POvWrdvqdX3yk5/MsmXL+t7/rGc9K0cccUQOOuignHjiifnWt741ZX8rV67MjTfeuNXjAQAAZp6g1seFF16Y4447LhdeeOGUbbc1qE3mDW94Q6655pp8//vfz5lnnpnXvOY1U16RUlADAIDt3/Yd1C64IFmwIJk1q/PvBRdsc5ePPPJIvvnNb+ZjH/tYPvOZz4zcv3Hjxrz97W/PIYccksMOOywf/OAH84EPfCB33nlnTjjhhJxwwglJkl133XXkMZ/73Ofy5je/OUny93//93nRi16UI444Ii9/+cvzk5/8ZIvGdcIJJ2Tp0qU577zzkiR//dd/naOPPjoveMELcuqpp2bdunX51re+lYsvvjjLly/P4Ycfnh/84Ad92wEAAG3bfoPaBRckS5cmt92W1Nr5d+nSbQ5rl156aU466aQcfPDBmT9/fq6++uokyXnnnZdbb7011157ba677rqcfvrp+d3f/d3su+++ueyyy3LZZZdN2u9xxx2XK6+8Mtdcc01OO+20/Mmf/MkWj+3II48c+Tjma17zmlx11VX5t3/7tzz/+c/Pxz72sbz4xS/OKaeckhUrVuTaa6/Nf/7P/7lvOwAAoG1N/R21LfLOdyZj3x1at65z/+mnb3W3K1euzB/+4R8mSU477bRceOGFOeqoo/KP//iPedvb3pYdduhssr333nuL+r3jjjvyhje8IT/+8Y/z+OOPb9XfHau1jvx8ww035F3velfWrl2bhx9+OCeeeGLfxwzaDgAAaMf2+47a7bdv2f0DuO+++3LFFVfkjDPOyIIFC7JixYpcdNFFowLSVHovV9/798V+53d+J8uWLcv111+fj3zkI1v1t8euueaaPP/5z0+SvPnNb865556b66+/Pu95z3sm7G/QdgAAQDu236B2wAFbdv8APve5z+XUU0/NbbfdlltvvTU/+tGPsnDhwnzjG9/IK17xinzkIx/JE088kaQT6pJkt912y0MPPTTSx0/91E/lpptuyqZNm/KFL3xh5P4HHngg++23X5Lk/PPP3+Kxff3rX895552Xt771rUmShx56KM95znOyYcOGXNDzcc+x45moHQAA0K7tN6idfXYyb97o++bN69y/lS688MKcfPLJo+479dRTc+GFF+aMM87IAQcckMMOOywveMEL8ulPfzpJsnTp0px00kkjFxN5//vfn1e/+tV58YtfnOc85zkj/QwNDeV1r3tdjjrqqOyzzz4Djeezn/1sDj/88Bx88MF53/vel7/9278deUftj//4j/OiF70oxx57bH76p3965DGnnXZaVqxYkSOOOCI/+MEPJmwHAAC0q2zJx/qm0+LFi+vq1atH3XfTTTeNBJGBXHBB5ztpt9/eeSft7LO36ftpSXLnnXdm33333aY+nmm2eL89TQwNDWVoaGimh0Hj1AmDUisMSq0wCHWyfSilXF1rXdxv2fZ7MZGkE8q2MZgBAAC0Zvv96CMAAMDTlKAGAADQGEENAACgMYIaAABAYwQ1AACAxghqYzz3uc/N4YcfnkMOOSSve93rsm7duq3u681vfnM+97nPJUnOOOOM3HjjjRO2vfzyy/Otb31ri9exYMGC3HPPPX3vP/TQQ3PooYdm0aJFede73pX169dP2tfatWvzV3/1V1s8BgAAYHoJamPMnTs31157bW644YbsuOOO+fCHPzxq+RNPPLFV/X70ox/NokWLJly+tUFtMpdddlmuv/76/Ou//mt++MMf5jd/8zcnbS+oAQBAG7broLbymjU59v1fy8Iz/yHHvv9rWXnNmmnt/+d+7udyyy235PLLL8/P/dzP5ZRTTsmiRYuycePGLF++PEcffXQOO+ywfOQjH0mS1FqzbNmyPO95z8vLX/7y3HXXXSN9HX/88Rn+A99f/vKXc+SRR+YFL3hBXvayl+XWW2/Nhz/84fzZn/1ZDj/88HzjG9/I3XffnVNPPTVHH310jj766FxxxRVJknvvvTevfOUr8zM/8zM544wzMsgfLN91113z4Q9/OCtXrsx9992Xhx9+OC972cty5JFH5tBDD83f/d3fJUnOPPPM/OAHP8jhhx+e5cuXT9gOAAB4cm23f/B65TVr8o7PX59HN2xMkqxZ+2je8fnrkyRLjthvm/t/4okn8qUvfSknnXRSkuTb3/52brjhhixcuDDnnXde9thjj1x11VV57LHHcuyxx+aVr3xlrrnmmtx888258cYb85Of/CSLFi3Kb/zGb4zq9+67785b3/rWrFq1KgsXLsx9992XvffeO29729uy66675u1vf3uS5Fd+5Vfy+7//+znuuONy++2358QTT8xNN92Us846K8cdd1ze/e535x/+4R/ysY99bKDns/vuu2fhwoX5/ve/n6OOOipf+MIXsvvuu+eee+7JMccck1NOOSXvf//7c8MNN+Taa68d2Qb92pVStnn7AgAAE9tug9qKS28eCWnDHt2wMSsuvXmbgtr69etz+OGHJ+m8o/aWt7wl3/rWt/LCF74wCxcuTJJ85StfyXXXXTfy/bMHHngg3//+97Nq1aq88Y1vzOzZs7PvvvvmpS996bj+r7zyyrzkJS8Z6WvvvffuO45//Md/HPWdtgcffDAPP/xwVq1alc9//vNJkl/4hV/IXnvtNfBzG373rdaaP/qjP8qqVasya9asrFmzJj/5yU/6tu/X7j/9p/808DoBAIAtt90GtTvXPrpF9w9q+DtqY+2yyy4jP9da88EPfjAnnnjiqDaXXHLJNq2716ZNm3LllVdm7ty509LfQw89lFtvvTUHH3xwLrjggtx99925+uqrM2fOnCxYsKDvhUYGbQcAAEyv7fY7avvuufMW3T+dTjzxxHzoQx/Khg0bkiTf+9738sgjj+QlL3lJPvvZz2bjxo358Y9/nMsuu2zcY4855pisWrUq//7v/54kue+++5Iku+22Wx566KGRdq985SvzwQ9+cOT2cHh8yUtekk9/+tNJki996Uu5//77pxzvww8/nN/+7d/OkiVLstdee+WBBx7Is5/97MyZMyeXXXZZbrvttr5jmKgdAADw5Npug9ryE5+XnefMHnXfznNmZ/mJz3vS133GGWdk0aJFOfLII3PIIYfkN3/zN/PEE0/kl3/5l3PQQQdl0aJF+bVf+7X87M/+7LjHPutZz8p5552X17zmNXnBC16QN7zhDUmSX/zFX8wXvvCFkYuJfOADH8jq1atz2GGHZdGiRSNXn3zPe96TVatW5Wd+5mfy+c9/PgcccMCE4zzhhBNyyCGH5IUvfGEOOOCAkYuenH766Vm9enUOPfTQfOpTn8pP//RPJ0nmz5+fY489NoccckiWL18+YTsAAODJtd1+9HH4e2grLr05d659NPvuuXOWn/i8bb6QyPe///1x9x1//PE5/vjjR27PmjUr73vf+/K+971vXNtzzz23b7+XX375yM8nn3xyTj755FHLDz744Fx33XWj7vvsZz87rp/58+fnK1/5ymRPIUly6623Trhsn332yT//8z/3XTb8bt2widoBAABPnimDWinl40leneSuWushfZaXJH+R5FVJ1iV5c63129M90H6WHLHftFzhMUnuX/d4fvLA+jz64Prcs2ntwI8rSWrPvzNpVt2UWTV5YtasgcbTaV/zxKzZU7Sc3N33PZJf+d1P5/6dd0upSe29KmStyfDt3p/TeTt3U5I9H30wj++wY9bN2fx9vFm1ZlMpmV03ZWOZlVLr6H57zJtVs9POO+X+dY+nbKoTrn94fcN97vnoQ3l8hzmb1zvJWPstW/vN7+WTj35x4scNP7x3R/Qs3+vRB/MLN63KZf/lRVmz+z6jt12/9c/q3t40ydi24nls6bJ5s2qyww5Zt2HT5ic4wXOcrJ9ZJdmUktmlZGOtKampW9HPvLoxOz32aNbO3SV7jOzTnad+jtO1rcbu5zFtH/jmzfnko1/Mfg/enRPu+Ld88fkvydqyY/91zCoZmU3G7ufSu7LuCvusc7JjZ8rjatz+SWZv6mk7QQ3Oqxuz0+Prc/9O88bPAePG3WvrameL9utk+2fC46xkXtmUnR5dl7U7zcse6x/O47PnjJqjxj121NOaZN7r7oM9H3s4j++4c9aVzfPv2m6tDPycB5kTpthWI+NZ/1BKSu6fu0tm1zq+PsY8bt7jj2anjRuydufdusfdjv3n0jHreHz2DpuPzzHbfNJ6mOJ57bX+obznq51PjQy9fGnW7rz7Vm2PQY+l0XU95ngdZB199t28xzvfsV+34/j5a96G7rLutpu0VrbkOW/BsrHbY8/HHk7ZZZes3Tgr+87ZmBOu/Vou2/8FU5/Pekw1J01ZOz3bblQ9zp7TdzuOe9yo89no/bgl57qB5tYBjtctmaPH6TPvrf1Gz+uUCdY/br/2zAVb8ppuq+foSebhWanZVNN/e0xQn/utuy8n7PBQvrhp76ydu9u4tnvtUPOe1x45bfnhyTbIO2qfTHJukk9NsPzkJAd1/3tRkg91/91u3L/u8ay5/9FsGvUqcTB1zL8zaVOZlU3D9buF7bd1vffP26Oz3rH9jXrBNnrh8NS3tvvY0X122m7svoiZKKQlybpasm7dhiRl8wvJPuscXt9wn2vn7T5h23ETYb9lpfvzZI8bbtdn+f3z9sjfHPnqkfvqBO3G3Z7kOU441mlctq6WZOTElSRlwuc4WT8j+6N73NWt7Gdd2SHrdu5MxuNqabLnuAXrmLKfZPPYxyyr3RpZs8ez8ze7v3zifkc9rozfz/1W2Gedkx07Ux5X/fbPrD5tx4xtXdkh6+bu2m03xbAneg5j1r9N+2PQ/TNpnc8aeU6jXvRPto4Bxjq8D0ZeQIx93ED1Meb2ZHPCFNtmZDw9z3Hj8Hlkkn7W7TQv67o/T3Xc9VtH/7aT1MPY22OW3b/z7vmDX/j9zvpmj3lps5W1M/h5aMzxuiX12fO4dTvNm7Dduh37LHuS5/qJ9uPIOXTubkn34ttrNszO3yzaPL9Nej6bpM+x23jQ2tmSepz4fDZ6P27JuW5L5tbJjtct6mesiea9sbUya4r92rOtt+Q13VbP0ZOehzrbvO/2mKBW1uwyP39T955wHfdvLFl+0TVJpufPeT3ZpvyOWq11VZL7JmnyS0k+VTuuTLJnKeU5WzugQf6A83T7yQPrtyqk0dlftYmYup2abNLl6cf+hifNptk7jA9pPHXMb7RiilrcUEtWXHrzUzSYbTMdM9p+SX7Uc/uO7n0/HtuwlLI0ydKk812roaGhUcuPOeaYzJ49O7vsskueyj+q/OiDmy85v+nxR5OHJ8ulDKu15onH1ucHP7w1a7/5tzM9nKfc+tuvz9pvXjDTw6Bx6oRBqRUGpVYYhDqZ2NokQ+tXzfQwplQGeQerlLIgyRcn+I7aF5O8v9b6ze7tf0ryh7XW1ZP1uXjx4rp69egmGzZsyB133PGU/62u/3hgfZ7Y1NkOmx57JLN22mWKR5AkNTW3rd2QD/7L/XnwsU1TP+BpZu03L8iex50+08OgceqEQakVBqVWGIQ6mdh+e+6cK8586UwPI0lSSrm61rq437LpeEdtTZLn9tzev3vfFpszZ04WLlw4DUPaMjdfsybv+Pz1eXTDRkXNU2uyLwbz9GN/w5Nm1sYnkvT5jhpPDfMbrZiiFueU+pT8Oa/pMB2z2cVJlpVSPpPORUQeqLWO+9hjy3ov9b82Sdm0qc9Vy7LFV1ib8io3I1e6GmsLriA19qpHmzYOftWuDY9mpyc2THy1xn5XCCrD/9t89aPhqy090676mNr9eaLHja2bMctd9fGZcdXH0q0RV33sZ+tq5+l61ceR+WTQ5+yqjyOLnmlXfZy0VrbkOW/BMld9nLg+W73q46jXKa76mORpeNXHUsqFSY5Psk8p5Y4k70kyJ0lqrR9Ockk6l+a/JZ3L8//6kzXYJ9Pwpf6H1q/K0NAvzvRw2A4MDa3O0NCrt7GXX5mWsdCusXXyP2dwLLRteuaUZ7I3JkmWzOwgnhJt1sopMz0AxmizTp4aT5dz7ZRBrdb6ximW1yT/bdpGBAAA8Aw35eX5AQAAeGoJagAAAI0R1AAAABojqAEAADRGUAMAAGiMoAYAANAYQQ0AAKAxghoAAEBjBDUAAIDGCGoAAACNEdQAAAAaI6gBAAA0RlADAABojKAGAADQGEENAACgMYIaAABAYwQ1AACAxghqAAAAjRHUAAAAGiOoAQAANEZQAwAAaIygBgAA0BhBDQAAoDGCGgAAQGMENQAAgMYIagAAAI0R1AAAABojqAEAADRGUAMAAGiMoAYAANAYQQ0AAKAxghoAAEBjBDUAAIDGCGoAAACNEdQAAAAaI6gBAAA0RlADAABojKAGAADQGEENAACgMYIaAABAYwQ1AACAxghqAAAAjRHUAAAAGiOoAQAANEZQAwAAaIygBgAA0BhBDQAAoDGCGgAAQGMENQAAgMYIagAAAI0R1AAAABojqAEAADRGUAMAAGiMoAYAANAYQQ0AAKAxghoAAEBjBDUAAIDGCGoAAACNEdQAAAAaI6gBAAA0RlADAABojKAGAADQGEENAACgMYIaAABAYwQ1AACAxghqAAAAjRHUAAAAGiOoAQAANEZQAwAAaIygBgAA0BhBDQAAoDGCGgAAQGMENQAAgMYIagAAAI0R1AAAABojqAEAADRGUAMAAGiMoAYAANAYQQ0AAKAxghoAAEBjBDUAAIDGCGoAAACNEdQAAAAaI6gBAAA0RlADAABojKAGAADQGEENAACgMYIaAABAYwQ1AACAxghqAAAAjRHUAAAAGiOoAQAANEZQAwAAaIygBgAA0BhBDQAAoDGCGgAAQGMENQAAgMYIagAAAI0R1AAAABojqAEAADRGUAMAAGiMoAYAANAYQQ0AAKAxghoAAEBjBDUAAIDGCGoAAACNEdQAAAAaI6gBAAA0RlADAABojKAGAADQGEENAACgMYIaAABAYwQ1AACAxghqAAAAjRHUAAAAGiOoAQAANEZQAwAAaIygBgAA0BhBDQAAoDGCGgAAQGMENQAAgMYIagAAAI0R1AAAABojqAEAADRGUAMAAGiMoAYAANAYQQ0AAKAxghoAAEBjBDUAAIDGCGoAAACNEdQAAAAaI6gBAAA0RlADAABojKAGAADQGEENAACgMYIaAABAYwQ1AACAxghqAAAAjRHUAAAAGiOoAQAANGagoFZKOamUcnMp5ZZSypl9lh9QSrmslHJNKeW6Usqrpn+oAAAAzwxTBrVSyuwkf5nk5CSLkryxlLJoTLN3Jbmo1npEktOS/NV0DxQAAOCZYpB31F6Y5JZa6w9rrY8n+UySXxrTpibZvfvzHknunL4hAgAAPLOUWuvkDUp5bZKTaq1ndG//apIX1VqX9bR5TpKvJNkryS5JXl5rvbpPX0uTLE2S+fPnH7Vs2bKxTWbc5ZdfnuOPP36mh8F2QK0wCHXCoNQKg1IrDEKdbB/OOuusq2uti/stm66g9gfdvv6/UsrPJvlYkkNqrZsm6nfx4sV19erVW/5snmRDQ0MZGhqa6WGwHVArDEKdMCi1wqDUCoNQJ9uHUsqEQW2Qjz6uSfLcntv7d+/r9ZYkFyVJrfWfk8xNss+WDxUAAIBBgtpVSQ4qpSwspeyYzsVCLh7T5vYkL0uSUsrz0wlqd0/nQAEAAJ4ppgxqtdYnkixLcmmSm9K5uuN3SinvLaWc0m3235O8tZTyb0kuTPLmOtVnKgEAAOhrh0Ea1VovSXLJmPve3fPzjUmOnd6hAQAAPDMN9AevAQAAeOoIagAAAI0R1AAAABojqAEAADRGUAMAAGiMoAYAANAYQQ0AAKAxghoAAEBjBDUAAIDGCGoAAACNEdQAAAAaI6gBAAA0RlADAABojKAGAADQGEENAACgMYIaAABAYwQ1AACAxghqAAAAjRHUAAAAGiOoAQAANEZQAwAAaIygBgAA0BhBDQAAoDGCGgAAQGMENQAAgMYIagAAAI0R1AAAABojqAEAADRGUAMAAGiMoAYAANAYQQ0AAKAxghoAAEBjBDUAAIDGCGoAAACNEdQAAAAaI6gBAAA0RlADAABojKAGAADQGEENAACgMYIaAABAYwQ1AACAxghqAAAAjRHUAAAAGiOoAQAANEZQAwAAaIygBgAA0BhBDQAAoDGCGgAAQGMENQAAgMYIagAAAI0R1AAAABojqAEAADRGUAMAAGiMoAYAANAYQQ0AAKAxghoAAEBjBDUAAIDGCGoAAACNEdQAAAAaI6gBAAA0RlADAABojKAGAADQGEENAACgMYIaAABAYwQ1AACAxghqAAAAjRHUAAAAGiOoAQAANEZQAwAAaIygBgAA0BhBDQAAoDGCGgAAQGMENQAAgMYIagAAAI0R1AAAABojqAEAADRGUAMAAGiMoAYAANAYQQ0AAKAxghoAAEBjBDUAAIDGCGoAAACNEdQAAAAaI6gBAAA0RlADAABojKAGAADQGEENAACgMYIaAABAYwQ1AACAxghqAAAAjRHUAAAAGiOoAQAANEZQAwAAaIygBgAA0BhBDQAAoDGCGgAAQGMENQAAgMYIagAAAI0R1AAAABojqAEAADRGUAMAAGiMoAYAANAYQQ0AAKAxghoAAEBjBDUAAIDGCGoAAACNEdQAAAAaI6gBAAA0RlADAABojKAGAADQGEENAACgMYIaAABAYwQ1AACAxghqAAAAjRHUAAAAGiOoAQAANEZQAwAAaIygBgAA0BhBDQAAoDGCGgAAQGMENQAAgMYIagAAAI0R1AAAABojqAEAADRGUAMAAGiMoAYAANAYQQ0AAKAxghoAAEBjBDUAAIDGCGoAAACNEdQAAAAaI6gBAAA0RlADAABojKAGAADQGEENAACgMYIaAABAYwQ1AACAxghqAAAAjRHUAAAAGjNQUCulnFRKubmUcksp5cwJ2ry+lHJjKeU7pZRPT+8wAQAAnjl2mKpBKWV2kr9M8ookdyS5qpRyca31xp42ByV5R5Jja633l1Ke/WQNGAAA4OlukHfUXpjkllrrD2utjyf5TJJfGtPmrUn+stZ6f5LUWu+a3mECAAA8c5Ra6+QNSnltkpNqrWd0b/9qkhfVWpf1tFmZ5HtJjk0yO8lQrfXLffpammRpksyfP/+oZcuWjW0y4y6//PIcf/zxMz0MtgNqhUGoEwalVhiUWmEQ6mT7cNZZZ11da13cb9l0BbUvJtmQ5PVJ9k+yKsmhtda1E/W7ePHiunr16i18Kk++oaGhDA0NzfQw2A6oFQahThiUWmFQaoVBqJPtQyllwqA2yEcf1yR5bs/t/bv39bojycW11g211n9P5921g7ZmsAAAAM90gwS1q5IcVEpZWErZMclpSS4e02ZlkuOTpJSyT5KDk/xw+oYJAADwzDFlUKu1PpFkWZJLk9yU5KJa63dKKe8tpZzSbXZpkntLKTcmuSzJ8lrrvU/WoAEAAJ7Oprw8f5LUWi9JcsmY+97d83NN8gfd/wAAANgGA/3BawAAAJ46ghoAAEBjBDUAAIDGCGoAAACNEdQAAAAaI6gBAAA0RlADAABojKAGAADQGEENAACgMYIaAABAYwQ1AACAxghqAAAAjRHUAAAAGiOoAQAANEZQAwAAaIygBgAA0BhBDQAAoDGCGgAAQGMENQAAgMYIagAAAI0R1AAAABojqAEAADRGUAMAAGiMoAYAANAYQQ0AAKAxghoAAEBjBDUAAIDGCGoAAACNEdQAAAAaI6gBAAA0RlADAABojKAGAADQGEENAACgMYIaAABAYwQ1AACAxghqAAAAjRHUAAAAGiOoAQAANEZQAwAAaIygBgAA0BhBDQAAoDGCGgAAQGMENQAAgMYIagAAAI0R1AAAABojqAEAADRGUAMAAGiMoAYAANAYQQ0AAKAxghoAAEBjBDUAAIDGCGoAAACNEdQAAAAaI6gBAAA0RlADAABojKAGAADQGEENAACgMYIaAABAYwQ1AACAxghqAAAAjRHUAAAAGiOoAQAANEZQAwAAaIygBgAA0BhBDQAAoDGCGgAAQGMENQAAgMYIagAAAI0R1AAAABojqAEAADRGUAMAAGiMoAYAANAYQQ0AAKAxghoAAEBjBDUAAIDGCGoAAACNEdQAAAAaI6gBAAA0RlADAABojKAGAADQGEENAACgMYIaAABAYwQ1AACAxghqAAAAjRHUAAAAGiOoAQAANEZQAwAAaIygBgAA0BhBDQAAoDGCGgAAQGMENQAAgMYIagAAAI0R1AAAABojqAEAADRGUAMAAGiMoAYAANAYQQ0AAKAxghoAAEBjBDUAAIDGCGoAAACNEdQAAAAaI6gBAAA0RlADAABojKAGAADQGEENAACgMYIaAABAYwQ1AACAxghqAAAAjRHUAAAAGiOoAQAANEZQAwAAaIygBgAA0BhBDQAAoDGCGgAAQGMENQAAgMYIagAAAI0R1AAAABojqAEAADRGUAMAAGiMoAYAANAYQQ0AAKAxghoAAEBjBDUAAIDGCGoAAACNEdQAAAAaI6gBAAA0RlADAABojKAGAADQGEENAACgMYIaAABAYwQ1AACAxghqAAAAjRHUAAAAGiOoAQAANEZQAwAAaIygBgAA0BhBDQAAoDGCGgAAQGMENQAAgMYMFNRKKSeVUm4updxSSjlzknanllJqKWXx9A0RAADgmWXKoFZKmZ3kL5OcnGRRkjeWUhb1abdbkt9L8i/TPUgAAIBnkkHeUXthkltqrT+stT6e5DNJfqlPuz9O8r+SrJ/G8QEAADzjlFrr5A1KeW2Sk2qtZ3Rv/2qSF9Val/W0OTLJO2utp5ZSLk/y9lrr6j59LU2yNEnmz59/1LJly8Y2mXGXX355jj/++JkeBtsBtcIg1AmDUisMSq0wCHWyfTjrrLOurrX2/drYDtvaeSllVpL/neTNU7WttZ6X5LwkWbx4cR0aGtrW1U+7oaGhtDgu2qNWGIQ6YVBqhUGpFQahTrYPZ5111oTLBvno45okz+25vX/3vmG7JTkkyeWllFuTHJPkYhcUAQAA2DqDBLWrkhxUSllYStkxyWlJLh5eWGt9oNa6T611Qa11QZIrk5zS76OPAAAATG3KoFZrfSLJsiSXJrkpyUW11u+UUt5bSjnlyR4gAADAM81A31GrtV6S5JIx9717grbHb/uwAAAAnrkG+oPXAAAAPHUENQAAgMYIagAAAI0R1AAAABojqAEAADRGUAMAAGiMoAYAANAYQQ0AAKAxghoAAEBjBDUAAIDGCGoAAACNEdQAAAAaI6gBAAA0RlADAABojKAGAADQGEENAACgMYIaAABAYwQ1AACAxghqAAAAjRHUAAAAGiOoAQAANEZQAwAAaIygBgAA0BhBDQAAoDGCGgAAQGMENQAAgMYIagAAAI0R1AAAABojqAEAADRGUAMAAGiMoAYAANAYQQ0AAKAxghoAAEBjBDUAAIDGCGoAAACNEdQAAAAaI6gBAAA0RlADAABojKAGAADQGEENAACgMYIaAABAYwQ1AACAxghqAAAAjRHUAAAAGiOoAQAANEZQAwAAaIygBgAA0BhBDQAAoDGCGgAAQGMENQAAgMYIagAAAI0R1AAAABojqAEAADRGUAMAAGiMoAYAANAYQQ0AAKAxghoAAEBjBDUAAIDGCGoAAACNEdQAAAAaI6gBAAA0RlADAABojKAGAADQGEENAACgMYIaAABAYwQ1AACAxghqAAAAjRHUAAAAGiOoAQAANEZQAwAAaIygBgAA0BhBDQAAoDGCGgAAQGMENQAAgMYIagAAAI0R1AAAABojqAEAADRGUAMAAGiMoAYAANAYQQ0AAKAxghoAAEBjBDUAAIDGCGoAAACNEdQAAAAaI6gBAAA0RlADAABojKAGAADQGEENAACgMYIaAABAYwQ1AACAxghqAAAAjRHUAAAAGiOoAQAANEZQAwAAaIygBgAA0BhBDQAAoDGCGgAAQGMENQAAgMYIagAAAI0R1AAAABojqAEAADRGUAMAAGiMoAYAANAYQQ0AAKAxghoAAEBjBDUAAIDGCGoAAACNEdQAAAAaI6gBAAA0RlADAABojKAGAADQGEENAACgMYIaAABAYwQ1AACAxghqAAAAjRHUAAAAGiOoAQAANEZQAwAAaIygBgAA0BhBDQAAoDGCGgAAQGMENQAAgMYIagAAAI0R1AAAABojqAEAADRGUAMAAGiMoAYAANAYQQ0AAKAxghoAAEBjBDUAAIDGCGoAAACNEdQAAAAaI6gBAAA0RlADAABojKAGAADQGEENAACgMYIaAABAYwQ1AACAxghqAAAAjRkoqJVSTiql3FxKuaWUcmaf5X9QSrmxlHJdKeWfSikHTv9QAQAAnhmmDGqllNlJ/jLJyUkWJXljKWXRmGbXJFlcaz0syeeS/Ml0DxQAAOCZYpB31F6Y5JZa6w9rrY8n+UySX+ptUGu9rNa6rnvzyiT7T+8wAQAAnjlKrXXyBqW8NslJtdYzurd/NcmLaq3LJmh/bpL/qLX+zz7LliZZmiTz588/atmyvl3MqMsvvzzHH3/8TA+D7YBaYRDqhEGpFQalVhiEOtk+nHXWWVfXWhf3WzatQa2U8l+TLEvy87XWxybrd/HixXX16tUDPoWnztDQUIaGhmZ6GGwH1AqDUCcMSq0wKLXCINTJ9qGUMmFQ22GAx69J8tye2/t37xu7kpcneWcGCGkAAABMbJDvqF2V5KBSysJSyo5JTktycW+DUsoRST6S5JRa613TP0wAAIBnjimDWq31iXQ+znhpkpuSXFRr/U4p5b2llFO6zVYk2TXJ/y2lXFtKuXiC7gAAAJjCIB99TK31kiSXjLnv3T0/v3yaxwUAAPCMNdAfvAYAAOCpI6gBAAA0RlADAABojKAGAADQGEENAACgMYIaAABAYwQ1AACAxghqAAAAjRHUAAAAGiOoAQAANEZQAwAAaIygBgAA0BhBDQAAoDGCGgAAQGMENQAAgMYIagAAAI0R1AAAABojqAEAADRGUAMAAGiMoAYAANAYQQ0AAKAxghoAAEBjBDUAAIDGCGoAAACNEdQAAAAaI6gBAAA0RlADAABojKAGAADQGEENAACgMYIaAABAYwQ1AACAxghqAAAAjRHUAAAAGiOoAQAANEZQAwAAaIygBgAA0BhBDQAAoDGCGgAAQGMENQAAgMYIagAAAI0R1AAAABojqAEAADRGUAMAAGiMoAYAANAYQQ0AAKAxghoAAEBjBDUAAIDGCGoAAACNEdQAAAAaI6gBAAA0RlADAABojKAGAADQGEENAACgMYIaAABAYwQ1AACAxghqAAAAjRHUAAAAGiOoAQAANEZQAwAAaIygBgAA0BhBDQAAoDGCGgAAQGMENQAAgMYIagAAAI0R1AAAABojqAEAADRGUAMAAGiMoAYAANAYQQ0AAKAxghoAAEBjBDUAAIDGCGoAAACNEdQAAAAaI6gBAAA0RlADAABojKAGAADQGEENAACgMYIaAABAYwQ1AACAxghqAAAAjRHUAAAAGiOoAQAANEZQAwAAaIygBgAA0BhBDQAAoDGCGgAAQGMENQAAgMYIagAAAI0R1AAAABojqAEAADRGUAMAAGiMoAYAANAYQQ0AAKAxghoAAEBjBDUAAIDGCGoAAACNEdQAAAAaI6gBAAA0RlADAABojKAGAADQGEENAACgMYIaAABAYwQ1AACAxghqAAAAjRHUAAAAGiOoAQAANEZQAwAAaIygBgAA0BhBDQAAoDGCGgAAQGMENQAAgMYIagAAAI0R1AAAABojqAEAADRGUAMAAGiMoAYAANAYQQ0AAKAxghoAAEBjBDUAAIDGCGoAAACNEdQAAAAaI6gBAAA0RlADAABojKAGAADQGEENAACgMYIaAABAYwQ1AACAxghqAAAAjRHUAAAAGiOoAQAANEZQAwAAaIygBgAA0BhBDQAAoDGCGgAAQGMENQAAgMYIagAAAI0R1AAAABojqAEAADRGUAMAAGiMoAYAANCYHQZpVEo5KclfJJmd5KO11vePWb5Tkk8lOSrJvUneUGu9dXqH+iS74ILkne9Mbrst+eQnk1e9Krnkks7tUpJaO+3mz0/+4i+S009Pkqw896KsuHl97py3V/Zdd3+WP29ulix7/dTr+r3fS+69d+I2w+tJRrftXX+3n5XPPiQrfv5NuXP3fbLH+odTas3anXfPvjtuyvKfWp8lf/o/kttvTw44YOR5rdxlYVa89Ndz5y57Z985m7L80vOy5Kp/6Kxjl106/z7ySP/bPVYe/QtZceLS3Llhdvbdc+cs3/WeLBn67c3j3WWXZO7c5L77Rq0/t92WlT9zQlb83K/mzt2flX0fvjfLL/tElnzvm8nGjZ1+j35d7tx17852LbdnycUf7eyP2bOTjRuT2bOz8uDjRp77vg/ek+VX/22WLD6gs47bb0/23rszjnvvHbW+PerjKY9vyNqd5nUe9/Xzs2TdrcnZZ3fav/Odm7fZ2WeP7O+ROrn99mT33ZODDtq8rN++nTUr2bQpOfDAUf2svGZNhv7vt7N2Y0mS7PXYI3nPpu93nuPY9Y7tc2wNDNft8HYZs65xtTc8/uFtM7xvetc3ts/587PyuUdlxTGnbd7WXz8/S276+vjn2Lv99t47Wb9+dC3NndvZH4uOz4qX/Nrm/lZ9KktuvHzUOkeNb7h2esY+XPtrdt8ns2vNxjIr+627L8u/9okseeTfO4+56KL+227sdundxv3qtrefscdE7zYY0/a7+x6UYzcemTUbZmX2pk2dMT54d6dWf++N/ffx8Fhf//r+81Cv3rHuvffo/fTwfVk++0cjdbVy8av6H1dj5ofcdtvo/fPQvVn+zxdmybVfGTe2lfMWbD4Gh+fAvTZsrqGJxt1vuw3v38mOu7G1MNntfvP38DYdewz01OrK5//8+Lp6+N4sv+r/ZsnqS8avo/fY61OnvcfYyvvnbD5n9M49r3pV59xz1ll99+u4Y2GQup5o2/U8duXhr8yKF/9K7tx17875IyVr5+4y+nw2po+Vb/+TrPjJ3Kx5fFZm102bt8/ln+wcd2PmnwnPk1PNl8nEc3HPc1u5y8IMveI3s3burklK9pq9Ke/56kdGn9P6nYf61U/Ptl553Guy4ud/bfT57U//R/+6HrsPxm73SebzlUN/lRUP75M71z7aWc+Jz8uSI/abfNtdd12yYMFgx8RE8/BE22PsuaDbR+/cssejD6eUZO3cXbPHow/l8dlzsm7HnZMke+1Q857XHjnyHEZtjzHHy8pTzsiKesCEr6EmrZ3u2FYe95qsOOYNWVN23lyPO27K8tcctXkMkzyXUeezXXbJyoOOnfxc1+dcu/Lci7Lipkc7c+uD92T5lZ/Jkh9dPW5umapW+s7Rn/7z8eeme+8dP47h42Vsff7pn3b+7bf+Cy7Iyr+4MCuOOrVnv/aZAyaq6d5jdOx82vvzRPU3xdw27nXC1X+bJT+8sm/trlz8qgwdc3rW7rxbpw7XP5z3HDSr7xw24WukBpU60Ql0uEEps5N8L8krktyR5Kokb6y13tjT5reTHFZrfVsp5bQkv1xrfcNk/S5evLiuXr16W8c/PS64IFm6NFm3LkNJhqZqv+OOycc/npX3z8k7/n12Hp0zd2TRzhvW55yFGycOaxdckPz6rycbNkw9rtmzO/9u3Dh+/W95S/LRj2blf3lx3nHy74waQ6+dN6zPOV/6YGeS6Vr5/J8f95h+7aayLf1M9tgkA/W7Jevv17bXyONu+VZngnv88c0L581Lzjuv83O3TpJOnQwNLxs+qU22b7ttVy46Pss/e002pIxaPOeJDVlxyZ9vHvu8ecmb3pR89KPj+xyugfPPHxlPv3WNe1HTM/6+j3nTm/r2OfC2njNn/PbrYzpqcLJ9Omlf3eN31Ely0GNyC618/s/njD2enV1//k39x/jVD2XJcQf338dbub5tPa6m6megY/CrH8qS6/9p257MBMfdk22r62qQvg95ad7xyt+ecLsOZYDzz0TG1nUy5TE/0Ly44aYs+dg5I30MtH1uu2pk/ll57kX9z5MbbsqSD7934rrvN5eMnW+XLs3KA4/O8lf9XjbssOPoh4+dT7fQVs1Rw/sgGb/dJ5jP+65nzuyc85pDkyuumHDbXfuhszL0xBNb9dym1OdcMFWtjDWn1Kx4/RGdoDRBHU64jbuvoSatnW5NTlqPpeac1x/R+QVgz/qna54c3lYr3/KOvGPO87e5VrbpvDjBuXcoE8wp3dcQK79x87g5qdfI/thrw/h9OOD5fmtt6Wu8CeeBx28YNYcl6f8aaQaVUq6utS7uu2yAoPazSYZqrSd2b78jSWqt5/S0ubTb5p9LKTsk+Y8kz6qTdN5UUFuwoPMbiExS1GMdeGCO/cX3Zs0u88ct2u+Re3PFB39tynVtk+5vUo5928ezZo9nT9p0vwfuyhUf/o2R2xM9Zmy7qWxLP5M9NslA/W7J+rdmO41y4IGdf3v23VD3vxx4YHLrrYPt2wMP7Ixl7aODjWH4N2b9TLasd1zDBhnfBH1OV81MZ39T7dMp9+fwtpmuY7KPY9/28Xzn+q9mz+P6nwz2e+CuXPHXb518P27h+rb1uJqqnydjLplQn+PuybZNdbWVfQ/3OZRtCGrJFh/z03n+GNe+O5Zjf+dT/c+TW7sdx8y3k43nydxXk44v6b/d+8yvE65nz52TNXdMuO1e0a2XJ82YsQ5SK2Ptt+fOueLMl05YhxM+9+5rqEFqZ8p63HPnTtue9U/XPDlIf1tSK0/GfDqUSeaU2bNz7Fv/euo54JF7c8Xfv/spnYeT6XuNN+H2GztfzqDJgtogH33cL8mPem7fkeRFE7WptT5RSnkgyfwk94wZyNIkS5Nk/vz5GRoaGmT8T76e4rs8A54ob7st3/n2lzq/TRhjba0ZGvrhlOvaJt0J9DvXfaXvGMaNp+f2RI8Z224q29LPZI9NMlC/W7L+rdlOo/TZb5enWyu33ZYMDQ22b2+7Ld/54kcHH8NkL+CnenE/PK7e21OZoM/pqpnp7G+qfTrl/hzeNk/iyec7130l6390Q9Z+84K+y9fWmqFpCmnD69vW42qqfoa2ot1We4pfGCTbWFdb2fdwn5dnG4PaFh7z03n+GNe+O5bvfPvm6a2RMfPtZON5MvfVpOObSJ9jfcL1JJ2Prk0whjnZxlqZypixDlIrY61NMrR+1YTbZNJtPPTDgWpnynpMMjRm/dM1Tw70PCYcWcZtlydjPr08k9TJxo2DzwENzcVb+hpvwu03dr5s1CDvqL02yUm11jO6t381yYtqrct62tzQbXNH9/YPum3u6ddn4h21beYdNe+oeUfNO2p91ucdtW3jHbX+Yxv0Md5R847aMO+oeUdtW3hHrWPWAI9fk+S5Pbf3797Xt033o497pHNRke3D2Wd3Pq86qB13TM4+O8ufNzc7b1g/atHOG9Zn+fMm+Qz32Wd3Ptc7iNmzN39Pbez6ly5N5szJ8q+fP24M48bz9fNH3dfvMf3aTWVb+pnssYP2uyXrH3g7zZnT2b695s3r7Ld+dTK8LJl633bbLj/xeZmT8b8gmfPEhtFjnzdvZD+PM1wDE9Vt77iGTVXnw+vr02bgbd1v+/UxHTU42T6dtK/u8TtiS47JLbT86+dnh439v0ey84b1WX7FBRPv461c37YeV1P1M1C7K/q/g7hFJjvunkRbXVeD9P3Nv5mWubevsXWdTLntBpoX56wZ1cdA26dn/pnwPDlnzeR1P9lc3PPcln/9/Mx5Yvx3ZMbNp1toq+ao4X0w0bmiz7Hedz1zZmf5ic+bfNvtMNC14LZOn3PBVLUy1pxSs/zE53VuTFCHE27j7muoSZ9/t79J63F4DGPWP13zZJJODc5ZMy21sk3nxQHPvaPWv3Rp3zlp3PqfN7f/PtzSdW6hLT1nTTgPjJnDkvR/jdSoQYLaVUkOKqUsLKXsmOS0JBePaXNxkuFvy782ydcm+35ac04/vfOlwuHfbhx4YPJbv7X5du/bqfPnj3xhe8my1+echRuz3yP3ptRN2e+Reye/kMjwuj7xic1XtJvI/PmdL/Kef/7otsPr/6u/Sj7xiSy564ac86UPZr8H7kqpm7Lnow9mr3UPpNSa/eZs7Ixn3a2d59B9XkvW3ZpzvnxuZ9zptvvGJzZ/OXOXXTZf1a7f7a4lN30953zjE9lvzsaUdH5zdc7CjVly1w2jHzt//qj158ADO4+99C+7467Z76F7Ol8Q/d43N/f70D2bt+uGmzrPIxkJr0u+981Rz32/B+7qPI/jF3XWVUpn3fPnj1vfnpsey17rH978uC99sNP/Jz7R2b7Djz/wwM1fOO2tk1KSPfYY/WXUfvt2VvcQ6+lnyRH7ZcUbjsieszZ1PtpSa/Za/3DnC6+9++q880b284Q10Fu3w6G+d8xja693/N1tM259ffpcctcNOedr543e1sNf6O19jmO33/z542tpeH98+dzR/X353E5/w89j7PiGj8luv721n7opszdtTGrt1MuXz+1sy9/6rf7brnfb9Ntv/ep27PLe59W7DXraLrnp63n57ddmvzkbk9TNYxyu1T/89f77eHisE81DvXrGOm4/PXTPyLGz5LurJj6u+h2fvfvnwbtzztfO2zxHdMe2ZN2to4/B4TnwD3996nH3226DHHf92k50e+z6e7fp2GOgW6tLbvp6/7p66J7OPvvuqvHr6D32Jur/wAOz5MzfGH3O6J17fuu3kp137l+D/Y6Fqeo6mXjb9dTnOV87b6Qm9nz0wez16EOj9+UH3jWqjyXrbu08hzmd7TJq+wwfdz3zz4TnyQ+8a/L5crK5uOe5LVl3a1Z86QPZc/1DSfcXYHvN3pQVqz46+pw20VwywT5b8t1VOeeqC8ef34bPQ2Pruncf9NvuE8znS+66obN99tx583pec2iWHLHf5NvuF39x8GNignl4wseOPRf0mVv2XPdg9nr0we7PD2TeY+s2n89mb9p8IZGxddhzvCxZd2vO2XDThK+hJn3+3f5G9tOmdaPrcc7GzoVEjthv3P6Y7Hy25PbVU5/rxpxrl3zgXZ1xDs+tD9zVmS/vuqH/9p+gViaco/u9pho7jt7jZWx9jj1f9byGWHLmb3TWOWq/PjR+f/Sr6X7n+35z1mT1N8nc1vd1wjc+sXm79p6zvrsqK1Z9LHuue3BzHT76UFYseHzcHDbha6RGTfnRxyQppbwqyZ+nc3n+j9dazy6lvDfJ6lrrxaWUuUn+T5IjktyX5LRa6wRf0upo6qOPPYaGhtr57hxNUysMQp0wKLXCoNQKg1An24dtvZhIaq2XJLlkzH3v7vl5fZLXbcsgAQAA6Bjko48AAAA8hQQ1AACAxghqAAAAjRHUAAAAGiOoAQAANEZQAwAAaIygBgAA0BhBDQAAoDGCGgAAQGMENQAAgMYIagAAAI0R1AAAABojqAEAADRGUAMAAGiMoAYAANAYQQ0AAKAxghoAAEBjBDUAAIDGCGoAAACNEdQAAAAaI6gBAAA0RlADAABojKAGAADQGEENAACgMYIaAABAYwQ1AACAxghqAAAAjRHUAAAAGiOoAQAANEZQAwAAaIygBgAA0JhSa52ZFZdyd5LbZmTlk9snyT0zPQi2C2qFQagTBqVWGJRaYRDqZPtwYK31Wf0WzFhQa1UpZXWtdfFMj4P2qRUGoU4YlFphUGqFQaiT7Z+PPgIAADRGUAMAAGiMoDbeeTM9ALYbaoVBqBMGpVYYlFphEOpkO+c7agAAAI3xjhoAAEBjBDUAAIDGCGo9SiknlVJuLqXcUko5c6bHw8wppXy8lHJXKeWGnvv2LqV8tZTy/e6/e3XvL6WUD3Tr5rpSypEzN3KeaqWU55ZSLiul3FhK+U4p5fe696sXRpRS5pZS/rWU8m/dOjmre//CUsq/dOvhs6WUHbv379S9fUt3+YIZfQI85Uops0sp15RSvti9rVYYpZRyaynl+lLKtaWU1d37nHueRgS1rlLK7CR/meTkJIuSvLGUsmhmR8UM+mSSk8bcd2aSf6q1HpTkn7q3k07NHNT9b2mSDz1FY6QNTyT577XWRUmOSfLfunOHeqHXY0leWmt9QZLDk5xUSjkmyf9K8me11v+S5P4kb+m2f0uS+7v3/1m3Hc8sv5fkpp7baoV+Tqi1Ht7z99Kce55GBLXNXpjkllrrD2utjyf5TJJfmuExMUNqrauS3Dfm7l9Kcn735/OTLOm5/1O148oke5ZSnvOUDJQZV2v9ca31292fH0rnhdV+US/06O7vh7s353T/q0lemuRz3fvH1slw/XwuyctKKeWpGS0zrZSyf5JfSPLR7u0StcJgnHueRgS1zfZL8qOe23d074NhP1Vr/XH35/9I8lPdn9UOSZLuR46OSPIvUS+M0f0o27VJ7kry1SQ/SLK21vpEt0lvLYzUSXf5A0nmP6UDZib9eZL/kWRT9/b8qBXGq0m+Ukq5upSytHufc8/TyA4zPQDYHtVaaynF37ZgRCll1yR/m+T/rbU+2PsLbfVCktRaNyY5vJSyZ5IvJPnpmR0RLSqlvDrJXbXWq0spx8/wcGjbcbXWNaWUZyf5ainlu70LnXu2f95R22xNkuf23N6/ex8M+8nwxwS6/97VvV/tPMOVUuakE9IuqLV+vnu3eqGvWuvaJJcl+dl0Pn40/EvT3loYqZPu8j2S3PvUjpQZcmySU0opt6bzNYyXJvmLqBXGqLWu6f57Vzq//HlhnHueVgS1za5KclD3qko7JjktycUzPCbacnGSN3V/flOSv+u5/9e6V1Q6JskDPR874Gmu+12QjyW5qdb6v3sWqRdGlFKe1X0nLaWUnZO8Ip3vM16W5LXdZmPrZLh+Xpvka7VWvxl/Bqi1vqPWun+tdUE6r0W+Vms9PWqFHqWUXUopuw3/nOSVSW6Ic8/TSnEsb1ZKeVU6nwufneTjtdazZ3ZEzJRSyoVJjk+yT5KfJHlPkpVJLkpyQJLbkry+1npf94X6uelcJXJdkl+vta6egWEzA0opxyX5RpLrs/n7JH+UzvfU1AtJklLKYel8sX92Or8kvajW+t5Syv+Tzrsmeye5Jsl/rbU+VkqZm+T/pPOdx/uSnFZr/eHMjJ6Z0v3o49trra9WK/Tq1sMXujd3SPLpWuvZpZT5ce552hDUAAAAGuOjjwAAAI0R1AAAABojqAEAADRGUAMAAGiMoAYAANAYQQ0AAKAxghoAAEBj/n/9msW7DN9LQAAAAABJRU5ErkJggg==\n",
      "text/plain": [
       "<Figure size 1080x1080 with 1 Axes>"
      ]
     },
     "metadata": {
      "needs_background": "light"
     },
     "output_type": "display_data"
    }
   ],
>>>>>>> 2318af0db84308d2cacfc1b6ff51ed155bf393b9
   "source": [
    "#### Plotting ####\n",
    "plt.subplots(1, figsize=(15, 15))\n",
    "plt.scatter(np.linspace(0, 549, 549), y_test_log, color='red', label='Actual Data')\n",
    "plt.scatter(np.linspace(0, 549, 549), y_pred_log, label='Predicted Data')\n",
    "plt.grid(color='#000000', linestyle='-', linewidth=0.5)\n",
    "plt.legend(loc=\"upper left\")"
   ]
<<<<<<< HEAD
=======
  },
  {
   "cell_type": "markdown",
   "id": "57c86035",
   "metadata": {},
   "source": [
    "The higher the AUC (area under the curve), the more accurately our model is able to predict outcomes"
   ]
  },
  {
   "cell_type": "code",
   "execution_count": 67,
   "id": "8984c064",
   "metadata": {},
   "outputs": [
    {
     "data": {
      "image/png": "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\n",
      "text/plain": [
       "<Figure size 432x288 with 1 Axes>"
      ]
     },
     "metadata": {
      "needs_background": "light"
     },
     "output_type": "display_data"
    }
   ],
   "source": [
    "y_pred_proba = logReg.predict_proba(X_test)[::,1]\n",
    "fpr, tpr, _ = metrics.roc_curve(y_test_log,  y_pred_proba)\n",
    "auc = metrics.roc_auc_score(y_test_log, y_pred_proba)\n",
    "\n",
    "#create ROC curve\n",
    "plt.plot(fpr,tpr,label=\"AUC=\"+str(auc))\n",
    "plt.legend(loc=4)\n",
    "plt.show()"
   ]
>>>>>>> 2318af0db84308d2cacfc1b6ff51ed155bf393b9
  }
 ],
 "metadata": {
  "kernelspec": {
   "display_name": "Python 3 (ipykernel)",
   "language": "python",
   "name": "python3"
  },
  "language_info": {
   "codemirror_mode": {
    "name": "ipython",
    "version": 3
   },
   "file_extension": ".py",
   "mimetype": "text/x-python",
   "name": "python",
   "nbconvert_exporter": "python",
   "pygments_lexer": "ipython3",
   "version": "3.9.9"
  }
 },
 "nbformat": 4,
 "nbformat_minor": 5
}
