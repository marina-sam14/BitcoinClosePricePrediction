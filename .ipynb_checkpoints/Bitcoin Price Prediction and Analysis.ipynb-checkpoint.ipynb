{
 "cells": [
  {
   "cell_type": "code",
   "execution_count": 1,
   "metadata": {
    "colab": {
     "base_uri": "https://localhost:8080/"
    },
    "id": "nUpjIx6_58Kh",
    "outputId": "429e87a4-23dc-4625-fbcb-5357d17b0aa2"
   },
   "outputs": [
    {
     "ename": "ModuleNotFoundError",
     "evalue": "No module named 'google'",
     "output_type": "error",
     "traceback": [
      "\u001b[1;31m---------------------------------------------------------------------------\u001b[0m",
      "\u001b[1;31mModuleNotFoundError\u001b[0m                       Traceback (most recent call last)",
      "\u001b[1;32mC:\\Users\\DD7D~1\\AppData\\Local\\Temp/ipykernel_2004/1408506528.py\u001b[0m in \u001b[0;36m<module>\u001b[1;34m\u001b[0m\n\u001b[1;32m----> 1\u001b[1;33m \u001b[1;32mfrom\u001b[0m \u001b[0mgoogle\u001b[0m\u001b[1;33m.\u001b[0m\u001b[0mcolab\u001b[0m \u001b[1;32mimport\u001b[0m \u001b[0mdrive\u001b[0m\u001b[1;33m\u001b[0m\u001b[1;33m\u001b[0m\u001b[0m\n\u001b[0m\u001b[0;32m      2\u001b[0m \u001b[0mdrive\u001b[0m\u001b[1;33m.\u001b[0m\u001b[0mmount\u001b[0m\u001b[1;33m(\u001b[0m\u001b[1;34m'/content/drive'\u001b[0m\u001b[1;33m)\u001b[0m\u001b[1;33m\u001b[0m\u001b[1;33m\u001b[0m\u001b[0m\n",
      "\u001b[1;31mModuleNotFoundError\u001b[0m: No module named 'google'"
     ]
    }
   ],
   "source": [
    "from google.colab import drive\n",
    "drive.mount('/content/drive')"
   ]
  },
  {
   "cell_type": "code",
   "execution_count": null,
   "metadata": {
    "id": "XRzjS0tz3TZR"
   },
   "outputs": [],
   "source": [
    "!pip install -q plotly==4.2.1"
   ]
  },
  {
   "cell_type": "markdown",
   "metadata": {
    "id": "BZFuB7rJexyq"
   },
   "source": [
    "## **IMPORT LIBRARIES**"
   ]
  },
  {
   "cell_type": "code",
   "execution_count": 2,
   "metadata": {
    "id": "u7NZXuykevYB"
   },
   "outputs": [],
   "source": [
    "import numpy as np \n",
    "import pandas as pd\n",
    "import seaborn as sns\n",
    "import matplotlib.pyplot as plt"
   ]
  },
  {
   "cell_type": "code",
   "execution_count": 3,
   "metadata": {
    "id": "nMrmPSlQiNgb"
   },
   "outputs": [],
   "source": [
    "from sklearn.metrics import classification_report\n",
    "from sklearn.metrics import confusion_matrix\n",
    "from sklearn.model_selection import train_test_split\n",
    "from sklearn.metrics import accuracy_score, f1_score\n",
    "from sklearn.metrics import plot_confusion_matrix\n",
    "\n"
   ]
  },
  {
   "cell_type": "code",
   "execution_count": 4,
   "metadata": {
    "id": "M8tJ-CgHCU3J"
   },
   "outputs": [],
   "source": [
    "from statsmodels.tsa.stattools import adfuller, acf, pacf\n",
    "from statsmodels.tsa.arima_model import ARIMA\n",
    "from statsmodels.tsa.seasonal import seasonal_decompose\n",
    "from statsmodels.tsa.stattools import adfuller\n",
    "from statsmodels.tsa.arima_model import ARIMA\n",
    "import statsmodels.graphics.tsaplots as tsa\n",
    "import statsmodels.stats.diagnostic as diag"
   ]
  },
  {
   "cell_type": "code",
   "execution_count": null,
   "metadata": {
    "colab": {
     "base_uri": "https://localhost:8080/"
    },
    "id": "ZqJdemmRV0iP",
    "outputId": "84bdbdda-fe4f-4349-93e3-eea118cee7e9"
   },
   "outputs": [],
   "source": [
    "!pip install chart_studio"
   ]
  },
  {
   "cell_type": "code",
   "execution_count": null,
   "metadata": {
    "colab": {
     "base_uri": "https://localhost:8080/"
    },
    "id": "Nfy5uXTGFGgE",
    "outputId": "408fcfc9-a028-419f-8283-4992c1d39849"
   },
   "outputs": [],
   "source": [
    "!pip install dash"
   ]
  },
  {
   "cell_type": "code",
   "execution_count": null,
   "metadata": {
    "id": "Ae7BsYFDVlwH"
   },
   "outputs": [],
   "source": [
    "from plotly import tools\n",
    "import gc\n",
    "import datetime\n",
    "import dash\n",
    "import dash_core_components as dcc\n",
    "import dash_html_components as html\n",
    "import plotly.express as px\n",
    "import plotly.graph_objects as go\n",
    "import pandas as pd\n",
    "from plotly.subplots import make_subplots"
   ]
  },
  {
   "cell_type": "markdown",
   "metadata": {
    "id": "wk0-884hfDgO"
   },
   "source": [
    "## **READ THE DATA**"
   ]
  },
  {
   "cell_type": "code",
   "execution_count": null,
   "metadata": {
    "colab": {
     "base_uri": "https://localhost:8080/"
    },
    "id": "BECt8L_xevb3",
    "outputId": "f8fb3b11-fbb4-4282-dea8-86b5323d3071"
   },
   "outputs": [],
   "source": [
    "df = pd.read_csv('Data/BTC-USD.csv',header=0)\n",
    "print(df.head())\n",
    "\n",
    "df['Date']=pd.to_datetime(df['Date'])\n",
    "print(df.info())"
   ]
  },
  {
   "cell_type": "markdown",
   "metadata": {
    "id": "uUaombxuhZ9-"
   },
   "source": [
    "## **EXPLORATORY DATA ANALYSIS**"
   ]
  },
  {
   "cell_type": "markdown",
   "metadata": {
    "id": "m_bgK6_HB7mb"
   },
   "source": [
    "### **LJung Box Test for White Noise Detection**"
   ]
  },
  {
   "cell_type": "markdown",
   "metadata": {
    "id": "4f4Ox4p9CDT8"
   },
   "source": [
    "### Autocorrelation Plot"
   ]
  },
  {
   "cell_type": "code",
   "execution_count": null,
   "metadata": {
    "colab": {
     "base_uri": "https://localhost:8080/",
     "height": 547
    },
    "id": "SnroX9OPCZNx",
    "outputId": "d10827c8-edad-45aa-bbbb-f2006328d9bc"
   },
   "outputs": [],
   "source": [
    "tsa.plot_acf(df['Close'], lags=40, alpha=0.05, title='Auto-correlation coefficients for lags 1 through 40')"
   ]
  },
  {
   "cell_type": "markdown",
   "metadata": {
    "id": "TQPXiJe_NLaI"
   },
   "source": [
    "**Testing using Ljung Box**"
   ]
  },
  {
   "cell_type": "code",
   "execution_count": null,
   "metadata": {
    "colab": {
     "base_uri": "https://localhost:8080/"
    },
    "id": "7uhDfsc0C2My",
    "outputId": "cc480796-8d9f-4ea6-f89d-981e1bad23a9"
   },
   "outputs": [],
   "source": [
    "diag.acorr_ljungbox(df['Close'], lags=[40], boxpierce=True)"
   ]
  },
  {
   "cell_type": "markdown",
   "metadata": {
    "id": "vMNH8p_INo_G"
   },
   "source": [
    "Test Statistic for Ljungbox = 59590.70658337\n",
    "\n",
    "p-value for Ljungbox = 0 \n",
    "\n",
    "\n",
    "Test Statistic for Box-Pierce Test = 58902.34933406\n",
    "\n",
    "p-value for Box-Pierce = 0\n",
    "\n",
    "Both the p-values from Chi-Square table are less than 0.01 , So with 99% confidence , we say that the time series is not Pure White noise"
   ]
  },
  {
   "cell_type": "markdown",
   "metadata": {
    "id": "04zi8nz8FfG2"
   },
   "source": [
    "**Price Trend**"
   ]
  },
  {
   "cell_type": "code",
   "execution_count": null,
   "metadata": {
    "colab": {
     "base_uri": "https://localhost:8080/",
     "height": 314
    },
    "id": "tqjOyNpbhL1F",
    "outputId": "488bc0f5-a9f1-482c-827e-e28c1f2abf40"
   },
   "outputs": [],
   "source": [
    "\n",
    "plt.plot('Date', 'Close', data=df)\n",
    "plt.xlabel('Date')\n",
    "plt.ylabel('Closing Price')\n",
    "plt.title('Closing price trend')\n",
    "plt.xticks(rotation=45)\n",
    "plt.savefig('priceTrend.jpg', format='jpg')"
   ]
  },
  {
   "cell_type": "code",
   "execution_count": null,
   "metadata": {
    "colab": {
     "base_uri": "https://localhost:8080/",
     "height": 195
    },
    "id": "z-oJyr2zW_e_",
    "outputId": "63cbbb2f-15d6-4986-addd-7fbca0881f13"
   },
   "outputs": [],
   "source": [
    "import datetime\n",
    "from datetime import timezone\n",
    "\n",
    "data = df\n",
    "\n",
    "start = datetime.datetime(2015,11,19)#2015-11-19\n",
    "end = datetime.datetime(2020,11,19)#2020-11-19\n",
    "\n",
    "# find rows between start and end time and find the first row (00:00 monday morning)\n",
    "weekly_rows = data[(data['Date'] >= start) & (data['Date'] <= end)].groupby([pd.Grouper(key='Date', freq='W-MON')]).first().reset_index()\n",
    "weekly_rows.head()"
   ]
  },
  {
   "cell_type": "markdown",
   "metadata": {
    "id": "W33igHJi0Ty1"
   },
   "source": [
    "## **VISUALIZATION**"
   ]
  },
  {
   "cell_type": "markdown",
   "metadata": {
    "id": "RxrG2P9WFv7R"
   },
   "source": [
    "**HIGH PRICE MOVEMENT**"
   ]
  },
  {
   "cell_type": "code",
   "execution_count": null,
   "metadata": {
    "colab": {
     "base_uri": "https://localhost:8080/",
     "height": 542
    },
    "id": "6DUTUwbZmHaz",
    "outputId": "cfc08e18-f3aa-458a-a98b-664e70299aef"
   },
   "outputs": [],
   "source": [
    "# Load data\n",
    "import plotly.graph_objects as go\n",
    "\n",
    "\n",
    "# Create figure\n",
    "fig = go.Figure()\n",
    "\n",
    "fig.add_trace(\n",
    "    go.Scatter(x = list(weekly_rows.Date),\n",
    "               y = list(weekly_rows.High)))\n",
    "\n",
    "# Set title\n",
    "fig.update_layout(\n",
    "    title_text=\"Time series with range slider and selectors\"\n",
    ")\n",
    "\n",
    "# Add range slider\n",
    "fig.update_layout(\n",
    "    xaxis=dict(\n",
    "        rangeselector=dict(\n",
    "            buttons=list([\n",
    "                dict(count=1,\n",
    "                     label=\"1m\",\n",
    "                     step=\"month\",\n",
    "                     stepmode=\"backward\"),\n",
    "                dict(count=6,\n",
    "                     label=\"6m\",\n",
    "                     step=\"month\",\n",
    "                     stepmode=\"backward\"),\n",
    "               \n",
    "                dict(count=1,\n",
    "                     label=\"1y\",\n",
    "                     step=\"year\",\n",
    "                     stepmode=\"backward\"),\n",
    "                dict(step=\"all\")\n",
    "            ])\n",
    "        ),\n",
    "        rangeslider=dict(\n",
    "            visible=True\n",
    "        ),\n",
    "        type=\"date\"\n",
    "    )\n",
    ")\n",
    "fig.show()"
   ]
  },
  {
   "cell_type": "markdown",
   "metadata": {
    "id": "Ef-YYZduF5Jk"
   },
   "source": [
    "**Volume Movement**"
   ]
  },
  {
   "cell_type": "code",
   "execution_count": null,
   "metadata": {
    "colab": {
     "base_uri": "https://localhost:8080/",
     "height": 542
    },
    "id": "N84W_NzNmHTR",
    "outputId": "e91b6572-4d88-4cb1-efcf-bb4b623ddf95"
   },
   "outputs": [],
   "source": [
    "  # Load data\n",
    "import plotly.graph_objects as go\n",
    "\n",
    "\n",
    "# Create figure\n",
    "fig = go.Figure()\n",
    "\n",
    "fig.add_trace(\n",
    "    go.Scatter(x = list(weekly_rows.Date),\n",
    "               y = list(weekly_rows.Volume)))\n",
    "\n",
    "# Set title\n",
    "fig.update_layout(\n",
    "    title_text=\"Time series with range slider and selectors\"\n",
    ")\n",
    "\n",
    "# Add range slider\n",
    "fig.update_layout(\n",
    "    xaxis=dict(\n",
    "        rangeselector=dict(\n",
    "            buttons=list([\n",
    "                dict(count=1,\n",
    "                     label=\"1m\",\n",
    "                     step=\"month\",\n",
    "                     stepmode=\"backward\"),\n",
    "                dict(count=6,\n",
    "                     label=\"6m\",\n",
    "                     step=\"month\",\n",
    "                     stepmode=\"backward\"),\n",
    "                \n",
    "                dict(count=1,\n",
    "                     label=\"1y\",\n",
    "                     step=\"year\",\n",
    "                     stepmode=\"backward\"),\n",
    "                dict(step=\"all\")\n",
    "            ])\n",
    "        ),\n",
    "        rangeslider=dict(\n",
    "            visible=True\n",
    "        ),\n",
    "        type=\"date\"\n",
    "    )\n",
    ")\n",
    "fig.show()"
   ]
  },
  {
   "cell_type": "code",
   "execution_count": null,
   "metadata": {
    "colab": {
     "base_uri": "https://localhost:8080/"
    },
    "id": "uS5bzbXehbsD",
    "outputId": "fcfbf202-f1e8-4ff2-c5b3-12ceb2da024b"
   },
   "outputs": [],
   "source": [
    "df['Daily Lag']=df['Close'].shift(1)\n",
    "#df.head()\n",
    "df['Daily Returns']=(df['Daily Lag']/df['Close'])-1\n",
    "#df.head()\n",
    "#df['Daily Returns'].hist()\n",
    "mean=df['Daily Returns'].mean()\n",
    "std=df['Daily Returns'].std()\n",
    "print(\"\\n Mean: \",mean)\n",
    "print(\"\\n Standard deviation: \",std)"
   ]
  },
  {
   "cell_type": "markdown",
   "metadata": {
    "id": "eKfmEpLBhl4w"
   },
   "source": [
    "## **MODELS FOR CLASSIFICATION**"
   ]
  },
  {
   "cell_type": "code",
   "execution_count": null,
   "metadata": {
    "colab": {
     "base_uri": "https://localhost:8080/",
     "height": 316
    },
    "id": "edI8Qxy98kFZ",
    "outputId": "367c9158-99ae-4e72-f9ff-9fa0447d641a"
   },
   "outputs": [],
   "source": [
    "logRegData=df\n",
    "logRegData['PriceDifference']=logRegData['Open']-logRegData['Close']\n",
    "logRegData['UpDown']=np.where(logRegData['PriceDifference']>0,'-1','1')\n",
    "logRegData.head()\n",
    "logRegData['LagPrice1']=logRegData['Close'].shift(1)\n",
    "logRegData['LagPrice2']=logRegData['Close'].shift(2)\n",
    "logRegData['LagPrice3']=logRegData['Close'].shift(3)\n",
    "logRegData['LagPrice4']=logRegData['Close'].shift(4)\n",
    "logRegData['LagPrice5']=logRegData['Close'].shift(5)\n",
    "logRegData['MA_10']=logRegData['Close'].rolling(window=10).mean()\n",
    "logRegData['MA_20']=logRegData['Close'].rolling(window=20).mean()\n",
    "logRegData['STD_10']=logRegData['Close'].rolling(window=10).std()\n",
    "logRegData['STD_20']=logRegData['Close'].rolling(window=20).std()\n",
    "#logRegData['MACD_10']=logRegData['Close'].rolling(window=10).macd()\n",
    "logRegData['EMA_12']=logRegData['Close'].ewm(span=12,adjust=False).mean()\n",
    "logRegData['EMA_26']=logRegData['Close'].ewm(span=26,adjust=False).mean()\n",
    "logRegData['MACD']=logRegData['EMA_12']-logRegData['EMA_26']\n",
    "logRegData['UpperBollinger']=logRegData['MA_20']+2*logRegData['STD_20']\n",
    "logRegData['LowerBollinger']=logRegData['MA_20']-2*logRegData['STD_20']\n",
    "\n",
    "logRegData=logRegData.iloc[20:]\n",
    "logRegData.head()"
   ]
  },
  {
   "cell_type": "markdown",
   "metadata": {
    "id": "tKT2riEtilQx"
   },
   "source": [
    "## **TRAIN TEST SPLIT**"
   ]
  },
  {
   "cell_type": "code",
   "execution_count": null,
   "metadata": {
    "id": "S_gHbc9T85Pi"
   },
   "outputs": [],
   "source": [
    "from sklearn.model_selection import train_test_split\n",
    "from sklearn.linear_model import LogisticRegression\n",
    "#X=logRegData[['MA_10','MA_20','STD_10','STD_20','MACD','UpperBollinger','LowerBollinger']]\n",
    "X=logRegData[['MA_10','STD_10','MACD','UpperBollinger','LowerBollinger']]\n",
    "y=logRegData[['UpDown']]\n",
    "X_train, X_test, y_train, y_test=train_test_split(X,y,test_size=0.25)\n",
    "y_train=y_train['UpDown'].to_list()\n",
    "y_test=y_test['UpDown'].to_list()"
   ]
  },
  {
   "cell_type": "markdown",
   "metadata": {
    "id": "6xakySZzis57"
   },
   "source": [
    "## **LOGISTIC REGRESSION MODEL** "
   ]
  },
  {
   "cell_type": "code",
   "execution_count": null,
   "metadata": {
    "colab": {
     "base_uri": "https://localhost:8080/"
    },
    "id": "kTSH6CqZiDGz",
    "outputId": "456a1805-1298-48be-9a8c-9d564de6f7cc"
   },
   "outputs": [],
   "source": [
    "#building logistic regression model\n",
    "#training logistic regression model\n",
    "\n",
    "from sklearn.linear_model import LogisticRegression\n",
    "corr_matrix=X.corr()\n",
    "print(corr_matrix)\n",
    "\n",
    "log_model=LogisticRegression(max_iter=150)\n",
    "log_model.fit(X_train,y_train)\n",
    "y_pred=log_model.predict(X_test)\n",
    "print(y_pred)"
   ]
  },
  {
   "cell_type": "code",
   "execution_count": null,
   "metadata": {
    "id": "fWZas8uG2Yyl"
   },
   "outputs": [],
   "source": [
    "#log_model.predict_proba(X_test)\n",
    "#from sklearn.metrics import log_loss\n",
    "#print(log_loss(y_test,y_pred))"
   ]
  },
  {
   "cell_type": "code",
   "execution_count": null,
   "metadata": {
    "colab": {
     "base_uri": "https://localhost:8080/",
     "height": 484
    },
    "id": "Gz30cfMTiHHz",
    "outputId": "015332ff-2b8f-472f-937a-180148e95c06"
   },
   "outputs": [],
   "source": [
    "print(confusion_matrix(y_test,y_pred))\n",
    "print(classification_report(y_test,y_pred))\n",
    "plot_confusion_matrix(log_model,X_test,y_test)"
   ]
  },
  {
   "cell_type": "code",
   "execution_count": null,
   "metadata": {
    "colab": {
     "base_uri": "https://localhost:8080/"
    },
    "id": "JcrP5xDviJgz",
    "outputId": "b4810c0c-519a-4359-d7f6-2a6738866cd5"
   },
   "outputs": [],
   "source": [
    "f1_log_reg = f1_score(y_test,y_pred,zero_division='warn',average=None).mean()*100\n",
    "print (accuracy_score(y_test,y_pred)*100)"
   ]
  },
  {
   "cell_type": "markdown",
   "metadata": {
    "id": "k1aLXhN0jj14"
   },
   "source": [
    "## **SUPPORT VECTOR CLASSIFIER MODEL**"
   ]
  },
  {
   "cell_type": "code",
   "execution_count": null,
   "metadata": {
    "id": "zrXWvQDvjOR3"
   },
   "outputs": [],
   "source": [
    "from matplotlib import style\n",
    "style.use(\"ggplot\")\n",
    "from sklearn import svm"
   ]
  },
  {
   "cell_type": "code",
   "execution_count": null,
   "metadata": {
    "colab": {
     "base_uri": "https://localhost:8080/"
    },
    "id": "lQMM-u_vT6RN",
    "outputId": "5f9db1ae-e56b-411b-8861-013197c857cd"
   },
   "outputs": [],
   "source": [
    "y_train = [int(element) for element in y_train]\n",
    "print(y_train)"
   ]
  },
  {
   "cell_type": "code",
   "execution_count": null,
   "metadata": {
    "id": "jJmFKZTGUv7E"
   },
   "outputs": [],
   "source": [
    "y_test = [int(element) for element in y_test]"
   ]
  },
  {
   "cell_type": "markdown",
   "metadata": {
    "id": "l8GB-yA-qdqa"
   },
   "source": [
    "**RBF Kernel**"
   ]
  },
  {
   "cell_type": "code",
   "execution_count": null,
   "metadata": {
    "colab": {
     "base_uri": "https://localhost:8080/"
    },
    "id": "-9cPvkiBjida",
    "outputId": "eb4c39af-ad24-4d57-ea58-a669018ea97d"
   },
   "outputs": [],
   "source": [
    "clf = svm.SVC(kernel='rbf', random_state=1, max_iter=100, gamma=0.1, C=0.02)\n",
    "clf.fit(X_train,y_train)"
   ]
  },
  {
   "cell_type": "code",
   "execution_count": null,
   "metadata": {
    "colab": {
     "base_uri": "https://localhost:8080/"
    },
    "id": "7Tgq0m6WUNHI",
    "outputId": "7505aedb-bba1-431a-cb88-d624e9b447f0"
   },
   "outputs": [],
   "source": [
    "from sklearn.model_selection import GridSearchCV,StratifiedShuffleSplit\n",
    "\n",
    "C_range = np.logspace(-2, 10, 13)\n",
    "gamma_range = np.logspace(-9, 3, 13)\n",
    "iter_values = [100,150,200,250]\n",
    "\n",
    "param_grid = dict(max_iter = iter_values, gamma=gamma_range, C=C_range)\n",
    "\n",
    "cv = StratifiedShuffleSplit(n_splits=5, test_size=0.2, random_state=42)\n",
    "grid_svm = GridSearchCV(svm.SVC(kernel='rbf'), param_grid=param_grid, cv=cv,scoring='f1')\n",
    "\n",
    "grid_svm.fit(X_train,y_train)\n",
    "\n"
   ]
  },
  {
   "cell_type": "code",
   "execution_count": null,
   "metadata": {
    "colab": {
     "base_uri": "https://localhost:8080/"
    },
    "id": "H_HoqTV5zG91",
    "outputId": "21484928-9cb3-407a-d040-92c568d7824a"
   },
   "outputs": [],
   "source": [
    "print(\"The best parameters are %s with a score of %0.2f\" % (grid_svm.best_params_, grid_svm.best_score_))"
   ]
  },
  {
   "cell_type": "code",
   "execution_count": null,
   "metadata": {
    "colab": {
     "base_uri": "https://localhost:8080/"
    },
    "id": "Kjke8DNjkHmV",
    "outputId": "2d65ed8e-1978-4378-a928-033e41e1c61d"
   },
   "outputs": [],
   "source": [
    "y_pred_svc = grid_svm.predict(X_test)\n",
    "y_pred_svc"
   ]
  },
  {
   "cell_type": "code",
   "execution_count": null,
   "metadata": {
    "colab": {
     "base_uri": "https://localhost:8080/",
     "height": 484
    },
    "id": "2r_vc_YslvRb",
    "outputId": "762f0bd8-64b0-4a4e-866f-8994919a0313"
   },
   "outputs": [],
   "source": [
    "print(confusion_matrix(y_test,y_pred_svc))\n",
    "print(classification_report(y_test,y_pred_svc))\n",
    "\n",
    "plot_confusion_matrix(grid_svm,X_test,y_test)"
   ]
  },
  {
   "cell_type": "code",
   "execution_count": null,
   "metadata": {
    "colab": {
     "base_uri": "https://localhost:8080/"
    },
    "id": "0QzuEKlWU-Vf",
    "outputId": "ce9b5c6e-f57b-44fc-d210-f5768fe1d41c"
   },
   "outputs": [],
   "source": [
    "y_pred_svc = clf.predict(X_test)\n",
    "y_pred_svc"
   ]
  },
  {
   "cell_type": "code",
   "execution_count": null,
   "metadata": {
    "colab": {
     "base_uri": "https://localhost:8080/",
     "height": 484
    },
    "id": "__MA121rVCct",
    "outputId": "e5e01061-f78c-40c0-ca2d-24a086afcfca"
   },
   "outputs": [],
   "source": [
    "print(confusion_matrix(y_test,y_pred_svc))\n",
    "print(classification_report(y_test,y_pred_svc))\n",
    "\n",
    "plot_confusion_matrix(clf,X_test,y_test)"
   ]
  },
  {
   "cell_type": "code",
   "execution_count": null,
   "metadata": {
    "colab": {
     "base_uri": "https://localhost:8080/"
    },
    "id": "DBMXRXsw2yK8",
    "outputId": "0448d324-5c9d-4794-aa04-7c8c7195e488"
   },
   "outputs": [],
   "source": [
    "f1_svc = f1_score(y_test,y_pred_svc,zero_division='warn',average=None).mean()*100\n",
    "print(accuracy_score(y_test,y_pred_svc)*100)"
   ]
  },
  {
   "cell_type": "markdown",
   "metadata": {
    "id": "j4-lgQ5CrLfK"
   },
   "source": [
    "**Polynomial Kernel**"
   ]
  },
  {
   "cell_type": "code",
   "execution_count": null,
   "metadata": {
    "colab": {
     "base_uri": "https://localhost:8080/"
    },
    "id": "rsCFMt-vmKW9",
    "outputId": "c6ffd8bb-4390-4e49-dc72-702348d2c08c"
   },
   "outputs": [],
   "source": [
    "poly = svm.SVC(kernel='poly', random_state=1, gamma=0.1, C=0.02, max_iter=100)\n",
    "poly.fit(X_train,y_train)\n",
    "y_pred_svc_poly = poly.predict(X_test)\n",
    "y_pred_svc_poly"
   ]
  },
  {
   "cell_type": "code",
   "execution_count": null,
   "metadata": {
    "colab": {
     "base_uri": "https://localhost:8080/",
     "height": 501
    },
    "id": "caGn467FrSyh",
    "outputId": "b7ff5e2e-a08e-48df-e6f3-e33f80658782"
   },
   "outputs": [],
   "source": [
    "print(confusion_matrix(y_test,y_pred_svc_poly))\n",
    "print(classification_report(y_test,y_pred_svc_poly))\n",
    "print(accuracy_score(y_test,y_pred_svc_poly)*100)\n",
    "plot_confusion_matrix(poly,X_test,y_test)"
   ]
  },
  {
   "cell_type": "code",
   "execution_count": null,
   "metadata": {
    "colab": {
     "base_uri": "https://localhost:8080/"
    },
    "id": "AXub7aEN28Jg",
    "outputId": "b267b6e4-66e9-4251-f513-98750fbdd39f"
   },
   "outputs": [],
   "source": [
    "f1_svc_poly = f1_score(y_test,y_pred_svc_poly,zero_division='warn',average=None).mean()*100\n",
    "print(accuracy_score(y_test,y_pred_svc_poly)*100)"
   ]
  },
  {
   "cell_type": "markdown",
   "metadata": {
    "id": "vifK1ghnmK_T"
   },
   "source": [
    "## **RANDOM FOREST CLASSIFIER**"
   ]
  },
  {
   "cell_type": "code",
   "execution_count": null,
   "metadata": {
    "colab": {
     "base_uri": "https://localhost:8080/"
    },
    "id": "UhMyX0m8mOK6",
    "outputId": "30b953d5-0a36-4b62-dd40-6af32a47d6a2"
   },
   "outputs": [],
   "source": [
    "from sklearn.ensemble import RandomForestClassifier\n",
    "from sklearn.datasets import make_classification\n",
    "\n",
    "rf = RandomForestClassifier(max_depth=2, random_state=0)\n",
    "rf.fit(X_train, y_train)\n",
    "\n",
    "y_pred_rf = rf.predict(X_test)\n",
    "y_pred_rf"
   ]
  },
  {
   "cell_type": "code",
   "execution_count": null,
   "metadata": {
    "colab": {
     "base_uri": "https://localhost:8080/",
     "height": 484
    },
    "id": "192A0RuQmY5j",
    "outputId": "7916d15f-f580-4c7a-c61e-30609baa4773"
   },
   "outputs": [],
   "source": [
    "\n",
    "print(confusion_matrix(y_test,y_pred_rf))\n",
    "print(classification_report(y_test,y_pred_rf))\n",
    "\n",
    "plot_confusion_matrix(rf,X_test,y_test)"
   ]
  },
  {
   "cell_type": "code",
   "execution_count": null,
   "metadata": {
    "colab": {
     "base_uri": "https://localhost:8080/"
    },
    "id": "z3nP_F3_3H6c",
    "outputId": "9c6017bb-8c3b-4ca3-cd14-a1f1afabd7b1"
   },
   "outputs": [],
   "source": [
    "f1_rf = f1_score(y_test,y_pred_rf,zero_division='warn',average=None).mean()*100\n",
    "print (accuracy_score(y_test,y_pred_rf)*100)"
   ]
  },
  {
   "cell_type": "markdown",
   "metadata": {
    "id": "SktFCw7-3UWj"
   },
   "source": [
    "## **COMPARISON**"
   ]
  },
  {
   "cell_type": "code",
   "execution_count": null,
   "metadata": {
    "colab": {
     "base_uri": "https://localhost:8080/",
     "height": 601
    },
    "id": "O_4Z0dOr3Zwi",
    "outputId": "cf540d65-a59a-4084-98da-42908204d7aa"
   },
   "outputs": [],
   "source": [
    "f1_names = ['LOGISTIC REGRESSION','SVC RBF','SVC POLY','RANDOM FOREST']\n",
    "f1_data = [f1_log_reg, f1_svc, f1_svc_poly, f1_rf]\n",
    "f1_df = pd.DataFrame()\n",
    "f1_df['MODELS'] = f1_names\n",
    "f1_df['F1 SCORES'] = f1_data\n",
    "print(f1_df)\n",
    "#fig = px.bar(f1_df,x = 'MODELS', y ='F1 SCORES', color =['time','medal','lifeExp','smoker'],\n",
    " #            title = \"F1 Scores Comparison\")\n",
    "\n",
    "fig = px.bar(f1_df,x = 'MODELS', y ='F1 SCORES',color_continuous_scale=px.colors.sequential.Viridis,\n",
    "             title = \"F1 Scores Comparison\")\n",
    "\n",
    "fig.update_layout(\n",
    "    autosize=False,\n",
    "    width=350,\n",
    "    height=500,\n",
    "    margin=dict(\n",
    "        l=50,\n",
    "        r=50,\n",
    "        b=50,\n",
    "        t=100,\n",
    "        pad=4\n",
    "    ),\n",
    "    \n",
    ")\n",
    "fig.update_traces(marker_color ='lightcoral')\n",
    "\n",
    "fig.show()\n",
    "\n"
   ]
  },
  {
   "cell_type": "markdown",
   "metadata": {
    "id": "ajIR9SgXMB-_"
   },
   "source": [
    "## **TIME SERIES**"
   ]
  },
  {
   "cell_type": "code",
   "execution_count": null,
   "metadata": {
    "colab": {
     "base_uri": "https://localhost:8080/"
    },
    "id": "erNxhN-3o_er",
    "outputId": "387cab53-9e22-44b2-8de9-93027086d262"
   },
   "outputs": [],
   "source": [
    "timeSeriesData=df[['Date','Close']]\n",
    "print(timeSeriesData.head())\n",
    "print(len(timeSeriesData))"
   ]
  },
  {
   "cell_type": "code",
   "execution_count": null,
   "metadata": {
    "colab": {
     "base_uri": "https://localhost:8080/"
    },
    "id": "9x901NQLXj0z",
    "outputId": "b45ee6ba-c0e0-4fd8-e8fa-e5bf56bde552"
   },
   "outputs": [],
   "source": [
    "train_data=timeSeriesData[0:1371] \n",
    "test_data=timeSeriesData[1371:]\n",
    "print(train_data.head())\n",
    "print(train_data.tail())\n",
    "print(test_data.head())\n"
   ]
  },
  {
   "cell_type": "markdown",
   "metadata": {
    "id": "etYYFhPEMRST"
   },
   "source": [
    "## **SIMPLE MOVING AVERAGE METHOD**"
   ]
  },
  {
   "cell_type": "code",
   "execution_count": null,
   "metadata": {
    "colab": {
     "base_uri": "https://localhost:8080/"
    },
    "id": "3oS73uDSMMBQ",
    "outputId": "72bd2155-e09e-4b76-8449-575a6ab19652"
   },
   "outputs": [],
   "source": [
    "#simple moving average method\n",
    "timeSeriesData=df[['Date','Close']]\n",
    "for i in range(0,timeSeriesData.shape[0]-4):\n",
    "    timeSeriesData.loc[timeSeriesData.index[i+4],'SMA_5'] = np.round(((timeSeriesData.iloc[i,1]+ timeSeriesData.iloc[i+1,1] +timeSeriesData.iloc[i+2,1]+timeSeriesData.iloc[i+3,1]+timeSeriesData.iloc[i+4,1])/5),1)\n",
    "timeSeriesData=timeSeriesData.iloc[5:]\n",
    "print(timeSeriesData.head())"
   ]
  },
  {
   "cell_type": "code",
   "execution_count": null,
   "metadata": {
    "colab": {
     "base_uri": "https://localhost:8080/",
     "height": 609
    },
    "id": "CzNBURmwMXWQ",
    "outputId": "57bffa19-010e-4132-df34-80dedae19c5b"
   },
   "outputs": [],
   "source": [
    "plt.figure(figsize=[15,10])\n",
    "plt.grid(True)\n",
    "plt.plot(timeSeriesData['Close'],label='Actual price')\n",
    "plt.plot(timeSeriesData['SMA_5'],label='SMA 5 days')\n",
    "plt.legend(loc=2)\n",
    "plt.show()\n",
    "plt.savefig('movingAvg.jpg')"
   ]
  },
  {
   "cell_type": "code",
   "execution_count": null,
   "metadata": {
    "colab": {
     "base_uri": "https://localhost:8080/"
    },
    "id": "iZjyTK06Mb8F",
    "outputId": "4a984545-cd1c-4800-a382-615a7beb0394"
   },
   "outputs": [],
   "source": [
    "train_data=timeSeriesData[0:1371] \n",
    "test_data=timeSeriesData[1371:]\n",
    "print(train_data.head())\n",
    "print(train_data.tail())\n",
    "print(test_data.head())"
   ]
  },
  {
   "cell_type": "code",
   "execution_count": null,
   "metadata": {
    "colab": {
     "base_uri": "https://localhost:8080/"
    },
    "id": "MJhnn-YxMe1-",
    "outputId": "07266122-dfc7-47c9-b3d1-b445b64ef53d"
   },
   "outputs": [],
   "source": [
    "import math\n",
    "y=test_data['Close'].to_list()\n",
    "y_hat=test_data['SMA_5'].to_list()\n",
    "sum_=0\n",
    "for i in range (0,len(test_data)):  \n",
    "  diff=y[i]-y_hat[i]\n",
    "  squared_diff=diff**2  \n",
    "  sum_=sum_+squared_diff\n",
    "rmse=math.sqrt(sum_/len(test_data))\n",
    "print(\"The Root Mean Square Error is: \",rmse)"
   ]
  },
  {
   "cell_type": "markdown",
   "metadata": {
    "id": "1YIpXZX8MpMe"
   },
   "source": [
    "## **Augmented Dicky Fuller Test**\n"
   ]
  },
  {
   "cell_type": "code",
   "execution_count": null,
   "metadata": {
    "id": "zgpkP1xOMhwY"
   },
   "outputs": [],
   "source": [
    "def test_stationarity(timeseries):\n",
    "    \n",
    "    #Determing rolling statistics\n",
    "    rolmean = timeseries.rolling(window=52,center=False).mean() \n",
    "    rolstd = timeseries.rolling(window=52,center=False).std()\n",
    "\n",
    "    #Plot rolling statistics:\n",
    "    orig = plt.plot(timeseries, color='green',label='Bitcoin Data')\n",
    "    mean_ = plt.plot(rolmean, color='red', label='Rolling Mean')\n",
    "    std_ = plt.plot(rolstd, color='black', label = 'Rolling Std')\n",
    "    plt.legend(loc='best')\n",
    "    plt.xlabel('Time(Days)',fontsize=24)\n",
    "    plt.ylabel('$(Dollar)',fontsize=24)\n",
    "    plt.title('Rolling Mean & Standard Deviation')\n",
    "    plt.show(block=False)\n",
    "    \n",
    "    #Perform Dickey-Fuller test:\n",
    "    print('Results of Dickey-Fuller Test:')\n",
    "    dftest = adfuller(timeseries, autolag='AIC')\n",
    "    dfoutput = pd.Series(dftest[0:4], index=['Test Statistic','p-value','#Lags Used','Number of Observations Used'])\n",
    "    for key,value in dftest[4].items():\n",
    "        dfoutput['Critical Value (%s)'%key] = value\n",
    "    print(dfoutput)"
   ]
  },
  {
   "cell_type": "code",
   "execution_count": null,
   "metadata": {
    "colab": {
     "base_uri": "https://localhost:8080/",
     "height": 463
    },
    "id": "CA6pGtFQMtnI",
    "outputId": "bddc35d9-94c8-485b-afe2-e4ca4ea8264e"
   },
   "outputs": [],
   "source": [
    "indexed_data = df.set_index('Date')\n",
    "\n",
    "daily_target_prices = indexed_data['Close']\n",
    "\n",
    "test_stationarity(daily_target_prices)"
   ]
  },
  {
   "cell_type": "code",
   "execution_count": null,
   "metadata": {
    "colab": {
     "background_save": true
    },
    "id": "9HzESfHfMvba"
   },
   "outputs": [],
   "source": []
  },
  {
   "cell_type": "markdown",
   "metadata": {
    "id": "PiNXTDghwE-O"
   },
   "source": [
    "Since the p-value is larger than 0.05 , the the moving average is not constant over time and the null hypothesis of the Dickey-Fuller test cannot be rejected.The Daily Time Series is not stationary . "
   ]
  },
  {
   "cell_type": "markdown",
   "metadata": {
    "id": "JGfjs3kAwTRR"
   },
   "source": [
    "In order to apply ARIMA , we have to transform the time-series into a stationary one."
   ]
  },
  {
   "cell_type": "code",
   "execution_count": null,
   "metadata": {
    "id": "vGby6DvfM6cV"
   },
   "outputs": [],
   "source": [
    "daily_target_prices_log = np.log(daily_target_prices)"
   ]
  },
  {
   "cell_type": "code",
   "execution_count": null,
   "metadata": {
    "colab": {
     "base_uri": "https://localhost:8080/",
     "height": 463
    },
    "id": "rvPMasRIM66_",
    "outputId": "2cc9be7a-14b8-4706-97ab-3c3fcff3804a"
   },
   "outputs": [],
   "source": [
    "test_stationarity(daily_target_prices_log)"
   ]
  },
  {
   "cell_type": "markdown",
   "metadata": {
    "id": "d3kFiqNlxOio"
   },
   "source": [
    "The series is still non-stationary."
   ]
  },
  {
   "cell_type": "markdown",
   "metadata": {
    "id": "4tM96kPKvCSv"
   },
   "source": [
    "**Decomposition of the series**"
   ]
  },
  {
   "cell_type": "code",
   "execution_count": null,
   "metadata": {
    "colab": {
     "base_uri": "https://localhost:8080/",
     "height": 513
    },
    "id": "rHdWz19GvfpL",
    "outputId": "8dfc02f1-e10b-4803-8175-91ab4dc97241"
   },
   "outputs": [],
   "source": [
    "decomposition = seasonal_decompose(daily_target_prices)\n",
    "\n",
    "trend = decomposition.trend\n",
    "seasonal = decomposition.seasonal\n",
    "residual = decomposition.resid\n",
    "\n",
    "\n",
    "plt.figure(figsize=(7,7))\n",
    "plt.subplot(411)\n",
    "plt.plot(daily_target_prices_log[-80:], label='Original')\n",
    "plt.legend(loc='best')\n",
    "plt.subplot(412)\n",
    "plt.plot(trend[-80:], label='Trend')\n",
    "plt.legend(loc='best')\n",
    "plt.subplot(413)\n",
    "plt.plot(seasonal[-80:],label='Seasonality')\n",
    "plt.legend(loc='best')\n",
    "plt.subplot(414)\n",
    "plt.plot(residual[-80:], label='Residuals')\n",
    "plt.legend(loc='best')\n",
    "plt.tight_layout()"
   ]
  },
  {
   "cell_type": "markdown",
   "metadata": {
    "id": "EJiXYZ2-NEdm"
   },
   "source": [
    "**Removing Trend and Seasonality with Differencing**"
   ]
  },
  {
   "cell_type": "code",
   "execution_count": null,
   "metadata": {
    "id": "9LuYiiaaNG0O"
   },
   "outputs": [],
   "source": [
    "daily_prices_log_diff = daily_target_prices_log - daily_target_prices_log.shift()"
   ]
  },
  {
   "cell_type": "code",
   "execution_count": null,
   "metadata": {
    "colab": {
     "base_uri": "https://localhost:8080/",
     "height": 282
    },
    "id": "ppSddSG6NJYq",
    "outputId": "f38ed5a0-e3ea-4b53-bbd9-608c443bcf57"
   },
   "outputs": [],
   "source": [
    "plt.plot(daily_prices_log_diff)"
   ]
  },
  {
   "cell_type": "code",
   "execution_count": null,
   "metadata": {
    "id": "xTIZZMu2NK4k"
   },
   "outputs": [],
   "source": [
    "daily_prices_log_diff.dropna(inplace=True)"
   ]
  },
  {
   "cell_type": "code",
   "execution_count": null,
   "metadata": {
    "colab": {
     "base_uri": "https://localhost:8080/",
     "height": 463
    },
    "id": "S9JJV5ZSNMzG",
    "outputId": "27472845-ae96-47fe-d5c1-f6aa959f71c3"
   },
   "outputs": [],
   "source": [
    "test_stationarity(daily_prices_log_diff)"
   ]
  },
  {
   "cell_type": "markdown",
   "metadata": {
    "id": "us-p3QDfT_oR"
   },
   "source": [
    "Since the p-value is less than 0.05 , the series is stationary"
   ]
  },
  {
   "cell_type": "markdown",
   "metadata": {
    "id": "BIfnz2TaNYKd"
   },
   "source": [
    "## **Auto Regressive Integrated Moving Average Model : ARIMA MODEL**"
   ]
  },
  {
   "cell_type": "markdown",
   "metadata": {
    "id": "ssUGZpcPNhBH"
   },
   "source": [
    "### **TRAIN TEST SPLIT**"
   ]
  },
  {
   "cell_type": "code",
   "execution_count": null,
   "metadata": {
    "id": "w0llLvSMNZXc"
   },
   "outputs": [],
   "source": [
    "\n",
    "size = int(len(daily_target_prices_log)*(0.7))\n",
    "train, test = daily_target_prices_log[0:size], daily_target_prices_log[size:len(daily_target_prices_log)]\n",
    "\n",
    "train_log_diff, test_log_diff = daily_prices_log_diff[0:size], daily_prices_log_diff[size:len(daily_prices_log_diff)]\n",
    "\n",
    "#predictions = list()"
   ]
  },
  {
   "cell_type": "code",
   "execution_count": null,
   "metadata": {
    "colab": {
     "base_uri": "https://localhost:8080/",
     "height": 418
    },
    "id": "sDLkeYenNomO",
    "outputId": "e3722aab-c006-47d3-cfd7-234974e5fd08"
   },
   "outputs": [],
   "source": [
    "\n",
    "#Model Fitting\n",
    "model = ARIMA(daily_target_prices_log,order=(2,1,0))\n",
    "results_ARIMA = model.fit(disp=-1)  \n",
    "plt.plot(daily_prices_log_diff)\n",
    "plt.plot(results_ARIMA.fittedvalues, color='red')\n",
    "plt.title('RSS: %.7f'% sum((results_ARIMA.fittedvalues-daily_prices_log_diff)**2))\n",
    "plt.show()"
   ]
  },
  {
   "cell_type": "markdown",
   "metadata": {
    "id": "0YVx1ZLIOSto"
   },
   "source": [
    "## **MODEL TESTING**"
   ]
  },
  {
   "cell_type": "code",
   "execution_count": null,
   "metadata": {
    "colab": {
     "base_uri": "https://localhost:8080/",
     "height": 1000
    },
    "id": "NcTRoWgiNqGd",
    "outputId": "584e7d7e-69fb-41ed-fe60-3f8262b501fa"
   },
   "outputs": [],
   "source": [
    "history = [price for price in train]\n",
    "\n",
    "original_values = list()\n",
    "errors = list()\n",
    "predictions = list()\n",
    "\n",
    "print('Predicted vs Expected values')\n",
    "\n",
    "for t in range(len(test)):\n",
    "  model = ARIMA(history,order=(2,1,0))\n",
    "  model_fit = model.fit(disp=-1)\n",
    "    \n",
    "  output = model_fit.forecast()\n",
    "    \n",
    "  pred = output[0]\n",
    "    \n",
    "        \n",
    "  original_value = test[t]\n",
    "  history.append(original_value)\n",
    "    \n",
    "  pred = np.exp(pred)\n",
    "    \n",
    "    \n",
    "  original_value = np.exp(original_value)\n",
    "    \n",
    "  # Calculating the error\n",
    "  error = ((abs(pred - original_value)) / original_value) * 100\n",
    "  errors.append(error)\n",
    "  print('predicted = %f,   expected = %f,   error = %f ' % (pred, original_value, error), '%')\n",
    "    \n",
    "  predictions.append(float(pred))\n",
    "  original_values.append(float(original_value))\n",
    "    \n",
    "# After iterating over whole test set the overall mean error is calculated.   \n",
    "print('\\n Mean Error in Predicting Test Case Articles : %f ' % (sum(errors)/float(len(errors))), '%')\n",
    "plt.figure(figsize=(8, 6))\n",
    "test_day = [t for t in range(len(test))]\n",
    "labels={'Orginal','Predicted'}\n",
    "print(len(test_day))\n",
    "print(len(predictions))\n",
    "plt.plot(test_day, predictions, color= 'green')\n",
    "plt.plot(test_day, original_values, color = 'orange')\n",
    "plt.title('Expected Vs Predicted Forecasting')\n",
    "plt.xlabel('Day')\n",
    "plt.ylabel('Closing Price')\n",
    "plt.legend(labels)\n",
    "plt.show()"
   ]
  }
 ],
 "metadata": {
  "colab": {
   "collapsed_sections": [],
   "name": "BITCOIN_PRICE_FINAL.ipynb",
   "provenance": []
  },
  "kernelspec": {
   "display_name": "Python 3 (ipykernel)",
   "language": "python",
   "name": "python3"
  },
  "language_info": {
   "codemirror_mode": {
    "name": "ipython",
    "version": 3
   },
   "file_extension": ".py",
   "mimetype": "text/x-python",
   "name": "python",
   "nbconvert_exporter": "python",
   "pygments_lexer": "ipython3",
   "version": "3.9.9"
  }
 },
 "nbformat": 4,
 "nbformat_minor": 1
}
