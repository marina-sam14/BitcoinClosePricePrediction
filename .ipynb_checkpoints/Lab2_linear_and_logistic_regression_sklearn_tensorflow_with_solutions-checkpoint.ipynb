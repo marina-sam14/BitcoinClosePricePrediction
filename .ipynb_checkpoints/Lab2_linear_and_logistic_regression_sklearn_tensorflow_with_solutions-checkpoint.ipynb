{
 "cells": [
  {
   "cell_type": "markdown",
   "metadata": {},
   "source": [
    "# Lab2 - Machine Learning\n",
    "### 1. Linear regression"
   ]
  },
  {
   "cell_type": "code",
   "execution_count": 1,
   "metadata": {
    "scrolled": true
   },
   "outputs": [],
   "source": [
    "import numpy as np\n",
    "import matplotlib.pyplot as plt\n",
    "\n",
    "%matplotlib inline"
   ]
  },
  {
   "cell_type": "markdown",
   "metadata": {},
   "source": [
    "### Short story\n",
    "\n",
    "Suppose that someone has given you some points that belongs to the line ( without telling you how they were generated )\n",
    "\n",
    "$y = b + ax = 3 + 4x$\n",
    "\n",
    "Goal:\n",
    "\n",
    "You would like to estimate the parameters $a$ and $b$ that generated the data"
   ]
  },
  {
   "cell_type": "code",
   "execution_count": 2,
   "metadata": {},
   "outputs": [],
   "source": [
    "X = 2 * np.random.rand(500, 1)\n",
    "y = 3 + 4 * X + np.random.randn(500, 1)"
   ]
  },
  {
   "cell_type": "code",
   "execution_count": 3,
   "metadata": {},
   "outputs": [
    {
     "data": {
      "image/png": "[encoded data removed]",
      "text/plain": [
       "<matplotlib.figure.Figure at 0x7f9ace4ef278>"
      ]
     },
     "metadata": {},
     "output_type": "display_data"
    }
   ],
   "source": [
    "plt.plot( X, y, \"b.\", markersize='2' )\n",
    "plt.axis([0, 2, 0, 15])\n",
    "plt.legend( ['generated points'] )\n",
    "plt.show()"
   ]
  },
  {
   "cell_type": "markdown",
   "metadata": {},
   "source": [
    "We can apply the normal equation and solve the system directly. We will discuss it later in detail."
   ]
  },
  {
   "cell_type": "code",
   "execution_count": 4,
   "metadata": {},
   "outputs": [],
   "source": [
    "X_b = np.hstack( [ np.ones( ( X.shape[0],1) ), X ]  )\n",
    "theta_best = np.linalg.inv(X_b.T.dot(X_b)).dot(X_b.T).dot(y)#linalg solves systems e.x. Ax=b"
   ]
  },
  {
   "cell_type": "code",
   "execution_count": 5,
   "metadata": {},
   "outputs": [
    {
     "data": {
      "text/plain": [
       "array([[2.92812389],\n",
       "       [4.06010246]])"
      ]
     },
     "execution_count": 5,
     "metadata": {},
     "output_type": "execute_result"
    }
   ],
   "source": [
    "theta_best"
   ]
  },
  {
   "cell_type": "markdown",
   "metadata": {},
   "source": [
    "Theta parameters we estimated are $2.92$ and $4.06$ which are relatively close to $3$ and $4$"
   ]
  },
  {
   "cell_type": "markdown",
   "metadata": {},
   "source": [
    "We can make some prediction for points 0 and 2\n",
    "\n",
    "we would expect\n",
    "\n",
    "$y = 3 + 4 \\thinspace \\times \\thinspace 0 = 3$\n",
    "\n",
    "and\n",
    "\n",
    "$y = 3 + 4 \\thinspace \\times \\thinspace 2 = 11$"
   ]
  },
  {
   "cell_type": "code",
   "execution_count": 6,
   "metadata": {},
   "outputs": [],
   "source": [
    "X_test = np.array( [ [0],\n",
    "                    [2] ] )\n",
    "X_test_b = np.hstack( [ np.ones( ( X_test.shape[0],1) ), X_test ]  )\n",
    "y_predict = X_test_b.dot(theta_best)"
   ]
  },
  {
   "cell_type": "code",
   "execution_count": 7,
   "metadata": {},
   "outputs": [
    {
     "data": {
      "text/plain": [
       "array([[ 2.92812389],\n",
       "       [11.04832881]])"
      ]
     },
     "execution_count": 7,
     "metadata": {},
     "output_type": "execute_result"
    }
   ],
   "source": [
    "y_predict"
   ]
  },
  {
   "cell_type": "code",
   "execution_count": 8,
   "metadata": {},
   "outputs": [
    {
     "data": {
      "image/png": "[encoded data removed]",
      "text/plain": [
       "<matplotlib.figure.Figure at 0x7f9acc3e1940>"
      ]
     },
     "metadata": {},
     "output_type": "display_data"
    }
   ],
   "source": [
    "l_x = list( [ i for i in range(25) ] )\n",
    "plt.plot( l_x, theta_best[0] + theta_best[1]*l_x, 'r-' )\n",
    "plt.plot( X, y, \"b.\", markersize='2' )\n",
    "plt.axis([0, 2, 0, 15])\n",
    "plt.legend( ['generated line by parameters','points'] )\n",
    "plt.show()"
   ]
  },
  {
   "cell_type": "markdown",
   "metadata": {},
   "source": [
    "<h2> Let's look at it again now by loading a dataset </h2>"
   ]
  },
  {
   "cell_type": "markdown",
   "metadata": {},
   "source": [
    "Suppose you own a restaurant franchise and are considering different cities for opening a new outlet. The chain already has trucks in various cities and you have data for profits and populations from the cities.\n",
    "\n",
    "You would like to use this data to help you select which city to expand to next. The file lin_data1.txt contains the dataset for our linear regression problem. The first column is the population of a city and the second column is\n",
    "the profit of a food truck in that city. A negative value for profit indicates a loss."
   ]
  },
  {
   "cell_type": "markdown",
   "metadata": {},
   "source": [
    "<h2> Load the dataset </h2>"
   ]
  },
  {
   "cell_type": "code",
   "execution_count": 9,
   "metadata": {},
   "outputs": [],
   "source": [
    "import pandas as pd\n",
    "df = pd.read_csv('data/lin_data1.txt', header=None, sep=',')"
   ]
  },
  {
   "cell_type": "code",
   "execution_count": 10,
   "metadata": {},
   "outputs": [
    {
     "name": "stdout",
     "output_type": "stream",
     "text": [
      "DataFrame has shape of  (97, 2)\n"
     ]
    }
   ],
   "source": [
    "print( \"DataFrame has shape of \", df.shape )"
   ]
  },
  {
   "cell_type": "markdown",
   "metadata": {},
   "source": [
    "View first 5 rows of the dataset, by default pandas head shows the first 5 rows."
   ]
  },
  {
   "cell_type": "code",
   "execution_count": 11,
   "metadata": {},
   "outputs": [
    {
     "data": {
      "text/html": [
       "<div>\n",
       "<style scoped>\n",
       "    .dataframe tbody tr th:only-of-type {\n",
       "        vertical-align: middle;\n",
       "    }\n",
       "\n",
       "    .dataframe tbody tr th {\n",
       "        vertical-align: top;\n",
       "    }\n",
       "\n",
       "    .dataframe thead th {\n",
       "        text-align: right;\n",
       "    }\n",
       "</style>\n",
       "<table border=\"1\" class=\"dataframe\">\n",
       "  <thead>\n",
       "    <tr style=\"text-align: right;\">\n",
       "      <th></th>\n",
       "      <th>0</th>\n",
       "      <th>1</th>\n",
       "    </tr>\n",
       "  </thead>\n",
       "  <tbody>\n",
       "    <tr>\n",
       "      <th>0</th>\n",
       "      <td>6.1101</td>\n",
       "      <td>17.5920</td>\n",
       "    </tr>\n",
       "    <tr>\n",
       "      <th>1</th>\n",
       "      <td>5.5277</td>\n",
       "      <td>9.1302</td>\n",
       "    </tr>\n",
       "    <tr>\n",
       "      <th>2</th>\n",
       "      <td>8.5186</td>\n",
       "      <td>13.6620</td>\n",
       "    </tr>\n",
       "    <tr>\n",
       "      <th>3</th>\n",
       "      <td>7.0032</td>\n",
       "      <td>11.8540</td>\n",
       "    </tr>\n",
       "    <tr>\n",
       "      <th>4</th>\n",
       "      <td>5.8598</td>\n",
       "      <td>6.8233</td>\n",
       "    </tr>\n",
       "  </tbody>\n",
       "</table>\n",
       "</div>"
      ],
      "text/plain": [
       "        0        1\n",
       "0  6.1101  17.5920\n",
       "1  5.5277   9.1302\n",
       "2  8.5186  13.6620\n",
       "3  7.0032  11.8540\n",
       "4  5.8598   6.8233"
      ]
     },
     "execution_count": 11,
     "metadata": {},
     "output_type": "execute_result"
    }
   ],
   "source": [
    "df.head(5)"
   ]
  },
  {
   "cell_type": "markdown",
   "metadata": {},
   "source": [
    "### Rename columns"
   ]
  },
  {
   "cell_type": "code",
   "execution_count": 12,
   "metadata": {},
   "outputs": [],
   "source": [
    "df.columns = [ 'population', 'profit']"
   ]
  },
  {
   "cell_type": "code",
   "execution_count": 13,
   "metadata": {},
   "outputs": [
    {
     "data": {
      "text/html": [
       "<div>\n",
       "<style scoped>\n",
       "    .dataframe tbody tr th:only-of-type {\n",
       "        vertical-align: middle;\n",
       "    }\n",
       "\n",
       "    .dataframe tbody tr th {\n",
       "        vertical-align: top;\n",
       "    }\n",
       "\n",
       "    .dataframe thead th {\n",
       "        text-align: right;\n",
       "    }\n",
       "</style>\n",
       "<table border=\"1\" class=\"dataframe\">\n",
       "  <thead>\n",
       "    <tr style=\"text-align: right;\">\n",
       "      <th></th>\n",
       "      <th>population</th>\n",
       "      <th>profit</th>\n",
       "    </tr>\n",
       "  </thead>\n",
       "  <tbody>\n",
       "    <tr>\n",
       "      <th>0</th>\n",
       "      <td>6.1101</td>\n",
       "      <td>17.5920</td>\n",
       "    </tr>\n",
       "    <tr>\n",
       "      <th>1</th>\n",
       "      <td>5.5277</td>\n",
       "      <td>9.1302</td>\n",
       "    </tr>\n",
       "    <tr>\n",
       "      <th>2</th>\n",
       "      <td>8.5186</td>\n",
       "      <td>13.6620</td>\n",
       "    </tr>\n",
       "    <tr>\n",
       "      <th>3</th>\n",
       "      <td>7.0032</td>\n",
       "      <td>11.8540</td>\n",
       "    </tr>\n",
       "    <tr>\n",
       "      <th>4</th>\n",
       "      <td>5.8598</td>\n",
       "      <td>6.8233</td>\n",
       "    </tr>\n",
       "  </tbody>\n",
       "</table>\n",
       "</div>"
      ],
      "text/plain": [
       "   population   profit\n",
       "0      6.1101  17.5920\n",
       "1      5.5277   9.1302\n",
       "2      8.5186  13.6620\n",
       "3      7.0032  11.8540\n",
       "4      5.8598   6.8233"
      ]
     },
     "execution_count": 13,
     "metadata": {},
     "output_type": "execute_result"
    }
   ],
   "source": [
    "df.head()"
   ]
  },
  {
   "cell_type": "code",
   "execution_count": 14,
   "metadata": {},
   "outputs": [
    {
     "name": "stderr",
     "output_type": "stream",
     "text": [
      "/home/sotirisnik/anaconda3/lib/python3.6/site-packages/ipykernel/__main__.py:1: FutureWarning: Method .as_matrix will be removed in a future version. Use .values instead.\n",
      "  if __name__ == '__main__':\n"
     ]
    },
    {
     "data": {
      "text/plain": [
       "array([[ 6.1101, 17.592 ],\n",
       "       [ 5.5277,  9.1302],\n",
       "       [ 8.5186, 13.662 ],\n",
       "       [ 7.0032, 11.854 ],\n",
       "       [ 5.8598,  6.8233]])"
      ]
     },
     "execution_count": 14,
     "metadata": {},
     "output_type": "execute_result"
    }
   ],
   "source": [
    "df.as_matrix()[:5]"
   ]
  },
  {
   "cell_type": "code",
   "execution_count": 15,
   "metadata": {},
   "outputs": [
    {
     "name": "stderr",
     "output_type": "stream",
     "text": [
      "/home/sotirisnik/anaconda3/lib/python3.6/site-packages/ipykernel/__main__.py:1: FutureWarning: Method .as_matrix will be removed in a future version. Use .values instead.\n",
      "  if __name__ == '__main__':\n",
      "/home/sotirisnik/anaconda3/lib/python3.6/site-packages/ipykernel/__main__.py:2: FutureWarning: Method .as_matrix will be removed in a future version. Use .values instead.\n",
      "  from ipykernel import kernelapp as app\n"
     ]
    }
   ],
   "source": [
    "X = df[ [\"population\"] ].as_matrix()\n",
    "y = df[ [\"profit\"] ].as_matrix()#we could just use \"profit\" instead of a list, but the shape would be (97,)"
   ]
  },
  {
   "cell_type": "code",
   "execution_count": 16,
   "metadata": {},
   "outputs": [
    {
     "name": "stdout",
     "output_type": "stream",
     "text": [
      "(97, 1) (97, 1)\n"
     ]
    }
   ],
   "source": [
    "print( X.shape, y.shape )"
   ]
  },
  {
   "cell_type": "markdown",
   "metadata": {},
   "source": [
    "<h2> Visualize the dataset </h2>"
   ]
  },
  {
   "cell_type": "code",
   "execution_count": 17,
   "metadata": {
    "scrolled": true
   },
   "outputs": [
    {
     "data": {
      "image/png": "[encoded data removed]",
      "text/plain": [
       "<matplotlib.figure.Figure at 0x7f9ac4f759b0>"
      ]
     },
     "metadata": {},
     "output_type": "display_data"
    }
   ],
   "source": [
    "plt.plot( X, y, 'rx', markersize=5 )\n",
    "plt.show()"
   ]
  },
  {
   "cell_type": "markdown",
   "metadata": {},
   "source": [
    "<h2> Gradient Descent </h2>"
   ]
  },
  {
   "cell_type": "markdown",
   "metadata": {},
   "source": [
    "We have to fit our parameters theta to our dataset"
   ]
  },
  {
   "cell_type": "markdown",
   "metadata": {},
   "source": [
    "The objective of linear regression is to minimize the cost function, where:\n",
    "\n",
    "m: is the number of training examples\n",
    "\n",
    "$\\theta$: are our parameteres we want to fit in the model\n",
    "\n",
    "$x^{i}$: is the i-training example\n",
    "\n",
    "$x^{(i)}_{j}$: is the i-training example and j-th feature\n",
    "\n",
    "$y^{i}$: is desired output\n",
    "\n",
    "$$\n",
    "J(θ) = \\frac{1}{2 m} \\sum_{i=1}^{m} ( h_{\\theta}( x^{i} ) - y^{i} )^{2}\n",
    "$$\n",
    "\n",
    "and the hypothesis $h_{\\theta}$\n",
    "\n",
    "$$h_{\\theta}(x) = \\theta^{T}x = \\theta_{0} + \\theta_{1}x1$$\n",
    "\n",
    "and the parameters $\\theta_{j}$ have to be updated simultraneously for all j\n",
    "\n",
    "$$\\theta_{j} = \\theta_{j} - a \\frac{1}{m} \\sum_{i=1}^{m} ( h_{\\theta}( x^{(i)} ) - y^{(i)} ) x^{(i)}_{j}$$"
   ]
  },
  {
   "cell_type": "markdown",
   "metadata": {},
   "source": [
    "To accomodate the parameter $\\theta_{0}$ we have to add a column of 1s to our training set"
   ]
  },
  {
   "cell_type": "code",
   "execution_count": 18,
   "metadata": {},
   "outputs": [],
   "source": [
    "m = X.shape[0]#total number of examples\n",
    "\n",
    "X = np.hstack( [ np.ones( (m,1) ), X ]  )#add a column of 1s at the beginning\n",
    "theta = np.zeros( (2,1) )#parameters theta are assigned to 0\n",
    "iterations = 1500\n",
    "alpha = 0.01#the learning rate"
   ]
  },
  {
   "cell_type": "code",
   "execution_count": 19,
   "metadata": {},
   "outputs": [
    {
     "data": {
      "text/plain": [
       "(97, 2)"
      ]
     },
     "execution_count": 19,
     "metadata": {},
     "output_type": "execute_result"
    }
   ],
   "source": [
    "X.shape#y_train.shape"
   ]
  },
  {
   "cell_type": "code",
   "execution_count": 20,
   "metadata": {},
   "outputs": [],
   "source": [
    "def computeCost( X, y, theta ):\n",
    "    #Compute cost for linear regression\n",
    "    #computes the cost of using theta as the parameter for linear regression to fit the data points in X and y\n",
    "\n",
    "    m = X.shape[0]#number of training examples\n",
    "\n",
    "    # You need to return the following variables correctly \n",
    "    J = 0\n",
    "\n",
    "    # ====================== YOUR CODE HERE ======================\n",
    "    # Instructions: Compute the cost of a particular choice of theta\n",
    "    #               You should set J to the cost.\n",
    "\n",
    "    J = (1 / (2.0*m) ) * np.sum( ( ( np.dot(X,theta)-y)**2 ) )\n",
    "\n",
    "    return J\n",
    "    "
   ]
  },
  {
   "cell_type": "code",
   "execution_count": 21,
   "metadata": {},
   "outputs": [],
   "source": [
    "def gradientDescent(X, y, theta, alpha, num_iters):\n",
    "    #GRADIENTDESCENT Performs gradient descent to learn theta\n",
    "    #   theta = GRADIENTDESENT(X, y, theta, alpha, num_iters) updates theta by \n",
    "    #   taking num_iters gradient steps with learning rate alpha\n",
    "\n",
    "    m = X.shape[0]#number of training examples\n",
    "    J_history = np.zeros( (num_iters,1) )\n",
    "    \n",
    "    for which_iter in range(num_iters):\n",
    "        \n",
    "        # ====================== YOUR CODE HERE ======================\n",
    "        # Instructions: Perform a single gradient step on the parameter vector\n",
    "        #               theta. \n",
    "        #\n",
    "        # Hint: While debugging, it can be useful to print out the values\n",
    "        #       of the cost function (computeCost) and gradient here.\n",
    "        #\n",
    "        \n",
    "        #calculate error\n",
    "        error = ( np.dot(X,theta) ) - y\n",
    "        \n",
    "        #calculate theta parameters\n",
    "        temp0 = theta[0] - ( alpha / m ) * np.sum( error * X[:,0].reshape( (-1,1) ) )\n",
    "        temp1 = theta[1] - ( alpha / m ) * np.sum( error * X[:,1].reshape( (-1,1) ) )\n",
    "        \n",
    "        #update theta with the new values\n",
    "        theta = np.array( [temp0, temp1] )\n",
    "\n",
    "        #print( theta )\n",
    "        #Save the cost J in every iteration    \n",
    "        J_history[which_iter] = computeCost(X, y, theta)\n",
    "        \n",
    "    return ( J_history, theta )\n"
   ]
  },
  {
   "cell_type": "markdown",
   "metadata": {},
   "source": [
    "Test the compute function, before starting training. Tt should be near 32.072"
   ]
  },
  {
   "cell_type": "code",
   "execution_count": 22,
   "metadata": {},
   "outputs": [
    {
     "data": {
      "text/plain": [
       "32.072733877455676"
      ]
     },
     "execution_count": 22,
     "metadata": {},
     "output_type": "execute_result"
    }
   ],
   "source": [
    "computeCost( X, y, theta )"
   ]
  },
  {
   "cell_type": "code",
   "execution_count": null,
   "metadata": {},
   "outputs": [],
   "source": []
  },
  {
   "cell_type": "markdown",
   "metadata": {},
   "source": [
    "J_history contains the error per iteration\n",
    "new_theta contains the final parameters, they should be $ -3.63029144$ and $1.16636235 $"
   ]
  },
  {
   "cell_type": "code",
   "execution_count": 23,
   "metadata": {},
   "outputs": [],
   "source": [
    "J_history, new_theta = gradientDescent( X, y, theta, alpha, iterations )"
   ]
  },
  {
   "cell_type": "code",
   "execution_count": 24,
   "metadata": {},
   "outputs": [
    {
     "data": {
      "text/plain": [
       "array([[-3.63029144],\n",
       "       [ 1.16636235]])"
      ]
     },
     "execution_count": 24,
     "metadata": {},
     "output_type": "execute_result"
    }
   ],
   "source": [
    "new_theta"
   ]
  },
  {
   "cell_type": "markdown",
   "metadata": {},
   "source": [
    "And the cost after training should be around 4.48"
   ]
  },
  {
   "cell_type": "code",
   "execution_count": 25,
   "metadata": {},
   "outputs": [
    {
     "data": {
      "text/plain": [
       "4.483388256587725"
      ]
     },
     "execution_count": 25,
     "metadata": {},
     "output_type": "execute_result"
    }
   ],
   "source": [
    "computeCost( X, y, new_theta )"
   ]
  },
  {
   "cell_type": "markdown",
   "metadata": {},
   "source": [
    "Finally we can plot the Cost function per iteration. The error should be decreasing as long as the number of iterations increases."
   ]
  },
  {
   "cell_type": "code",
   "execution_count": 26,
   "metadata": {},
   "outputs": [
    {
     "data": {
      "image/png": "[encoded data removed]",
      "text/plain": [
       "<matplotlib.figure.Figure at 0x7f9ac4f0ecc0>"
      ]
     },
     "metadata": {},
     "output_type": "display_data"
    }
   ],
   "source": [
    "plt.plot( np.arange(J_history.shape[0]), J_history )\n",
    "plt.xlabel( 'Number of iterations' )\n",
    "plt.ylabel( 'Cost of J function' )\n",
    "plt.show()"
   ]
  },
  {
   "cell_type": "markdown",
   "metadata": {},
   "source": [
    "<h2> Visualize line </h2>"
   ]
  },
  {
   "cell_type": "code",
   "execution_count": 27,
   "metadata": {},
   "outputs": [
    {
     "data": {
      "image/png": "[encoded data removed]",
      "text/plain": [
       "<matplotlib.figure.Figure at 0x7f9acc46a0f0>"
      ]
     },
     "metadata": {},
     "output_type": "display_data"
    }
   ],
   "source": [
    "plt.plot( X, y, 'rx', markersize=5 )\n",
    "l_x = list( [ i for i in range(25) ] )\n",
    "plt.plot( l_x, new_theta[0] + new_theta[1]*l_x )\n",
    "plt.xlabel( 'Population' )\n",
    "plt.ylabel( 'Profit' )\n",
    "plt.show()"
   ]
  },
  {
   "cell_type": "markdown",
   "metadata": {},
   "source": [
    "<h2> Normal equation </h2>"
   ]
  },
  {
   "cell_type": "markdown",
   "metadata": {},
   "source": [
    "Let's find a closed form for theta. The cost function we want to minimize is\n",
    "\n",
    "$$\n",
    "J(θ) = \\frac{1}{2 m} \\sum_{i=1}^{m} ( h_{\\theta}( x^{i} ) - y^{i} )^{2}\n",
    "$$\n",
    "\n",
    "and the hypothesis $h_{\\theta}$ is\n",
    "\n",
    "$$h_{\\theta}(x) = \\theta^{T}x = \\theta_{0} + \\theta_{1}x1$$\n",
    "\n",
    "So ( $\\frac{1}{2m}$ can be ommited )\n",
    "\n",
    "$$\n",
    "J(θ) = \\frac{1}{2 m} ( X \\theta - y )^{T} (X \\theta - y)\n",
    "$$\n",
    "\n",
    "$$\n",
    "J(θ) = ( X \\theta - y )^{T} (X \\theta - y)\n",
    "$$\n",
    "\n",
    "$$\n",
    "J(θ) = ( (X \\theta)^{T} - y^{T} ) (X \\theta - y)\n",
    "$$\n",
    "\n",
    "$$\n",
    "J(θ) = (X \\theta)^{T} X \\theta - (X \\theta)^{T}y - y^{T} (X \\theta) + y^{T}y\n",
    "$$\n",
    "\n",
    "( recall that that the order of the factors reverses $(AB)^{T} = B^T A^{T}$ )\n",
    "\n",
    "$$\n",
    "J(θ) = \\theta^{T}X^{T} X \\theta - (X \\theta)^{T}y - (X \\theta)^{T}y + y^{T}y\n",
    "$$\n",
    "\n",
    "$$\n",
    "J(θ) = \\theta^{T}X^{T} X \\theta - 2 (X \\theta)^{T}y + y^{T}y\n",
    "$$\n",
    "\n",
    "\n",
    "In order to find the minimum we will derive by $\\theta$ and compare to 0\n",
    "\n",
    "$$\n",
    "\\frac{ \\partial J }{ \\partial \\theta } =  X^{T} X \\theta + \\theta^{T}X^{T} X - 2  X^{T} y\n",
    "$$\n",
    "\n",
    "$$\n",
    "=  2 X^{T} X \\theta - 2  X^{T} y\n",
    "$$\n",
    "\n",
    "$$\n",
    "\\frac{ \\partial J }{ \\partial \\theta } =  0\n",
    "$$\n",
    "\n",
    "$$\n",
    "2 X^{T} X \\theta - 2  X^{T} y = 0\n",
    "$$\n",
    "\n",
    "$$\n",
    "2 X^{T} X \\theta = 2  X^{T} y\n",
    "$$\n",
    "\n",
    "$$\n",
    "X^{T} X \\theta = X^{T} y\n",
    "$$\n",
    "\n",
    "finally multiply $( X^{T} X )^{-1}$\n",
    "\n",
    "$$\n",
    "\\theta = ( X^{T} X )^{-1} X^{T} y\n",
    "$$\n"
   ]
  },
  {
   "cell_type": "code",
   "execution_count": 28,
   "metadata": {},
   "outputs": [],
   "source": [
    "lamda = 0\n",
    "N, D = X.shape\n",
    "t = y\n",
    "w = np.linalg.solve( X.T.dot(X) + lamda*np.eye(D), X.T.dot(t) )"
   ]
  },
  {
   "cell_type": "code",
   "execution_count": 29,
   "metadata": {},
   "outputs": [
    {
     "name": "stdout",
     "output_type": "stream",
     "text": [
      "From linear regression\n",
      "[[-3.63029144]\n",
      " [ 1.16636235]]\n",
      "\n",
      "From normal equation\n",
      "[[-3.89578088]\n",
      " [ 1.19303364]]\n"
     ]
    }
   ],
   "source": [
    "print( 'From linear regression' )\n",
    "print( new_theta )\n",
    "\n",
    "print( '' )\n",
    "\n",
    "print( 'From normal equation' )\n",
    "print( w )"
   ]
  },
  {
   "cell_type": "markdown",
   "metadata": {
    "collapsed": true,
    "scrolled": false
   },
   "source": [
    "## Logistic Regression\n",
    "\n",
    "Suppose that you are the administrator of a university department and\n",
    "you want to determine each applicant’s chance of admission based on their\n",
    "results on two exams. You have historical data from previous applicants\n",
    "that you can use as a training set for logistic regression. For each training\n",
    "example, you have the <b>applicant’s scores on two exams</b> and the <b>admissions\n",
    "decision</b>.\n",
    "Your task is to build a classification model that estimates an applicant’s\n",
    "probability of admission based the scores from those two exams.\n"
   ]
  },
  {
   "cell_type": "code",
   "execution_count": 30,
   "metadata": {},
   "outputs": [],
   "source": [
    "df = pd.read_csv('data/log_data1.txt', header=None, sep=',', names=['test1','test2','admission'] )"
   ]
  },
  {
   "cell_type": "code",
   "execution_count": 31,
   "metadata": {
    "scrolled": true
   },
   "outputs": [
    {
     "data": {
      "text/html": [
       "<div>\n",
       "<style scoped>\n",
       "    .dataframe tbody tr th:only-of-type {\n",
       "        vertical-align: middle;\n",
       "    }\n",
       "\n",
       "    .dataframe tbody tr th {\n",
       "        vertical-align: top;\n",
       "    }\n",
       "\n",
       "    .dataframe thead th {\n",
       "        text-align: right;\n",
       "    }\n",
       "</style>\n",
       "<table border=\"1\" class=\"dataframe\">\n",
       "  <thead>\n",
       "    <tr style=\"text-align: right;\">\n",
       "      <th></th>\n",
       "      <th>test1</th>\n",
       "      <th>test2</th>\n",
       "      <th>admission</th>\n",
       "    </tr>\n",
       "  </thead>\n",
       "  <tbody>\n",
       "    <tr>\n",
       "      <th>0</th>\n",
       "      <td>34.623660</td>\n",
       "      <td>78.024693</td>\n",
       "      <td>0</td>\n",
       "    </tr>\n",
       "    <tr>\n",
       "      <th>1</th>\n",
       "      <td>30.286711</td>\n",
       "      <td>43.894998</td>\n",
       "      <td>0</td>\n",
       "    </tr>\n",
       "    <tr>\n",
       "      <th>2</th>\n",
       "      <td>35.847409</td>\n",
       "      <td>72.902198</td>\n",
       "      <td>0</td>\n",
       "    </tr>\n",
       "    <tr>\n",
       "      <th>3</th>\n",
       "      <td>60.182599</td>\n",
       "      <td>86.308552</td>\n",
       "      <td>1</td>\n",
       "    </tr>\n",
       "    <tr>\n",
       "      <th>4</th>\n",
       "      <td>79.032736</td>\n",
       "      <td>75.344376</td>\n",
       "      <td>1</td>\n",
       "    </tr>\n",
       "  </tbody>\n",
       "</table>\n",
       "</div>"
      ],
      "text/plain": [
       "       test1      test2  admission\n",
       "0  34.623660  78.024693          0\n",
       "1  30.286711  43.894998          0\n",
       "2  35.847409  72.902198          0\n",
       "3  60.182599  86.308552          1\n",
       "4  79.032736  75.344376          1"
      ]
     },
     "execution_count": 31,
     "metadata": {},
     "output_type": "execute_result"
    }
   ],
   "source": [
    "df.head(5)"
   ]
  },
  {
   "cell_type": "code",
   "execution_count": 32,
   "metadata": {},
   "outputs": [
    {
     "name": "stderr",
     "output_type": "stream",
     "text": [
      "/home/sotirisnik/anaconda3/lib/python3.6/site-packages/ipykernel/__main__.py:1: FutureWarning: Method .as_matrix will be removed in a future version. Use .values instead.\n",
      "  if __name__ == '__main__':\n",
      "/home/sotirisnik/anaconda3/lib/python3.6/site-packages/ipykernel/__main__.py:2: FutureWarning: Method .as_matrix will be removed in a future version. Use .values instead.\n",
      "  from ipykernel import kernelapp as app\n"
     ]
    }
   ],
   "source": [
    "X = df[ [\"test1\",\"test2\"] ].as_matrix() \n",
    "y = df[ [\"admission\"] ].as_matrix()"
   ]
  },
  {
   "cell_type": "markdown",
   "metadata": {},
   "source": [
    "Again we add a column of 1s for $theta0$"
   ]
  },
  {
   "cell_type": "code",
   "execution_count": 33,
   "metadata": {},
   "outputs": [],
   "source": [
    "X = np.hstack( [ np.ones( ( X.shape[0],1) ), X ]  )"
   ]
  },
  {
   "cell_type": "code",
   "execution_count": 34,
   "metadata": {},
   "outputs": [
    {
     "data": {
      "text/plain": [
       "array([[ 1.        , 34.62365962, 78.02469282],\n",
       "       [ 1.        , 30.28671077, 43.89499752],\n",
       "       [ 1.        , 35.84740877, 72.90219803],\n",
       "       [ 1.        , 60.18259939, 86.3085521 ],\n",
       "       [ 1.        , 79.03273605, 75.34437644]])"
      ]
     },
     "execution_count": 34,
     "metadata": {},
     "output_type": "execute_result"
    }
   ],
   "source": [
    "X[:5]"
   ]
  },
  {
   "cell_type": "markdown",
   "metadata": {},
   "source": [
    "Sklearn provides a useful function to split in training and test dataset\n",
    "\n",
    "test_size=0.3 means that 70% of the data will be given on the training set and 30% on the testing set.\n",
    "\n",
    "If we set the random state to a constant it will always give the same result. ( e.x. to reproduce results )"
   ]
  },
  {
   "cell_type": "code",
   "execution_count": 35,
   "metadata": {},
   "outputs": [],
   "source": [
    "from sklearn.model_selection import train_test_split\n",
    "X_train, X_test, y_train, y_test = train_test_split( X, y, test_size=0.3, random_state=42)"
   ]
  },
  {
   "cell_type": "code",
   "execution_count": 36,
   "metadata": {},
   "outputs": [
    {
     "name": "stdout",
     "output_type": "stream",
     "text": [
      "(70, 3)\n",
      "(70, 1)\n",
      "(30, 3)\n",
      "(30, 1)\n"
     ]
    }
   ],
   "source": [
    "print( X_train.shape )\n",
    "print( y_train.shape )\n",
    "print( X_test.shape )\n",
    "print( y_test.shape )"
   ]
  },
  {
   "cell_type": "markdown",
   "metadata": {},
   "source": [
    "<h2> Preprocessing </h2>\n",
    "\n",
    "We are going to apply mean normalization both on training and testing set. Notice that we don't calculate the mu for the first column."
   ]
  },
  {
   "cell_type": "code",
   "execution_count": 37,
   "metadata": {},
   "outputs": [],
   "source": [
    "m, n = X.shape\n",
    "mu = np.zeros( (X_train.shape[1], 1) )\n",
    "stdu = np.zeros( (X_train.shape[1], 1) )\n",
    "for j in range(1,n):\n",
    "    mu[j] = X[:,j].mean()\n",
    "    stdu[j] = X[:,j].std()\n",
    "\n",
    "stdu[0] = 1#because otherwise it will divide by 0 later on standarization"
   ]
  },
  {
   "cell_type": "code",
   "execution_count": 38,
   "metadata": {},
   "outputs": [
    {
     "data": {
      "text/plain": [
       "array([[ 0.        ],\n",
       "       [65.64427406],\n",
       "       [66.22199809]])"
      ]
     },
     "execution_count": 38,
     "metadata": {},
     "output_type": "execute_result"
    }
   ],
   "source": [
    "mu"
   ]
  },
  {
   "cell_type": "code",
   "execution_count": 39,
   "metadata": {},
   "outputs": [
    {
     "data": {
      "text/plain": [
       "array([[ 1.        ],\n",
       "       [19.36068671],\n",
       "       [18.48963567]])"
      ]
     },
     "execution_count": 39,
     "metadata": {},
     "output_type": "execute_result"
    }
   ],
   "source": [
    "stdu"
   ]
  },
  {
   "cell_type": "markdown",
   "metadata": {},
   "source": [
    "<h2> Standardize training set </h2>"
   ]
  },
  {
   "cell_type": "code",
   "execution_count": 40,
   "metadata": {},
   "outputs": [],
   "source": [
    "for j in range(1,n):\n",
    "    X_train[:, j] = (X_train[:, j] - mu[j] ) / stdu[j]"
   ]
  },
  {
   "cell_type": "markdown",
   "metadata": {},
   "source": [
    "<h2> Standardize test set </h2>"
   ]
  },
  {
   "cell_type": "code",
   "execution_count": 41,
   "metadata": {},
   "outputs": [],
   "source": [
    "for j in range(1,n):\n",
    "    X_test[:, j] = (X_test[:, j] - mu[j] ) / stdu[j]"
   ]
  },
  {
   "cell_type": "code",
   "execution_count": 42,
   "metadata": {
    "scrolled": true
   },
   "outputs": [
    {
     "data": {
      "text/html": [
       "<div>\n",
       "<style scoped>\n",
       "    .dataframe tbody tr th:only-of-type {\n",
       "        vertical-align: middle;\n",
       "    }\n",
       "\n",
       "    .dataframe tbody tr th {\n",
       "        vertical-align: top;\n",
       "    }\n",
       "\n",
       "    .dataframe thead th {\n",
       "        text-align: right;\n",
       "    }\n",
       "</style>\n",
       "<table border=\"1\" class=\"dataframe\">\n",
       "  <thead>\n",
       "    <tr style=\"text-align: right;\">\n",
       "      <th></th>\n",
       "      <th>0</th>\n",
       "      <th>1</th>\n",
       "      <th>2</th>\n",
       "    </tr>\n",
       "  </thead>\n",
       "  <tbody>\n",
       "    <tr>\n",
       "      <th>0</th>\n",
       "      <td>1.0</td>\n",
       "      <td>0.483939</td>\n",
       "      <td>-1.926416</td>\n",
       "    </tr>\n",
       "    <tr>\n",
       "      <th>1</th>\n",
       "      <td>1.0</td>\n",
       "      <td>1.659410</td>\n",
       "      <td>1.109044</td>\n",
       "    </tr>\n",
       "    <tr>\n",
       "      <th>2</th>\n",
       "      <td>1.0</td>\n",
       "      <td>0.145875</td>\n",
       "      <td>1.047739</td>\n",
       "    </tr>\n",
       "    <tr>\n",
       "      <th>3</th>\n",
       "      <td>1.0</td>\n",
       "      <td>-0.197001</td>\n",
       "      <td>-0.863505</td>\n",
       "    </tr>\n",
       "    <tr>\n",
       "      <th>4</th>\n",
       "      <td>1.0</td>\n",
       "      <td>0.457030</td>\n",
       "      <td>1.007220</td>\n",
       "    </tr>\n",
       "  </tbody>\n",
       "</table>\n",
       "</div>"
      ],
      "text/plain": [
       "     0         1         2\n",
       "0  1.0  0.483939 -1.926416\n",
       "1  1.0  1.659410  1.109044\n",
       "2  1.0  0.145875  1.047739\n",
       "3  1.0 -0.197001 -0.863505\n",
       "4  1.0  0.457030  1.007220"
      ]
     },
     "execution_count": 42,
     "metadata": {},
     "output_type": "execute_result"
    }
   ],
   "source": [
    "pd.DataFrame( X_train ).head()"
   ]
  },
  {
   "cell_type": "code",
   "execution_count": 43,
   "metadata": {},
   "outputs": [
    {
     "data": {
      "text/html": [
       "<div>\n",
       "<style scoped>\n",
       "    .dataframe tbody tr th:only-of-type {\n",
       "        vertical-align: middle;\n",
       "    }\n",
       "\n",
       "    .dataframe tbody tr th {\n",
       "        vertical-align: top;\n",
       "    }\n",
       "\n",
       "    .dataframe thead th {\n",
       "        text-align: right;\n",
       "    }\n",
       "</style>\n",
       "<table border=\"1\" class=\"dataframe\">\n",
       "  <thead>\n",
       "    <tr style=\"text-align: right;\">\n",
       "      <th></th>\n",
       "      <th>0</th>\n",
       "      <th>1</th>\n",
       "      <th>2</th>\n",
       "    </tr>\n",
       "  </thead>\n",
       "  <tbody>\n",
       "    <tr>\n",
       "      <th>0</th>\n",
       "      <td>1.0</td>\n",
       "      <td>-0.434156</td>\n",
       "      <td>-0.362782</td>\n",
       "    </tr>\n",
       "    <tr>\n",
       "      <th>1</th>\n",
       "      <td>1.0</td>\n",
       "      <td>-1.607369</td>\n",
       "      <td>-0.315077</td>\n",
       "    </tr>\n",
       "    <tr>\n",
       "      <th>2</th>\n",
       "      <td>1.0</td>\n",
       "      <td>-1.700427</td>\n",
       "      <td>-1.239334</td>\n",
       "    </tr>\n",
       "    <tr>\n",
       "      <th>3</th>\n",
       "      <td>1.0</td>\n",
       "      <td>-0.176729</td>\n",
       "      <td>-0.765889</td>\n",
       "    </tr>\n",
       "    <tr>\n",
       "      <th>4</th>\n",
       "      <td>1.0</td>\n",
       "      <td>-0.753926</td>\n",
       "      <td>-1.103283</td>\n",
       "    </tr>\n",
       "  </tbody>\n",
       "</table>\n",
       "</div>"
      ],
      "text/plain": [
       "     0         1         2\n",
       "0  1.0 -0.434156 -0.362782\n",
       "1  1.0 -1.607369 -0.315077\n",
       "2  1.0 -1.700427 -1.239334\n",
       "3  1.0 -0.176729 -0.765889\n",
       "4  1.0 -0.753926 -1.103283"
      ]
     },
     "execution_count": 43,
     "metadata": {},
     "output_type": "execute_result"
    }
   ],
   "source": [
    "pd.DataFrame( X_test ).head()"
   ]
  },
  {
   "cell_type": "markdown",
   "metadata": {},
   "source": [
    "#### Sigmoid function"
   ]
  },
  {
   "cell_type": "markdown",
   "metadata": {},
   "source": [
    "$$\\sigma(a) = \\frac{1}{1 + e^{-a}}$$"
   ]
  },
  {
   "cell_type": "code",
   "execution_count": 44,
   "metadata": {
    "scrolled": true
   },
   "outputs": [],
   "source": [
    "def sigmoid(z):\n",
    "    return 1.0 / (1.0 + np.exp(-z))"
   ]
  },
  {
   "cell_type": "code",
   "execution_count": 45,
   "metadata": {
    "scrolled": true
   },
   "outputs": [
    {
     "data": {
      "image/png": "[encoded data removed]",
      "text/plain": [
       "<matplotlib.figure.Figure at 0x7f9abb0170b8>"
      ]
     },
     "metadata": {},
     "output_type": "display_data"
    }
   ],
   "source": [
    "x = np.arange(-10., 10., 0.2)\n",
    "plt.plot(x, sigmoid(x),'r')\n",
    "plt.show()"
   ]
  },
  {
   "cell_type": "markdown",
   "metadata": {},
   "source": [
    "Bishop - Pattern Recognition and Machine Learning, page 205\n",
    "\n",
    "$$ p\\big(c=1 \\mid \\mathbf{x}\\big) = \\sigma \\big(b + \\mathbf{x}^{\\top} \\mathbf{w}\\big) $$\n",
    "\n",
    "$$ h_{\\theta}(x) = \\sigma \\big(b + \\mathbf{x}^{\\top} \\mathbf{w}\\big)  $$\n",
    "\n",
    "$$ J(\\theta) = \\frac{1}{m} \\sum_{n=1}^{m} \\big [ y^{ (i) }  \\ln h_{\\theta}( x^{(i)} ) +(1−y^{(i)})\\ln(1− h_{\\theta}( x^{(i)} ) \\thinspace )\\big ]- \\frac{1}{2m}\\lambda \\lVert \\mathbf{w} \\rVert^2$$\n",
    "\n",
    "And the partial derivatives for all parameter $\\theta_{j}$\n",
    "\n",
    "<!-- $$ \\nabla _w E = \\sum_{n=1}^{N} \\Big( y^{i} - \\sigma \\big(b + \\mathbf{x}^{\\top} \\mathbf{w}\\big)  \\mathbf{x} \\Big) $$  -->\n",
    "\n",
    "$$ \\frac{ \\partial J(\\theta) }{ \\partial \\theta_{j} } = \\frac{1}{m} \\sum_{i=1}^{m} [ ( h_{\n",
    "\\theta} ( x^{(i)} ) - y^{(i)}) x^{i}_{j} ] - \\lambda \\mathbf{w} $$\n",
    "\n"
   ]
  },
  {
   "cell_type": "code",
   "execution_count": 46,
   "metadata": {},
   "outputs": [],
   "source": [
    "def ComputeCostGrad( X, y, theta, _lambda ):\n",
    "    \n",
    "    h = sigmoid( X.dot(theta) )#hypothesis h_theta\n",
    "\n",
    "    #calc cost function\n",
    "    reg = (_lambda / (2.0 * m) ) * np.sum(theta**2)#reguralization\n",
    "    cur_j = (1.0 / m) * (-y.T.dot(np.log(h)) - (1 - y).T.dot(np.log(1 - h))) + reg\n",
    "\n",
    "    #calculate gradient\n",
    "    reg = _lambda * theta /(m+0.0)\n",
    "    grad = ( (1.0 / m) * X.T.dot(h - y) ) + reg\n",
    "    \n",
    "    return cur_j, grad\n",
    "\n",
    "\n",
    "def ComputeLogisticRegression( X, y, X_val, y_val, _lambda=0.0, tot_iter=2000, alpha=0.01 ):\n",
    "\n",
    "    theta = np.zeros(X.shape[1]).reshape( (-1,1) )\n",
    "\n",
    "    m, n = X.shape\n",
    "    \n",
    "    J_train = []\n",
    "    J_test = []\n",
    "    \n",
    "    for i in range( tot_iter ):    \n",
    "\n",
    "        train_error, train_grad = ComputeCostGrad( X, y, theta, _lambda )\n",
    "        test_error, _ = ComputeCostGrad( X_val, y_val, theta, _lambda )\n",
    "        \n",
    "        #update parameters by subtracting gradient values\n",
    "        theta -= alpha * train_grad\n",
    "\n",
    "        #print( train_error )\n",
    "        #store current cost\n",
    "        J_train.append( train_error[0] )\n",
    "        J_test.append( test_error[0] )\n",
    "        \n",
    "    return J_train, J_test, theta\n"
   ]
  },
  {
   "cell_type": "markdown",
   "metadata": {},
   "source": [
    "<h2> Predict </h2>"
   ]
  },
  {
   "cell_type": "code",
   "execution_count": 47,
   "metadata": {},
   "outputs": [],
   "source": [
    "def predict(theta, X):\n",
    "    #PREDICT Predict whether the label is 0 or 1 using learned logistic \n",
    "    #regression parameters theta\n",
    "    #   p = PREDICT(theta, X) computes the predictions for X using a \n",
    "    #   threshold at 0.5 (i.e., if sigmoid( X * theta ) >= 0.5, predict 1)\n",
    "\n",
    "    m = X.shape[0]\n",
    "    \n",
    "    #You need to return the following variables correctly\n",
    "    p = np.zeros( (m,1) );\n",
    "    p = sigmoid( np.dot(X,theta) )\n",
    "    prob = p\n",
    "    p = p > 0.5 - 1e-6\n",
    "\n",
    "    return p, prob"
   ]
  },
  {
   "cell_type": "code",
   "execution_count": 48,
   "metadata": {},
   "outputs": [],
   "source": [
    "J_train, J_test, theta = ComputeLogisticRegression( X_train, y_train, X_test, y_test, _lambda=0.0 )"
   ]
  },
  {
   "cell_type": "code",
   "execution_count": 49,
   "metadata": {},
   "outputs": [
    {
     "data": {
      "image/png": "[encoded data removed]",
      "text/plain": [
       "<matplotlib.figure.Figure at 0x7f9abb02a6a0>"
      ]
     },
     "metadata": {},
     "output_type": "display_data"
    },
    {
     "name": "stdout",
     "output_type": "stream",
     "text": [
      "Accuracy of training set 0.9142857142857143\n",
      "Accuracy of testing set 0.8333333333333334\n"
     ]
    }
   ],
   "source": [
    "plt.plot( np.arange( len(J_train) ), J_train )\n",
    "plt.plot( np.arange( len(J_test) ), J_test )\n",
    "plt.xlabel( 'Number of iterations' )\n",
    "plt.ylabel( 'Cost of J function' )\n",
    "plt.legend( ['Training error','Test error'] )\n",
    "plt.title( 'Lambda 0')\n",
    "plt.show()\n",
    "p_train, prob_train = predict( theta, X_train )\n",
    "p_test, prob_test = predict( theta, X_test )\n",
    "print( 'Accuracy of training set', np.mean( p_train.astype('int') == y_train ) )\n",
    "print( 'Accuracy of testing set', np.mean( p_test.astype('int') == y_test ) )"
   ]
  },
  {
   "cell_type": "markdown",
   "metadata": {},
   "source": []
  },
  {
   "cell_type": "code",
   "execution_count": 50,
   "metadata": {},
   "outputs": [],
   "source": [
    "p_train, prob_train = predict( theta, X_train )"
   ]
  },
  {
   "cell_type": "code",
   "execution_count": 51,
   "metadata": {},
   "outputs": [
    {
     "data": {
      "text/plain": [
       "array([[False],\n",
       "       [ True],\n",
       "       [ True],\n",
       "       [False],\n",
       "       [ True]])"
      ]
     },
     "execution_count": 51,
     "metadata": {},
     "output_type": "execute_result"
    }
   ],
   "source": [
    "p_train[:5]"
   ]
  },
  {
   "cell_type": "code",
   "execution_count": 52,
   "metadata": {},
   "outputs": [
    {
     "name": "stdout",
     "output_type": "stream",
     "text": [
      "[[0.18618651]\n",
      " [0.99021555]\n",
      " [0.88111551]\n",
      " [0.2371144 ]\n",
      " [0.92188423]]\n"
     ]
    }
   ],
   "source": [
    "print( prob_train[:5] )"
   ]
  },
  {
   "cell_type": "markdown",
   "metadata": {},
   "source": [
    "<h2> Accuracy </h2>"
   ]
  },
  {
   "cell_type": "code",
   "execution_count": 53,
   "metadata": {},
   "outputs": [],
   "source": [
    "p_test, prob_test = predict( theta, X_test )"
   ]
  },
  {
   "cell_type": "code",
   "execution_count": 54,
   "metadata": {},
   "outputs": [
    {
     "name": "stdout",
     "output_type": "stream",
     "text": [
      "Accuracy of training set 0.9142857142857143\n",
      "Accuracy of testing set 0.8333333333333334\n"
     ]
    }
   ],
   "source": [
    "print( 'Accuracy of training set', np.mean( p_train.astype('int') == y_train ) )\n",
    "print( 'Accuracy of testing set', np.mean( p_test.astype('int') == y_test ) )"
   ]
  },
  {
   "cell_type": "code",
   "execution_count": 55,
   "metadata": {},
   "outputs": [
    {
     "data": {
      "text/plain": [
       "(3,)"
      ]
     },
     "execution_count": 55,
     "metadata": {},
     "output_type": "execute_result"
    }
   ],
   "source": [
    "theta.shape\n",
    "np.array( [1,1,1] ).shape"
   ]
  },
  {
   "cell_type": "code",
   "execution_count": 56,
   "metadata": {},
   "outputs": [
    {
     "data": {
      "text/plain": [
       "(array([[False]]), array([[0.48312883]]))"
      ]
     },
     "execution_count": 56,
     "metadata": {},
     "output_type": "execute_result"
    }
   ],
   "source": [
    "predict( theta, ( np.array( [1, 45, 85] ).reshape(1,-1) - mu.T ) / stdu.T )"
   ]
  },
  {
   "cell_type": "code",
   "execution_count": 57,
   "metadata": {},
   "outputs": [
    {
     "data": {
      "image/png": "[encoded data removed]",
      "text/plain": [
       "<matplotlib.figure.Figure at 0x7f9abac6a5c0>"
      ]
     },
     "metadata": {},
     "output_type": "display_data"
    },
    {
     "name": "stdout",
     "output_type": "stream",
     "text": [
      "Accuracy of training set 0.9142857142857143\n",
      "Accuracy of testing set 0.8333333333333334\n"
     ]
    }
   ],
   "source": [
    "J_train, J_test, theta = ComputeLogisticRegression( X_train, y_train, X_test, y_test, _lambda=0.5 )\n",
    "plt.plot( np.arange( len(J_train) ), J_train )\n",
    "plt.plot( np.arange( len(J_test) ), J_test )\n",
    "plt.xlabel( 'Number of iterations' )\n",
    "plt.ylabel( 'Cost of J function' )\n",
    "plt.title('Lambda 0.5')\n",
    "plt.legend( ['Training error','Test error'] )\n",
    "plt.show()\n",
    "p_train, prob_train = predict( theta, X_train )\n",
    "p_test, prob_test = predict( theta, X_test )\n",
    "print( 'Accuracy of training set', np.mean( p_train.astype('int') == y_train ) )\n",
    "print( 'Accuracy of testing set', np.mean( p_test.astype('int') == y_test ) )"
   ]
  },
  {
   "cell_type": "code",
   "execution_count": 58,
   "metadata": {},
   "outputs": [
    {
     "data": {
      "image/png": "[encoded data removed]",
      "text/plain": [
       "<matplotlib.figure.Figure at 0x7f9abadcc550>"
      ]
     },
     "metadata": {},
     "output_type": "display_data"
    },
    {
     "name": "stdout",
     "output_type": "stream",
     "text": [
      "Accuracy of training set 0.9142857142857143\n",
      "Accuracy of testing set 0.8333333333333334\n"
     ]
    }
   ],
   "source": [
    "J_train, J_test, theta = ComputeLogisticRegression( X_train, y_train, X_test, y_test, _lambda=1 )\n",
    "plt.plot( np.arange( len(J_train) ), J_train )\n",
    "plt.plot( np.arange( len(J_test) ), J_test )\n",
    "plt.xlabel( 'Number of iterations' )\n",
    "plt.ylabel( 'Cost of J function' )\n",
    "plt.title('Lambda 1')\n",
    "plt.legend( ['Training error','Test error'] )\n",
    "plt.show()\n",
    "p_train, prob_train = predict( theta, X_train )\n",
    "p_test, prob_test = predict( theta, X_test )\n",
    "print( 'Accuracy of training set', np.mean( p_train.astype('int') == y_train ) )\n",
    "print( 'Accuracy of testing set', np.mean( p_test.astype('int') == y_test ) )"
   ]
  },
  {
   "cell_type": "code",
   "execution_count": 59,
   "metadata": {},
   "outputs": [
    {
     "data": {
      "image/png": "[encoded data removed]",
      "text/plain": [
       "<matplotlib.figure.Figure at 0x7f9abac17748>"
      ]
     },
     "metadata": {},
     "output_type": "display_data"
    },
    {
     "name": "stdout",
     "output_type": "stream",
     "text": [
      "Accuracy of training set 0.9142857142857143\n",
      "Accuracy of testing set 0.8\n"
     ]
    }
   ],
   "source": [
    "J_train, J_test, theta = ComputeLogisticRegression( X_train, y_train, X_test, y_test, _lambda=10 )\n",
    "plt.plot( np.arange( len(J_train) ), J_train )\n",
    "plt.plot( np.arange( len(J_test) ), J_test )\n",
    "plt.xlabel( 'Number of iterations' )\n",
    "plt.ylabel( 'Cost of J function' )\n",
    "plt.title('Lambda 10')\n",
    "plt.legend( ['Training error','Test error'] )\n",
    "plt.show()\n",
    "p_train, prob_train = predict( theta, X_train )\n",
    "p_test, prob_test = predict( theta, X_test )\n",
    "print( 'Accuracy of training set', np.mean( p_train.astype('int') == y_train ) )\n",
    "print( 'Accuracy of testing set', np.mean( p_test.astype('int') == y_test ) )"
   ]
  },
  {
   "cell_type": "markdown",
   "metadata": {},
   "source": [
    "<h2> Logistic Regression from sklearn </h2>"
   ]
  },
  {
   "cell_type": "markdown",
   "metadata": {},
   "source": [
    "The scikit-learn project started as scikits.learn, a Google Summer of Code project by David Cournapeau. Its name stems from the notion that it is a \"SciKit\" (SciPy Toolkit), a separately-developed and distributed third-party extension to SciPy.\n",
    "\n",
    "Scikit-learn (formerly scikits.learn) is a free software machine learning library for the Python programming language. It features various classification, regression and clustering algorithms including support vector machines, random forests, gradient boosting, k-means and DBSCAN, and is designed to interoperate with the Python numerical and scientific libraries NumPy and SciPy. "
   ]
  },
  {
   "cell_type": "code",
   "execution_count": 60,
   "metadata": {},
   "outputs": [],
   "source": [
    "from sklearn.linear_model import LogisticRegression"
   ]
  },
  {
   "cell_type": "code",
   "execution_count": 61,
   "metadata": {},
   "outputs": [],
   "source": [
    "from sklearn.linear_model import LogisticRegression\n",
    "clf = LogisticRegression(random_state=0, solver='lbfgs',multi_class='multinomial').fit(X_train, y_train.ravel() )"
   ]
  },
  {
   "cell_type": "code",
   "execution_count": 62,
   "metadata": {},
   "outputs": [
    {
     "data": {
      "text/plain": [
       "0.9142857142857143"
      ]
     },
     "execution_count": 62,
     "metadata": {},
     "output_type": "execute_result"
    }
   ],
   "source": [
    "clf.score(X_train,y_train)"
   ]
  },
  {
   "cell_type": "code",
   "execution_count": 63,
   "metadata": {},
   "outputs": [
    {
     "data": {
      "text/plain": [
       "array([[0.75580803, 0.24419197],\n",
       "       [0.02044376, 0.97955624],\n",
       "       [0.15144724, 0.84855276],\n",
       "       [0.70663521, 0.29336479],\n",
       "       [0.10858761, 0.89141239]])"
      ]
     },
     "execution_count": 63,
     "metadata": {},
     "output_type": "execute_result"
    }
   ],
   "source": [
    "clf.predict_proba( X_train )[:5]"
   ]
  },
  {
   "cell_type": "code",
   "execution_count": 64,
   "metadata": {},
   "outputs": [
    {
     "data": {
      "text/plain": [
       "0.8333333333333334"
      ]
     },
     "execution_count": 64,
     "metadata": {},
     "output_type": "execute_result"
    }
   ],
   "source": [
    "clf.score(X_test,y_test)"
   ]
  },
  {
   "cell_type": "markdown",
   "metadata": {},
   "source": [
    "We got the same accuracy with lambda=0."
   ]
  },
  {
   "cell_type": "markdown",
   "metadata": {},
   "source": [
    "<h2> Tensorflow </h2>"
   ]
  },
  {
   "cell_type": "markdown",
   "metadata": {},
   "source": [
    "An open source machine learning library developed by google. The basic principle of tensorflow is to define a computational graph: A directed graph in which every node is a Variable or Operation ( also the graph can show us the dependencies of the nodes ). Tensorflow afterwards decides on its own how to optimize the execution of the graph e.x. run on CPU/GPU.\n",
    "\n",
    "Also you will often hear the word \"Tensor\" which is an alternative word for a multi-dimensional array. In our case it represents the values that are fed into the nodes and come out afterwards."
   ]
  },
  {
   "cell_type": "code",
   "execution_count": 65,
   "metadata": {},
   "outputs": [
    {
     "name": "stderr",
     "output_type": "stream",
     "text": [
      "/home/sotirisnik/anaconda3/lib/python3.6/site-packages/h5py/__init__.py:34: FutureWarning: Conversion of the second argument of issubdtype from `float` to `np.floating` is deprecated. In future, it will be treated as `np.float64 == np.dtype(float).type`.\n",
      "  from ._conv import register_converters as _register_converters\n"
     ]
    }
   ],
   "source": [
    "import tensorflow as tf"
   ]
  },
  {
   "cell_type": "markdown",
   "metadata": {},
   "source": [
    "Let's define some Variable"
   ]
  },
  {
   "cell_type": "code",
   "execution_count": 66,
   "metadata": {},
   "outputs": [],
   "source": [
    "a = tf.Variable(2)"
   ]
  },
  {
   "cell_type": "code",
   "execution_count": 67,
   "metadata": {},
   "outputs": [],
   "source": [
    "b = tf.Variable(3)"
   ]
  },
  {
   "cell_type": "markdown",
   "metadata": {},
   "source": [
    "and an operation $a^2 + b^2$"
   ]
  },
  {
   "cell_type": "code",
   "execution_count": 68,
   "metadata": {},
   "outputs": [],
   "source": [
    "f = a*a + b*b"
   ]
  },
  {
   "cell_type": "markdown",
   "metadata": {},
   "source": [
    "Notice that up until now Tensors a,b and f are just declared, they don't contain actual values."
   ]
  },
  {
   "cell_type": "markdown",
   "metadata": {},
   "source": [
    "Our graph lives on a session"
   ]
  },
  {
   "cell_type": "code",
   "execution_count": 69,
   "metadata": {},
   "outputs": [],
   "source": [
    "sess = tf.Session()"
   ]
  },
  {
   "cell_type": "markdown",
   "metadata": {},
   "source": [
    "Afterwards we have to initialize our variables on our graph."
   ]
  },
  {
   "cell_type": "code",
   "execution_count": 70,
   "metadata": {},
   "outputs": [],
   "source": [
    "sess.run(  a.initializer )"
   ]
  },
  {
   "cell_type": "code",
   "execution_count": 71,
   "metadata": {},
   "outputs": [],
   "source": [
    "sess.run(  b.initializer )"
   ]
  },
  {
   "cell_type": "code",
   "execution_count": 72,
   "metadata": {},
   "outputs": [
    {
     "name": "stdout",
     "output_type": "stream",
     "text": [
      "13\n"
     ]
    }
   ],
   "source": [
    "ret = sess.run( f )#2^2 + 3^2= 4 + 9 = 13\n",
    "print( ret )"
   ]
  },
  {
   "cell_type": "markdown",
   "metadata": {},
   "source": [
    "Always we have to close our session, to frees all resources associated with it."
   ]
  },
  {
   "cell_type": "markdown",
   "metadata": {},
   "source": [
    "sess.close()"
   ]
  },
  {
   "cell_type": "markdown",
   "metadata": {},
   "source": [
    "Another way would be to use \"with\" and the session would automatically close."
   ]
  },
  {
   "cell_type": "code",
   "execution_count": 73,
   "metadata": {},
   "outputs": [
    {
     "name": "stdout",
     "output_type": "stream",
     "text": [
      "13\n"
     ]
    }
   ],
   "source": [
    "with tf.Session() as sess:\n",
    "    sess.run(  a.initializer )\n",
    "    sess.run(  b.initializer )\n",
    "    ret = sess.run( f )\n",
    "print( ret )"
   ]
  },
  {
   "cell_type": "markdown",
   "metadata": {},
   "source": [
    "Also it's not practical to initializer each variable. Therefore we can call tf.global_variables_initializer for that."
   ]
  },
  {
   "cell_type": "code",
   "execution_count": 74,
   "metadata": {},
   "outputs": [
    {
     "name": "stdout",
     "output_type": "stream",
     "text": [
      "13\n"
     ]
    }
   ],
   "source": [
    "with tf.Session() as sess:\n",
    "    sess.run( tf.global_variables_initializer() )\n",
    "    ret = sess.run( f )\n",
    "print( ret )"
   ]
  },
  {
   "cell_type": "code",
   "execution_count": 75,
   "metadata": {},
   "outputs": [],
   "source": [
    "c = a + b\n",
    "d = a - b\n",
    "z = c * d"
   ]
  },
  {
   "cell_type": "markdown",
   "metadata": {},
   "source": [
    "<h2> Other functions </h2>"
   ]
  },
  {
   "cell_type": "code",
   "execution_count": 76,
   "metadata": {},
   "outputs": [
    {
     "name": "stdout",
     "output_type": "stream",
     "text": [
      "[5, -1, -5]\n",
      "8\n",
      "4\n",
      "-5\n",
      "2\n"
     ]
    }
   ],
   "source": [
    "with tf.Session() as sess:\n",
    "    sess.run( tf.global_variables_initializer() )\n",
    "    print( sess.run( [c,d,z] ) )#multiple operations at once\n",
    "    print( sess.run( tf.pow(2,3) ) )\n",
    "    print( sess.run( tf.add(c,d) ) )\n",
    "    print( sess.run( tf.multiply(c,d) ) )\n",
    "    print( sess.run( tf.cast(2.5,tf.int32)) )#from float to int"
   ]
  },
  {
   "cell_type": "markdown",
   "metadata": {},
   "source": [
    "<h2> Let's perform linear regression </h2>"
   ]
  },
  {
   "cell_type": "code",
   "execution_count": 77,
   "metadata": {},
   "outputs": [
    {
     "name": "stderr",
     "output_type": "stream",
     "text": [
      "/home/sotirisnik/anaconda3/lib/python3.6/site-packages/ipykernel/__main__.py:4: FutureWarning: Method .as_matrix will be removed in a future version. Use .values instead.\n",
      "/home/sotirisnik/anaconda3/lib/python3.6/site-packages/ipykernel/__main__.py:5: FutureWarning: Method .as_matrix will be removed in a future version. Use .values instead.\n"
     ]
    }
   ],
   "source": [
    "df = pd.read_csv('data/lin_data1.txt', header=None, sep=',')\n",
    "df.columns = [ 'population', 'profit']\n",
    "\n",
    "X = df[ [\"population\"] ].as_matrix()\n",
    "y = df[ [\"profit\"] ].as_matrix()\n",
    "\n",
    "#m = X.shape[0]#total number of examples\n",
    "m, n = X.shape\n",
    "\n",
    "X = np.hstack( [ np.ones( (m,1) ), X ]  )#add a column of 1s at the beginning\n",
    "\n",
    "m, n = X.shape\n",
    "\n",
    "iterations = 1500\n",
    "alpha = 0.01#the learning rate"
   ]
  },
  {
   "cell_type": "markdown",
   "metadata": {},
   "source": [
    "Convert dataset to tf constants"
   ]
  },
  {
   "cell_type": "code",
   "execution_count": 78,
   "metadata": {},
   "outputs": [],
   "source": [
    "X = tf.constant( X, dtype=tf.float32, name=\"X\")\n",
    "y = tf.constant( y, dtype=tf.float32, name=\"y\")"
   ]
  },
  {
   "cell_type": "markdown",
   "metadata": {},
   "source": [
    "Approach with Normal equation - revisited"
   ]
  },
  {
   "cell_type": "code",
   "execution_count": 79,
   "metadata": {},
   "outputs": [],
   "source": [
    "XT = tf.transpose(X)\n",
    "theta = tf.matmul(tf.matmul(tf.matrix_inverse(tf.matmul(XT, X)), XT), y)"
   ]
  },
  {
   "cell_type": "code",
   "execution_count": 80,
   "metadata": {},
   "outputs": [
    {
     "name": "stdout",
     "output_type": "stream",
     "text": [
      "[[-3.8957698]\n",
      " [ 1.1930321]]\n"
     ]
    }
   ],
   "source": [
    "with tf.Session() as sess:\n",
    "    theta_value = theta.eval()\n",
    "print( theta_value )"
   ]
  },
  {
   "cell_type": "code",
   "execution_count": 81,
   "metadata": {},
   "outputs": [
    {
     "name": "stdout",
     "output_type": "stream",
     "text": [
      "(97, 2)\n"
     ]
    }
   ],
   "source": [
    "print( X.shape )"
   ]
  },
  {
   "cell_type": "code",
   "execution_count": 82,
   "metadata": {},
   "outputs": [],
   "source": [
    "theta = tf.Variable( tf.zeros([n, 1], tf.float32), name=\"theta\")#declare theta, at the beginning everything is 0\n",
    "\n",
    "#print(theta.shape)\n",
    "\n",
    "y_pred = tf.matmul(X, theta, name=\"predictions\")#X * theta\n",
    "\n",
    "error = y_pred - y#prediction - target\n",
    "\n",
    "mse = tf.reduce_mean(tf.square(error), name=\"mse\")#mean square error\n",
    "\n",
    "#print( X.shape, error.shape )\n",
    "\n",
    "gradients = (2.0/m) * tf.matmul( tf.transpose(X), error)#calculates the gradient\n",
    "\n",
    "learning_rate = 0.01#learning rate\n",
    "\n",
    "training_op = tf.assign(theta, theta - learning_rate * gradients)#training operations has the weight update operation\n",
    "theta = theta - learning_rate * gradients"
   ]
  },
  {
   "cell_type": "code",
   "execution_count": 83,
   "metadata": {
    "scrolled": true
   },
   "outputs": [
    {
     "name": "stdout",
     "output_type": "stream",
     "text": [
      "Epoch 0 MSE = 64.14547\n",
      "Epoch 100 MSE = 10.351394\n",
      "Epoch 200 MSE = 9.632565\n",
      "Epoch 300 MSE = 9.283491\n",
      "Epoch 400 MSE = 9.113976\n",
      "Epoch 500 MSE = 9.031656\n",
      "Epoch 600 MSE = 8.991682\n",
      "Epoch 700 MSE = 8.972269\n",
      "Epoch 800 MSE = 8.962842\n",
      "Epoch 900 MSE = 8.958264\n"
     ]
    }
   ],
   "source": [
    "n_epochs = 1000\n",
    "init = tf.global_variables_initializer()\n",
    "with tf.Session() as sess:\n",
    "    sess.run(init)\n",
    "    for epoch in range(n_epochs):\n",
    "        if epoch % 100 == 0:\n",
    "            print(\"Epoch\", epoch, \"MSE =\", mse.eval())\n",
    "        sess.run(training_op)\n",
    "        best_theta = theta.eval()"
   ]
  },
  {
   "cell_type": "code",
   "execution_count": 84,
   "metadata": {},
   "outputs": [
    {
     "data": {
      "text/plain": [
       "array([[-3.7888076],\n",
       "       [ 1.182287 ]], dtype=float32)"
      ]
     },
     "execution_count": 84,
     "metadata": {},
     "output_type": "execute_result"
    }
   ],
   "source": [
    "best_theta"
   ]
  },
  {
   "cell_type": "markdown",
   "metadata": {},
   "source": [
    "Instead of calculating gradients by hand, we can use Tensorflow's optimizers. The only thing we need to change is the training_op."
   ]
  },
  {
   "cell_type": "code",
   "execution_count": 85,
   "metadata": {},
   "outputs": [],
   "source": [
    "optimizer = tf.train.GradientDescentOptimizer(learning_rate=learning_rate)\n",
    "training_op = optimizer.minimize(mse)"
   ]
  },
  {
   "cell_type": "code",
   "execution_count": 86,
   "metadata": {},
   "outputs": [
    {
     "name": "stdout",
     "output_type": "stream",
     "text": [
      "Epoch 0 MSE = 64.14547\n",
      "Epoch 100 MSE = 10.351394\n",
      "Epoch 200 MSE = 9.632564\n",
      "Epoch 300 MSE = 9.283492\n",
      "Epoch 400 MSE = 9.113976\n",
      "Epoch 500 MSE = 9.031657\n",
      "Epoch 600 MSE = 8.991682\n",
      "Epoch 700 MSE = 8.972269\n",
      "Epoch 800 MSE = 8.962842\n",
      "Epoch 900 MSE = 8.958264\n"
     ]
    }
   ],
   "source": [
    "n_epochs = 1000\n",
    "init = tf.global_variables_initializer()\n",
    "with tf.Session() as sess:\n",
    "    sess.run(init)\n",
    "    for epoch in range(n_epochs):\n",
    "        if epoch % 100 == 0:\n",
    "            print(\"Epoch\", epoch, \"MSE =\", mse.eval())\n",
    "        sess.run(training_op)\n",
    "        best_theta = theta.eval()"
   ]
  },
  {
   "cell_type": "code",
   "execution_count": 87,
   "metadata": {},
   "outputs": [
    {
     "data": {
      "text/plain": [
       "array([[-3.788807],\n",
       "       [ 1.182287]], dtype=float32)"
      ]
     },
     "execution_count": 87,
     "metadata": {},
     "output_type": "execute_result"
    }
   ],
   "source": [
    "best_theta"
   ]
  }
 ],
 "metadata": {
  "kernelspec": {
   "display_name": "Python 3 (ipykernel)",
   "language": "python",
   "name": "python3"
  },
  "language_info": {
   "codemirror_mode": {
    "name": "ipython",
    "version": 3
   },
   "file_extension": ".py",
   "mimetype": "text/x-python",
   "name": "python",
   "nbconvert_exporter": "python",
   "pygments_lexer": "ipython3",
   "version": "3.9.9"
  }
 },
 "nbformat": 4,
 "nbformat_minor": 2
}
