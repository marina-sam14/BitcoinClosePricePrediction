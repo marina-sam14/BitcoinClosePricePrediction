{
 "cells": [
  {
   "cell_type": "code",
   "execution_count": 1,
   "id": "5046ca37",
   "metadata": {},
   "outputs": [],
   "source": [
    "import pandas as pd\n",
    "import numpy as np\n",
    "import matplotlib.pyplot  as plt\n",
    "import seaborn as sns\n",
    "\n",
    "from sklearn.linear_model import LinearRegression, LogisticRegression\n",
    "from sklearn.model_selection import train_test_split\n",
    "from sklearn.preprocessing import MinMaxScaler\n",
    "from sklearn.preprocessing import StandardScaler\n",
    "from sklearn.pipeline import Pipeline\n",
    "from sklearn.metrics import roc_curve, roc_auc_score, classification_report, accuracy_score, confusion_matrix \n",
    "from sklearn.metrics import mean_squared_error, mean_absolute_error, classification_report\n",
    "from sklearn import metrics\n",
    "\n",
    "import statsmodels.api as sm\n",
    "from scipy import stats\n",
    "\n",
    "from sklearn.model_selection import cross_val_score\n",
    "from sklearn.model_selection import KFold\n",
    "\n",
    "from statsmodels.formula.api import logit"
   ]
  },
  {
   "cell_type": "code",
   "execution_count": 2,
   "id": "a02bc3fd",
   "metadata": {},
   "outputs": [
    {
     "name": "stdout",
     "output_type": "stream",
     "text": [
      "(1827, 7)\n"
     ]
    },
    {
     "data": {
      "text/html": [
       "<div>\n",
       "<style scoped>\n",
       "    .dataframe tbody tr th:only-of-type {\n",
       "        vertical-align: middle;\n",
       "    }\n",
       "\n",
       "    .dataframe tbody tr th {\n",
       "        vertical-align: top;\n",
       "    }\n",
       "\n",
       "    .dataframe thead th {\n",
       "        text-align: right;\n",
       "    }\n",
       "</style>\n",
       "<table border=\"1\" class=\"dataframe\">\n",
       "  <thead>\n",
       "    <tr style=\"text-align: right;\">\n",
       "      <th></th>\n",
       "      <th>Date</th>\n",
       "      <th>Open</th>\n",
       "      <th>High</th>\n",
       "      <th>Low</th>\n",
       "      <th>Close</th>\n",
       "      <th>Adj Close</th>\n",
       "      <th>Volume</th>\n",
       "    </tr>\n",
       "  </thead>\n",
       "  <tbody>\n",
       "    <tr>\n",
       "      <th>0</th>\n",
       "      <td>2016-12-21</td>\n",
       "      <td>800.643982</td>\n",
       "      <td>834.281006</td>\n",
       "      <td>799.405029</td>\n",
       "      <td>834.281006</td>\n",
       "      <td>834.281006</td>\n",
       "      <td>155576000</td>\n",
       "    </tr>\n",
       "    <tr>\n",
       "      <th>1</th>\n",
       "      <td>2016-12-22</td>\n",
       "      <td>834.179993</td>\n",
       "      <td>875.781982</td>\n",
       "      <td>834.148987</td>\n",
       "      <td>864.539978</td>\n",
       "      <td>864.539978</td>\n",
       "      <td>200027008</td>\n",
       "    </tr>\n",
       "    <tr>\n",
       "      <th>2</th>\n",
       "      <td>2016-12-23</td>\n",
       "      <td>864.888000</td>\n",
       "      <td>925.117004</td>\n",
       "      <td>864.677002</td>\n",
       "      <td>921.984009</td>\n",
       "      <td>921.984009</td>\n",
       "      <td>275564000</td>\n",
       "    </tr>\n",
       "    <tr>\n",
       "      <th>3</th>\n",
       "      <td>2016-12-24</td>\n",
       "      <td>922.179993</td>\n",
       "      <td>923.479004</td>\n",
       "      <td>886.335022</td>\n",
       "      <td>898.822021</td>\n",
       "      <td>898.822021</td>\n",
       "      <td>137727008</td>\n",
       "    </tr>\n",
       "    <tr>\n",
       "      <th>4</th>\n",
       "      <td>2016-12-25</td>\n",
       "      <td>899.651978</td>\n",
       "      <td>899.651978</td>\n",
       "      <td>862.424011</td>\n",
       "      <td>896.182983</td>\n",
       "      <td>896.182983</td>\n",
       "      <td>143664992</td>\n",
       "    </tr>\n",
       "  </tbody>\n",
       "</table>\n",
       "</div>"
      ],
      "text/plain": [
       "         Date        Open        High         Low       Close   Adj Close  \\\n",
       "0  2016-12-21  800.643982  834.281006  799.405029  834.281006  834.281006   \n",
       "1  2016-12-22  834.179993  875.781982  834.148987  864.539978  864.539978   \n",
       "2  2016-12-23  864.888000  925.117004  864.677002  921.984009  921.984009   \n",
       "3  2016-12-24  922.179993  923.479004  886.335022  898.822021  898.822021   \n",
       "4  2016-12-25  899.651978  899.651978  862.424011  896.182983  896.182983   \n",
       "\n",
       "      Volume  \n",
       "0  155576000  \n",
       "1  200027008  \n",
       "2  275564000  \n",
       "3  137727008  \n",
       "4  143664992  "
      ]
     },
     "execution_count": 2,
     "metadata": {},
     "output_type": "execute_result"
    }
   ],
   "source": [
    "dataset = pd.read_csv(\"Data/BTC-USD.csv\")\n",
    "print(dataset.shape)\n",
    "dataset.head()"
   ]
  },
  {
   "cell_type": "code",
   "execution_count": 3,
   "id": "469b762d",
   "metadata": {},
   "outputs": [],
   "source": [
    "dataset['pos_neg']= dataset['Open']-dataset['Close']\n",
    "dataset.head()\n",
    "#create a binary column - 0 = gain, 1 = loss to have something to predict\n",
    "dataset['UpDown'] = np.where(dataset['pos_neg']>0, '0', '1')"
   ]
  },
  {
   "cell_type": "code",
   "execution_count": 4,
   "id": "05276dfb",
   "metadata": {},
   "outputs": [],
   "source": [
    "X = dataset[['Open', 'High', 'Low', 'Close','Volume']]\n",
    "y = dataset[\"UpDown\"].values"
   ]
  },
  {
   "cell_type": "code",
   "execution_count": 7,
   "id": "874af2a5",
   "metadata": {
    "scrolled": false
   },
   "outputs": [],
   "source": [
    "from sklearn.model_selection import train_test_split\n",
    "train, test = train_test_split(dataset, test_size = 0.3, random_state = 1)"
   ]
  },
  {
   "cell_type": "code",
   "execution_count": null,
   "id": "8fecc8da",
   "metadata": {},
   "outputs": [],
   "source": []
  }
 ],
 "metadata": {
  "kernelspec": {
   "display_name": "Python 3 (ipykernel)",
   "language": "python",
   "name": "python3"
  },
  "language_info": {
   "codemirror_mode": {
    "name": "ipython",
    "version": 3
   },
   "file_extension": ".py",
   "mimetype": "text/x-python",
   "name": "python",
   "nbconvert_exporter": "python",
   "pygments_lexer": "ipython3",
   "version": "3.9.9"
  }
 },
 "nbformat": 4,
 "nbformat_minor": 5
}
