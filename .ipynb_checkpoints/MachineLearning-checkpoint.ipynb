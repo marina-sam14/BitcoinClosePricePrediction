{
 "cells": [
  {
   "cell_type": "markdown",
   "id": "7959f528",
   "metadata": {},
   "source": [
    "#### This notebook contains the first questions of our Assignment about Data Visualization, Cross Validation, Linear Regression and Logistic Regression"
   ]
  },
  {
   "cell_type": "markdown",
   "id": "6f5f6505",
   "metadata": {},
   "source": [
    "##### Importing Libraries"
   ]
  },
  {
   "cell_type": "code",
   "execution_count": 1,
   "id": "01b3f777",
   "metadata": {},
   "outputs": [],
   "source": [
    "import pandas as pd\n",
    "import numpy as np\n",
    "import matplotlib.pyplot  as plt\n",
    "import seaborn as sns\n",
    "\n",
    "from sklearn.linear_model import LinearRegression, LogisticRegression\n",
    "from sklearn.model_selection import train_test_split\n",
    "from sklearn.preprocessing import MinMaxScaler\n",
    "from sklearn.preprocessing import StandardScaler\n",
    "from sklearn.pipeline import Pipeline\n",
    "from sklearn.metrics import roc_curve, roc_auc_score, classification_report, accuracy_score, confusion_matrix \n",
    "from sklearn.metrics import mean_squared_error, mean_absolute_error, classification_report\n",
    "from sklearn import metrics\n",
    "\n",
    "import statsmodels.api as sm\n",
    "from scipy import stats\n",
    "\n",
    "from sklearn.model_selection import cross_val_score\n",
    "from sklearn.model_selection import cross_val_predict\n",
    "from sklearn.model_selection import KFold"
   ]
  },
  {
   "cell_type": "markdown",
   "id": "69216dbe",
   "metadata": {},
   "source": [
    "##### Importing Dataset"
   ]
  },
  {
   "cell_type": "code",
   "execution_count": 2,
   "id": "d8610fc4",
   "metadata": {},
   "outputs": [
    {
     "name": "stdout",
     "output_type": "stream",
     "text": [
      "(1827, 7)\n"
     ]
    },
    {
     "data": {
      "text/html": [
       "<div>\n",
       "<style scoped>\n",
       "    .dataframe tbody tr th:only-of-type {\n",
       "        vertical-align: middle;\n",
       "    }\n",
       "\n",
       "    .dataframe tbody tr th {\n",
       "        vertical-align: top;\n",
       "    }\n",
       "\n",
       "    .dataframe thead th {\n",
       "        text-align: right;\n",
       "    }\n",
       "</style>\n",
       "<table border=\"1\" class=\"dataframe\">\n",
       "  <thead>\n",
       "    <tr style=\"text-align: right;\">\n",
       "      <th></th>\n",
       "      <th>Date</th>\n",
       "      <th>Open</th>\n",
       "      <th>High</th>\n",
       "      <th>Low</th>\n",
       "      <th>Close</th>\n",
       "      <th>Adj Close</th>\n",
       "      <th>Volume</th>\n",
       "    </tr>\n",
       "  </thead>\n",
       "  <tbody>\n",
       "    <tr>\n",
       "      <th>0</th>\n",
       "      <td>2016-12-21</td>\n",
       "      <td>800.643982</td>\n",
       "      <td>834.281006</td>\n",
       "      <td>799.405029</td>\n",
       "      <td>834.281006</td>\n",
       "      <td>834.281006</td>\n",
       "      <td>155576000</td>\n",
       "    </tr>\n",
       "    <tr>\n",
       "      <th>1</th>\n",
       "      <td>2016-12-22</td>\n",
       "      <td>834.179993</td>\n",
       "      <td>875.781982</td>\n",
       "      <td>834.148987</td>\n",
       "      <td>864.539978</td>\n",
       "      <td>864.539978</td>\n",
       "      <td>200027008</td>\n",
       "    </tr>\n",
       "    <tr>\n",
       "      <th>2</th>\n",
       "      <td>2016-12-23</td>\n",
       "      <td>864.888000</td>\n",
       "      <td>925.117004</td>\n",
       "      <td>864.677002</td>\n",
       "      <td>921.984009</td>\n",
       "      <td>921.984009</td>\n",
       "      <td>275564000</td>\n",
       "    </tr>\n",
       "    <tr>\n",
       "      <th>3</th>\n",
       "      <td>2016-12-24</td>\n",
       "      <td>922.179993</td>\n",
       "      <td>923.479004</td>\n",
       "      <td>886.335022</td>\n",
       "      <td>898.822021</td>\n",
       "      <td>898.822021</td>\n",
       "      <td>137727008</td>\n",
       "    </tr>\n",
       "    <tr>\n",
       "      <th>4</th>\n",
       "      <td>2016-12-25</td>\n",
       "      <td>899.651978</td>\n",
       "      <td>899.651978</td>\n",
       "      <td>862.424011</td>\n",
       "      <td>896.182983</td>\n",
       "      <td>896.182983</td>\n",
       "      <td>143664992</td>\n",
       "    </tr>\n",
       "  </tbody>\n",
       "</table>\n",
       "</div>"
      ],
      "text/plain": [
       "         Date        Open        High         Low       Close   Adj Close  \\\n",
       "0  2016-12-21  800.643982  834.281006  799.405029  834.281006  834.281006   \n",
       "1  2016-12-22  834.179993  875.781982  834.148987  864.539978  864.539978   \n",
       "2  2016-12-23  864.888000  925.117004  864.677002  921.984009  921.984009   \n",
       "3  2016-12-24  922.179993  923.479004  886.335022  898.822021  898.822021   \n",
       "4  2016-12-25  899.651978  899.651978  862.424011  896.182983  896.182983   \n",
       "\n",
       "      Volume  \n",
       "0  155576000  \n",
       "1  200027008  \n",
       "2  275564000  \n",
       "3  137727008  \n",
       "4  143664992  "
      ]
     },
     "execution_count": 2,
     "metadata": {},
     "output_type": "execute_result"
    }
   ],
   "source": [
    "dataset = pd.read_csv(\"Data/BTC-USD.csv\")\n",
    "print(dataset.shape)\n",
    "dataset.head()"
   ]
  },
  {
   "cell_type": "code",
   "execution_count": 3,
   "id": "625cf7f2",
   "metadata": {},
   "outputs": [
    {
     "data": {
      "text/html": [
       "<div>\n",
       "<style scoped>\n",
       "    .dataframe tbody tr th:only-of-type {\n",
       "        vertical-align: middle;\n",
       "    }\n",
       "\n",
       "    .dataframe tbody tr th {\n",
       "        vertical-align: top;\n",
       "    }\n",
       "\n",
       "    .dataframe thead th {\n",
       "        text-align: right;\n",
       "    }\n",
       "</style>\n",
       "<table border=\"1\" class=\"dataframe\">\n",
       "  <thead>\n",
       "    <tr style=\"text-align: right;\">\n",
       "      <th></th>\n",
       "      <th>Date</th>\n",
       "      <th>Open</th>\n",
       "      <th>High</th>\n",
       "      <th>Low</th>\n",
       "      <th>Close</th>\n",
       "      <th>Adj Close</th>\n",
       "      <th>Volume</th>\n",
       "    </tr>\n",
       "  </thead>\n",
       "  <tbody>\n",
       "    <tr>\n",
       "      <th>0</th>\n",
       "      <td>2016-12-21</td>\n",
       "      <td>800.643982</td>\n",
       "      <td>834.281006</td>\n",
       "      <td>799.405029</td>\n",
       "      <td>834.281006</td>\n",
       "      <td>834.281006</td>\n",
       "      <td>155576000</td>\n",
       "    </tr>\n",
       "    <tr>\n",
       "      <th>1</th>\n",
       "      <td>2016-12-22</td>\n",
       "      <td>834.179993</td>\n",
       "      <td>875.781982</td>\n",
       "      <td>834.148987</td>\n",
       "      <td>864.539978</td>\n",
       "      <td>864.539978</td>\n",
       "      <td>200027008</td>\n",
       "    </tr>\n",
       "    <tr>\n",
       "      <th>2</th>\n",
       "      <td>2016-12-23</td>\n",
       "      <td>864.888000</td>\n",
       "      <td>925.117004</td>\n",
       "      <td>864.677002</td>\n",
       "      <td>921.984009</td>\n",
       "      <td>921.984009</td>\n",
       "      <td>275564000</td>\n",
       "    </tr>\n",
       "    <tr>\n",
       "      <th>3</th>\n",
       "      <td>2016-12-24</td>\n",
       "      <td>922.179993</td>\n",
       "      <td>923.479004</td>\n",
       "      <td>886.335022</td>\n",
       "      <td>898.822021</td>\n",
       "      <td>898.822021</td>\n",
       "      <td>137727008</td>\n",
       "    </tr>\n",
       "    <tr>\n",
       "      <th>4</th>\n",
       "      <td>2016-12-25</td>\n",
       "      <td>899.651978</td>\n",
       "      <td>899.651978</td>\n",
       "      <td>862.424011</td>\n",
       "      <td>896.182983</td>\n",
       "      <td>896.182983</td>\n",
       "      <td>143664992</td>\n",
       "    </tr>\n",
       "  </tbody>\n",
       "</table>\n",
       "</div>"
      ],
      "text/plain": [
       "         Date        Open        High         Low       Close   Adj Close  \\\n",
       "0  2016-12-21  800.643982  834.281006  799.405029  834.281006  834.281006   \n",
       "1  2016-12-22  834.179993  875.781982  834.148987  864.539978  864.539978   \n",
       "2  2016-12-23  864.888000  925.117004  864.677002  921.984009  921.984009   \n",
       "3  2016-12-24  922.179993  923.479004  886.335022  898.822021  898.822021   \n",
       "4  2016-12-25  899.651978  899.651978  862.424011  896.182983  896.182983   \n",
       "\n",
       "      Volume  \n",
       "0  155576000  \n",
       "1  200027008  \n",
       "2  275564000  \n",
       "3  137727008  \n",
       "4  143664992  "
      ]
     },
     "execution_count": 3,
     "metadata": {},
     "output_type": "execute_result"
    }
   ],
   "source": [
    "dataset = dataset.sort_index()\n",
    "dataset.head()"
   ]
  },
  {
   "cell_type": "code",
   "execution_count": 4,
   "id": "cdf7c32b",
   "metadata": {},
   "outputs": [
    {
     "data": {
      "text/plain": [
       "(1827, 7)"
      ]
     },
     "execution_count": 4,
     "metadata": {},
     "output_type": "execute_result"
    }
   ],
   "source": [
    "dataset.shape"
   ]
  },
  {
   "cell_type": "markdown",
   "id": "6191e16b",
   "metadata": {},
   "source": [
    "We noticed that Close and Adj CLose columns are exactly the same."
   ]
  },
  {
   "cell_type": "code",
   "execution_count": 5,
   "id": "761afda6",
   "metadata": {},
   "outputs": [
    {
     "data": {
      "text/plain": [
       "0.0"
      ]
     },
     "execution_count": 5,
     "metadata": {},
     "output_type": "execute_result"
    }
   ],
   "source": [
    "(dataset['Close']-dataset['Adj Close']).sum()"
   ]
  },
  {
   "cell_type": "markdown",
   "id": "cfd431a2",
   "metadata": {},
   "source": [
    "Open The price of the coin at the beginning of the trading day. </br>\n",
    "\n",
    "High: The highest price of the coin on a trading day. </br>\n",
    "\n",
    "Low: The lowest price of the coin on a trading day. </br>\n",
    "\n",
    "Close: The last price of the coin before the trading day ends. </br>\n",
    "\n",
    "Volume is the amount of a token traded in a specific time interval. </br>"
   ]
  },
  {
   "cell_type": "markdown",
   "id": "5f72ae3a",
   "metadata": {},
   "source": [
    "We converted Data column in datetime type to use it more efficiently"
   ]
  },
  {
   "cell_type": "code",
   "execution_count": 6,
   "id": "d2ce3181",
   "metadata": {},
   "outputs": [
    {
     "data": {
      "text/plain": [
       "0      2016-12-21\n",
       "1      2016-12-22\n",
       "2      2016-12-23\n",
       "3      2016-12-24\n",
       "4      2016-12-25\n",
       "          ...    \n",
       "1822   2021-12-17\n",
       "1823   2021-12-18\n",
       "1824   2021-12-19\n",
       "1825   2021-12-20\n",
       "1826   2021-12-21\n",
       "Name: Date, Length: 1827, dtype: datetime64[ns]"
      ]
     },
     "execution_count": 6,
     "metadata": {},
     "output_type": "execute_result"
    }
   ],
   "source": [
    "dataset[\"Date\"]=pd.to_datetime(dataset['Date'])\n",
    "dataset['Date']"
   ]
  },
  {
   "cell_type": "code",
   "execution_count": 7,
   "id": "c2118c8e",
   "metadata": {},
   "outputs": [
    {
     "data": {
      "text/html": [
       "<div>\n",
       "<style scoped>\n",
       "    .dataframe tbody tr th:only-of-type {\n",
       "        vertical-align: middle;\n",
       "    }\n",
       "\n",
       "    .dataframe tbody tr th {\n",
       "        vertical-align: top;\n",
       "    }\n",
       "\n",
       "    .dataframe thead th {\n",
       "        text-align: right;\n",
       "    }\n",
       "</style>\n",
       "<table border=\"1\" class=\"dataframe\">\n",
       "  <thead>\n",
       "    <tr style=\"text-align: right;\">\n",
       "      <th></th>\n",
       "      <th>Date</th>\n",
       "      <th>Open</th>\n",
       "      <th>High</th>\n",
       "      <th>Low</th>\n",
       "      <th>Close</th>\n",
       "      <th>Adj Close</th>\n",
       "      <th>Volume</th>\n",
       "      <th>Year</th>\n",
       "    </tr>\n",
       "  </thead>\n",
       "  <tbody>\n",
       "    <tr>\n",
       "      <th>0</th>\n",
       "      <td>2016-12-21</td>\n",
       "      <td>800.643982</td>\n",
       "      <td>834.281006</td>\n",
       "      <td>799.405029</td>\n",
       "      <td>834.281006</td>\n",
       "      <td>834.281006</td>\n",
       "      <td>155576000</td>\n",
       "      <td>2016</td>\n",
       "    </tr>\n",
       "    <tr>\n",
       "      <th>1</th>\n",
       "      <td>2016-12-22</td>\n",
       "      <td>834.179993</td>\n",
       "      <td>875.781982</td>\n",
       "      <td>834.148987</td>\n",
       "      <td>864.539978</td>\n",
       "      <td>864.539978</td>\n",
       "      <td>200027008</td>\n",
       "      <td>2016</td>\n",
       "    </tr>\n",
       "    <tr>\n",
       "      <th>2</th>\n",
       "      <td>2016-12-23</td>\n",
       "      <td>864.888000</td>\n",
       "      <td>925.117004</td>\n",
       "      <td>864.677002</td>\n",
       "      <td>921.984009</td>\n",
       "      <td>921.984009</td>\n",
       "      <td>275564000</td>\n",
       "      <td>2016</td>\n",
       "    </tr>\n",
       "    <tr>\n",
       "      <th>3</th>\n",
       "      <td>2016-12-24</td>\n",
       "      <td>922.179993</td>\n",
       "      <td>923.479004</td>\n",
       "      <td>886.335022</td>\n",
       "      <td>898.822021</td>\n",
       "      <td>898.822021</td>\n",
       "      <td>137727008</td>\n",
       "      <td>2016</td>\n",
       "    </tr>\n",
       "    <tr>\n",
       "      <th>4</th>\n",
       "      <td>2016-12-25</td>\n",
       "      <td>899.651978</td>\n",
       "      <td>899.651978</td>\n",
       "      <td>862.424011</td>\n",
       "      <td>896.182983</td>\n",
       "      <td>896.182983</td>\n",
       "      <td>143664992</td>\n",
       "      <td>2016</td>\n",
       "    </tr>\n",
       "    <tr>\n",
       "      <th>...</th>\n",
       "      <td>...</td>\n",
       "      <td>...</td>\n",
       "      <td>...</td>\n",
       "      <td>...</td>\n",
       "      <td>...</td>\n",
       "      <td>...</td>\n",
       "      <td>...</td>\n",
       "      <td>...</td>\n",
       "    </tr>\n",
       "    <tr>\n",
       "      <th>1822</th>\n",
       "      <td>2021-12-17</td>\n",
       "      <td>47653.730469</td>\n",
       "      <td>48004.894531</td>\n",
       "      <td>45618.214844</td>\n",
       "      <td>46202.144531</td>\n",
       "      <td>46202.144531</td>\n",
       "      <td>32902725329</td>\n",
       "      <td>2021</td>\n",
       "    </tr>\n",
       "    <tr>\n",
       "      <th>1823</th>\n",
       "      <td>2021-12-18</td>\n",
       "      <td>46219.253906</td>\n",
       "      <td>47313.828125</td>\n",
       "      <td>45598.441406</td>\n",
       "      <td>46848.777344</td>\n",
       "      <td>46848.777344</td>\n",
       "      <td>26098292690</td>\n",
       "      <td>2021</td>\n",
       "    </tr>\n",
       "    <tr>\n",
       "      <th>1824</th>\n",
       "      <td>2021-12-19</td>\n",
       "      <td>46853.867188</td>\n",
       "      <td>48089.664063</td>\n",
       "      <td>46502.953125</td>\n",
       "      <td>46707.015625</td>\n",
       "      <td>46707.015625</td>\n",
       "      <td>25154053861</td>\n",
       "      <td>2021</td>\n",
       "    </tr>\n",
       "    <tr>\n",
       "      <th>1825</th>\n",
       "      <td>2021-12-20</td>\n",
       "      <td>46707.062500</td>\n",
       "      <td>47401.718750</td>\n",
       "      <td>45579.808594</td>\n",
       "      <td>46880.277344</td>\n",
       "      <td>46880.277344</td>\n",
       "      <td>30961902129</td>\n",
       "      <td>2021</td>\n",
       "    </tr>\n",
       "    <tr>\n",
       "      <th>1826</th>\n",
       "      <td>2021-12-21</td>\n",
       "      <td>46985.242188</td>\n",
       "      <td>48912.152344</td>\n",
       "      <td>46739.777344</td>\n",
       "      <td>48565.843750</td>\n",
       "      <td>48565.843750</td>\n",
       "      <td>30736644096</td>\n",
       "      <td>2021</td>\n",
       "    </tr>\n",
       "  </tbody>\n",
       "</table>\n",
       "<p>1827 rows × 8 columns</p>\n",
       "</div>"
      ],
      "text/plain": [
       "           Date          Open          High           Low         Close  \\\n",
       "0    2016-12-21    800.643982    834.281006    799.405029    834.281006   \n",
       "1    2016-12-22    834.179993    875.781982    834.148987    864.539978   \n",
       "2    2016-12-23    864.888000    925.117004    864.677002    921.984009   \n",
       "3    2016-12-24    922.179993    923.479004    886.335022    898.822021   \n",
       "4    2016-12-25    899.651978    899.651978    862.424011    896.182983   \n",
       "...         ...           ...           ...           ...           ...   \n",
       "1822 2021-12-17  47653.730469  48004.894531  45618.214844  46202.144531   \n",
       "1823 2021-12-18  46219.253906  47313.828125  45598.441406  46848.777344   \n",
       "1824 2021-12-19  46853.867188  48089.664063  46502.953125  46707.015625   \n",
       "1825 2021-12-20  46707.062500  47401.718750  45579.808594  46880.277344   \n",
       "1826 2021-12-21  46985.242188  48912.152344  46739.777344  48565.843750   \n",
       "\n",
       "         Adj Close       Volume  Year  \n",
       "0       834.281006    155576000  2016  \n",
       "1       864.539978    200027008  2016  \n",
       "2       921.984009    275564000  2016  \n",
       "3       898.822021    137727008  2016  \n",
       "4       896.182983    143664992  2016  \n",
       "...            ...          ...   ...  \n",
       "1822  46202.144531  32902725329  2021  \n",
       "1823  46848.777344  26098292690  2021  \n",
       "1824  46707.015625  25154053861  2021  \n",
       "1825  46880.277344  30961902129  2021  \n",
       "1826  48565.843750  30736644096  2021  \n",
       "\n",
       "[1827 rows x 8 columns]"
      ]
     },
     "execution_count": 7,
     "metadata": {},
     "output_type": "execute_result"
    }
   ],
   "source": [
    "dataset['Year'] = dataset['Date'].dt.year\n",
    "dataset"
   ]
  },
  {
   "cell_type": "code",
   "execution_count": 8,
   "id": "e7f588f9",
   "metadata": {},
   "outputs": [
    {
     "data": {
      "text/html": [
       "<div>\n",
       "<style scoped>\n",
       "    .dataframe tbody tr th:only-of-type {\n",
       "        vertical-align: middle;\n",
       "    }\n",
       "\n",
       "    .dataframe tbody tr th {\n",
       "        vertical-align: top;\n",
       "    }\n",
       "\n",
       "    .dataframe thead th {\n",
       "        text-align: right;\n",
       "    }\n",
       "</style>\n",
       "<table border=\"1\" class=\"dataframe\">\n",
       "  <thead>\n",
       "    <tr style=\"text-align: right;\">\n",
       "      <th></th>\n",
       "      <th>Open</th>\n",
       "      <th>High</th>\n",
       "      <th>Low</th>\n",
       "      <th>Close</th>\n",
       "      <th>Adj Close</th>\n",
       "      <th>Volume</th>\n",
       "      <th>Year</th>\n",
       "    </tr>\n",
       "  </thead>\n",
       "  <tbody>\n",
       "    <tr>\n",
       "      <th>count</th>\n",
       "      <td>1827.000000</td>\n",
       "      <td>1827.000000</td>\n",
       "      <td>1827.000000</td>\n",
       "      <td>1827.000000</td>\n",
       "      <td>1827.000000</td>\n",
       "      <td>1.827000e+03</td>\n",
       "      <td>1827.000000</td>\n",
       "    </tr>\n",
       "    <tr>\n",
       "      <th>mean</th>\n",
       "      <td>15208.247358</td>\n",
       "      <td>15629.267253</td>\n",
       "      <td>14746.920288</td>\n",
       "      <td>15231.832471</td>\n",
       "      <td>15231.832471</td>\n",
       "      <td>2.092230e+10</td>\n",
       "      <td>2018.971538</td>\n",
       "    </tr>\n",
       "    <tr>\n",
       "      <th>std</th>\n",
       "      <td>16829.476707</td>\n",
       "      <td>17296.796539</td>\n",
       "      <td>16289.465757</td>\n",
       "      <td>16838.811505</td>\n",
       "      <td>16838.811505</td>\n",
       "      <td>2.122934e+10</td>\n",
       "      <td>1.425115</td>\n",
       "    </tr>\n",
       "    <tr>\n",
       "      <th>min</th>\n",
       "      <td>775.177979</td>\n",
       "      <td>823.307007</td>\n",
       "      <td>755.755981</td>\n",
       "      <td>777.757019</td>\n",
       "      <td>777.757019</td>\n",
       "      <td>6.085170e+07</td>\n",
       "      <td>2016.000000</td>\n",
       "    </tr>\n",
       "    <tr>\n",
       "      <th>25%</th>\n",
       "      <td>5308.327637</td>\n",
       "      <td>5422.169434</td>\n",
       "      <td>5221.697753</td>\n",
       "      <td>5319.541504</td>\n",
       "      <td>5319.541504</td>\n",
       "      <td>4.474525e+09</td>\n",
       "      <td>2018.000000</td>\n",
       "    </tr>\n",
       "    <tr>\n",
       "      <th>50%</th>\n",
       "      <td>8585.262695</td>\n",
       "      <td>8744.828125</td>\n",
       "      <td>8313.340820</td>\n",
       "      <td>8595.740234</td>\n",
       "      <td>8595.740234</td>\n",
       "      <td>1.607165e+10</td>\n",
       "      <td>2019.000000</td>\n",
       "    </tr>\n",
       "    <tr>\n",
       "      <th>75%</th>\n",
       "      <td>13500.216309</td>\n",
       "      <td>13852.566406</td>\n",
       "      <td>12921.156250</td>\n",
       "      <td>13548.505860</td>\n",
       "      <td>13548.505860</td>\n",
       "      <td>3.260844e+10</td>\n",
       "      <td>2020.000000</td>\n",
       "    </tr>\n",
       "    <tr>\n",
       "      <th>max</th>\n",
       "      <td>67549.734375</td>\n",
       "      <td>68789.625000</td>\n",
       "      <td>66382.062500</td>\n",
       "      <td>67566.828125</td>\n",
       "      <td>67566.828125</td>\n",
       "      <td>3.509679e+11</td>\n",
       "      <td>2021.000000</td>\n",
       "    </tr>\n",
       "  </tbody>\n",
       "</table>\n",
       "</div>"
      ],
      "text/plain": [
       "               Open          High           Low         Close     Adj Close  \\\n",
       "count   1827.000000   1827.000000   1827.000000   1827.000000   1827.000000   \n",
       "mean   15208.247358  15629.267253  14746.920288  15231.832471  15231.832471   \n",
       "std    16829.476707  17296.796539  16289.465757  16838.811505  16838.811505   \n",
       "min      775.177979    823.307007    755.755981    777.757019    777.757019   \n",
       "25%     5308.327637   5422.169434   5221.697753   5319.541504   5319.541504   \n",
       "50%     8585.262695   8744.828125   8313.340820   8595.740234   8595.740234   \n",
       "75%    13500.216309  13852.566406  12921.156250  13548.505860  13548.505860   \n",
       "max    67549.734375  68789.625000  66382.062500  67566.828125  67566.828125   \n",
       "\n",
       "             Volume         Year  \n",
       "count  1.827000e+03  1827.000000  \n",
       "mean   2.092230e+10  2018.971538  \n",
       "std    2.122934e+10     1.425115  \n",
       "min    6.085170e+07  2016.000000  \n",
       "25%    4.474525e+09  2018.000000  \n",
       "50%    1.607165e+10  2019.000000  \n",
       "75%    3.260844e+10  2020.000000  \n",
       "max    3.509679e+11  2021.000000  "
      ]
     },
     "execution_count": 8,
     "metadata": {},
     "output_type": "execute_result"
    }
   ],
   "source": [
    "dataset.describe()"
   ]
  },
  {
   "cell_type": "markdown",
   "id": "ac5b9ad0",
   "metadata": {},
   "source": [
    "#### Preprocessing"
   ]
  },
  {
   "cell_type": "code",
   "execution_count": 9,
   "id": "7477ec51",
   "metadata": {},
   "outputs": [
    {
     "data": {
      "text/plain": [
       "(1827,)"
      ]
     },
     "execution_count": 9,
     "metadata": {},
     "output_type": "execute_result"
    }
   ],
   "source": [
    "dataset[\"Close\"].shape"
   ]
  },
  {
   "cell_type": "code",
   "execution_count": 10,
   "id": "ab9fc0b9",
   "metadata": {},
   "outputs": [],
   "source": [
    "dataset['pos_neg']= dataset['Open']-dataset['Close']\n",
    "dataset.head()\n",
    "#if Open > Close then 0,else 1\n",
    "dataset['Up/Down'] = np.where(dataset['pos_neg']>0, '0', '1')"
   ]
  },
  {
   "cell_type": "code",
   "execution_count": 11,
   "id": "038369fc",
   "metadata": {},
   "outputs": [
    {
     "data": {
      "text/plain": [
       "Date         0\n",
       "Open         0\n",
       "High         0\n",
       "Low          0\n",
       "Close        0\n",
       "Adj Close    0\n",
       "Volume       0\n",
       "Year         0\n",
       "pos_neg      0\n",
       "Up/Down      0\n",
       "dtype: int64"
      ]
     },
     "execution_count": 11,
     "metadata": {},
     "output_type": "execute_result"
    }
   ],
   "source": [
    "dataset.isna().sum()"
   ]
  },
  {
   "cell_type": "markdown",
   "id": "2c2bb1fd",
   "metadata": {},
   "source": [
    "#### Visualization"
   ]
  },
  {
   "cell_type": "markdown",
   "id": "43cc1923",
   "metadata": {},
   "source": [
    "We used the next formula to check the relationship between the variables and we ended to the conclusion that there is a strong relationship between them."
   ]
  },
  {
   "cell_type": "code",
   "execution_count": 12,
   "id": "0a12a486",
   "metadata": {},
   "outputs": [
    {
     "name": "stdout",
     "output_type": "stream",
     "text": [
      "                            OLS Regression Results                            \n",
      "==============================================================================\n",
      "Dep. Variable:                  Close   R-squared:                       0.999\n",
      "Model:                            OLS   Adj. R-squared:                  0.999\n",
      "Method:                 Least Squares   F-statistic:                 1.198e+06\n",
      "Date:                Wed, 05 Jan 2022   Prob (F-statistic):               0.00\n",
      "Time:                        21:54:54   Log-Likelihood:                -13441.\n",
      "No. Observations:                1827   AIC:                         2.689e+04\n",
      "Df Residuals:                    1823   BIC:                         2.691e+04\n",
      "Df Model:                           3                                         \n",
      "Covariance Type:            nonrobust                                         \n",
      "==============================================================================\n",
      "                 coef    std err          t      P>|t|      [0.025      0.975]\n",
      "------------------------------------------------------------------------------\n",
      "Intercept      3.6687     11.979      0.306      0.759     -19.825      27.162\n",
      "High           0.9131      0.016     57.784      0.000       0.882       0.944\n",
      "Low            0.6104      0.012     50.970      0.000       0.587       0.634\n",
      "Open          -0.5290      0.017    -31.882      0.000      -0.562      -0.496\n",
      "==============================================================================\n",
      "Omnibus:                      727.677   Durbin-Watson:                   2.079\n",
      "Prob(Omnibus):                  0.000   Jarque-Bera (JB):            20063.898\n",
      "Skew:                          -1.270   Prob(JB):                         0.00\n",
      "Kurtosis:                      19.035   Cond. No.                     5.29e+04\n",
      "==============================================================================\n",
      "\n",
      "Notes:\n",
      "[1] Standard Errors assume that the covariance matrix of the errors is correctly specified.\n",
      "[2] The condition number is large, 5.29e+04. This might indicate that there are\n",
      "strong multicollinearity or other numerical problems.\n"
     ]
    }
   ],
   "source": [
    "model = sm.formula.ols(formula= \"Close ~ High + Low + Open\", data= dataset)\n",
    "multi_reg = model.fit()\n",
    "print(multi_reg.summary())"
   ]
  },
  {
   "cell_type": "markdown",
   "id": "38989c9e",
   "metadata": {},
   "source": [
    "##### Diagrams"
   ]
  },
  {
   "cell_type": "code",
   "execution_count": 13,
   "id": "e41f8203",
   "metadata": {},
   "outputs": [
    {
     "data": {
      "text/plain": [
       "Text(0, 0.5, 'Daily Bitcoin price')"
      ]
     },
     "execution_count": 13,
     "metadata": {},
     "output_type": "execute_result"
    },
    {
     "data": {
      "image/png": "[encoded data removed]",
      "text/plain": [
       "<Figure size 432x288 with 1 Axes>"
      ]
     },
     "metadata": {
      "needs_background": "light"
     },
     "output_type": "display_data"
    }
   ],
   "source": [
    "dataset['Close'].plot()\n",
    "plt.ylabel(\"Daily Bitcoin price\")"
   ]
  },
  {
   "cell_type": "code",
   "execution_count": 14,
   "id": "68acb665",
   "metadata": {},
   "outputs": [
    {
     "data": {
      "text/plain": [
       "<AxesSubplot:xlabel='Year'>"
      ]
     },
     "execution_count": 14,
     "metadata": {},
     "output_type": "execute_result"
    },
    {
     "data": {
      "image/png": "[encoded data removed]",
      "text/plain": [
       "<Figure size 432x288 with 1 Axes>"
      ]
     },
     "metadata": {
      "needs_background": "light"
     },
     "output_type": "display_data"
    }
   ],
   "source": [
    "by_year = dataset['Close'].groupby(dataset['Year']).mean()\n",
    "by_year.plot()"
   ]
  },
  {
   "cell_type": "code",
   "execution_count": 15,
   "id": "4c458535",
   "metadata": {},
   "outputs": [
    {
     "data": {
      "text/plain": [
       "Text(0.5, 1.0, 'Volume trend')"
      ]
     },
     "execution_count": 15,
     "metadata": {},
     "output_type": "execute_result"
    },
    {
     "data": {
      "image/png": "[encoded data removed]",
      "text/plain": [
       "<Figure size 432x288 with 1 Axes>"
      ]
     },
     "metadata": {
      "needs_background": "light"
     },
     "output_type": "display_data"
    }
   ],
   "source": [
    "plt.plot('Date', 'Volume', data=dataset)\n",
    "plt.xlabel('Date')\n",
    "plt.ylabel('Volume')\n",
    "plt.title('Volume trend')"
   ]
  },
  {
   "cell_type": "code",
   "execution_count": 16,
   "id": "5e33a7b0",
   "metadata": {},
   "outputs": [
    {
     "data": {
      "image/png": "[encoded data removed]",
      "text/plain": [
       "<Figure size 432x288 with 1 Axes>"
      ]
     },
     "metadata": {
      "needs_background": "light"
     },
     "output_type": "display_data"
    }
   ],
   "source": [
    "ax1 = dataset.plot.scatter(x='Date', y='Close', c='DarkBlue')"
   ]
  },
  {
   "cell_type": "code",
   "execution_count": 17,
   "id": "bc350ce5",
   "metadata": {},
   "outputs": [
    {
     "data": {
      "image/png": "[encoded data removed]",
      "text/plain": [
       "<Figure size 432x288 with 1 Axes>"
      ]
     },
     "metadata": {
      "needs_background": "light"
     },
     "output_type": "display_data"
    }
   ],
   "source": [
    "ax1 = dataset.plot.scatter(x='Date',\n",
    "                      y='Volume',\n",
    "                      c='DarkBlue')"
   ]
  },
  {
   "cell_type": "markdown",
   "id": "17de2922",
   "metadata": {},
   "source": [
    "#### Dataset scaling\n",
    "We scaled our dataset using MinMaxScaler"
   ]
  },
  {
   "cell_type": "code",
   "execution_count": 18,
   "id": "44b86921-5664-4b2a-966d-830e20ad2e51",
   "metadata": {
    "tags": []
   },
   "outputs": [
    {
     "name": "stderr",
     "output_type": "stream",
     "text": [
      "C:\\Users\\Μαρίνα Σαμ\\AppData\\Local\\Programs\\Python\\Python39\\lib\\site-packages\\pandas\\core\\frame.py:3678: SettingWithCopyWarning: \n",
      "A value is trying to be set on a copy of a slice from a DataFrame.\n",
      "Try using .loc[row_indexer,col_indexer] = value instead\n",
      "\n",
      "See the caveats in the documentation: https://pandas.pydata.org/pandas-docs/stable/user_guide/indexing.html#returning-a-view-versus-a-copy\n",
      "  self[col] = igetitem(value, i)\n"
     ]
    },
    {
     "data": {
      "text/html": [
       "<div>\n",
       "<style scoped>\n",
       "    .dataframe tbody tr th:only-of-type {\n",
       "        vertical-align: middle;\n",
       "    }\n",
       "\n",
       "    .dataframe tbody tr th {\n",
       "        vertical-align: top;\n",
       "    }\n",
       "\n",
       "    .dataframe thead th {\n",
       "        text-align: right;\n",
       "    }\n",
       "</style>\n",
       "<table border=\"1\" class=\"dataframe\">\n",
       "  <thead>\n",
       "    <tr style=\"text-align: right;\">\n",
       "      <th></th>\n",
       "      <th>Open</th>\n",
       "      <th>High</th>\n",
       "      <th>Low</th>\n",
       "      <th>Close</th>\n",
       "      <th>Volume</th>\n",
       "    </tr>\n",
       "  </thead>\n",
       "  <tbody>\n",
       "    <tr>\n",
       "      <th>0</th>\n",
       "      <td>0.000381</td>\n",
       "      <td>0.000161</td>\n",
       "      <td>0.000665</td>\n",
       "      <td>0.000846</td>\n",
       "      <td>0.000270</td>\n",
       "    </tr>\n",
       "    <tr>\n",
       "      <th>1</th>\n",
       "      <td>0.000884</td>\n",
       "      <td>0.000772</td>\n",
       "      <td>0.001195</td>\n",
       "      <td>0.001299</td>\n",
       "      <td>0.000397</td>\n",
       "    </tr>\n",
       "    <tr>\n",
       "      <th>2</th>\n",
       "      <td>0.001343</td>\n",
       "      <td>0.001498</td>\n",
       "      <td>0.001660</td>\n",
       "      <td>0.002159</td>\n",
       "      <td>0.000612</td>\n",
       "    </tr>\n",
       "    <tr>\n",
       "      <th>3</th>\n",
       "      <td>0.002201</td>\n",
       "      <td>0.001474</td>\n",
       "      <td>0.001990</td>\n",
       "      <td>0.001813</td>\n",
       "      <td>0.000219</td>\n",
       "    </tr>\n",
       "    <tr>\n",
       "      <th>4</th>\n",
       "      <td>0.001864</td>\n",
       "      <td>0.001123</td>\n",
       "      <td>0.001625</td>\n",
       "      <td>0.001773</td>\n",
       "      <td>0.000236</td>\n",
       "    </tr>\n",
       "    <tr>\n",
       "      <th>...</th>\n",
       "      <td>...</td>\n",
       "      <td>...</td>\n",
       "      <td>...</td>\n",
       "      <td>...</td>\n",
       "      <td>...</td>\n",
       "    </tr>\n",
       "    <tr>\n",
       "      <th>1822</th>\n",
       "      <td>0.702042</td>\n",
       "      <td>0.694191</td>\n",
       "      <td>0.683605</td>\n",
       "      <td>0.680117</td>\n",
       "      <td>0.093591</td>\n",
       "    </tr>\n",
       "    <tr>\n",
       "      <th>1823</th>\n",
       "      <td>0.680560</td>\n",
       "      <td>0.684023</td>\n",
       "      <td>0.683304</td>\n",
       "      <td>0.689799</td>\n",
       "      <td>0.074200</td>\n",
       "    </tr>\n",
       "    <tr>\n",
       "      <th>1824</th>\n",
       "      <td>0.690064</td>\n",
       "      <td>0.695438</td>\n",
       "      <td>0.697086</td>\n",
       "      <td>0.687676</td>\n",
       "      <td>0.071510</td>\n",
       "    </tr>\n",
       "    <tr>\n",
       "      <th>1825</th>\n",
       "      <td>0.687865</td>\n",
       "      <td>0.685316</td>\n",
       "      <td>0.683020</td>\n",
       "      <td>0.690270</td>\n",
       "      <td>0.088060</td>\n",
       "    </tr>\n",
       "    <tr>\n",
       "      <th>1826</th>\n",
       "      <td>0.692031</td>\n",
       "      <td>0.707539</td>\n",
       "      <td>0.700695</td>\n",
       "      <td>0.715508</td>\n",
       "      <td>0.087419</td>\n",
       "    </tr>\n",
       "  </tbody>\n",
       "</table>\n",
       "<p>1827 rows × 5 columns</p>\n",
       "</div>"
      ],
      "text/plain": [
       "          Open      High       Low     Close    Volume\n",
       "0     0.000381  0.000161  0.000665  0.000846  0.000270\n",
       "1     0.000884  0.000772  0.001195  0.001299  0.000397\n",
       "2     0.001343  0.001498  0.001660  0.002159  0.000612\n",
       "3     0.002201  0.001474  0.001990  0.001813  0.000219\n",
       "4     0.001864  0.001123  0.001625  0.001773  0.000236\n",
       "...        ...       ...       ...       ...       ...\n",
       "1822  0.702042  0.694191  0.683605  0.680117  0.093591\n",
       "1823  0.680560  0.684023  0.683304  0.689799  0.074200\n",
       "1824  0.690064  0.695438  0.697086  0.687676  0.071510\n",
       "1825  0.687865  0.685316  0.683020  0.690270  0.088060\n",
       "1826  0.692031  0.707539  0.700695  0.715508  0.087419\n",
       "\n",
       "[1827 rows x 5 columns]"
      ]
     },
     "execution_count": 18,
     "metadata": {},
     "output_type": "execute_result"
    }
   ],
   "source": [
    "scaled_data = dataset[['Open', 'High', 'Low', 'Close', 'Volume']]\n",
    "scaler = MinMaxScaler(copy=False)\n",
    "scaled_data[['Open', 'High', 'Low', 'Close', 'Volume']] = scaler.fit_transform(scaled_data[['Open', 'High', 'Low', 'Close', 'Volume']])\n",
    "scaled_data"
   ]
  },
  {
   "cell_type": "code",
   "execution_count": 19,
   "id": "05b66448",
   "metadata": {},
   "outputs": [
    {
     "name": "stderr",
     "output_type": "stream",
     "text": [
      "C:\\Users\\DD7D~1\\AppData\\Local\\Temp/ipykernel_8864/2909746662.py:1: SettingWithCopyWarning: \n",
      "A value is trying to be set on a copy of a slice from a DataFrame.\n",
      "Try using .loc[row_indexer,col_indexer] = value instead\n",
      "\n",
      "See the caveats in the documentation: https://pandas.pydata.org/pandas-docs/stable/user_guide/indexing.html#returning-a-view-versus-a-copy\n",
      "  scaled_data[\"Up/Down\"] = dataset[\"Up/Down\"].copy()\n"
     ]
    }
   ],
   "source": [
    "scaled_data[\"Up/Down\"] = dataset[\"Up/Down\"].copy()"
   ]
  },
  {
   "cell_type": "markdown",
   "id": "3f4eaa4b",
   "metadata": {},
   "source": [
    "Now we are ready to create our models!"
   ]
  },
  {
   "cell_type": "markdown",
   "id": "6a44a7a9",
   "metadata": {},
   "source": [
    "## Linear Regression "
   ]
  },
  {
   "cell_type": "markdown",
   "id": "73204f90",
   "metadata": {},
   "source": [
    "###### Creating X and y variables"
   ]
  },
  {
   "cell_type": "code",
   "execution_count": 20,
   "id": "3af56693",
   "metadata": {},
   "outputs": [],
   "source": [
    "X = scaled_data[['Open', 'High', 'Low', 'Volume']]\n",
    "y = scaled_data['Close']"
   ]
  },
  {
   "cell_type": "markdown",
   "id": "c5b35b51",
   "metadata": {},
   "source": [
    "##### Splitting the Data"
   ]
  },
  {
   "cell_type": "code",
   "execution_count": 21,
   "id": "387134c9",
   "metadata": {},
   "outputs": [
    {
     "name": "stdout",
     "output_type": "stream",
     "text": [
      "(1278, 4)\n",
      "(1278,)\n",
      "(549, 4)\n",
      "(549,)\n"
     ]
    }
   ],
   "source": [
    "X_train, X_test, y_train, y_test = train_test_split(X, y, test_size=0.3, random_state=42, shuffle=False)\n",
    "print(X_train.shape)\n",
    "print(y_train.shape)\n",
    "print(X_test.shape)\n",
    "print(y_test.shape)"
   ]
  },
  {
   "cell_type": "markdown",
   "id": "9501a06f",
   "metadata": {},
   "source": [
    "##### Cross Validation Score and Predict Score"
   ]
  },
  {
   "cell_type": "code",
   "execution_count": 22,
   "id": "74f33f07",
   "metadata": {},
   "outputs": [
    {
     "data": {
      "text/plain": [
       "array([0.99935064, 0.99958251, 0.99944464, 0.9995516 , 0.99946571])"
      ]
     },
     "execution_count": 22,
     "metadata": {},
     "output_type": "execute_result"
    }
   ],
   "source": [
    "cv = KFold(n_splits=5,random_state=1,shuffle=True)\n",
    "linReg=LinearRegression()\n",
    "scores=cross_val_score(linReg,X,y,scoring='r2',cv=cv,n_jobs=1)\n",
    "scores"
   ]
  },
  {
   "cell_type": "code",
   "execution_count": 23,
   "id": "00bbb5a8",
   "metadata": {},
   "outputs": [
    {
     "data": {
      "text/plain": [
       "array([0.95772199, 0.97009387, 0.99448602, 0.83516577, 0.99579914,\n",
       "       0.98693561, 0.99374616, 0.98506312, 0.95143225, 0.98819799,\n",
       "       0.98931556, 0.981374  , 0.96375516, 0.99472029, 0.93720653,\n",
       "       0.97769643, 0.99100604, 0.98954583, 0.92638594, 0.98751599,\n",
       "       0.96805509, 0.97104131, 0.98278395, 0.93450817, 0.9239199 ,\n",
       "       0.9903205 , 0.97091738, 0.99741826, 0.99115817, 0.98716627,\n",
       "       0.95650016, 0.98858075, 0.93492802, 0.968624  , 0.99184334,\n",
       "       0.98126483])"
      ]
     },
     "execution_count": 23,
     "metadata": {},
     "output_type": "execute_result"
    }
   ],
   "source": [
    "predicted = cross_val_predict(linReg,X,y,cv=6)\n",
    "scores = cross_val_score(linReg,X,y,scoring='r2',cv=36,n_jobs=1)\n",
    "scores"
   ]
  },
  {
   "cell_type": "markdown",
   "id": "5dd7da9d",
   "metadata": {},
   "source": [
    "##### Plots"
   ]
  },
  {
   "cell_type": "code",
   "execution_count": 24,
   "id": "525eb992",
   "metadata": {},
   "outputs": [
    {
     "data": {
      "image/png": "[encoded data removed]",
      "text/plain": [
       "<Figure size 432x288 with 1 Axes>"
      ]
     },
     "metadata": {
      "needs_background": "light"
     },
     "output_type": "display_data"
    }
   ],
   "source": [
    "fig,ax = plt.subplots()\n",
    "ax.scatter(y,predicted,edgecolors=(1,1,1))\n",
    "ax.plot([y.min(),y.max()],[y.min(),y.max()],color='red')\n",
    "ax.set_xlabel('Expected ')\n",
    "ax.set_ylabel('Predicted ')\n",
    "plt.show()"
   ]
  },
  {
   "cell_type": "code",
   "execution_count": 25,
   "id": "580d0ef9",
   "metadata": {},
   "outputs": [
    {
     "data": {
      "image/png": "[encoded data removed]",
      "text/plain": [
       "<Figure size 432x288 with 1 Axes>"
      ]
     },
     "metadata": {
      "needs_background": "light"
     },
     "output_type": "display_data"
    }
   ],
   "source": [
    "fig,ax = plt.subplots()\n",
    "plt.plot(scores)\n",
    "ax.set_xlabel('Folds')\n",
    "ax.set_ylabel('R2 score')\n",
    "plt.show()"
   ]
  },
  {
   "cell_type": "code",
   "execution_count": 46,
   "id": "3b169168",
   "metadata": {},
   "outputs": [
    {
     "data": {
      "image/png": "[encoded data removed]",
      "text/plain": [
       "<Figure size 432x288 with 1 Axes>"
      ]
     },
     "metadata": {
      "needs_background": "light"
     },
     "output_type": "display_data"
    }
   ],
   "source": [
    "fig,ax = plt.subplots()\n",
    "plt.plot(errors)\n",
    "ax.set_xlabel('Folds')\n",
    "ax.set_ylabel('Errors')\n",
    "plt.show()"
   ]
  },
  {
   "cell_type": "markdown",
   "id": "205f619e",
   "metadata": {},
   "source": [
    "##### Training the Model using KFold split"
   ]
  },
  {
   "cell_type": "code",
   "execution_count": 26,
   "id": "1d1422c2",
   "metadata": {
    "scrolled": false
   },
   "outputs": [
    {
     "name": "stdout",
     "output_type": "stream",
     "text": [
      "1/10 Folds 10\n",
      "--------------------------\n",
      "R2 Score:  0.999613816581599\n",
      "MSE:  2.230686526907755e-05\n",
      "\n",
      "\n",
      "2/10 Folds 10\n",
      "--------------------------\n",
      "R2 Score:  0.9993144774578951\n",
      "MSE:  3.716108262788932e-05\n",
      "\n",
      "\n",
      "3/10 Folds 10\n",
      "--------------------------\n",
      "R2 Score:  0.999492275574574\n",
      "MSE:  3.116942783126104e-05\n",
      "\n",
      "\n",
      "4/10 Folds 10\n",
      "--------------------------\n",
      "R2 Score:  0.9994409228372326\n",
      "MSE:  3.4720426349324334e-05\n",
      "\n",
      "\n",
      "5/10 Folds 10\n",
      "--------------------------\n",
      "R2 Score:  0.9996219184722429\n",
      "MSE:  2.5491244849320778e-05\n",
      "\n",
      "\n",
      "6/10 Folds 10\n",
      "--------------------------\n",
      "R2 Score:  0.999581709316033\n",
      "MSE:  2.6251519425626453e-05\n",
      "\n",
      "\n",
      "7/10 Folds 10\n",
      "--------------------------\n",
      "R2 Score:  0.9993425911238025\n",
      "MSE:  4.261759900906594e-05\n",
      "\n",
      "\n",
      "8/10 Folds 10\n",
      "--------------------------\n",
      "R2 Score:  0.9993344609761474\n",
      "MSE:  4.394757897561915e-05\n",
      "\n",
      "\n",
      "9/10 Folds 10\n",
      "--------------------------\n",
      "R2 Score:  0.9996830566185664\n",
      "MSE:  2.0143834551238486e-05\n",
      "\n",
      "\n",
      "10/10 Folds 10\n",
      "--------------------------\n",
      "R2 Score:  0.9993687811125825\n",
      "MSE:  4.676527350025486e-05\n",
      "\n",
      "\n"
     ]
    }
   ],
   "source": [
    "kf = KFold(n_splits=10,shuffle=True)\n",
    "scores = []\n",
    "errors = []\n",
    "i=1\n",
    "\n",
    "for training,testing in kf.split(X,y):\n",
    "    X_train,X_test = X.loc[training],X.loc[testing]\n",
    "    y_train,y_test = y.loc[training],y.loc[testing]\n",
    "    print ('{}/10 Folds {}'.format(i,kf.n_splits))\n",
    "    print('--------------------------')\n",
    "    \n",
    "    linReg=LinearRegression()\n",
    "    linReg.fit(X_train,y_train)\n",
    "    score=metrics.r2_score(y_test,linReg.predict(X_test))\n",
    "    error=metrics.mean_squared_error(y_test,linReg.predict(X_test))\n",
    "    print('R2 Score: ',score)\n",
    "    print('MSE: ',error)\n",
    "    scores.append(score)\n",
    "    errors.append(error)\n",
    "    print('\\n')\n",
    "    i+=1"
   ]
  },
  {
   "cell_type": "code",
   "execution_count": 27,
   "id": "1814380f",
   "metadata": {},
   "outputs": [
    {
     "name": "stdout",
     "output_type": "stream",
     "text": [
      "Coefficients: \n",
      " [-0.54104269  0.93454956  0.6058943   0.00295619]\n",
      "Intercept: \n",
      " 0.00039732010280751906\n"
     ]
    }
   ],
   "source": [
    "print(\"Coefficients: \\n\", linReg.coef_)\n",
    "print(\"Intercept: \\n\", linReg.intercept_)"
   ]
  },
  {
   "cell_type": "markdown",
   "id": "0293f3bb",
   "metadata": {},
   "source": [
    "##### Testing the Model"
   ]
  },
  {
   "cell_type": "code",
   "execution_count": 28,
   "id": "4179625c-5777-4547-9b97-f9fb8d7b9c8a",
   "metadata": {},
   "outputs": [
    {
     "data": {
      "text/html": [
       "<div>\n",
       "<style scoped>\n",
       "    .dataframe tbody tr th:only-of-type {\n",
       "        vertical-align: middle;\n",
       "    }\n",
       "\n",
       "    .dataframe tbody tr th {\n",
       "        vertical-align: top;\n",
       "    }\n",
       "\n",
       "    .dataframe thead th {\n",
       "        text-align: right;\n",
       "    }\n",
       "</style>\n",
       "<table border=\"1\" class=\"dataframe\">\n",
       "  <thead>\n",
       "    <tr style=\"text-align: right;\">\n",
       "      <th></th>\n",
       "      <th>Actual_Price</th>\n",
       "      <th>Predicted_Price</th>\n",
       "    </tr>\n",
       "  </thead>\n",
       "  <tbody>\n",
       "    <tr>\n",
       "      <th>13</th>\n",
       "      <td>0.003984</td>\n",
       "      <td>0.003892</td>\n",
       "    </tr>\n",
       "    <tr>\n",
       "      <th>15</th>\n",
       "      <td>0.003528</td>\n",
       "      <td>0.003795</td>\n",
       "    </tr>\n",
       "    <tr>\n",
       "      <th>23</th>\n",
       "      <td>0.000692</td>\n",
       "      <td>0.000469</td>\n",
       "    </tr>\n",
       "    <tr>\n",
       "      <th>27</th>\n",
       "      <td>0.001949</td>\n",
       "      <td>0.001839</td>\n",
       "    </tr>\n",
       "    <tr>\n",
       "      <th>47</th>\n",
       "      <td>0.003899</td>\n",
       "      <td>0.003904</td>\n",
       "    </tr>\n",
       "  </tbody>\n",
       "</table>\n",
       "</div>"
      ],
      "text/plain": [
       "    Actual_Price  Predicted_Price\n",
       "13      0.003984         0.003892\n",
       "15      0.003528         0.003795\n",
       "23      0.000692         0.000469\n",
       "27      0.001949         0.001839\n",
       "47      0.003899         0.003904"
      ]
     },
     "execution_count": 28,
     "metadata": {},
     "output_type": "execute_result"
    }
   ],
   "source": [
    "y_pred_lin = linReg.predict(X_test)\n",
    "dfp = pd.DataFrame({'Actual_Price': y_test, 'Predicted_Price': y_pred_lin})\n",
    "dfp.head()"
   ]
  },
  {
   "cell_type": "markdown",
   "id": "0b482e12",
   "metadata": {},
   "source": [
    "##### Polynomial Equation"
   ]
  },
  {
   "cell_type": "code",
   "execution_count": 29,
   "id": "801c83ce-ccc9-4d0a-926d-d81e15c76247",
   "metadata": {},
   "outputs": [],
   "source": [
    "y = linReg.coef_[0] * X_test['Open'] + linReg.coef_[1] * X_test['High'] + linReg.coef_[2] * X_test['Low'] + linReg.coef_[3] * X_test['Volume'] + linReg.intercept_"
   ]
  },
  {
   "cell_type": "markdown",
   "id": "450da51a",
   "metadata": {},
   "source": [
    "##### Plotting"
   ]
  },
  {
   "cell_type": "code",
   "execution_count": 43,
   "id": "684da402-b075-4004-a001-00284fb28ea3",
   "metadata": {},
   "outputs": [
    {
     "data": {
      "text/plain": [
       "<matplotlib.legend.Legend at 0x1eb91711190>"
      ]
     },
     "execution_count": 43,
     "metadata": {},
     "output_type": "execute_result"
    },
    {
     "data": {
      "image/png": "[encoded data removed]",
      "text/plain": [
       "<Figure size 864x864 with 1 Axes>"
      ]
     },
     "metadata": {
      "needs_background": "light"
     },
     "output_type": "display_data"
    }
   ],
   "source": [
    "plt.subplots(1, figsize=(12,12))\n",
    "plt.plot(np.linspace(0, y_test.size, y_test.size), y_test, color='red', label='Actual Data')\n",
    "plt.plot(np.linspace(0, y_test.size, y_test.size), y, label='Predicted Data')\n",
    "#plt.xlabel('Expected')\n",
    "#plt.ylabel('Predicted')\n",
    "plt.grid(color='#000000', linestyle='-', linewidth=0.5)\n",
    "plt.legend(loc=\"upper left\")"
   ]
  },
  {
   "cell_type": "markdown",
   "id": "45a4bfbd",
   "metadata": {},
   "source": [
    "##### Scatter plot"
   ]
  },
  {
   "cell_type": "code",
   "execution_count": 44,
   "id": "d43ecd8c-02e6-4028-b71f-92aced67ac23",
   "metadata": {
    "scrolled": true
   },
   "outputs": [
    {
     "data": {
      "text/plain": [
       "<matplotlib.collections.PathCollection at 0x1eb8dbef250>"
      ]
     },
     "execution_count": 44,
     "metadata": {},
     "output_type": "execute_result"
    },
    {
     "data": {
      "image/png": "[encoded data removed]",
      "text/plain": [
       "<Figure size 432x288 with 1 Axes>"
      ]
     },
     "metadata": {
      "needs_background": "light"
     },
     "output_type": "display_data"
    }
   ],
   "source": [
    "plt.scatter(dfp['Actual_Price'], dfp['Predicted_Price'])"
   ]
  },
  {
   "cell_type": "code",
   "execution_count": 45,
   "id": "a629cd06",
   "metadata": {},
   "outputs": [
    {
     "name": "stdout",
     "output_type": "stream",
     "text": [
      "Linear Regression Score:  0.9993687811125825\n",
      "Absolute Squared Error:  0.003074160771137924\n",
      "Mean Squared Error:  4.676527350025486e-05\n"
     ]
    }
   ],
   "source": [
    "reg_score = linReg.score(X_test, y_test)\n",
    "print(\"Linear Regression Score: \", reg_score)\n",
    "print(\"Absolute Squared Error: \", mean_absolute_error(y_test, y_pred_lin))\n",
    "print(\"Mean Squared Error: \", mean_squared_error(y_test, y_pred_lin))"
   ]
  },
  {
   "cell_type": "markdown",
   "id": "ee46a759",
   "metadata": {},
   "source": [
    "As we can see, the score is extremely high and our model's predicitons are so different from the expected values."
   ]
  },
  {
   "cell_type": "markdown",
   "id": "caf7b586",
   "metadata": {},
   "source": [
    "## Logistic Regression "
   ]
  },
  {
   "cell_type": "code",
   "execution_count": null,
   "id": "7c2b15b2",
   "metadata": {},
   "outputs": [],
   "source": [
    "X = dataset[['Open', 'High', 'Low', 'Close','Volume']]\n",
    "y = dataset[\"Up/Down\"].values"
   ]
  },
  {
   "cell_type": "markdown",
   "id": "cf8c6c4c",
   "metadata": {},
   "source": [
    "##### Training"
   ]
  },
  {
   "cell_type": "code",
   "execution_count": null,
   "id": "83a5dcc2",
   "metadata": {},
   "outputs": [],
   "source": [
    "np.random.seed(42)\n",
    "X_train, X_test, y_train, y_test = train_test_split(X, y)"
   ]
  },
  {
   "cell_type": "code",
   "execution_count": null,
   "id": "5e9d9465",
   "metadata": {},
   "outputs": [],
   "source": [
    "print(X_train.shape)\n",
    "print(y_train.shape)\n",
    "print(X_test.shape)\n",
    "print(y_test.shape)"
   ]
  },
  {
   "cell_type": "code",
   "execution_count": null,
   "id": "cbfbc204",
   "metadata": {},
   "outputs": [],
   "source": [
    "cv = KFold(n_splits=5,random_state=1,shuffle=True)\n",
    "lr=LogisticRegression()\n",
    "scores=cross_val_score(lr,X,y,scoring='r2',cv=cv,n_jobs=1)\n",
    "scores"
   ]
  },
  {
   "cell_type": "code",
   "execution_count": null,
   "id": "448aa2b9",
   "metadata": {},
   "outputs": [],
   "source": [
    "'''kf = KFold(n_splits=10,shuffle=True)\n",
    "scores = []\n",
    "errors=[]\n",
    "i=1\n",
    "\n",
    "for training,testing in kf.split(X,y):\n",
    "    print ('{}/10 Folds {}'.format(i,kf.n_splits))\n",
    "    print('--------------------------')\n",
    "    \n",
    "    X_train,X_test = X.loc[training],X.loc[testing]\n",
    "    y_train,y_test = y.loc[training],y.loc[testing]\n",
    "    \n",
    "    \n",
    "    lr=LogisticRegression()\n",
    "    lr.fit(X_train,y_train)\n",
    "    score=metrics.roc_auc_score(y_test,lr.predict(X_test))\n",
    "    error=metrics.log_loss(y_test,lr.predict(X_test))\n",
    "    print('ROC AUC Score: ',score)\n",
    "    print('Loss: ',error)\n",
    "    scores.append(score)\n",
    "    errors.append(error)\n",
    "    i+=1'''"
   ]
  },
  {
   "cell_type": "code",
   "execution_count": null,
   "id": "86bf9108",
   "metadata": {},
   "outputs": [],
   "source": [
    "scaler = StandardScaler()\n",
    "lr = LogisticRegression()\n",
    "model1 = Pipeline([('standardize', scaler),\n",
    "                    ('log_reg', lr)])\n",
    "model1.fit(X_train, y_train)"
   ]
  },
  {
   "cell_type": "markdown",
   "id": "f6ee9162",
   "metadata": {},
   "source": [
    "##### Metrics"
   ]
  },
  {
   "cell_type": "code",
   "execution_count": null,
   "id": "6cec8814",
   "metadata": {},
   "outputs": [],
   "source": [
    "y_train_hat = model1.predict(X_train)\n",
    "y_train_hat_probs = model1.predict_proba(X_train)[:,1]\n",
    "\n",
    "train_accuracy = accuracy_score(y_train, y_train_hat)\n",
    "train_auc_roc = roc_auc_score(y_train, y_train_hat_probs)\n",
    "\n",
    "print('Confusion matrix:\\n', confusion_matrix(y_train, y_train_hat))\n",
    "\n",
    "print('Training AUC: ' , train_auc_roc)\n",
    "\n",
    "print('Training accuracy: ' , train_accuracy)"
   ]
  },
  {
   "cell_type": "code",
   "execution_count": null,
   "id": "7a3a08b8",
   "metadata": {},
   "outputs": [],
   "source": [
    "y_pred_log = model1.predict(X_test)\n",
    "y_pred_log_probs = model1.predict_proba(X_test)[:,1]\n",
    "\n",
    "test_accuracy = accuracy_score(y_test, y_pred_log)\n",
    "test_auc_roc = roc_auc_score(y_test, y_pred_log_probs)\n",
    "\n",
    "print('Confusion matrix:\\n', confusion_matrix(y_test, y_pred_log))\n",
    "\n",
    "print('Testing AUC: ', test_auc_roc)\n",
    "\n",
    "print('Testing accuracy: ' , test_accuracy) "
   ]
  },
  {
   "cell_type": "code",
   "execution_count": null,
   "id": "12f8c9a3",
   "metadata": {},
   "outputs": [],
   "source": [
    "print(classification_report(y_test, y_pred_log, digits=2))"
   ]
  },
  {
   "cell_type": "code",
   "execution_count": null,
   "id": "b782dce6",
   "metadata": {},
   "outputs": [],
   "source": []
  }
 ],
 "metadata": {
  "kernelspec": {
   "display_name": "Python 3 (ipykernel)",
   "language": "python",
   "name": "python3"
  },
  "language_info": {
   "codemirror_mode": {
    "name": "ipython",
    "version": 3
   },
   "file_extension": ".py",
   "mimetype": "text/x-python",
   "name": "python",
   "nbconvert_exporter": "python",
   "pygments_lexer": "ipython3",
   "version": "3.9.9"
  }
 },
 "nbformat": 4,
 "nbformat_minor": 5
}
