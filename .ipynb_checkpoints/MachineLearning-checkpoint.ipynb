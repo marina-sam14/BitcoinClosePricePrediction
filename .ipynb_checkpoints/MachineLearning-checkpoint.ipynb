{
 "cells": [
  {
   "cell_type": "code",
   "execution_count": null,
   "id": "01b3f777",
   "metadata": {},
   "outputs": [],
   "source": [
    "import pandas as pd\n",
    "import numpy as np\n",
    "import matplotlib.pyplot  as plt\n",
    "\n",
    "from sklearn.linear_model import LinearRegression, LogisticRegression\n",
    "from sklearn.model_selection import train_test_split\n",
    "from sklearn.preprocessing import MinMaxScaler\n",
    "from sklearn.metrics import mean_squared_error, mean_absolute_error, classification_report"
   ]
  },
  {
   "cell_type": "code",
   "execution_count": null,
   "id": "d8610fc4",
   "metadata": {},
   "outputs": [],
   "source": [
    "dataset = pd.read_csv(\"Data/BTC-USD.csv\")\n",
    "print(dataset.shape)\n",
    "dataset.head()"
   ]
  },
  {
   "cell_type": "code",
   "execution_count": null,
   "id": "e7f588f9",
   "metadata": {},
   "outputs": [],
   "source": [
    "dataset.describe()"
   ]
  },
  {
   "cell_type": "code",
   "execution_count": null,
   "id": "66357e5f-05a7-4580-bfa8-e03362686b9a",
   "metadata": {},
   "outputs": [],
   "source": [
    "####### Preprocessing #######"
   ]
  },
  {
   "cell_type": "code",
   "execution_count": null,
   "id": "44b86921-5664-4b2a-966d-830e20ad2e51",
   "metadata": {
    "tags": []
   },
   "outputs": [],
   "source": [
    "#### Scaling ####\n",
    "scaled_data = dataset[['Open', 'High', 'Low', 'Close', 'Volume']]\n",
    "scaler = MinMaxScaler(copy=False)\n",
    "scaled_data[['Open', 'High', 'Low', 'Close', 'Volume']] = scaler.fit_transform(scaled_data[['Open', 'High', 'Low', 'Close', 'Volume']])\n",
    "scaled_data"
   ]
  },
  {
   "cell_type": "code",
   "execution_count": null,
   "id": "b6cc0e4e",
   "metadata": {},
   "outputs": [],
   "source": [
    "X = scaled_data[['Open', 'High', 'Low', 'Volume']]\n",
    "y = scaled_data['Close']\n",
    "X_train, X_test, y_train, y_test = train_test_split(X, y, test_size=0.3, random_state=42, shuffle=False)\n",
    "print(X_train.shape)\n",
    "print(y_train.shape)\n",
    "print(X_test.shape)\n",
    "print(y_test.shape)"
   ]
  },
  {
   "cell_type": "code",
   "execution_count": null,
   "id": "5ece53bd-6a5d-4f58-9227-9c094569dc6e",
   "metadata": {},
   "outputs": [],
   "source": [
    "####### Linear Regression #######"
   ]
  },
  {
   "cell_type": "code",
   "execution_count": null,
   "id": "1814380f",
   "metadata": {},
   "outputs": [],
   "source": [
    "#### Training ####\n",
    "linReg = LinearRegression()\n",
    "linReg.fit(X_train, y_train)\n",
    "print(\"Coefficients: \\n\", linReg.coef_)\n",
    "print(\"Intercept: \\n\", linReg.intercept_)"
   ]
  },
  {
   "cell_type": "code",
   "execution_count": null,
   "id": "4179625c-5777-4547-9b97-f9fb8d7b9c8a",
   "metadata": {},
   "outputs": [],
   "source": [
    "#### Testing ####\n",
    "y_pred_lin = linReg.predict(X_test)\n",
    "dfp = pd.DataFrame({'Actual_Price': y_test, 'Predicted_Price': y_pred_lin})\n",
    "dfp.head()"
   ]
  },
  {
   "cell_type": "code",
   "execution_count": null,
   "id": "e807ea0f",
   "metadata": {},
   "outputs": [],
   "source": [
    "reg_score = linReg.score(X_test, y_test)\n",
    "print(\"Linear Regression Score: \", reg_score)\n",
    "print(\"Absolute Squared Error: \", mean_absolute_error(y_test, y_pred_lin))\n",
    "print(\"Mean Squared Error: \", mean_squared_error(y_test, y_pred_lin))"
   ]
  },
  {
   "cell_type": "code",
   "execution_count": null,
   "id": "801c83ce-ccc9-4d0a-926d-d81e15c76247",
   "metadata": {},
   "outputs": [],
   "source": [
    "y = linReg.coef_[0] * X_test['Open'] + linReg.coef_[1] * X_test['High'] + linReg.coef_[2] * X_test['Low'] + linReg.coef_[3] * X_test['Volume'] + linReg.intercept_"
   ]
  },
  {
   "cell_type": "code",
   "execution_count": null,
   "id": "684da402-b075-4004-a001-00284fb28ea3",
   "metadata": {},
   "outputs": [],
   "source": [
    "#### Plotting ####\n",
    "plt.subplots(1, figsize=(15, 15))\n",
    "plt.plot(np.linspace(0, y_test.size, y_test.size), y_test, color='orange', label='Actual Data')\n",
    "plt.plot(np.linspace(0, y_test.size, y_test.size), y, label='Best fit line')\n",
    "plt.grid(color='#000000', linestyle='-', linewidth=0.5)\n",
    "plt.legend(loc=\"upper left\")"
   ]
  },
  {
   "cell_type": "code",
   "execution_count": null,
   "id": "d43ecd8c-02e6-4028-b71f-92aced67ac23",
   "metadata": {},
   "outputs": [],
   "source": [
    "plt.scatter(dfp['Actual_Price'], dfp['Predicted_Price'])"
   ]
  },
  {
   "cell_type": "code",
   "execution_count": null,
   "id": "187cfb2f-55db-467d-964b-bfd905ae94eb",
   "metadata": {},
   "outputs": [],
   "source": [
    "####### Logistic Regression #######"
   ]
  },
  {
   "cell_type": "code",
   "execution_count": null,
   "id": "9244df89-8b9c-4554-8948-968cf545af54",
   "metadata": {},
   "outputs": [],
   "source": [
    "X_log = scaled_data[['Open', 'High', 'Low', 'Volume']]\n",
    "tmp =  scaled_data.Close.gt(scaled_data.Close.shift())\n",
    "tmp = np.where(tmp == False, 0, 1)\n",
    "y_log = tmp\n",
    "y_log"
   ]
  },
  {
   "cell_type": "code",
   "execution_count": null,
   "id": "3d32b017-0c4c-4d02-8f9f-27050ac67de3",
   "metadata": {},
   "outputs": [],
   "source": [
    "X_train_log, X_test_log, y_train_log, y_test_log = train_test_split(X_log, y_log, test_size=0.3, random_state=42, shuffle=False)\n",
    "print(X_train_log.shape)\n",
    "print(y_train_log.shape)\n",
    "print(X_test_log.shape)\n",
    "print(y_test_log.shape)"
   ]
  },
  {
   "cell_type": "code",
   "execution_count": null,
   "id": "d6ed84d8-72d0-47da-918f-fbdd1fbb27a7",
   "metadata": {},
   "outputs": [],
   "source": [
    "#### Training ####\n",
    "logReg = LogisticRegression()\n",
    "logReg.fit(X_train_log, y_train_log)\n",
    "y_pred_log = logReg.predict_proba(X_test_log)\n",
    "y_pred_log"
   ]
  },
  {
   "cell_type": "code",
   "execution_count": null,
   "id": "5f47c90d-e6e2-4b9a-8557-c66db645c1eb",
   "metadata": {},
   "outputs": [],
   "source": [
    "dfp = pd.DataFrame({'Actual_Price': y_test, 'Predicted_Price': y_pred_lin})\n",
    "dfp"
   ]
  },
  {
   "cell_type": "code",
   "execution_count": null,
   "id": "a72c9b1f-992a-4e91-bd47-ccfe0eabf665",
   "metadata": {},
   "outputs": [],
   "source": [
    "#### Testing ####\n",
    "print(\"Coefficients: \\n\", logReg.coef_)\n",
    "print(\"Mean squared error: \", mean_squared_error(y_test_log, y_pred_log))\n",
    "print(\"Classification report: \", classification_report(y_test_log, y_pred_log))"
   ]
  },
  {
   "cell_type": "code",
   "execution_count": null,
   "id": "6fb1fe7d-3775-4f96-b391-90898c58822e",
   "metadata": {},
   "outputs": [],
   "source": [
    "scaled_data['Close']"
   ]
  },
  {
   "cell_type": "code",
   "execution_count": null,
   "id": "1f8a6815-42cb-459e-b06a-cbac0c947c35",
   "metadata": {},
   "outputs": [],
   "source": [
    "y_test_log.size"
   ]
  },
  {
   "cell_type": "code",
   "execution_count": null,
   "id": "69d6041b-bdfa-496d-ae3a-8f739f5a1516",
   "metadata": {},
   "outputs": [],
   "source": [
    "#### Plotting ####\n",
    "plt.subplots(1, figsize=(15, 15))\n",
    "plt.scatter(np.linspace(0, 549, 549), y_test_log, color='red', label='Actual Data')\n",
    "plt.scatter(np.linspace(0, 549, 549), y_pred_log, label='Predicted Data')\n",
    "plt.grid(color='#000000', linestyle='-', linewidth=0.5)\n",
    "plt.legend(loc=\"upper left\")"
   ]
  }
 ],
 "metadata": {
  "kernelspec": {
   "display_name": "Python 3 (ipykernel)",
   "language": "python",
   "name": "python3"
  },
  "language_info": {
   "codemirror_mode": {
    "name": "ipython",
    "version": 3
   },
   "file_extension": ".py",
   "mimetype": "text/x-python",
   "name": "python",
   "nbconvert_exporter": "python",
   "pygments_lexer": "ipython3",
   "version": "3.9.7"
  }
 },
 "nbformat": 4,
 "nbformat_minor": 5
}
